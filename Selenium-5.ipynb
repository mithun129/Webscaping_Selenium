{
 "cells": [
  {
   "cell_type": "code",
   "execution_count": 160,
   "id": "digital-gibson",
   "metadata": {},
   "outputs": [],
   "source": [
    "#lets now import all the required libraries\n",
    "import requests\n",
    "from selenium import webdriver\n",
    "\n",
    "browser = webdriver.Chrome()\n",
    "\n",
    "browser.get(\"https://www.glassdoor.co.in/Job/india-jobs-SRCH_IL.0,5_IN115.htm\")\n",
    "from bs4 import BeautifulSoup\n"
   ]
  },
  {
   "cell_type": "code",
   "execution_count": 161,
   "id": "common-burning",
   "metadata": {},
   "outputs": [],
   "source": [
    "search_job = browser.find_element_by_id(\"sc.keyword\")\n",
    "search_job.send_keys(\"Data Scientist\")"
   ]
  },
  {
   "cell_type": "code",
   "execution_count": 162,
   "id": "imposed-expression",
   "metadata": {},
   "outputs": [],
   "source": [
    "search_loc = browser.find_element_by_id (\"sc.location\")\n",
    "search_loc.send_keys(\",Noida\")"
   ]
  },
  {
   "cell_type": "code",
   "execution_count": 163,
   "id": "removed-symposium",
   "metadata": {},
   "outputs": [],
   "source": [
    "search_btn = browser.find_element_by_class_name (\"gd-btn-mkt\")\n",
    "search_btn.click()"
   ]
  },
  {
   "cell_type": "code",
   "execution_count": 164,
   "id": "international-harrison",
   "metadata": {},
   "outputs": [],
   "source": [
    "url=\"https://www.glassdoor.co.in/Salaries/new-delhi-salary-SRCH_IL.0,9_IM1083.htm?clickSource=searchBtn\""
   ]
  },
  {
   "cell_type": "code",
   "execution_count": 165,
   "id": "introductory-packet",
   "metadata": {},
   "outputs": [],
   "source": [
    "#lets open the webpage through our webdriver\n",
    "browser.get(url)"
   ]
  },
  {
   "cell_type": "code",
   "execution_count": 166,
   "id": "lonely-hammer",
   "metadata": {},
   "outputs": [],
   "source": [
    "company_names=[]  # empty list\n",
    "minimum_salary=[] # empty list\n",
    "maximum_salary=[] # empty list\n",
    "average_salary=[] # empty list"
   ]
  },
  {
   "cell_type": "code",
   "execution_count": 167,
   "id": "looking-inquiry",
   "metadata": {},
   "outputs": [
    {
     "data": {
      "text/plain": [
       "[<selenium.webdriver.remote.webelement.WebElement (session=\"a68f84feeaf0e4a2befdfbae4dd7dc1c\", element=\"6f0089c2-9f09-4e5b-9b65-89ffa2ea9ffb\")>,\n",
       " <selenium.webdriver.remote.webelement.WebElement (session=\"a68f84feeaf0e4a2befdfbae4dd7dc1c\", element=\"fca72563-795e-4c55-bdff-d94af3d0c72c\")>,\n",
       " <selenium.webdriver.remote.webelement.WebElement (session=\"a68f84feeaf0e4a2befdfbae4dd7dc1c\", element=\"99830148-3710-4d79-921f-2e6d5261f77e\")>,\n",
       " <selenium.webdriver.remote.webelement.WebElement (session=\"a68f84feeaf0e4a2befdfbae4dd7dc1c\", element=\"c2da5997-5f63-4152-89fe-658fb48b0058\")>,\n",
       " <selenium.webdriver.remote.webelement.WebElement (session=\"a68f84feeaf0e4a2befdfbae4dd7dc1c\", element=\"dc5c2f3e-082d-4181-bbca-c173403da777\")>,\n",
       " <selenium.webdriver.remote.webelement.WebElement (session=\"a68f84feeaf0e4a2befdfbae4dd7dc1c\", element=\"7b3ca029-f4b2-4ba2-9e66-db6ab55ab040\")>,\n",
       " <selenium.webdriver.remote.webelement.WebElement (session=\"a68f84feeaf0e4a2befdfbae4dd7dc1c\", element=\"f6f00fb4-fd5c-41ff-8cc9-523e72df1c6a\")>,\n",
       " <selenium.webdriver.remote.webelement.WebElement (session=\"a68f84feeaf0e4a2befdfbae4dd7dc1c\", element=\"f0acf321-5ffe-4195-b46b-e6430cc47919\")>,\n",
       " <selenium.webdriver.remote.webelement.WebElement (session=\"a68f84feeaf0e4a2befdfbae4dd7dc1c\", element=\"58132be4-cfa7-4ed7-a5c2-b12694b145b5\")>,\n",
       " <selenium.webdriver.remote.webelement.WebElement (session=\"a68f84feeaf0e4a2befdfbae4dd7dc1c\", element=\"47a4382e-5aa5-45aa-8b42-6ffa54f5dcc5\")>,\n",
       " <selenium.webdriver.remote.webelement.WebElement (session=\"a68f84feeaf0e4a2befdfbae4dd7dc1c\", element=\"9fb4b418-8729-466b-91f4-7f7242594701\")>,\n",
       " <selenium.webdriver.remote.webelement.WebElement (session=\"a68f84feeaf0e4a2befdfbae4dd7dc1c\", element=\"40f31590-b268-4db9-b821-036711a68caf\")>,\n",
       " <selenium.webdriver.remote.webelement.WebElement (session=\"a68f84feeaf0e4a2befdfbae4dd7dc1c\", element=\"9b6b1346-1958-40c6-9eb9-423dd6be2941\")>,\n",
       " <selenium.webdriver.remote.webelement.WebElement (session=\"a68f84feeaf0e4a2befdfbae4dd7dc1c\", element=\"94852b82-a13b-4485-99e4-b1094a18452f\")>,\n",
       " <selenium.webdriver.remote.webelement.WebElement (session=\"a68f84feeaf0e4a2befdfbae4dd7dc1c\", element=\"3035d118-42d2-4fbb-a62b-c22516b2edf3\")>,\n",
       " <selenium.webdriver.remote.webelement.WebElement (session=\"a68f84feeaf0e4a2befdfbae4dd7dc1c\", element=\"13f7e2c5-1704-4182-9e3f-a00b43cdcee9\")>,\n",
       " <selenium.webdriver.remote.webelement.WebElement (session=\"a68f84feeaf0e4a2befdfbae4dd7dc1c\", element=\"a5c8116d-0d9f-4220-9c90-7e843429021b\")>,\n",
       " <selenium.webdriver.remote.webelement.WebElement (session=\"a68f84feeaf0e4a2befdfbae4dd7dc1c\", element=\"15121d53-cbb4-4208-99b2-b6bfa745a27e\")>,\n",
       " <selenium.webdriver.remote.webelement.WebElement (session=\"a68f84feeaf0e4a2befdfbae4dd7dc1c\", element=\"54b7e5d9-53c3-4f44-9272-b1cf79f435bc\")>,\n",
       " <selenium.webdriver.remote.webelement.WebElement (session=\"a68f84feeaf0e4a2befdfbae4dd7dc1c\", element=\"7e192523-2cb5-458e-af3b-2ed2f341a53f\")>]"
      ]
     },
     "execution_count": 167,
     "metadata": {},
     "output_type": "execute_result"
    }
   ],
   "source": [
    "company_tags = browser.find_elements_by_xpath(\"//div[@class='']/p[2]\")\n",
    "company_tags"
   ]
  },
  {
   "cell_type": "code",
   "execution_count": 168,
   "id": "canadian-training",
   "metadata": {},
   "outputs": [],
   "source": [
    "company_names=[]\n",
    "for i in company_tags:\n",
    "    company=i.text\n",
    "    company_names.append(company)"
   ]
  },
  {
   "cell_type": "code",
   "execution_count": 169,
   "id": "increased-playback",
   "metadata": {},
   "outputs": [
    {
     "data": {
      "text/plain": [
       "['Tata Consultancy Services',\n",
       " 'HCL Technologies',\n",
       " 'Tata Consultancy Services',\n",
       " 'Altran',\n",
       " 'Genpact',\n",
       " 'Tata Consultancy Services',\n",
       " 'Altran',\n",
       " 'Deloitte',\n",
       " 'Evalueserve',\n",
       " 'Publicis Sapient',\n",
       " 'Publicis Sapient',\n",
       " 'Accenture',\n",
       " 'Tata Consultancy Services',\n",
       " 'Maruti Suzuki',\n",
       " 'HCL Technologies',\n",
       " 'HCL Technologies',\n",
       " 'Wipro',\n",
       " 'EY',\n",
       " 'EXL Service',\n",
       " 'EY']"
      ]
     },
     "execution_count": 169,
     "metadata": {},
     "output_type": "execute_result"
    }
   ],
   "source": [
    "company_names"
   ]
  },
  {
   "cell_type": "code",
   "execution_count": 171,
   "id": "recent-nature",
   "metadata": {},
   "outputs": [
    {
     "data": {
      "text/plain": [
       "[<selenium.webdriver.remote.webelement.WebElement (session=\"a68f84feeaf0e4a2befdfbae4dd7dc1c\", element=\"d2c9df26-8cd5-4d74-9a5b-6e0aefce1a72\")>,\n",
       " <selenium.webdriver.remote.webelement.WebElement (session=\"a68f84feeaf0e4a2befdfbae4dd7dc1c\", element=\"114a3cf8-86fe-4705-a0e9-1fed55bc6a95\")>,\n",
       " <selenium.webdriver.remote.webelement.WebElement (session=\"a68f84feeaf0e4a2befdfbae4dd7dc1c\", element=\"133e804c-5a98-45a9-be26-2c40b6a0fb3e\")>,\n",
       " <selenium.webdriver.remote.webelement.WebElement (session=\"a68f84feeaf0e4a2befdfbae4dd7dc1c\", element=\"88cdb73b-0f38-41b1-905b-5c340c12a390\")>,\n",
       " <selenium.webdriver.remote.webelement.WebElement (session=\"a68f84feeaf0e4a2befdfbae4dd7dc1c\", element=\"d147e1fa-1504-4b1c-9d3b-475d002ea54e\")>,\n",
       " <selenium.webdriver.remote.webelement.WebElement (session=\"a68f84feeaf0e4a2befdfbae4dd7dc1c\", element=\"be8b49b9-20a9-4f02-a4c4-596d2df810f7\")>,\n",
       " <selenium.webdriver.remote.webelement.WebElement (session=\"a68f84feeaf0e4a2befdfbae4dd7dc1c\", element=\"41c3e052-fb30-471c-bd9d-dbfc5b1da8ad\")>,\n",
       " <selenium.webdriver.remote.webelement.WebElement (session=\"a68f84feeaf0e4a2befdfbae4dd7dc1c\", element=\"eda7d7af-cc1f-49a5-a180-83708f270751\")>,\n",
       " <selenium.webdriver.remote.webelement.WebElement (session=\"a68f84feeaf0e4a2befdfbae4dd7dc1c\", element=\"c344e2de-d935-455f-824e-82c0b9ce709d\")>,\n",
       " <selenium.webdriver.remote.webelement.WebElement (session=\"a68f84feeaf0e4a2befdfbae4dd7dc1c\", element=\"d223ac55-131c-43e5-b7fc-29199d9a7337\")>,\n",
       " <selenium.webdriver.remote.webelement.WebElement (session=\"a68f84feeaf0e4a2befdfbae4dd7dc1c\", element=\"05f0fdce-f82f-4e37-b436-f94ce7b5c654\")>,\n",
       " <selenium.webdriver.remote.webelement.WebElement (session=\"a68f84feeaf0e4a2befdfbae4dd7dc1c\", element=\"7a5c8136-7d56-495b-a586-87b7bee2ebaa\")>,\n",
       " <selenium.webdriver.remote.webelement.WebElement (session=\"a68f84feeaf0e4a2befdfbae4dd7dc1c\", element=\"3690f951-1c6b-4c64-acba-0df424a1a6c6\")>,\n",
       " <selenium.webdriver.remote.webelement.WebElement (session=\"a68f84feeaf0e4a2befdfbae4dd7dc1c\", element=\"ef0e3839-01bb-409d-9c57-448d3ca0a205\")>,\n",
       " <selenium.webdriver.remote.webelement.WebElement (session=\"a68f84feeaf0e4a2befdfbae4dd7dc1c\", element=\"c44958af-742c-4827-bba0-13a53da12ff2\")>,\n",
       " <selenium.webdriver.remote.webelement.WebElement (session=\"a68f84feeaf0e4a2befdfbae4dd7dc1c\", element=\"8b566d6f-629d-48ae-8ed2-30713c286537\")>,\n",
       " <selenium.webdriver.remote.webelement.WebElement (session=\"a68f84feeaf0e4a2befdfbae4dd7dc1c\", element=\"39214f1a-c15c-4fb7-a53e-1e9536e51e0d\")>,\n",
       " <selenium.webdriver.remote.webelement.WebElement (session=\"a68f84feeaf0e4a2befdfbae4dd7dc1c\", element=\"ba9a641e-46d9-4c10-82b2-bc020f3abc5d\")>,\n",
       " <selenium.webdriver.remote.webelement.WebElement (session=\"a68f84feeaf0e4a2befdfbae4dd7dc1c\", element=\"81ea06d5-2ddf-4ed9-bd7f-2c8b0c62d904\")>,\n",
       " <selenium.webdriver.remote.webelement.WebElement (session=\"a68f84feeaf0e4a2befdfbae4dd7dc1c\", element=\"58e13b62-1ba0-430b-b7ac-e3146c28092d\")>]"
      ]
     },
     "execution_count": 171,
     "metadata": {},
     "output_type": "execute_result"
    }
   ],
   "source": [
    "averagesalary_tags = browser.find_elements_by_xpath(\"//div[@class='col-2 d-none d-md-flex flex-row justify-content-end']\")\n",
    "averagesalary_tags"
   ]
  },
  {
   "cell_type": "code",
   "execution_count": 172,
   "id": "equal-insulin",
   "metadata": {},
   "outputs": [],
   "source": [
    "average_salary =[]\n",
    "for i in averagesalary_tags:\n",
    "    avg=i.text\n",
    "    average_salary.append(avg)"
   ]
  },
  {
   "cell_type": "code",
   "execution_count": 173,
   "id": "serious-checklist",
   "metadata": {},
   "outputs": [
    {
     "data": {
      "text/plain": [
       "['₹ 3,73,606\\n/yr',\n",
       " '₹ 4,26,592\\n/yr',\n",
       " '₹ 6,39,695\\n/yr',\n",
       " '₹ 4,44,018\\n/yr',\n",
       " '₹ 2,02,082\\n/yr',\n",
       " '₹ 4,26,592\\n/yr',\n",
       " '₹ 7,84,034\\n/yr',\n",
       " '₹ 10,25,402\\n/yr',\n",
       " '₹ 5,79,989\\n/yr',\n",
       " '₹ 14,84,886\\n/yr',\n",
       " '₹ 7,10,687\\n/yr',\n",
       " '₹ 4,99,266\\n/yr',\n",
       " '₹ 13,07,808\\n/yr',\n",
       " '₹ 8,65,838\\n/yr',\n",
       " '₹ 4,47,152\\n/yr',\n",
       " '₹ 7,41,702\\n/yr',\n",
       " '₹ 3,96,137\\n/yr',\n",
       " '₹ 10,10,409\\n/yr',\n",
       " '₹ 5,87,307\\n/yr',\n",
       " '₹ 4,72,632\\n/yr']"
      ]
     },
     "execution_count": 173,
     "metadata": {},
     "output_type": "execute_result"
    }
   ],
   "source": [
    "average_salary"
   ]
  },
  {
   "cell_type": "code",
   "execution_count": 174,
   "id": "reliable-absolute",
   "metadata": {},
   "outputs": [
    {
     "data": {
      "text/plain": [
       "[<selenium.webdriver.remote.webelement.WebElement (session=\"a68f84feeaf0e4a2befdfbae4dd7dc1c\", element=\"54b84ab4-9e1d-4643-a881-17951efe2dd9\")>,\n",
       " <selenium.webdriver.remote.webelement.WebElement (session=\"a68f84feeaf0e4a2befdfbae4dd7dc1c\", element=\"8324a701-ff81-4062-8aa5-10067efbb36e\")>,\n",
       " <selenium.webdriver.remote.webelement.WebElement (session=\"a68f84feeaf0e4a2befdfbae4dd7dc1c\", element=\"a0e414d3-fe19-4a39-9b64-82231638d7e4\")>,\n",
       " <selenium.webdriver.remote.webelement.WebElement (session=\"a68f84feeaf0e4a2befdfbae4dd7dc1c\", element=\"a0edf6d3-d0e6-4b5b-b8d7-3aa5c9f2102f\")>,\n",
       " <selenium.webdriver.remote.webelement.WebElement (session=\"a68f84feeaf0e4a2befdfbae4dd7dc1c\", element=\"33005a03-f8dc-4d2f-ac10-092e49c2005d\")>,\n",
       " <selenium.webdriver.remote.webelement.WebElement (session=\"a68f84feeaf0e4a2befdfbae4dd7dc1c\", element=\"ed864627-83e7-464e-b414-eb322d37893f\")>,\n",
       " <selenium.webdriver.remote.webelement.WebElement (session=\"a68f84feeaf0e4a2befdfbae4dd7dc1c\", element=\"b33954e0-f377-4295-b000-100512f5ad07\")>,\n",
       " <selenium.webdriver.remote.webelement.WebElement (session=\"a68f84feeaf0e4a2befdfbae4dd7dc1c\", element=\"3927c1ec-cce3-4984-bf9c-611ef4933208\")>,\n",
       " <selenium.webdriver.remote.webelement.WebElement (session=\"a68f84feeaf0e4a2befdfbae4dd7dc1c\", element=\"60ba31b0-b6f8-4fc5-bf2f-b485bc985604\")>,\n",
       " <selenium.webdriver.remote.webelement.WebElement (session=\"a68f84feeaf0e4a2befdfbae4dd7dc1c\", element=\"49210994-773b-485f-b1b8-a0d0d1b0a29d\")>,\n",
       " <selenium.webdriver.remote.webelement.WebElement (session=\"a68f84feeaf0e4a2befdfbae4dd7dc1c\", element=\"00354fda-410e-446b-b7f6-930f1c9da2c2\")>,\n",
       " <selenium.webdriver.remote.webelement.WebElement (session=\"a68f84feeaf0e4a2befdfbae4dd7dc1c\", element=\"73f2d136-c87c-4598-9f83-2363ba40ee7a\")>,\n",
       " <selenium.webdriver.remote.webelement.WebElement (session=\"a68f84feeaf0e4a2befdfbae4dd7dc1c\", element=\"5655e545-998c-4b84-9baf-22a84324fb70\")>,\n",
       " <selenium.webdriver.remote.webelement.WebElement (session=\"a68f84feeaf0e4a2befdfbae4dd7dc1c\", element=\"f879e1f5-e031-4805-8a74-c4e447ffc41c\")>,\n",
       " <selenium.webdriver.remote.webelement.WebElement (session=\"a68f84feeaf0e4a2befdfbae4dd7dc1c\", element=\"9799fdbb-656a-4581-b734-05953847787f\")>,\n",
       " <selenium.webdriver.remote.webelement.WebElement (session=\"a68f84feeaf0e4a2befdfbae4dd7dc1c\", element=\"2d11908c-5680-4759-9515-1f979ad26631\")>,\n",
       " <selenium.webdriver.remote.webelement.WebElement (session=\"a68f84feeaf0e4a2befdfbae4dd7dc1c\", element=\"8b3966b6-18a0-42cb-9207-fa8fc88365dd\")>,\n",
       " <selenium.webdriver.remote.webelement.WebElement (session=\"a68f84feeaf0e4a2befdfbae4dd7dc1c\", element=\"c4ceb8b1-592b-476b-8aa1-94ef02063d89\")>,\n",
       " <selenium.webdriver.remote.webelement.WebElement (session=\"a68f84feeaf0e4a2befdfbae4dd7dc1c\", element=\"9d31cacd-b995-4f6b-974e-4457ec9a7bc6\")>,\n",
       " <selenium.webdriver.remote.webelement.WebElement (session=\"a68f84feeaf0e4a2befdfbae4dd7dc1c\", element=\"cfcec8c7-1c72-4347-aec6-0a21ccfbaa95\")>]"
      ]
     },
     "execution_count": 174,
     "metadata": {},
     "output_type": "execute_result"
    }
   ],
   "source": [
    "minsalary_tags = browser.find_elements_by_xpath(\"//div[@class='col-3 offset-1 d-none d-md-block']\")\n",
    "minsalary_tags"
   ]
  },
  {
   "cell_type": "code",
   "execution_count": 175,
   "id": "thermal-nicaragua",
   "metadata": {},
   "outputs": [],
   "source": [
    "salaries=[]\n",
    "for i in minsalary_tags:\n",
    "    salary=i.text\n",
    "    salaries.append(salary)"
   ]
  },
  {
   "cell_type": "code",
   "execution_count": 176,
   "id": "latin-healing",
   "metadata": {},
   "outputs": [
    {
     "data": {
      "text/plain": [
       "['₹127K\\n₹1,099K',\n",
       " '₹109K\\n₹3,296K',\n",
       " '₹81K\\n₹8,309K',\n",
       " '₹46K\\n₹5,015K',\n",
       " '₹103K\\n₹1,471K',\n",
       " '₹99K\\n₹4,017K',\n",
       " '₹74K\\n₹1,909K',\n",
       " '₹108K\\n₹10,260K',\n",
       " '₹62K\\n₹4,888K',\n",
       " '₹176K\\n₹3,389K',\n",
       " '₹213K\\n₹7,019K',\n",
       " '₹110K\\n₹4,787K',\n",
       " '₹119K\\n₹3,418K',\n",
       " '₹256K\\n₹11,779K',\n",
       " '₹127K\\n₹4,841K',\n",
       " '₹195K\\n₹6,624K',\n",
       " '₹38K\\n₹4,867K',\n",
       " '₹109K\\n₹12,988K',\n",
       " '₹83K\\n₹8,167K',\n",
       " '₹71K\\n₹6,031K']"
      ]
     },
     "execution_count": 176,
     "metadata": {},
     "output_type": "execute_result"
    }
   ],
   "source": [
    "salaries"
   ]
  },
  {
   "cell_type": "code",
   "execution_count": 177,
   "id": "studied-canon",
   "metadata": {},
   "outputs": [
    {
     "data": {
      "text/plain": [
       "[<selenium.webdriver.remote.webelement.WebElement (session=\"a68f84feeaf0e4a2befdfbae4dd7dc1c\", element=\"642f4f94-b2ed-4b01-813a-257fcfe8b0cf\")>,\n",
       " <selenium.webdriver.remote.webelement.WebElement (session=\"a68f84feeaf0e4a2befdfbae4dd7dc1c\", element=\"f8629821-cdc6-4684-8f99-d23bde3280c0\")>,\n",
       " <selenium.webdriver.remote.webelement.WebElement (session=\"a68f84feeaf0e4a2befdfbae4dd7dc1c\", element=\"aaee6388-21f9-4ed9-8432-fb003739d231\")>,\n",
       " <selenium.webdriver.remote.webelement.WebElement (session=\"a68f84feeaf0e4a2befdfbae4dd7dc1c\", element=\"7a7d27fd-a25e-4258-b407-5c421e10a254\")>,\n",
       " <selenium.webdriver.remote.webelement.WebElement (session=\"a68f84feeaf0e4a2befdfbae4dd7dc1c\", element=\"e855f840-8ef7-4457-9697-4cbcf79a039f\")>,\n",
       " <selenium.webdriver.remote.webelement.WebElement (session=\"a68f84feeaf0e4a2befdfbae4dd7dc1c\", element=\"6348ce6f-2afe-4b23-ad59-1f164a4eeabc\")>,\n",
       " <selenium.webdriver.remote.webelement.WebElement (session=\"a68f84feeaf0e4a2befdfbae4dd7dc1c\", element=\"8efd50aa-d6d6-46dd-9513-2066dce16663\")>,\n",
       " <selenium.webdriver.remote.webelement.WebElement (session=\"a68f84feeaf0e4a2befdfbae4dd7dc1c\", element=\"fbf2b8f6-8fda-40c0-9d43-cd87364cc5a2\")>,\n",
       " <selenium.webdriver.remote.webelement.WebElement (session=\"a68f84feeaf0e4a2befdfbae4dd7dc1c\", element=\"fc924f07-4e15-4efa-b2cd-8e94153141b0\")>,\n",
       " <selenium.webdriver.remote.webelement.WebElement (session=\"a68f84feeaf0e4a2befdfbae4dd7dc1c\", element=\"a870363e-ef00-4403-8799-97edca30df2f\")>,\n",
       " <selenium.webdriver.remote.webelement.WebElement (session=\"a68f84feeaf0e4a2befdfbae4dd7dc1c\", element=\"4996e718-b9ca-485d-a1f1-8971f773e54f\")>,\n",
       " <selenium.webdriver.remote.webelement.WebElement (session=\"a68f84feeaf0e4a2befdfbae4dd7dc1c\", element=\"c44f7a04-1ff4-4f10-a841-c8ec15e9dc1b\")>,\n",
       " <selenium.webdriver.remote.webelement.WebElement (session=\"a68f84feeaf0e4a2befdfbae4dd7dc1c\", element=\"de3b8769-84ca-4e61-ab2e-571917cc17b0\")>,\n",
       " <selenium.webdriver.remote.webelement.WebElement (session=\"a68f84feeaf0e4a2befdfbae4dd7dc1c\", element=\"d8f1505a-532a-415e-8d4a-816599ed7514\")>,\n",
       " <selenium.webdriver.remote.webelement.WebElement (session=\"a68f84feeaf0e4a2befdfbae4dd7dc1c\", element=\"c40b2c97-aa11-4ba2-8710-ac407b2db266\")>,\n",
       " <selenium.webdriver.remote.webelement.WebElement (session=\"a68f84feeaf0e4a2befdfbae4dd7dc1c\", element=\"2cdc38e5-91e4-469a-9de6-0a388e19d04a\")>,\n",
       " <selenium.webdriver.remote.webelement.WebElement (session=\"a68f84feeaf0e4a2befdfbae4dd7dc1c\", element=\"7b3501c8-27e1-4458-a1b8-5ae71cf029b3\")>,\n",
       " <selenium.webdriver.remote.webelement.WebElement (session=\"a68f84feeaf0e4a2befdfbae4dd7dc1c\", element=\"95967c45-77b9-45bc-93e7-45824df83bc4\")>,\n",
       " <selenium.webdriver.remote.webelement.WebElement (session=\"a68f84feeaf0e4a2befdfbae4dd7dc1c\", element=\"66ed451a-df47-42d4-b3bd-488956bd4269\")>,\n",
       " <selenium.webdriver.remote.webelement.WebElement (session=\"a68f84feeaf0e4a2befdfbae4dd7dc1c\", element=\"f9b24964-e271-47a8-962c-c8ecff1406cf\")>]"
      ]
     },
     "execution_count": 177,
     "metadata": {},
     "output_type": "execute_result"
    }
   ],
   "source": [
    "salary_tags = browser.find_elements_by_xpath(\"//div[@class='']/p[5]\")\n",
    "salary_tags"
   ]
  },
  {
   "cell_type": "code",
   "execution_count": 178,
   "id": "excessive-swedish",
   "metadata": {},
   "outputs": [],
   "source": [
    "salary=[]\n",
    "for i in salary_tags:\n",
    "    salaries=i.text\n",
    "    salary.append(salaries)"
   ]
  },
  {
   "cell_type": "code",
   "execution_count": 179,
   "id": "mexican-ranch",
   "metadata": {},
   "outputs": [
    {
     "data": {
      "text/plain": [
       "['2,257 salaries',\n",
       " '571 salaries',\n",
       " '546 salaries',\n",
       " '421 salaries',\n",
       " '373 salaries',\n",
       " '355 salaries',\n",
       " '355 salaries',\n",
       " '338 salaries',\n",
       " '319 salaries',\n",
       " '315 salaries',\n",
       " '306 salaries',\n",
       " '302 salaries',\n",
       " '288 salaries',\n",
       " '269 salaries',\n",
       " '265 salaries',\n",
       " '261 salaries',\n",
       " '261 salaries',\n",
       " '260 salaries',\n",
       " '260 salaries',\n",
       " '248 salaries']"
      ]
     },
     "execution_count": 179,
     "metadata": {},
     "output_type": "execute_result"
    }
   ],
   "source": [
    "salary"
   ]
  },
  {
   "cell_type": "code",
   "execution_count": 180,
   "id": "prostate-context",
   "metadata": {},
   "outputs": [
    {
     "name": "stdout",
     "output_type": "stream",
     "text": [
      "20 12 20 20\n"
     ]
    }
   ],
   "source": [
    "print(len(company_names), len(salaries), len(average_salary), len(salary))"
   ]
  },
  {
   "cell_type": "code",
   "execution_count": 181,
   "id": "grand-diameter",
   "metadata": {},
   "outputs": [],
   "source": [
    "import pandas as pd\n",
    "glassdoor=pd.DataFrame({})\n",
    "glassdoor['company']=company_names[0:10]\n",
    "glassdoor['min and max salary']=salaries[0:10]\n",
    "glassdoor['average_salary']=average_salary[0:10]\n",
    "glassdoor['salary']=salary[0:10]"
   ]
  },
  {
   "cell_type": "code",
   "execution_count": 182,
   "id": "descending-shipping",
   "metadata": {},
   "outputs": [
    {
     "data": {
      "text/html": [
       "<div>\n",
       "<style scoped>\n",
       "    .dataframe tbody tr th:only-of-type {\n",
       "        vertical-align: middle;\n",
       "    }\n",
       "\n",
       "    .dataframe tbody tr th {\n",
       "        vertical-align: top;\n",
       "    }\n",
       "\n",
       "    .dataframe thead th {\n",
       "        text-align: right;\n",
       "    }\n",
       "</style>\n",
       "<table border=\"1\" class=\"dataframe\">\n",
       "  <thead>\n",
       "    <tr style=\"text-align: right;\">\n",
       "      <th></th>\n",
       "      <th>company</th>\n",
       "      <th>min and max salary</th>\n",
       "      <th>average_salary</th>\n",
       "      <th>salary</th>\n",
       "    </tr>\n",
       "  </thead>\n",
       "  <tbody>\n",
       "    <tr>\n",
       "      <th>0</th>\n",
       "      <td>Tata Consultancy Services</td>\n",
       "      <td>248 salari</td>\n",
       "      <td>₹ 3,73,606\\n/yr</td>\n",
       "      <td>2,257 salaries</td>\n",
       "    </tr>\n",
       "    <tr>\n",
       "      <th>1</th>\n",
       "      <td>HCL Technologies</td>\n",
       "      <td>248 salari</td>\n",
       "      <td>₹ 4,26,592\\n/yr</td>\n",
       "      <td>571 salaries</td>\n",
       "    </tr>\n",
       "    <tr>\n",
       "      <th>2</th>\n",
       "      <td>Tata Consultancy Services</td>\n",
       "      <td>248 salari</td>\n",
       "      <td>₹ 6,39,695\\n/yr</td>\n",
       "      <td>546 salaries</td>\n",
       "    </tr>\n",
       "    <tr>\n",
       "      <th>3</th>\n",
       "      <td>Altran</td>\n",
       "      <td>248 salari</td>\n",
       "      <td>₹ 4,44,018\\n/yr</td>\n",
       "      <td>421 salaries</td>\n",
       "    </tr>\n",
       "    <tr>\n",
       "      <th>4</th>\n",
       "      <td>Genpact</td>\n",
       "      <td>248 salari</td>\n",
       "      <td>₹ 2,02,082\\n/yr</td>\n",
       "      <td>373 salaries</td>\n",
       "    </tr>\n",
       "    <tr>\n",
       "      <th>5</th>\n",
       "      <td>Tata Consultancy Services</td>\n",
       "      <td>248 salari</td>\n",
       "      <td>₹ 4,26,592\\n/yr</td>\n",
       "      <td>355 salaries</td>\n",
       "    </tr>\n",
       "    <tr>\n",
       "      <th>6</th>\n",
       "      <td>Altran</td>\n",
       "      <td>248 salari</td>\n",
       "      <td>₹ 7,84,034\\n/yr</td>\n",
       "      <td>355 salaries</td>\n",
       "    </tr>\n",
       "    <tr>\n",
       "      <th>7</th>\n",
       "      <td>Deloitte</td>\n",
       "      <td>248 salari</td>\n",
       "      <td>₹ 10,25,402\\n/yr</td>\n",
       "      <td>338 salaries</td>\n",
       "    </tr>\n",
       "    <tr>\n",
       "      <th>8</th>\n",
       "      <td>Evalueserve</td>\n",
       "      <td>248 salari</td>\n",
       "      <td>₹ 5,79,989\\n/yr</td>\n",
       "      <td>319 salaries</td>\n",
       "    </tr>\n",
       "    <tr>\n",
       "      <th>9</th>\n",
       "      <td>Publicis Sapient</td>\n",
       "      <td>248 salari</td>\n",
       "      <td>₹ 14,84,886\\n/yr</td>\n",
       "      <td>315 salaries</td>\n",
       "    </tr>\n",
       "  </tbody>\n",
       "</table>\n",
       "</div>"
      ],
      "text/plain": [
       "                     company min and max salary    average_salary  \\\n",
       "0  Tata Consultancy Services         248 salari   ₹ 3,73,606\\n/yr   \n",
       "1           HCL Technologies         248 salari   ₹ 4,26,592\\n/yr   \n",
       "2  Tata Consultancy Services         248 salari   ₹ 6,39,695\\n/yr   \n",
       "3                     Altran         248 salari   ₹ 4,44,018\\n/yr   \n",
       "4                    Genpact         248 salari   ₹ 2,02,082\\n/yr   \n",
       "5  Tata Consultancy Services         248 salari   ₹ 4,26,592\\n/yr   \n",
       "6                     Altran         248 salari   ₹ 7,84,034\\n/yr   \n",
       "7                   Deloitte         248 salari  ₹ 10,25,402\\n/yr   \n",
       "8                Evalueserve         248 salari   ₹ 5,79,989\\n/yr   \n",
       "9           Publicis Sapient         248 salari  ₹ 14,84,886\\n/yr   \n",
       "\n",
       "           salary  \n",
       "0  2,257 salaries  \n",
       "1    571 salaries  \n",
       "2    546 salaries  \n",
       "3    421 salaries  \n",
       "4    373 salaries  \n",
       "5    355 salaries  \n",
       "6    355 salaries  \n",
       "7    338 salaries  \n",
       "8    319 salaries  \n",
       "9    315 salaries  "
      ]
     },
     "execution_count": 182,
     "metadata": {},
     "output_type": "execute_result"
    }
   ],
   "source": [
    "glassdoor"
   ]
  },
  {
   "cell_type": "code",
   "execution_count": null,
   "id": "pressed-daughter",
   "metadata": {},
   "outputs": [],
   "source": []
  }
 ],
 "metadata": {
  "kernelspec": {
   "display_name": "Python 3",
   "language": "python",
   "name": "python3"
  },
  "language_info": {
   "codemirror_mode": {
    "name": "ipython",
    "version": 3
   },
   "file_extension": ".py",
   "mimetype": "text/x-python",
   "name": "python",
   "nbconvert_exporter": "python",
   "pygments_lexer": "ipython3",
   "version": "3.9.2"
  }
 },
 "nbformat": 4,
 "nbformat_minor": 5
}
