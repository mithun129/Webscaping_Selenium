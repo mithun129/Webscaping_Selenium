{
 "cells": [
  {
   "cell_type": "markdown",
   "id": "unavailable-invasion",
   "metadata": {},
   "source": [
    "## Q1: Write a python program to scrape data for “Data Analyst” Job position in \n",
    "“Bangalore” location. You have to scrape the job-title, job-location, company_name,\n",
    "experience_required. You have to scrape first 10 jobs data.\n",
    "This task will be done in following steps:\n",
    "1. first get the webpage https://www.naukri.com/\n",
    "2. Enter “Data Analyst” in “Skill,Designations,Companies” field and enter “Bangalore” \n",
    "in “enter the location” field.\n",
    "3. Then click the search button.\n",
    "4. Then scrape the data for the first 10 jobs results you get.\n",
    "5. Finally create a dataframe of the scraped data.\n",
    "Note- All of the above steps have to be done in code. No step is to be done manually"
   ]
  },
  {
   "cell_type": "markdown",
   "id": "taken-store",
   "metadata": {},
   "source": [
    "So, in this notebook we will scrape data from www.naukri.com website for Data-Scientist job role and \"Bangalore\" location. we will scrape 4 fields for each job. \n",
    "1. Job-title\n",
    "2. Job-location\n",
    "3. Company_name\n",
    "4. Experience_required"
   ]
  },
  {
   "cell_type": "code",
   "execution_count": 1,
   "id": "fleet-vector",
   "metadata": {},
   "outputs": [],
   "source": [
    "#lets now import all the required libraries\n",
    "import requests\n",
    "from selenium import webdriver\n",
    "browser = webdriver.Chrome()\n",
    "browser.get(\"https://www.naukri.com/\")\n",
    "from bs4 import BeautifulSoup\n"
   ]
  },
  {
   "cell_type": "code",
   "execution_count": 2,
   "id": "focused-leather",
   "metadata": {},
   "outputs": [],
   "source": [
    "#finding element for job search bar \n",
    "search_job = browser.find_element_by_id(\"qsb-keyword-sugg\")\n",
    "search_job.send_keys(\"Data Analyst\") #write on search bar"
   ]
  },
  {
   "cell_type": "code",
   "execution_count": 3,
   "id": "metric-wrestling",
   "metadata": {},
   "outputs": [],
   "source": [
    "#do click using xpath function\n",
    "search_loc = browser.find_element_by_id (\"qsb-location-sugg\")\n",
    "search_loc.send_keys(\"Banglore\")"
   ]
  },
  {
   "cell_type": "code",
   "execution_count": 4,
   "id": "egyptian-guatemala",
   "metadata": {},
   "outputs": [],
   "source": [
    "#do click using class_name function\n",
    "search_btn = browser.find_element_by_class_name (\"btn\")\n",
    "search_btn.click()"
   ]
  },
  {
   "cell_type": "code",
   "execution_count": 5,
   "id": "spare-transformation",
   "metadata": {},
   "outputs": [],
   "source": [
    "#specifying the URL of webpage to be scraped\n",
    "url=\"https://www.naukri.com/data-analyst-jobs-in-banglore?k=data%20analyst&l=banglore\""
   ]
  },
  {
   "cell_type": "code",
   "execution_count": 6,
   "id": "subsequent-incident",
   "metadata": {},
   "outputs": [],
   "source": [
    "#lets open the webpage through our webdriver\n",
    "browser.get(url)"
   ]
  },
  {
   "cell_type": "markdown",
   "id": "parliamentary-distinction",
   "metadata": {},
   "source": [
    "Now we will see in the window opened by the webdriver whether the\n",
    "webpage has opend on not. Let's check it \n",
    "so, Now lets first create 4 empty lists. In these lists the data will be stored while scraping. We have created 4 empty lists for 4 features which we have to extract.\n",
    "1. Job-title\n",
    "2. Job-location\n",
    "3. Company_name\n",
    "4. Experience_required <br>\n",
    "\n",
    "First, we will extract all tags where we have the job titles. Let me first show you on the webpage in which taages the job titles are put."
   ]
  },
  {
   "cell_type": "code",
   "execution_count": 7,
   "id": "recognized-colon",
   "metadata": {},
   "outputs": [],
   "source": [
    "job_titles=[] # empty list\n",
    "company_names=[] # empty list\n",
    "location_list=[] # empty list\n",
    "experience_required=[] # empty list"
   ]
  },
  {
   "cell_type": "code",
   "execution_count": 8,
   "id": "loving-joshua",
   "metadata": {},
   "outputs": [
    {
     "data": {
      "text/plain": [
       "[<selenium.webdriver.remote.webelement.WebElement (session=\"a1bccc81b0092f8a83e2e999f9c2bcb7\", element=\"88043cbd-9e42-4b2a-a87d-2f3c631e186c\")>,\n",
       " <selenium.webdriver.remote.webelement.WebElement (session=\"a1bccc81b0092f8a83e2e999f9c2bcb7\", element=\"76bb5092-6dc6-4cde-8580-755e825c7665\")>,\n",
       " <selenium.webdriver.remote.webelement.WebElement (session=\"a1bccc81b0092f8a83e2e999f9c2bcb7\", element=\"d4f3ced4-6377-4d4b-a357-438a62a3e8b0\")>,\n",
       " <selenium.webdriver.remote.webelement.WebElement (session=\"a1bccc81b0092f8a83e2e999f9c2bcb7\", element=\"26f84136-fb3a-42ee-a456-e45cb5e72263\")>]"
      ]
     },
     "execution_count": 8,
     "metadata": {},
     "output_type": "execute_result"
    }
   ],
   "source": [
    "#so lets extract all the tags having the job-title\n",
    "title_tags = browser.find_elements_by_xpath (\"//a[@class='title fw500 ellipsis']\")\n",
    "title_tags[0:4]"
   ]
  },
  {
   "cell_type": "code",
   "execution_count": 9,
   "id": "surrounded-portuguese",
   "metadata": {},
   "outputs": [
    {
     "data": {
      "text/plain": [
       "['Data Scientist / Data Analyst -Business Analyst',\n",
       " 'Senior Data Analyst - Data Lineage',\n",
       " 'Data Analyst - Informatica MDM',\n",
       " 'Excel VBA Jobs Bangalore | VBA data analyst Jobs',\n",
       " 'Data analysts',\n",
       " 'Data Analyst (2positions)//immediate Joiners//bangalore',\n",
       " 'Business Data Analyst',\n",
       " 'Data Analyst',\n",
       " 'Data Analyst',\n",
       " 'Data Analyst - Category Demand Management (Revenue & Growth)',\n",
       " 'data analyst',\n",
       " 'RC HIA - Data Analyst - A2',\n",
       " 'Data Analyst (Contractual)',\n",
       " 'Procurement Data Analyst',\n",
       " 'Data Analyst',\n",
       " 'Hiring Consultant Data Analyst Contractual',\n",
       " 'Data Analyst/ Data Consultant (Various Levels – Senior/ Mid/ Junior)',\n",
       " 'Senior Data Analyst',\n",
       " 'Senior Data Analyst',\n",
       " 'Senior Data Analyst']"
      ]
     },
     "execution_count": 9,
     "metadata": {},
     "output_type": "execute_result"
    }
   ],
   "source": [
    "#so we will run a loop to itrate over the tags extracted above and extract the text inside them.\n",
    "for i in title_tags:\n",
    "    title=i.text\n",
    "    job_titles.append(title)\n",
    "job_titles"
   ]
  },
  {
   "cell_type": "code",
   "execution_count": 10,
   "id": "supported-powder",
   "metadata": {},
   "outputs": [
    {
     "data": {
      "text/plain": [
       "['Data Scientist / Data Analyst -Business Analyst',\n",
       " 'Senior Data Analyst - Data Lineage',\n",
       " 'Data Analyst - Informatica MDM',\n",
       " 'Excel VBA Jobs Bangalore | VBA data analyst Jobs']"
      ]
     },
     "execution_count": 10,
     "metadata": {},
     "output_type": "execute_result"
    }
   ],
   "source": [
    "job_titles[0:4]"
   ]
  },
  {
   "cell_type": "code",
   "execution_count": 11,
   "id": "written-hormone",
   "metadata": {},
   "outputs": [
    {
     "data": {
      "text/plain": [
       "[<selenium.webdriver.remote.webelement.WebElement (session=\"a1bccc81b0092f8a83e2e999f9c2bcb7\", element=\"3f712680-4239-47af-9e32-109f4f90ed70\")>,\n",
       " <selenium.webdriver.remote.webelement.WebElement (session=\"a1bccc81b0092f8a83e2e999f9c2bcb7\", element=\"f4b4f77c-d206-4f31-9928-ce44a15b22ad\")>,\n",
       " <selenium.webdriver.remote.webelement.WebElement (session=\"a1bccc81b0092f8a83e2e999f9c2bcb7\", element=\"52ac07db-e115-42fc-88b6-c232e70476bb\")>,\n",
       " <selenium.webdriver.remote.webelement.WebElement (session=\"a1bccc81b0092f8a83e2e999f9c2bcb7\", element=\"03fc359e-ce9c-40d7-8e7c-363f1b566663\")>]"
      ]
     },
     "execution_count": 11,
     "metadata": {},
     "output_type": "execute_result"
    }
   ],
   "source": [
    "location_tags = browser.find_elements_by_xpath(\"//li[@class='fleft grey-text br2 placeHolderLi location']\")\n",
    "location_tags[0:4]"
   ]
  },
  {
   "cell_type": "code",
   "execution_count": 12,
   "id": "scientific-korean",
   "metadata": {},
   "outputs": [],
   "source": [
    "location_name=[]\n",
    "for i in location_tags:\n",
    "    location=i.text\n",
    "    location_name.append(location)"
   ]
  },
  {
   "cell_type": "code",
   "execution_count": 13,
   "id": "orange-housing",
   "metadata": {},
   "outputs": [
    {
     "data": {
      "text/plain": [
       "['Mumbai, Hyderabad/Secunderabad, Pune, Gurgaon/Gurugram, Chennai, Bangalore/Bengaluru',\n",
       " 'Bangalore/Bengaluru',\n",
       " 'Bangalore/Bengaluru',\n",
       " 'Mysore/Mysuru, Coimbatore, Bangalore/Bengaluru']"
      ]
     },
     "execution_count": 13,
     "metadata": {},
     "output_type": "execute_result"
    }
   ],
   "source": [
    "location_name[0:4]"
   ]
  },
  {
   "cell_type": "code",
   "execution_count": 14,
   "id": "fantastic-messaging",
   "metadata": {},
   "outputs": [
    {
     "data": {
      "text/plain": [
       "[<selenium.webdriver.remote.webelement.WebElement (session=\"a1bccc81b0092f8a83e2e999f9c2bcb7\", element=\"85e4faa7-7e86-40b8-b9a6-5b8023a3ddfc\")>,\n",
       " <selenium.webdriver.remote.webelement.WebElement (session=\"a1bccc81b0092f8a83e2e999f9c2bcb7\", element=\"84ed7045-644b-49a1-a6ae-78e1a75b1c13\")>,\n",
       " <selenium.webdriver.remote.webelement.WebElement (session=\"a1bccc81b0092f8a83e2e999f9c2bcb7\", element=\"4bcef9ec-196a-4971-9773-5ed114e53749\")>,\n",
       " <selenium.webdriver.remote.webelement.WebElement (session=\"a1bccc81b0092f8a83e2e999f9c2bcb7\", element=\"2308e3f2-2766-4ddd-9bee-45091fc063f4\")>]"
      ]
     },
     "execution_count": 14,
     "metadata": {},
     "output_type": "execute_result"
    }
   ],
   "source": [
    "company_tags = browser.find_elements_by_xpath(\"//a[@class='subTitle ellipsis fleft']\")\n",
    "company_tags[0:4]"
   ]
  },
  {
   "cell_type": "code",
   "execution_count": 15,
   "id": "cardiac-gauge",
   "metadata": {},
   "outputs": [],
   "source": [
    "company_name=[]\n",
    "for i in company_tags:\n",
    "    company=i.text\n",
    "    company_name.append(company)\n",
    "    "
   ]
  },
  {
   "cell_type": "code",
   "execution_count": 16,
   "id": "national-production",
   "metadata": {},
   "outputs": [
    {
     "data": {
      "text/plain": [
       "['Inflexion Analytix Private Limited',\n",
       " 'Opex Global Services',\n",
       " 'Shell India Markets Private Limited',\n",
       " 'Mind Circus Innovation']"
      ]
     },
     "execution_count": 16,
     "metadata": {},
     "output_type": "execute_result"
    }
   ],
   "source": [
    "company_name[0:4]"
   ]
  },
  {
   "cell_type": "code",
   "execution_count": 17,
   "id": "detailed-roulette",
   "metadata": {
    "scrolled": true
   },
   "outputs": [
    {
     "data": {
      "text/plain": [
       "[<selenium.webdriver.remote.webelement.WebElement (session=\"a1bccc81b0092f8a83e2e999f9c2bcb7\", element=\"6cc31fd1-4269-4d0b-a522-0e78070519ae\")>,\n",
       " <selenium.webdriver.remote.webelement.WebElement (session=\"a1bccc81b0092f8a83e2e999f9c2bcb7\", element=\"079b98de-5e90-4e76-bc2e-577eb2513119\")>,\n",
       " <selenium.webdriver.remote.webelement.WebElement (session=\"a1bccc81b0092f8a83e2e999f9c2bcb7\", element=\"4c9ae93f-8589-45d4-b2f0-a94d27ce3494\")>,\n",
       " <selenium.webdriver.remote.webelement.WebElement (session=\"a1bccc81b0092f8a83e2e999f9c2bcb7\", element=\"d310715f-12ba-4f9a-9b14-01b8f01c6b49\")>]"
      ]
     },
     "execution_count": 17,
     "metadata": {},
     "output_type": "execute_result"
    }
   ],
   "source": [
    "experience_tags = browser.find_elements_by_xpath(\"//li[@class='fleft grey-text br2 placeHolderLi experience']\")\n",
    "experience_tags[0:4]"
   ]
  },
  {
   "cell_type": "code",
   "execution_count": 18,
   "id": "partial-receiver",
   "metadata": {},
   "outputs": [],
   "source": [
    "experience_required=[]\n",
    "for i in experience_tags:\n",
    "    experience=i.text\n",
    "    experience_required.append(experience)   "
   ]
  },
  {
   "cell_type": "code",
   "execution_count": 19,
   "id": "experimental-trail",
   "metadata": {},
   "outputs": [
    {
     "data": {
      "text/plain": [
       "['0-3 Yrs', '5-10 Yrs', '6-9 Yrs', '0-1 Yrs']"
      ]
     },
     "execution_count": 19,
     "metadata": {},
     "output_type": "execute_result"
    }
   ],
   "source": [
    "experience_required[0:4]"
   ]
  },
  {
   "cell_type": "code",
   "execution_count": 20,
   "id": "allied-native",
   "metadata": {},
   "outputs": [
    {
     "name": "stdout",
     "output_type": "stream",
     "text": [
      "20 20 20 20\n"
     ]
    }
   ],
   "source": [
    "print(len(job_titles), len(company_name), len(location_name), len(experience_required))"
   ]
  },
  {
   "cell_type": "code",
   "execution_count": 21,
   "id": "polyphonic-barrier",
   "metadata": {},
   "outputs": [
    {
     "data": {
      "text/html": [
       "<div>\n",
       "<style scoped>\n",
       "    .dataframe tbody tr th:only-of-type {\n",
       "        vertical-align: middle;\n",
       "    }\n",
       "\n",
       "    .dataframe tbody tr th {\n",
       "        vertical-align: top;\n",
       "    }\n",
       "\n",
       "    .dataframe thead th {\n",
       "        text-align: right;\n",
       "    }\n",
       "</style>\n",
       "<table border=\"1\" class=\"dataframe\">\n",
       "  <thead>\n",
       "    <tr style=\"text-align: right;\">\n",
       "      <th></th>\n",
       "      <th>Title</th>\n",
       "      <th>Company</th>\n",
       "      <th>Location</th>\n",
       "      <th>Experience_required</th>\n",
       "    </tr>\n",
       "  </thead>\n",
       "  <tbody>\n",
       "    <tr>\n",
       "      <th>0</th>\n",
       "      <td>Data Scientist / Data Analyst -Business Analyst</td>\n",
       "      <td>Inflexion Analytix Private Limited</td>\n",
       "      <td>Mumbai, Hyderabad/Secunderabad, Pune, Gurgaon/...</td>\n",
       "      <td>0-3 Yrs</td>\n",
       "    </tr>\n",
       "    <tr>\n",
       "      <th>1</th>\n",
       "      <td>Senior Data Analyst - Data Lineage</td>\n",
       "      <td>Opex Global Services</td>\n",
       "      <td>Bangalore/Bengaluru</td>\n",
       "      <td>5-10 Yrs</td>\n",
       "    </tr>\n",
       "    <tr>\n",
       "      <th>2</th>\n",
       "      <td>Data Analyst - Informatica MDM</td>\n",
       "      <td>Shell India Markets Private Limited</td>\n",
       "      <td>Bangalore/Bengaluru</td>\n",
       "      <td>6-9 Yrs</td>\n",
       "    </tr>\n",
       "    <tr>\n",
       "      <th>3</th>\n",
       "      <td>Excel VBA Jobs Bangalore | VBA data analyst Jobs</td>\n",
       "      <td>Mind Circus Innovation</td>\n",
       "      <td>Mysore/Mysuru, Coimbatore, Bangalore/Bengaluru</td>\n",
       "      <td>0-1 Yrs</td>\n",
       "    </tr>\n",
       "    <tr>\n",
       "      <th>4</th>\n",
       "      <td>Data analysts</td>\n",
       "      <td>IBM India Pvt. Limited</td>\n",
       "      <td>Bangalore/Bengaluru</td>\n",
       "      <td>3-5 Yrs</td>\n",
       "    </tr>\n",
       "    <tr>\n",
       "      <th>5</th>\n",
       "      <td>Data Analyst (2positions)//immediate Joiners//...</td>\n",
       "      <td>Tech Mahindra Ltd.</td>\n",
       "      <td>Bangalore/Bengaluru</td>\n",
       "      <td>4-8 Yrs</td>\n",
       "    </tr>\n",
       "    <tr>\n",
       "      <th>6</th>\n",
       "      <td>Business Data Analyst</td>\n",
       "      <td>dotSolved India Pvt., Ltd.</td>\n",
       "      <td>Chennai, Bangalore/Bengaluru, Mumbai (All Areas)</td>\n",
       "      <td>9-13 Yrs</td>\n",
       "    </tr>\n",
       "    <tr>\n",
       "      <th>7</th>\n",
       "      <td>Data Analyst</td>\n",
       "      <td>Myntra Designs Pvt. Ltd.</td>\n",
       "      <td>Bangalore/Bengaluru</td>\n",
       "      <td>3-5 Yrs</td>\n",
       "    </tr>\n",
       "    <tr>\n",
       "      <th>8</th>\n",
       "      <td>Data Analyst</td>\n",
       "      <td>Myntra Designs Pvt. Ltd.</td>\n",
       "      <td>Bangalore/Bengaluru</td>\n",
       "      <td>3-8 Yrs</td>\n",
       "    </tr>\n",
       "    <tr>\n",
       "      <th>9</th>\n",
       "      <td>Data Analyst - Category Demand Management (Rev...</td>\n",
       "      <td>Myntra Designs Pvt. Ltd.</td>\n",
       "      <td>Bangalore/Bengaluru</td>\n",
       "      <td>1-4 Yrs</td>\n",
       "    </tr>\n",
       "    <tr>\n",
       "      <th>10</th>\n",
       "      <td>data analyst</td>\n",
       "      <td>Disha Consultants</td>\n",
       "      <td>Pune, Chennai, Jaipur, Bangalore/Bengaluru</td>\n",
       "      <td>2-4 Yrs</td>\n",
       "    </tr>\n",
       "    <tr>\n",
       "      <th>11</th>\n",
       "      <td>RC HIA - Data Analyst - A2</td>\n",
       "      <td>Pricewaterhouse Coopers Private Limited</td>\n",
       "      <td>Bangalore/Bengaluru</td>\n",
       "      <td>4-6 Yrs</td>\n",
       "    </tr>\n",
       "    <tr>\n",
       "      <th>12</th>\n",
       "      <td>Data Analyst (Contractual)</td>\n",
       "      <td>Flipkart Internet Private Limited</td>\n",
       "      <td>Bangalore/Bengaluru(Bellandur)</td>\n",
       "      <td>1-4 Yrs</td>\n",
       "    </tr>\n",
       "    <tr>\n",
       "      <th>13</th>\n",
       "      <td>Procurement Data Analyst</td>\n",
       "      <td>Schneider Electric</td>\n",
       "      <td>Bangalore/Bengaluru</td>\n",
       "      <td>1-3 Yrs</td>\n",
       "    </tr>\n",
       "    <tr>\n",
       "      <th>14</th>\n",
       "      <td>Data Analyst</td>\n",
       "      <td>IBM India Pvt. Limited</td>\n",
       "      <td>Bangalore/Bengaluru</td>\n",
       "      <td>5-10 Yrs</td>\n",
       "    </tr>\n",
       "    <tr>\n",
       "      <th>15</th>\n",
       "      <td>Hiring Consultant Data Analyst Contractual</td>\n",
       "      <td>Flipkart Internet Private Limited</td>\n",
       "      <td>Bangalore/Bengaluru</td>\n",
       "      <td>2-6 Yrs</td>\n",
       "    </tr>\n",
       "    <tr>\n",
       "      <th>16</th>\n",
       "      <td>Data Analyst/ Data Consultant (Various Levels ...</td>\n",
       "      <td>DVSUM INDIA PRIVATE LIMITED</td>\n",
       "      <td>Bangalore/Bengaluru</td>\n",
       "      <td>5-10 Yrs</td>\n",
       "    </tr>\n",
       "    <tr>\n",
       "      <th>17</th>\n",
       "      <td>Senior Data Analyst</td>\n",
       "      <td>Cimpress India Private Limited</td>\n",
       "      <td>Bangalore/Bengaluru</td>\n",
       "      <td>3-8 Yrs</td>\n",
       "    </tr>\n",
       "    <tr>\n",
       "      <th>18</th>\n",
       "      <td>Senior Data Analyst</td>\n",
       "      <td>Eze Castle Integration Services (Formerly Alph...</td>\n",
       "      <td>Hyderabad/Secunderabad, Bangalore/Bengaluru</td>\n",
       "      <td>6-11 Yrs</td>\n",
       "    </tr>\n",
       "    <tr>\n",
       "      <th>19</th>\n",
       "      <td>Senior Data Analyst</td>\n",
       "      <td>SENSEN VIDEO BUSINESS INTELLIGENCE PVT LTD</td>\n",
       "      <td>Hyderabad/Secunderabad, Bangalore/Bengaluru</td>\n",
       "      <td>2-6 Yrs</td>\n",
       "    </tr>\n",
       "  </tbody>\n",
       "</table>\n",
       "</div>"
      ],
      "text/plain": [
       "                                                Title  \\\n",
       "0     Data Scientist / Data Analyst -Business Analyst   \n",
       "1                  Senior Data Analyst - Data Lineage   \n",
       "2                      Data Analyst - Informatica MDM   \n",
       "3    Excel VBA Jobs Bangalore | VBA data analyst Jobs   \n",
       "4                                       Data analysts   \n",
       "5   Data Analyst (2positions)//immediate Joiners//...   \n",
       "6                               Business Data Analyst   \n",
       "7                                        Data Analyst   \n",
       "8                                        Data Analyst   \n",
       "9   Data Analyst - Category Demand Management (Rev...   \n",
       "10                                       data analyst   \n",
       "11                         RC HIA - Data Analyst - A2   \n",
       "12                         Data Analyst (Contractual)   \n",
       "13                           Procurement Data Analyst   \n",
       "14                                       Data Analyst   \n",
       "15         Hiring Consultant Data Analyst Contractual   \n",
       "16  Data Analyst/ Data Consultant (Various Levels ...   \n",
       "17                                Senior Data Analyst   \n",
       "18                                Senior Data Analyst   \n",
       "19                                Senior Data Analyst   \n",
       "\n",
       "                                              Company  \\\n",
       "0                  Inflexion Analytix Private Limited   \n",
       "1                                Opex Global Services   \n",
       "2                 Shell India Markets Private Limited   \n",
       "3                              Mind Circus Innovation   \n",
       "4                              IBM India Pvt. Limited   \n",
       "5                                  Tech Mahindra Ltd.   \n",
       "6                          dotSolved India Pvt., Ltd.   \n",
       "7                            Myntra Designs Pvt. Ltd.   \n",
       "8                            Myntra Designs Pvt. Ltd.   \n",
       "9                            Myntra Designs Pvt. Ltd.   \n",
       "10                                  Disha Consultants   \n",
       "11            Pricewaterhouse Coopers Private Limited   \n",
       "12                  Flipkart Internet Private Limited   \n",
       "13                                 Schneider Electric   \n",
       "14                             IBM India Pvt. Limited   \n",
       "15                  Flipkart Internet Private Limited   \n",
       "16                        DVSUM INDIA PRIVATE LIMITED   \n",
       "17                     Cimpress India Private Limited   \n",
       "18  Eze Castle Integration Services (Formerly Alph...   \n",
       "19         SENSEN VIDEO BUSINESS INTELLIGENCE PVT LTD   \n",
       "\n",
       "                                             Location Experience_required  \n",
       "0   Mumbai, Hyderabad/Secunderabad, Pune, Gurgaon/...             0-3 Yrs  \n",
       "1                                 Bangalore/Bengaluru            5-10 Yrs  \n",
       "2                                 Bangalore/Bengaluru             6-9 Yrs  \n",
       "3      Mysore/Mysuru, Coimbatore, Bangalore/Bengaluru             0-1 Yrs  \n",
       "4                                 Bangalore/Bengaluru             3-5 Yrs  \n",
       "5                                 Bangalore/Bengaluru             4-8 Yrs  \n",
       "6    Chennai, Bangalore/Bengaluru, Mumbai (All Areas)            9-13 Yrs  \n",
       "7                                 Bangalore/Bengaluru             3-5 Yrs  \n",
       "8                                 Bangalore/Bengaluru             3-8 Yrs  \n",
       "9                                 Bangalore/Bengaluru             1-4 Yrs  \n",
       "10         Pune, Chennai, Jaipur, Bangalore/Bengaluru             2-4 Yrs  \n",
       "11                                Bangalore/Bengaluru             4-6 Yrs  \n",
       "12                     Bangalore/Bengaluru(Bellandur)             1-4 Yrs  \n",
       "13                                Bangalore/Bengaluru             1-3 Yrs  \n",
       "14                                Bangalore/Bengaluru            5-10 Yrs  \n",
       "15                                Bangalore/Bengaluru             2-6 Yrs  \n",
       "16                                Bangalore/Bengaluru            5-10 Yrs  \n",
       "17                                Bangalore/Bengaluru             3-8 Yrs  \n",
       "18        Hyderabad/Secunderabad, Bangalore/Bengaluru            6-11 Yrs  \n",
       "19        Hyderabad/Secunderabad, Bangalore/Bengaluru             2-6 Yrs  "
      ]
     },
     "execution_count": 21,
     "metadata": {},
     "output_type": "execute_result"
    }
   ],
   "source": [
    "#imorting and making panda for Data frams\n",
    "import pandas as pd\n",
    "jobs=pd.DataFrame({})\n",
    "jobs['Title']=job_titles\n",
    "jobs['Company']=company_name\n",
    "jobs['Location']=location_name\n",
    "jobs['Experience_required']=experience_required\n",
    "jobs"
   ]
  }
 ],
 "metadata": {
  "kernelspec": {
   "display_name": "Python 3",
   "language": "python",
   "name": "python3"
  },
  "language_info": {
   "codemirror_mode": {
    "name": "ipython",
    "version": 3
   },
   "file_extension": ".py",
   "mimetype": "text/x-python",
   "name": "python",
   "nbconvert_exporter": "python",
   "pygments_lexer": "ipython3",
   "version": "3.9.2"
  }
 },
 "nbformat": 4,
 "nbformat_minor": 5
}
