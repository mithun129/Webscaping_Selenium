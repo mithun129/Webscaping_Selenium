{
 "cells": [
  {
   "cell_type": "code",
   "execution_count": 1,
   "id": "fallen-luxury",
   "metadata": {},
   "outputs": [],
   "source": [
    "#lets now import all the required libraries\n",
    "import requests\n",
    "from selenium import webdriver\n",
    "\n",
    "browser = webdriver.Chrome()\n",
    "\n",
    "browser.get(\"https://www.naukri.com/\")\n",
    "from bs4 import BeautifulSoup\n"
   ]
  },
  {
   "cell_type": "code",
   "execution_count": 2,
   "id": "arctic-joseph",
   "metadata": {},
   "outputs": [],
   "source": [
    "#finding element for job search bar \n",
    "search_job = browser.find_element_by_id(\"qsb-keyword-sugg\")\n",
    "search_job.send_keys(\"Data scientist\")"
   ]
  },
  {
   "cell_type": "code",
   "execution_count": 3,
   "id": "little-sound",
   "metadata": {},
   "outputs": [],
   "source": [
    "#do click using xpath function\n",
    "search_loc = browser.find_element_by_id (\"qsb-location-sugg\")\n",
    "search_loc.send_keys(\"Dehli/NCR\")"
   ]
  },
  {
   "cell_type": "code",
   "execution_count": 4,
   "id": "sapphire-slovenia",
   "metadata": {},
   "outputs": [],
   "source": [
    "#do click using class_name function\n",
    "search_btn = browser.find_element_by_class_name (\"btn\")\n",
    "search_btn.click()"
   ]
  },
  {
   "cell_type": "code",
   "execution_count": 5,
   "id": "expressed-covering",
   "metadata": {},
   "outputs": [],
   "source": [
    "#lets open the webpage through our webdriver\n",
    "url=\"https://www.naukri.com/data-scientist-jobs-in-dehli-ncr?k=data%20scientist&l=dehli%2Fncr&cityTypeGid=9508&ctcFilter=3to6\""
   ]
  },
  {
   "cell_type": "code",
   "execution_count": 6,
   "id": "durable-moment",
   "metadata": {},
   "outputs": [],
   "source": [
    "#lets open the webpage through our webdriver\n",
    "browser.get(url)"
   ]
  },
  {
   "cell_type": "code",
   "execution_count": 7,
   "id": "coordinated-picking",
   "metadata": {},
   "outputs": [],
   "source": [
    "job_titles=[]  # empty list\n",
    "company_names=[] # empty list\n",
    "location_list=[] # empty list\n",
    "experience_required=[] # empty list"
   ]
  },
  {
   "cell_type": "code",
   "execution_count": 8,
   "id": "north-tobacco",
   "metadata": {},
   "outputs": [
    {
     "data": {
      "text/plain": [
       "[<selenium.webdriver.remote.webelement.WebElement (session=\"d2bf3b03adbec5e2368c9ca95de33b8c\", element=\"d552e886-a8a8-46c4-bcf4-4e19a1943bf8\")>,\n",
       " <selenium.webdriver.remote.webelement.WebElement (session=\"d2bf3b03adbec5e2368c9ca95de33b8c\", element=\"362d9256-883b-4d91-b1b8-ab0ac9c88317\")>,\n",
       " <selenium.webdriver.remote.webelement.WebElement (session=\"d2bf3b03adbec5e2368c9ca95de33b8c\", element=\"dcf5b337-116d-463f-8239-e50dae17bd80\")>,\n",
       " <selenium.webdriver.remote.webelement.WebElement (session=\"d2bf3b03adbec5e2368c9ca95de33b8c\", element=\"9f75b04b-7973-49aa-ae37-7028691f80c4\")>]"
      ]
     },
     "execution_count": 8,
     "metadata": {},
     "output_type": "execute_result"
    }
   ],
   "source": [
    "title_tags = browser.find_elements_by_xpath (\"//a[@class='title fw500 ellipsis']\")\n",
    "title_tags[0:4]"
   ]
  },
  {
   "cell_type": "code",
   "execution_count": 9,
   "id": "hybrid-trauma",
   "metadata": {},
   "outputs": [],
   "source": [
    "job_titles=[] # empty list\n",
    "for i in title_tags:\n",
    "    title=i.text\n",
    "    job_titles.append(title)"
   ]
  },
  {
   "cell_type": "code",
   "execution_count": 10,
   "id": "hungry-surgery",
   "metadata": {},
   "outputs": [
    {
     "data": {
      "text/plain": [
       "['Data Scientist / Data Analyst -Business Analyst',\n",
       " 'Data analytics / Data scientist intern (work from Home)',\n",
       " 'Data Scientist',\n",
       " 'Chaayos is Looking For Data Scientist']"
      ]
     },
     "execution_count": 10,
     "metadata": {},
     "output_type": "execute_result"
    }
   ],
   "source": [
    "job_titles[0:4]"
   ]
  },
  {
   "cell_type": "code",
   "execution_count": 11,
   "id": "studied-visibility",
   "metadata": {},
   "outputs": [
    {
     "data": {
      "text/plain": [
       "[<selenium.webdriver.remote.webelement.WebElement (session=\"d2bf3b03adbec5e2368c9ca95de33b8c\", element=\"c06dea28-40dd-4510-b4ba-2ae7703ce34c\")>,\n",
       " <selenium.webdriver.remote.webelement.WebElement (session=\"d2bf3b03adbec5e2368c9ca95de33b8c\", element=\"28c2a4fe-1044-495e-9e7e-bee6613b39d3\")>,\n",
       " <selenium.webdriver.remote.webelement.WebElement (session=\"d2bf3b03adbec5e2368c9ca95de33b8c\", element=\"f10bc0d9-2dc8-465a-b53c-cae9f667d588\")>,\n",
       " <selenium.webdriver.remote.webelement.WebElement (session=\"d2bf3b03adbec5e2368c9ca95de33b8c\", element=\"6b432bc1-6f51-46a0-b4f8-6d5556996ac8\")>]"
      ]
     },
     "execution_count": 11,
     "metadata": {},
     "output_type": "execute_result"
    }
   ],
   "source": [
    "company_tags = browser.find_elements_by_xpath(\"//a[@class='subTitle ellipsis fleft']\")\n",
    "company_tags[0:4]"
   ]
  },
  {
   "cell_type": "code",
   "execution_count": 12,
   "id": "optional-venture",
   "metadata": {},
   "outputs": [],
   "source": [
    "company_name=[]# empty list\n",
    "for i in company_tags:\n",
    "    company=i.text\n",
    "    company_name.append(company)\n",
    "    "
   ]
  },
  {
   "cell_type": "code",
   "execution_count": 13,
   "id": "alone-contact",
   "metadata": {},
   "outputs": [
    {
     "data": {
      "text/plain": [
       "['Inflexion Analytix Private Limited',\n",
       " 'TalkValley LLC',\n",
       " 'Fractal Analytics',\n",
       " 'Chaayos (Sunshine Teahouse Pvt. Ltd.)']"
      ]
     },
     "execution_count": 13,
     "metadata": {},
     "output_type": "execute_result"
    }
   ],
   "source": [
    "company_name[0:4]"
   ]
  },
  {
   "cell_type": "code",
   "execution_count": 14,
   "id": "amateur-ceramic",
   "metadata": {},
   "outputs": [
    {
     "data": {
      "text/plain": [
       "[<selenium.webdriver.remote.webelement.WebElement (session=\"d2bf3b03adbec5e2368c9ca95de33b8c\", element=\"14ae74f3-9501-4aa1-ad5e-20854830dd72\")>,\n",
       " <selenium.webdriver.remote.webelement.WebElement (session=\"d2bf3b03adbec5e2368c9ca95de33b8c\", element=\"ca797e1e-b6fb-4a3e-930c-295438dfc419\")>,\n",
       " <selenium.webdriver.remote.webelement.WebElement (session=\"d2bf3b03adbec5e2368c9ca95de33b8c\", element=\"8e1f91a6-402b-4e7a-b4b4-27d7bbe51381\")>,\n",
       " <selenium.webdriver.remote.webelement.WebElement (session=\"d2bf3b03adbec5e2368c9ca95de33b8c\", element=\"563faa4a-7dbb-49f4-a5b7-b92a4a53befc\")>]"
      ]
     },
     "execution_count": 14,
     "metadata": {},
     "output_type": "execute_result"
    }
   ],
   "source": [
    "experience_tags = browser.find_elements_by_xpath(\"//li[@class='fleft grey-text br2 placeHolderLi experience']\")\n",
    "experience_tags[0:4]"
   ]
  },
  {
   "cell_type": "code",
   "execution_count": 15,
   "id": "conservative-memorabilia",
   "metadata": {},
   "outputs": [],
   "source": [
    "experience_years=[] # empty list\n",
    "for i in experience_tags:\n",
    "    experience=i.text\n",
    "    experience_years.append(experience)\n",
    "    "
   ]
  },
  {
   "cell_type": "code",
   "execution_count": 16,
   "id": "precious-jacket",
   "metadata": {},
   "outputs": [
    {
     "data": {
      "text/plain": [
       "['0-3 Yrs', '0-5 Yrs', '3-7 Yrs', '0-5 Yrs']"
      ]
     },
     "execution_count": 16,
     "metadata": {},
     "output_type": "execute_result"
    }
   ],
   "source": [
    "experience_years[0:4]"
   ]
  },
  {
   "cell_type": "code",
   "execution_count": 17,
   "id": "criminal-legislature",
   "metadata": {},
   "outputs": [
    {
     "data": {
      "text/plain": [
       "[<selenium.webdriver.remote.webelement.WebElement (session=\"d2bf3b03adbec5e2368c9ca95de33b8c\", element=\"5694a287-73b2-42a7-bae5-7b779803223a\")>,\n",
       " <selenium.webdriver.remote.webelement.WebElement (session=\"d2bf3b03adbec5e2368c9ca95de33b8c\", element=\"e5917a64-67c8-40e5-87f4-43e213c90416\")>,\n",
       " <selenium.webdriver.remote.webelement.WebElement (session=\"d2bf3b03adbec5e2368c9ca95de33b8c\", element=\"1aa0dfb0-f40a-4c66-a737-c01e24d98ee5\")>,\n",
       " <selenium.webdriver.remote.webelement.WebElement (session=\"d2bf3b03adbec5e2368c9ca95de33b8c\", element=\"3e2e4f22-f4eb-499e-af25-f421ca8286e5\")>]"
      ]
     },
     "execution_count": 17,
     "metadata": {},
     "output_type": "execute_result"
    }
   ],
   "source": [
    "location_tags = browser.find_elements_by_xpath(\"//li[@class='fleft grey-text br2 placeHolderLi location']\")\n",
    "location_tags[0:4]"
   ]
  },
  {
   "cell_type": "code",
   "execution_count": 18,
   "id": "spiritual-graphic",
   "metadata": {},
   "outputs": [],
   "source": [
    "locations=[] # empty list\n",
    "for i in location_tags:\n",
    "    location=i.text\n",
    "    locations.append(location)\n",
    "    "
   ]
  },
  {
   "cell_type": "code",
   "execution_count": 19,
   "id": "hired-player",
   "metadata": {},
   "outputs": [
    {
     "data": {
      "text/plain": [
       "['Mumbai, Hyderabad/Secunderabad, Pune, Gurgaon/Gurugram, Chennai, Bangalore/Bengaluru',\n",
       " 'Kolkata, Bangalore/Bengaluru, Delhi / NCR',\n",
       " 'Mumbai, Gurgaon/Gurugram, Bangalore/Bengaluru',\n",
       " 'New Delhi']"
      ]
     },
     "execution_count": 19,
     "metadata": {},
     "output_type": "execute_result"
    }
   ],
   "source": [
    "locations[0:4]"
   ]
  },
  {
   "cell_type": "code",
   "execution_count": 20,
   "id": "racial-sword",
   "metadata": {},
   "outputs": [
    {
     "name": "stdout",
     "output_type": "stream",
     "text": [
      "20 20 20 20\n"
     ]
    }
   ],
   "source": [
    "print(len(job_titles), len(company_name), len(locations), len(experience_years))"
   ]
  },
  {
   "cell_type": "code",
   "execution_count": 21,
   "id": "empirical-mechanism",
   "metadata": {},
   "outputs": [
    {
     "data": {
      "text/html": [
       "<div>\n",
       "<style scoped>\n",
       "    .dataframe tbody tr th:only-of-type {\n",
       "        vertical-align: middle;\n",
       "    }\n",
       "\n",
       "    .dataframe tbody tr th {\n",
       "        vertical-align: top;\n",
       "    }\n",
       "\n",
       "    .dataframe thead th {\n",
       "        text-align: right;\n",
       "    }\n",
       "</style>\n",
       "<table border=\"1\" class=\"dataframe\">\n",
       "  <thead>\n",
       "    <tr style=\"text-align: right;\">\n",
       "      <th></th>\n",
       "      <th>title</th>\n",
       "      <th>company</th>\n",
       "      <th>location</th>\n",
       "      <th>experience_required</th>\n",
       "    </tr>\n",
       "  </thead>\n",
       "  <tbody>\n",
       "    <tr>\n",
       "      <th>0</th>\n",
       "      <td>Data Scientist / Data Analyst -Business Analyst</td>\n",
       "      <td>Inflexion Analytix Private Limited</td>\n",
       "      <td>Mumbai, Hyderabad/Secunderabad, Pune, Gurgaon/...</td>\n",
       "      <td>0-3 Yrs</td>\n",
       "    </tr>\n",
       "    <tr>\n",
       "      <th>1</th>\n",
       "      <td>Data analytics / Data scientist intern (work f...</td>\n",
       "      <td>TalkValley LLC</td>\n",
       "      <td>Kolkata, Bangalore/Bengaluru, Delhi / NCR</td>\n",
       "      <td>0-5 Yrs</td>\n",
       "    </tr>\n",
       "    <tr>\n",
       "      <th>2</th>\n",
       "      <td>Data Scientist</td>\n",
       "      <td>Fractal Analytics</td>\n",
       "      <td>Mumbai, Gurgaon/Gurugram, Bangalore/Bengaluru</td>\n",
       "      <td>3-7 Yrs</td>\n",
       "    </tr>\n",
       "    <tr>\n",
       "      <th>3</th>\n",
       "      <td>Chaayos is Looking For Data Scientist</td>\n",
       "      <td>Chaayos (Sunshine Teahouse Pvt. Ltd.)</td>\n",
       "      <td>New Delhi</td>\n",
       "      <td>0-5 Yrs</td>\n",
       "    </tr>\n",
       "    <tr>\n",
       "      <th>4</th>\n",
       "      <td>Junior Data Scientist</td>\n",
       "      <td>R Systems International Ltd.</td>\n",
       "      <td>Noida(Sector-59 Noida)</td>\n",
       "      <td>3-5 Yrs</td>\n",
       "    </tr>\n",
       "    <tr>\n",
       "      <th>5</th>\n",
       "      <td>We are hiring- Data Scientist +Python- Noida</td>\n",
       "      <td>RANDSTAD INDIA PVT LTD</td>\n",
       "      <td>Noida, Gurgaon/Gurugram, Delhi / NCR</td>\n",
       "      <td>4-7 Yrs</td>\n",
       "    </tr>\n",
       "    <tr>\n",
       "      <th>6</th>\n",
       "      <td>Data Scientist</td>\n",
       "      <td>Milliman India Pvt Ltd</td>\n",
       "      <td>Gurgaon/Gurugram, Delhi / NCR</td>\n",
       "      <td>2-5 Yrs</td>\n",
       "    </tr>\n",
       "    <tr>\n",
       "      <th>7</th>\n",
       "      <td>Data Scientist</td>\n",
       "      <td>NEC CORPORATION INDIA PRIVATE LIMITED</td>\n",
       "      <td>Noida</td>\n",
       "      <td>3-8 Yrs</td>\n",
       "    </tr>\n",
       "    <tr>\n",
       "      <th>8</th>\n",
       "      <td>Data Analyst/Scientist Big Data, Statistical T...</td>\n",
       "      <td>The Search House (A Div of JSD Search House Pv...</td>\n",
       "      <td>Gurgaon/Gurugram</td>\n",
       "      <td>2-7 Yrs</td>\n",
       "    </tr>\n",
       "    <tr>\n",
       "      <th>9</th>\n",
       "      <td>Business Analyst- Data Scientist</td>\n",
       "      <td>Wipro</td>\n",
       "      <td>Noida, Gurgaon/Gurugram</td>\n",
       "      <td>2-5 Yrs</td>\n",
       "    </tr>\n",
       "    <tr>\n",
       "      <th>10</th>\n",
       "      <td>Senior Data Scientist</td>\n",
       "      <td>iNICU</td>\n",
       "      <td>Delhi</td>\n",
       "      <td>1-5 Yrs</td>\n",
       "    </tr>\n",
       "    <tr>\n",
       "      <th>11</th>\n",
       "      <td>Data Scientist</td>\n",
       "      <td>Evalueserve.com Pvt. Ltd</td>\n",
       "      <td>Gurgaon/Gurugram</td>\n",
       "      <td>4-7 Yrs</td>\n",
       "    </tr>\n",
       "    <tr>\n",
       "      <th>12</th>\n",
       "      <td>Data Scientist</td>\n",
       "      <td>BlackBuck</td>\n",
       "      <td>Gurgaon/Gurugram, Bangalore/Bengaluru</td>\n",
       "      <td>3-7 Yrs</td>\n",
       "    </tr>\n",
       "    <tr>\n",
       "      <th>13</th>\n",
       "      <td>Data Scientist</td>\n",
       "      <td>Country Veggie</td>\n",
       "      <td>Bharuch, Jaipur, Bhopal, Mumbai, Jhansi, Nagpu...</td>\n",
       "      <td>1-3 Yrs</td>\n",
       "    </tr>\n",
       "    <tr>\n",
       "      <th>14</th>\n",
       "      <td>Data Scientist</td>\n",
       "      <td>Mahajan Imaging</td>\n",
       "      <td>New Delhi</td>\n",
       "      <td>2-6 Yrs</td>\n",
       "    </tr>\n",
       "    <tr>\n",
       "      <th>15</th>\n",
       "      <td>Data Scientist</td>\n",
       "      <td>Mahajan Imaging</td>\n",
       "      <td>Delhi</td>\n",
       "      <td>2-6 Yrs</td>\n",
       "    </tr>\n",
       "    <tr>\n",
       "      <th>16</th>\n",
       "      <td>Associate Data Scientist</td>\n",
       "      <td>Right Step Consulting</td>\n",
       "      <td>Noida</td>\n",
       "      <td>3-6 Yrs</td>\n",
       "    </tr>\n",
       "    <tr>\n",
       "      <th>17</th>\n",
       "      <td>Associate Data Scientist</td>\n",
       "      <td>Blow Trumpet Solutions</td>\n",
       "      <td>New Delhi</td>\n",
       "      <td>1-5 Yrs</td>\n",
       "    </tr>\n",
       "    <tr>\n",
       "      <th>18</th>\n",
       "      <td>Data Scientist - Python/ SQL</td>\n",
       "      <td>Schlesinger Group</td>\n",
       "      <td>Noida, Gurgaon/Gurugram, Delhi / NCR</td>\n",
       "      <td>3-6 Yrs</td>\n",
       "    </tr>\n",
       "    <tr>\n",
       "      <th>19</th>\n",
       "      <td>Data Scientist</td>\n",
       "      <td>itForte Staffing Services Private Ltd.</td>\n",
       "      <td>Gurgaon</td>\n",
       "      <td>3-8 Yrs</td>\n",
       "    </tr>\n",
       "  </tbody>\n",
       "</table>\n",
       "</div>"
      ],
      "text/plain": [
       "                                                title  \\\n",
       "0     Data Scientist / Data Analyst -Business Analyst   \n",
       "1   Data analytics / Data scientist intern (work f...   \n",
       "2                                      Data Scientist   \n",
       "3               Chaayos is Looking For Data Scientist   \n",
       "4                               Junior Data Scientist   \n",
       "5        We are hiring- Data Scientist +Python- Noida   \n",
       "6                                      Data Scientist   \n",
       "7                                      Data Scientist   \n",
       "8   Data Analyst/Scientist Big Data, Statistical T...   \n",
       "9                    Business Analyst- Data Scientist   \n",
       "10                              Senior Data Scientist   \n",
       "11                                     Data Scientist   \n",
       "12                                     Data Scientist   \n",
       "13                                     Data Scientist   \n",
       "14                                     Data Scientist   \n",
       "15                                     Data Scientist   \n",
       "16                           Associate Data Scientist   \n",
       "17                           Associate Data Scientist   \n",
       "18                       Data Scientist - Python/ SQL   \n",
       "19                                     Data Scientist   \n",
       "\n",
       "                                              company  \\\n",
       "0                  Inflexion Analytix Private Limited   \n",
       "1                                      TalkValley LLC   \n",
       "2                                   Fractal Analytics   \n",
       "3               Chaayos (Sunshine Teahouse Pvt. Ltd.)   \n",
       "4                        R Systems International Ltd.   \n",
       "5                              RANDSTAD INDIA PVT LTD   \n",
       "6                              Milliman India Pvt Ltd   \n",
       "7               NEC CORPORATION INDIA PRIVATE LIMITED   \n",
       "8   The Search House (A Div of JSD Search House Pv...   \n",
       "9                                               Wipro   \n",
       "10                                              iNICU   \n",
       "11                           Evalueserve.com Pvt. Ltd   \n",
       "12                                          BlackBuck   \n",
       "13                                     Country Veggie   \n",
       "14                                    Mahajan Imaging   \n",
       "15                                    Mahajan Imaging   \n",
       "16                              Right Step Consulting   \n",
       "17                             Blow Trumpet Solutions   \n",
       "18                                  Schlesinger Group   \n",
       "19             itForte Staffing Services Private Ltd.   \n",
       "\n",
       "                                             location experience_required  \n",
       "0   Mumbai, Hyderabad/Secunderabad, Pune, Gurgaon/...             0-3 Yrs  \n",
       "1           Kolkata, Bangalore/Bengaluru, Delhi / NCR             0-5 Yrs  \n",
       "2       Mumbai, Gurgaon/Gurugram, Bangalore/Bengaluru             3-7 Yrs  \n",
       "3                                           New Delhi             0-5 Yrs  \n",
       "4                              Noida(Sector-59 Noida)             3-5 Yrs  \n",
       "5                Noida, Gurgaon/Gurugram, Delhi / NCR             4-7 Yrs  \n",
       "6                       Gurgaon/Gurugram, Delhi / NCR             2-5 Yrs  \n",
       "7                                               Noida             3-8 Yrs  \n",
       "8                                    Gurgaon/Gurugram             2-7 Yrs  \n",
       "9                             Noida, Gurgaon/Gurugram             2-5 Yrs  \n",
       "10                                              Delhi             1-5 Yrs  \n",
       "11                                   Gurgaon/Gurugram             4-7 Yrs  \n",
       "12              Gurgaon/Gurugram, Bangalore/Bengaluru             3-7 Yrs  \n",
       "13  Bharuch, Jaipur, Bhopal, Mumbai, Jhansi, Nagpu...             1-3 Yrs  \n",
       "14                                          New Delhi             2-6 Yrs  \n",
       "15                                              Delhi             2-6 Yrs  \n",
       "16                                              Noida             3-6 Yrs  \n",
       "17                                          New Delhi             1-5 Yrs  \n",
       "18               Noida, Gurgaon/Gurugram, Delhi / NCR             3-6 Yrs  \n",
       "19                                            Gurgaon             3-8 Yrs  "
      ]
     },
     "execution_count": 21,
     "metadata": {},
     "output_type": "execute_result"
    }
   ],
   "source": [
    "# Make data frame\n",
    "import pandas as pd\n",
    "jobs=pd.DataFrame({})\n",
    "jobs['title']=job_titles\n",
    "jobs['company']=company_name\n",
    "jobs['location']=locations\n",
    "jobs['experience_required']=experience_years\n",
    "jobs"
   ]
  }
 ],
 "metadata": {
  "kernelspec": {
   "display_name": "Python 3",
   "language": "python",
   "name": "python3"
  },
  "language_info": {
   "codemirror_mode": {
    "name": "ipython",
    "version": 3
   },
   "file_extension": ".py",
   "mimetype": "text/x-python",
   "name": "python",
   "nbconvert_exporter": "python",
   "pygments_lexer": "ipython3",
   "version": "3.9.2"
  }
 },
 "nbformat": 4,
 "nbformat_minor": 5
}
