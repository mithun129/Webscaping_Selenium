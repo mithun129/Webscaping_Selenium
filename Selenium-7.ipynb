{
 "cells": [
  {
   "cell_type": "code",
   "execution_count": 19,
   "id": "synthetic-cincinnati",
   "metadata": {},
   "outputs": [],
   "source": [
    "#lets now import all the required libraries\n",
    "import requests\n",
    "from selenium import webdriver\n",
    "\n",
    "browser = webdriver.Chrome()\n",
    "\n",
    "browser.get(\"https://www.flipkart.com/\")\n",
    "from bs4 import BeautifulSoup"
   ]
  },
  {
   "cell_type": "code",
   "execution_count": 20,
   "id": "voluntary-wildlife",
   "metadata": {},
   "outputs": [],
   "source": [
    "search_btn = browser.find_element_by_class_name(\"_3704LK\")\n",
    "search_btn.send_keys(\"iphone11\")"
   ]
  },
  {
   "cell_type": "code",
   "execution_count": 21,
   "id": "heard-modern",
   "metadata": {},
   "outputs": [],
   "source": [
    "search_btn = browser.find_element_by_class_name (\"L0Z3Pu\")\n",
    "search_btn.click()"
   ]
  },
  {
   "cell_type": "code",
   "execution_count": 22,
   "id": "solved-nebraska",
   "metadata": {},
   "outputs": [],
   "source": [
    "url=\"https://www.flipkart.com/search?q=iphone11&otracker=search&otracker1=search&marketplace=FLIPKART&as-show=on&as=off\""
   ]
  },
  {
   "cell_type": "code",
   "execution_count": 23,
   "id": "disciplinary-bouquet",
   "metadata": {},
   "outputs": [],
   "source": [
    "#lets open the webpage through our webdriver\n",
    "browser.get(url)"
   ]
  },
  {
   "cell_type": "code",
   "execution_count": null,
   "id": "medieval-coverage",
   "metadata": {},
   "outputs": [],
   "source": [
    "rating=[]\n",
    "review_summary=[]\n",
    "full_review=[]"
   ]
  },
  {
   "cell_type": "code",
   "execution_count": null,
   "id": "demanding-thomas",
   "metadata": {},
   "outputs": [],
   "source": [
    "<span id=\"productRating_LSTMOBFWQ6BVWVEH3XESAHPTP_MOBFWQ6BVWVEH3XE_\" class=\"_1lRcqv\"><div class=\"_3LWZlK\">4.6<img src=\"data:image/svg+xml;base64,PHN2ZyB4bWxucz0iaHR0cDovL3d3dy53My5vcmcvMjAwMC9zdmciIHdpZHRoPSIxMyIgaGVpZ2h0PSIxMiI+PHBhdGggZmlsbD0iI0ZGRiIgZD0iTTYuNSA5LjQzOWwtMy42NzQgMi4yMy45NC00LjI2LTMuMjEtMi44ODMgNC4yNTQtLjQwNEw2LjUuMTEybDEuNjkgNC4wMSA0LjI1NC40MDQtMy4yMSAyLjg4Mi45NCA0LjI2eiIvPjwvc3ZnPg==\" class=\"_1wB99o\"></div></span>"
   ]
  },
  {
   "cell_type": "code",
   "execution_count": 26,
   "id": "manufactured-natural",
   "metadata": {},
   "outputs": [
    {
     "data": {
      "text/plain": [
       "[<selenium.webdriver.remote.webelement.WebElement (session=\"f69c0554cdc00036f8536f3fd883e0d8\", element=\"50e7651d-c814-4e35-9a07-0f1b6a740402\")>,\n",
       " <selenium.webdriver.remote.webelement.WebElement (session=\"f69c0554cdc00036f8536f3fd883e0d8\", element=\"1f859738-be89-4217-9b32-744b2ed514ba\")>,\n",
       " <selenium.webdriver.remote.webelement.WebElement (session=\"f69c0554cdc00036f8536f3fd883e0d8\", element=\"a1b1ce97-19fa-41c6-b015-2738780ec317\")>,\n",
       " <selenium.webdriver.remote.webelement.WebElement (session=\"f69c0554cdc00036f8536f3fd883e0d8\", element=\"eda1804e-28cd-4a19-992d-8c85d5c77ae2\")>,\n",
       " <selenium.webdriver.remote.webelement.WebElement (session=\"f69c0554cdc00036f8536f3fd883e0d8\", element=\"03f16409-1540-4cb3-a0e5-1d94c91563aa\")>,\n",
       " <selenium.webdriver.remote.webelement.WebElement (session=\"f69c0554cdc00036f8536f3fd883e0d8\", element=\"f06e26be-ed4a-4a26-bddb-a0c4d895ae1f\")>,\n",
       " <selenium.webdriver.remote.webelement.WebElement (session=\"f69c0554cdc00036f8536f3fd883e0d8\", element=\"8c955789-1d44-4eba-97ae-842be72e56c9\")>,\n",
       " <selenium.webdriver.remote.webelement.WebElement (session=\"f69c0554cdc00036f8536f3fd883e0d8\", element=\"f520e417-b9e3-4887-9cd6-6a22819cd5ab\")>,\n",
       " <selenium.webdriver.remote.webelement.WebElement (session=\"f69c0554cdc00036f8536f3fd883e0d8\", element=\"18b13585-4614-4e14-93a1-fc9fcaca4f61\")>,\n",
       " <selenium.webdriver.remote.webelement.WebElement (session=\"f69c0554cdc00036f8536f3fd883e0d8\", element=\"f9b5aac2-ccdf-46ee-9679-831afb38351e\")>,\n",
       " <selenium.webdriver.remote.webelement.WebElement (session=\"f69c0554cdc00036f8536f3fd883e0d8\", element=\"5a0f594a-3c7a-4ced-8883-4da7dac4b437\")>,\n",
       " <selenium.webdriver.remote.webelement.WebElement (session=\"f69c0554cdc00036f8536f3fd883e0d8\", element=\"f6d8fd79-3eb7-4c42-80de-9e3645f85240\")>,\n",
       " <selenium.webdriver.remote.webelement.WebElement (session=\"f69c0554cdc00036f8536f3fd883e0d8\", element=\"af4ae6e5-0981-42bf-a3b7-51357a7c8969\")>,\n",
       " <selenium.webdriver.remote.webelement.WebElement (session=\"f69c0554cdc00036f8536f3fd883e0d8\", element=\"889fad04-0d4b-448e-8704-61e494259dbb\")>,\n",
       " <selenium.webdriver.remote.webelement.WebElement (session=\"f69c0554cdc00036f8536f3fd883e0d8\", element=\"77620668-29b1-419c-be5e-02240b84bbe5\")>,\n",
       " <selenium.webdriver.remote.webelement.WebElement (session=\"f69c0554cdc00036f8536f3fd883e0d8\", element=\"ee44d132-640e-48f5-b803-cb12cb90e6ad\")>,\n",
       " <selenium.webdriver.remote.webelement.WebElement (session=\"f69c0554cdc00036f8536f3fd883e0d8\", element=\"f86f9678-a614-4af3-86e1-d9550744380b\")>,\n",
       " <selenium.webdriver.remote.webelement.WebElement (session=\"f69c0554cdc00036f8536f3fd883e0d8\", element=\"43deff6d-3f73-4464-9819-42b5b4ad5786\")>,\n",
       " <selenium.webdriver.remote.webelement.WebElement (session=\"f69c0554cdc00036f8536f3fd883e0d8\", element=\"ff108b7a-d653-405f-a859-e6d36497a6ab\")>,\n",
       " <selenium.webdriver.remote.webelement.WebElement (session=\"f69c0554cdc00036f8536f3fd883e0d8\", element=\"f7950af6-2a7d-4bba-a85d-b41d14a6b969\")>,\n",
       " <selenium.webdriver.remote.webelement.WebElement (session=\"f69c0554cdc00036f8536f3fd883e0d8\", element=\"c4e48b90-da11-45b7-92db-7c0d05315b1f\")>,\n",
       " <selenium.webdriver.remote.webelement.WebElement (session=\"f69c0554cdc00036f8536f3fd883e0d8\", element=\"562e2d1d-1179-4429-a549-563afc9acc20\")>,\n",
       " <selenium.webdriver.remote.webelement.WebElement (session=\"f69c0554cdc00036f8536f3fd883e0d8\", element=\"caf27ca0-444a-4a25-a647-e9a4806cebf1\")>,\n",
       " <selenium.webdriver.remote.webelement.WebElement (session=\"f69c0554cdc00036f8536f3fd883e0d8\", element=\"de69082f-4a69-4c59-9f6f-4350005833f0\")>,\n",
       " <selenium.webdriver.remote.webelement.WebElement (session=\"f69c0554cdc00036f8536f3fd883e0d8\", element=\"b12398b4-082b-4daf-931e-184c46024ad5\")>,\n",
       " <selenium.webdriver.remote.webelement.WebElement (session=\"f69c0554cdc00036f8536f3fd883e0d8\", element=\"f7c409c5-c592-4843-a08d-9252e2ddae6b\")>,\n",
       " <selenium.webdriver.remote.webelement.WebElement (session=\"f69c0554cdc00036f8536f3fd883e0d8\", element=\"11b2f44e-9895-4eba-b62c-8bf413ef1624\")>,\n",
       " <selenium.webdriver.remote.webelement.WebElement (session=\"f69c0554cdc00036f8536f3fd883e0d8\", element=\"76bd9ab5-d22c-4a9b-9455-53ff8430d44e\")>,\n",
       " <selenium.webdriver.remote.webelement.WebElement (session=\"f69c0554cdc00036f8536f3fd883e0d8\", element=\"1a1ecce5-7a80-4dec-b183-cf38a1a67fd9\")>,\n",
       " <selenium.webdriver.remote.webelement.WebElement (session=\"f69c0554cdc00036f8536f3fd883e0d8\", element=\"2ac15b3f-1d30-432b-8648-75273cccbebb\")>,\n",
       " <selenium.webdriver.remote.webelement.WebElement (session=\"f69c0554cdc00036f8536f3fd883e0d8\", element=\"1d453406-18f5-4fa7-ae01-6e760788a862\")>,\n",
       " <selenium.webdriver.remote.webelement.WebElement (session=\"f69c0554cdc00036f8536f3fd883e0d8\", element=\"31b26afe-b587-47eb-9ccd-d0a014ca2171\")>,\n",
       " <selenium.webdriver.remote.webelement.WebElement (session=\"f69c0554cdc00036f8536f3fd883e0d8\", element=\"67274c96-b52d-4bea-9c1e-bbdaac9cfc28\")>,\n",
       " <selenium.webdriver.remote.webelement.WebElement (session=\"f69c0554cdc00036f8536f3fd883e0d8\", element=\"f281b623-9088-4c12-ac5a-14fe1e7a8fe8\")>,\n",
       " <selenium.webdriver.remote.webelement.WebElement (session=\"f69c0554cdc00036f8536f3fd883e0d8\", element=\"f72e3a1c-96de-471e-ad43-2b4794b05959\")>,\n",
       " <selenium.webdriver.remote.webelement.WebElement (session=\"f69c0554cdc00036f8536f3fd883e0d8\", element=\"0bad366e-9abb-4763-91a9-ae766bc5a11a\")>,\n",
       " <selenium.webdriver.remote.webelement.WebElement (session=\"f69c0554cdc00036f8536f3fd883e0d8\", element=\"9afd2a57-34ab-45c9-af45-7607e6368c9c\")>,\n",
       " <selenium.webdriver.remote.webelement.WebElement (session=\"f69c0554cdc00036f8536f3fd883e0d8\", element=\"37cce82b-072a-4504-834e-39213ca572e8\")>,\n",
       " <selenium.webdriver.remote.webelement.WebElement (session=\"f69c0554cdc00036f8536f3fd883e0d8\", element=\"57dd9445-ba62-4b1c-873e-9bab7b9fc7a4\")>,\n",
       " <selenium.webdriver.remote.webelement.WebElement (session=\"f69c0554cdc00036f8536f3fd883e0d8\", element=\"25469b2c-1dc4-4aab-a2f6-a5bb15b41f26\")>,\n",
       " <selenium.webdriver.remote.webelement.WebElement (session=\"f69c0554cdc00036f8536f3fd883e0d8\", element=\"a7e2778e-a207-49a3-8fc4-71691ed90a87\")>,\n",
       " <selenium.webdriver.remote.webelement.WebElement (session=\"f69c0554cdc00036f8536f3fd883e0d8\", element=\"4abb5e20-3631-46c8-af97-a7d0ecde3c7f\")>]"
      ]
     },
     "execution_count": 26,
     "metadata": {},
     "output_type": "execute_result"
    }
   ],
   "source": [
    "rating_tags = browser.find_elements_by_xpath (\"//div[@class='_3LWZlK']\")\n",
    "rating_tags"
   ]
  },
  {
   "cell_type": "code",
   "execution_count": 27,
   "id": "protecting-miller",
   "metadata": {},
   "outputs": [],
   "source": [
    "for i in rating_tags:\n",
    "    ratings=i.text\n",
    "    rating.append(ratings)"
   ]
  },
  {
   "cell_type": "code",
   "execution_count": 28,
   "id": "responsible-target",
   "metadata": {},
   "outputs": [
    {
     "data": {
      "text/plain": [
       "['5',\n",
       " '5',\n",
       " '5',\n",
       " '',\n",
       " '',\n",
       " '',\n",
       " '',\n",
       " '',\n",
       " '',\n",
       " '',\n",
       " '4.6',\n",
       " '4.6',\n",
       " '4.6',\n",
       " '3.8',\n",
       " '4.6',\n",
       " '4.5',\n",
       " '4.6',\n",
       " '4.6',\n",
       " '4.5',\n",
       " '4.6',\n",
       " '4.7',\n",
       " '4.6',\n",
       " '4.6',\n",
       " '4.5',\n",
       " '4.6',\n",
       " '4.6',\n",
       " '4.5',\n",
       " '4.5',\n",
       " '4.6',\n",
       " '4.6',\n",
       " '4.5',\n",
       " '4.6',\n",
       " '3.5',\n",
       " '4.5',\n",
       " '4.5',\n",
       " '4.5',\n",
       " '4.5',\n",
       " '4.5',\n",
       " '4.5',\n",
       " '4.5',\n",
       " '4.6',\n",
       " '3.9',\n",
       " '4.5',\n",
       " '4.1',\n",
       " '4.6',\n",
       " '4.5',\n",
       " '4.6',\n",
       " '4.6',\n",
       " '3.8',\n",
       " '4.6',\n",
       " '4.1',\n",
       " '4.6']"
      ]
     },
     "execution_count": 28,
     "metadata": {},
     "output_type": "execute_result"
    }
   ],
   "source": [
    "rating"
   ]
  },
  {
   "cell_type": "code",
   "execution_count": 29,
   "id": "catholic-antibody",
   "metadata": {},
   "outputs": [],
   "source": [
    "url=\"https://www.flipkart.com/apple-iphone-11-white-64-gb/p/itmfc6a7091eb20b?pid=MOBFWQ6BVWVEH3XE&lid=LSTMOBFWQ6BVWVEH3XESAHPTP&marketplace=FLIPKART&q=iphone11&store=tyy&spotlightTagId=BestsellerId_tyy&srno=s_1_1&otracker=search&otracker1=search&fm=organic&iid=b8beb6d2-cb5f-4c9a-8876-5016799e4615.MOBFWQ6BVWVEH3XE.SEARCH&ppt=sp&ppn=sp&ssid=62b5uk151c0000001618038525171&qH=d6db477051465f9a\""
   ]
  },
  {
   "cell_type": "code",
   "execution_count": 30,
   "id": "matched-desire",
   "metadata": {},
   "outputs": [],
   "source": [
    "#lets open the webpage through our webdriver\n",
    "browser.get(url)"
   ]
  },
  {
   "cell_type": "code",
   "execution_count": 31,
   "id": "artificial-speaking",
   "metadata": {},
   "outputs": [
    {
     "data": {
      "text/plain": [
       "[<selenium.webdriver.remote.webelement.WebElement (session=\"f69c0554cdc00036f8536f3fd883e0d8\", element=\"432d7742-2243-40b6-9f36-01e7e3ddfacf\")>,\n",
       " <selenium.webdriver.remote.webelement.WebElement (session=\"f69c0554cdc00036f8536f3fd883e0d8\", element=\"6386b56c-3ea5-40a7-abb8-2d272ff584b0\")>,\n",
       " <selenium.webdriver.remote.webelement.WebElement (session=\"f69c0554cdc00036f8536f3fd883e0d8\", element=\"b5e5df0c-697c-4742-8136-485ebde1e829\")>,\n",
       " <selenium.webdriver.remote.webelement.WebElement (session=\"f69c0554cdc00036f8536f3fd883e0d8\", element=\"ef057716-0910-4f8e-93c0-ce6b717b3e63\")>,\n",
       " <selenium.webdriver.remote.webelement.WebElement (session=\"f69c0554cdc00036f8536f3fd883e0d8\", element=\"74ea24b1-9a08-4bab-ba64-bd57922133f7\")>,\n",
       " <selenium.webdriver.remote.webelement.WebElement (session=\"f69c0554cdc00036f8536f3fd883e0d8\", element=\"f7c979ec-0ec4-43d7-a642-194293467178\")>,\n",
       " <selenium.webdriver.remote.webelement.WebElement (session=\"f69c0554cdc00036f8536f3fd883e0d8\", element=\"a7cc3217-c239-44fb-9f70-6f93c2cde0a9\")>,\n",
       " <selenium.webdriver.remote.webelement.WebElement (session=\"f69c0554cdc00036f8536f3fd883e0d8\", element=\"db587639-16aa-46c6-a871-d39379e04fa4\")>]"
      ]
     },
     "execution_count": 31,
     "metadata": {},
     "output_type": "execute_result"
    }
   ],
   "source": [
    "review_tags = browser.find_elements_by_xpath (\"//p[@class='_2-N8zT']\")\n",
    "review_tags"
   ]
  },
  {
   "cell_type": "code",
   "execution_count": 32,
   "id": "composed-panic",
   "metadata": {},
   "outputs": [],
   "source": [
    "for i in review_tags:\n",
    "    review=i.text\n",
    "    review_summary.append(review)"
   ]
  },
  {
   "cell_type": "code",
   "execution_count": 33,
   "id": "intended-julian",
   "metadata": {},
   "outputs": [
    {
     "data": {
      "text/plain": [
       "['Brilliant',\n",
       " 'Perfect product!',\n",
       " 'Worth every penny',\n",
       " '',\n",
       " '',\n",
       " '',\n",
       " '',\n",
       " '',\n",
       " '',\n",
       " '',\n",
       " 'Brilliant',\n",
       " 'Perfect product!',\n",
       " 'Worth every penny',\n",
       " '',\n",
       " '',\n",
       " '',\n",
       " '',\n",
       " '']"
      ]
     },
     "execution_count": 33,
     "metadata": {},
     "output_type": "execute_result"
    }
   ],
   "source": [
    "review_summary"
   ]
  },
  {
   "cell_type": "code",
   "execution_count": 34,
   "id": "declared-check",
   "metadata": {},
   "outputs": [
    {
     "ename": "SyntaxError",
     "evalue": "invalid syntax (<ipython-input-34-4cc064756c7a>, line 1)",
     "output_type": "error",
     "traceback": [
      "\u001b[1;36m  File \u001b[1;32m\"<ipython-input-34-4cc064756c7a>\"\u001b[1;36m, line \u001b[1;32m1\u001b[0m\n\u001b[1;33m    <div class=\"\">Amazing phone with great cameras and better battery which gives you the best performance. I just love the camera .</div>fullreview_tags = browser.find_elements_by_xpath (\"//div[@class='']\")\u001b[0m\n\u001b[1;37m    ^\u001b[0m\n\u001b[1;31mSyntaxError\u001b[0m\u001b[1;31m:\u001b[0m invalid syntax\n"
     ]
    }
   ],
   "source": [
    "<div class=\"\">Amazing phone with great cameras and better battery which gives you the best performance. I just love the camera .</div>fullreview_tags = browser.find_elements_by_xpath (\"//div[@class='']\")\n",
    "fullreview_tags"
   ]
  },
  {
   "cell_type": "code",
   "execution_count": 35,
   "id": "downtown-irrigation",
   "metadata": {},
   "outputs": [
    {
     "data": {
      "text/plain": [
       "[<selenium.webdriver.remote.webelement.WebElement (session=\"f69c0554cdc00036f8536f3fd883e0d8\", element=\"c4cd5d31-50fa-4bbc-a956-93cabac504b0\")>,\n",
       " <selenium.webdriver.remote.webelement.WebElement (session=\"f69c0554cdc00036f8536f3fd883e0d8\", element=\"ddf97927-90cb-4cc1-819d-017f5a2eb33d\")>,\n",
       " <selenium.webdriver.remote.webelement.WebElement (session=\"f69c0554cdc00036f8536f3fd883e0d8\", element=\"e90a2272-308b-493f-bf65-1e5560ec795e\")>,\n",
       " <selenium.webdriver.remote.webelement.WebElement (session=\"f69c0554cdc00036f8536f3fd883e0d8\", element=\"87fc6cec-d199-4635-9b9b-a9d655af51de\")>,\n",
       " <selenium.webdriver.remote.webelement.WebElement (session=\"f69c0554cdc00036f8536f3fd883e0d8\", element=\"f940287b-2da2-430d-8fac-365a38b5b244\")>,\n",
       " <selenium.webdriver.remote.webelement.WebElement (session=\"f69c0554cdc00036f8536f3fd883e0d8\", element=\"42a5a1b0-29d7-4a9f-a741-5035fe20e14b\")>,\n",
       " <selenium.webdriver.remote.webelement.WebElement (session=\"f69c0554cdc00036f8536f3fd883e0d8\", element=\"26ad4115-2ecf-4f0e-9a1f-d7d0f821fbef\")>,\n",
       " <selenium.webdriver.remote.webelement.WebElement (session=\"f69c0554cdc00036f8536f3fd883e0d8\", element=\"7c1c6833-7db0-4bee-b8a7-6ff535b08e0e\")>,\n",
       " <selenium.webdriver.remote.webelement.WebElement (session=\"f69c0554cdc00036f8536f3fd883e0d8\", element=\"45c99bf8-2611-4dbc-a132-56398c0bd356\")>,\n",
       " <selenium.webdriver.remote.webelement.WebElement (session=\"f69c0554cdc00036f8536f3fd883e0d8\", element=\"6f2b9fa3-28f0-485b-8fe9-20c7a50b06a2\")>]"
      ]
     },
     "execution_count": 35,
     "metadata": {},
     "output_type": "execute_result"
    }
   ],
   "source": [
    "fullreview_tags = browser.find_elements_by_xpath (\"//div[@class='']\")\n",
    "fullreview_tags"
   ]
  },
  {
   "cell_type": "code",
   "execution_count": 36,
   "id": "northern-smile",
   "metadata": {},
   "outputs": [],
   "source": [
    "for i in fullreview_tags:\n",
    "    fullreviews=i.text\n",
    "    full_review.append(fullreviews)"
   ]
  },
  {
   "cell_type": "code",
   "execution_count": 37,
   "id": "aware-investigator",
   "metadata": {},
   "outputs": [
    {
     "data": {
      "text/plain": [
       "['4.644,833 Ratings & 3,433 Reviews',\n",
       " 'Description\\nNA\\nProduct Description\\nBeautiful Design\\nFeaturing a 15.49-cm (6.1) all-screen Liquid Retina LCD and a glass and aluminum design, the iPhone 11 is as beautiful as it gets. Also, the IP68 rating ensures that is water-resistant up to 2 meters for 30 minutes.\\nTake Your Photos Further. And Wider.\\nThe iPhone 11 features dual 12 MP Ultra Wide (13mm) and Wide (26mm) cameras with 4K video recording up to 60 fps. The Ultra Wide camera provides 120° field of view, letting you capture four times more scene, and the Wide camera provides 100% Focus Pixels for up to three times faster autofocus in low light.\\nView all features\\nSpecifications\\nGeneral\\nIn The Box\\nHandset, EarPods with Lightning Connector, Lightning to USB Cable, USB Power Adapter, Documentation\\nModel Number\\nMWLT2HN/A\\nModel Name\\niPhone 11\\nColor\\nBlack\\nBrowse Type\\nSmartphones\\nSIM Type\\nDual Sim\\nHybrid Sim Slot\\nNo\\nTouchscreen\\nYes\\nRead More\\nRatings & Reviews\\nRate Product\\n4.6★\\n44,833 Ratings &\\n3,433 Reviews\\n5★\\n4★\\n3★\\n2★\\n1★\\n35,280\\n6,036\\n1,341\\n531\\n1,645\\n4.7\\nCamera\\n4.5\\nBattery\\n4.3\\nDisplay\\n4.7\\nValue for Money\\n+ 1800\\n5\\nBrilliant\\nThe Best Phone for the Money\\n\\nThe iPhone 11 offers superb cameras, a more durable design and excellent battery life for an affordable price.\\n\\nCompelling ultra-wide camera\\nNew Night mode is excellent\\nLong battery life\\nAnkit\\nCertified Buyer, Gurgaon\\nSep, 2019\\n3280502\\n5\\nPerfect product!\\nAmazing phone with great cameras and better battery which gives you the best performance. I just love the camera .\\nFlipkart Customer\\nCertified Buyer, Hyderabad\\n10months ago\\n4591770\\n5\\nWorth every penny\\nPreviously I was using one plus 3t it was a great phone\\nAnd then I decided to upgrade I am stuck between Samsung s10 plus or iPhone 11\\nI have seen the specs and everything were good except the display it’s somewhere between 720-1080 and it’s not even an amoled it’s an LCD display\\nBut I decided to go with iPhone because I have never used an IOS device I have Been an android user from the past 9 years I ordered IPhone 11 (128gb) product red\\nMy experience after using 3 weeks\\n1. The delivery ...\\nREAD MORE\\nVamshi Chakrala\\nCertified Buyer, Huzurnagar\\nJan, 2020\\n1418233\\n\\n\\n\\n\\n\\n\\n\\n\\n\\n\\n\\n\\n\\n\\n\\n\\n\\n\\n\\n\\n+\\nAll 3433 reviews\\nQuestions and Answers\\nQ:which phone are best iphone XR or Iphone 11\\nA:Iphone 11\\nAnonymous\\nCertified Buyer\\n30354\\nRead other answers\\nQ:how many years we can play high games like pubg without lag?..my samsung A50 is lagging in 1year now\\nA:Mobile Life Time play\\nRony Sk\\nCertified Buyer\\n1138302\\nQ:Iphone 11 have a depth effect or not\\nA:yes\\nmahaveer gurjar\\nCertified Buyer\\n36187\\nAll questions\\n+\\nSafe and Secure Payments.Easy returns.100% Authentic products.',\n",
       " 'The Best Phone for the Money\\n\\nThe iPhone 11 offers superb cameras, a more durable design and excellent battery life for an affordable price.\\n\\nCompelling ultra-wide camera\\nNew Night mode is excellent\\nLong battery life',\n",
       " 'Amazing phone with great cameras and better battery which gives you the best performance. I just love the camera .',\n",
       " 'Previously I was using one plus 3t it was a great phone\\nAnd then I decided to upgrade I am stuck between Samsung s10 plus or iPhone 11\\nI have seen the specs and everything were good except the display it’s somewhere between 720-1080 and it’s not even an amoled it’s an LCD display\\nBut I decided to go with iPhone because I have never used an IOS device I have Been an android user from the past 9 years I ordered IPhone 11 (128gb) product red\\nMy experience after using 3 weeks\\n1. The delivery ...',\n",
       " '',\n",
       " '',\n",
       " '',\n",
       " '',\n",
       " '',\n",
       " '',\n",
       " '',\n",
       " 'Q:which phone are best iphone XR or Iphone 11\\nA:Iphone 11\\nAnonymous\\nCertified Buyer\\n30354\\nRead other answers\\nQ:how many years we can play high games like pubg without lag?..my samsung A50 is lagging in 1year now\\nA:Mobile Life Time play\\nRony Sk\\nCertified Buyer\\n1138302\\nQ:Iphone 11 have a depth effect or not\\nA:yes\\nmahaveer gurjar\\nCertified Buyer\\n36187',\n",
       " '4.644,839 Ratings & 3,433 Reviews',\n",
       " 'The Best Phone for the Money\\n\\nThe iPhone 11 offers superb cameras, a more durable design and excellent battery life for an affordable price.\\n\\nCompelling ultra-wide camera\\nNew Night mode is excellent\\nLong battery life',\n",
       " 'Amazing phone with great cameras and better battery which gives you the best performance. I just love the camera .',\n",
       " 'Previously I was using one plus 3t it was a great phone\\nAnd then I decided to upgrade I am stuck between Samsung s10 plus or iPhone 11\\nI have seen the specs and everything were good except the display it’s somewhere between 720-1080 and it’s not even an amoled it’s an LCD display\\nBut I decided to go with iPhone because I have never used an IOS device I have Been an android user from the past 9 years I ordered IPhone 11 (128gb) product red\\nMy experience after using 3 weeks\\n1. The delivery ...',\n",
       " '',\n",
       " '',\n",
       " '',\n",
       " '',\n",
       " '',\n",
       " 'Q:which phone are best iphone XR or Iphone 11\\nA:Iphone 11\\nAnonymous\\nCertified Buyer\\n30354\\nRead other answers\\nQ:how many years we can play high games like pubg without lag?..my samsung A50 is lagging in 1year now\\nA:Mobile Life Time play\\nRony Sk\\nCertified Buyer\\n1138302\\nQ:Iphone 11 have a depth effect or not\\nA:yes\\nmahaveer gurjar\\nCertified Buyer\\n36187']"
      ]
     },
     "execution_count": 37,
     "metadata": {},
     "output_type": "execute_result"
    }
   ],
   "source": [
    "full_review"
   ]
  },
  {
   "cell_type": "code",
   "execution_count": 38,
   "id": "expanded-lewis",
   "metadata": {},
   "outputs": [
    {
     "name": "stdout",
     "output_type": "stream",
     "text": [
      "52 18 23\n"
     ]
    }
   ],
   "source": [
    "print(len(rating), len(review_summary), len(full_review))"
   ]
  },
  {
   "cell_type": "code",
   "execution_count": 42,
   "id": "simplified-swedish",
   "metadata": {},
   "outputs": [],
   "source": [
    "url=\"https://www.flipkart.com/search?q=iphone11&otracker=search&otracker1=search&marketplace=FLIPKART&as-show=on&as=off&page=2\""
   ]
  },
  {
   "cell_type": "code",
   "execution_count": 43,
   "id": "canadian-conspiracy",
   "metadata": {},
   "outputs": [],
   "source": [
    "#lets open the webpage through our webdriver\n",
    "browser.get(url)"
   ]
  },
  {
   "cell_type": "code",
   "execution_count": 44,
   "id": "meaningful-camera",
   "metadata": {},
   "outputs": [
    {
     "data": {
      "text/plain": [
       "[<selenium.webdriver.remote.webelement.WebElement (session=\"f69c0554cdc00036f8536f3fd883e0d8\", element=\"844ee5d9-a3f8-4c53-96ce-178d44971c35\")>,\n",
       " <selenium.webdriver.remote.webelement.WebElement (session=\"f69c0554cdc00036f8536f3fd883e0d8\", element=\"160a4b51-aed8-4b29-97e4-cc62dddf535f\")>,\n",
       " <selenium.webdriver.remote.webelement.WebElement (session=\"f69c0554cdc00036f8536f3fd883e0d8\", element=\"14ac8654-e3be-4c7e-ba25-ee24e1548855\")>,\n",
       " <selenium.webdriver.remote.webelement.WebElement (session=\"f69c0554cdc00036f8536f3fd883e0d8\", element=\"e430568a-4545-4fe6-b16d-f236106d9594\")>,\n",
       " <selenium.webdriver.remote.webelement.WebElement (session=\"f69c0554cdc00036f8536f3fd883e0d8\", element=\"de25257c-ac99-44be-ba28-0b9ee2620ff1\")>,\n",
       " <selenium.webdriver.remote.webelement.WebElement (session=\"f69c0554cdc00036f8536f3fd883e0d8\", element=\"bedd702f-116a-4f94-bf07-952fd6e41d58\")>,\n",
       " <selenium.webdriver.remote.webelement.WebElement (session=\"f69c0554cdc00036f8536f3fd883e0d8\", element=\"eb15631b-53e3-42e8-ac94-e54fa0f39c2e\")>,\n",
       " <selenium.webdriver.remote.webelement.WebElement (session=\"f69c0554cdc00036f8536f3fd883e0d8\", element=\"0d6d9ee6-bb7a-4bb9-9ed9-6cde08c256f3\")>,\n",
       " <selenium.webdriver.remote.webelement.WebElement (session=\"f69c0554cdc00036f8536f3fd883e0d8\", element=\"6a1b6ca4-1cac-4169-a94b-d235d74dacd6\")>,\n",
       " <selenium.webdriver.remote.webelement.WebElement (session=\"f69c0554cdc00036f8536f3fd883e0d8\", element=\"1e5a5c2b-2789-4657-95f1-9f0a1dcfd01f\")>,\n",
       " <selenium.webdriver.remote.webelement.WebElement (session=\"f69c0554cdc00036f8536f3fd883e0d8\", element=\"7c4771bf-55d2-4968-81fd-ef2cc9a2717e\")>,\n",
       " <selenium.webdriver.remote.webelement.WebElement (session=\"f69c0554cdc00036f8536f3fd883e0d8\", element=\"9da1c364-3f21-4414-9273-3c98a07510d7\")>,\n",
       " <selenium.webdriver.remote.webelement.WebElement (session=\"f69c0554cdc00036f8536f3fd883e0d8\", element=\"57cd2149-4a3f-49e6-a323-3274bf75d389\")>,\n",
       " <selenium.webdriver.remote.webelement.WebElement (session=\"f69c0554cdc00036f8536f3fd883e0d8\", element=\"bb4b054a-3a78-452c-ad8f-677a74e97a3d\")>,\n",
       " <selenium.webdriver.remote.webelement.WebElement (session=\"f69c0554cdc00036f8536f3fd883e0d8\", element=\"bd544862-0f7a-4145-bac2-ae9bebb6e319\")>,\n",
       " <selenium.webdriver.remote.webelement.WebElement (session=\"f69c0554cdc00036f8536f3fd883e0d8\", element=\"af56b33e-1fb9-4490-9974-252ce01f7776\")>,\n",
       " <selenium.webdriver.remote.webelement.WebElement (session=\"f69c0554cdc00036f8536f3fd883e0d8\", element=\"c85458b4-013e-471e-b4f8-e551eeba3ba4\")>,\n",
       " <selenium.webdriver.remote.webelement.WebElement (session=\"f69c0554cdc00036f8536f3fd883e0d8\", element=\"69239ea7-b1c9-4481-8cc3-b05d549acd42\")>,\n",
       " <selenium.webdriver.remote.webelement.WebElement (session=\"f69c0554cdc00036f8536f3fd883e0d8\", element=\"42ad125e-ef15-4182-b4e0-6d95fcbfde84\")>,\n",
       " <selenium.webdriver.remote.webelement.WebElement (session=\"f69c0554cdc00036f8536f3fd883e0d8\", element=\"0caa70f7-c2ce-4e71-9ce0-247e4522e933\")>,\n",
       " <selenium.webdriver.remote.webelement.WebElement (session=\"f69c0554cdc00036f8536f3fd883e0d8\", element=\"885d2394-343e-4e94-8a48-04c7b3907746\")>,\n",
       " <selenium.webdriver.remote.webelement.WebElement (session=\"f69c0554cdc00036f8536f3fd883e0d8\", element=\"ddf34687-0262-4b08-93f9-5b16808d2f79\")>,\n",
       " <selenium.webdriver.remote.webelement.WebElement (session=\"f69c0554cdc00036f8536f3fd883e0d8\", element=\"0dbf85e2-ee18-4462-875c-e5b2aa1e417c\")>,\n",
       " <selenium.webdriver.remote.webelement.WebElement (session=\"f69c0554cdc00036f8536f3fd883e0d8\", element=\"63490557-670b-4e58-a506-cfa90fc1d9af\")>,\n",
       " <selenium.webdriver.remote.webelement.WebElement (session=\"f69c0554cdc00036f8536f3fd883e0d8\", element=\"4ee5adf6-4e1f-412d-a1a1-cfb5502a6edd\")>,\n",
       " <selenium.webdriver.remote.webelement.WebElement (session=\"f69c0554cdc00036f8536f3fd883e0d8\", element=\"e8d273a2-f542-4d7e-951b-15c50a004e1d\")>,\n",
       " <selenium.webdriver.remote.webelement.WebElement (session=\"f69c0554cdc00036f8536f3fd883e0d8\", element=\"42d60ebb-7dcd-4dbd-ad1c-631df5191a3a\")>,\n",
       " <selenium.webdriver.remote.webelement.WebElement (session=\"f69c0554cdc00036f8536f3fd883e0d8\", element=\"c753dea0-e8e9-4b58-8392-8706679b99ae\")>,\n",
       " <selenium.webdriver.remote.webelement.WebElement (session=\"f69c0554cdc00036f8536f3fd883e0d8\", element=\"47b32c98-f602-4327-afde-fe89b66c4ae2\")>,\n",
       " <selenium.webdriver.remote.webelement.WebElement (session=\"f69c0554cdc00036f8536f3fd883e0d8\", element=\"d00fff2d-09cd-42ae-8056-0bdefa4df34a\")>,\n",
       " <selenium.webdriver.remote.webelement.WebElement (session=\"f69c0554cdc00036f8536f3fd883e0d8\", element=\"6fbc601b-d99e-4b8b-81de-b54155d36525\")>,\n",
       " <selenium.webdriver.remote.webelement.WebElement (session=\"f69c0554cdc00036f8536f3fd883e0d8\", element=\"3c62eaac-8b99-4ef5-9fd2-1024e5a64a31\")>,\n",
       " <selenium.webdriver.remote.webelement.WebElement (session=\"f69c0554cdc00036f8536f3fd883e0d8\", element=\"991c08c0-3c8a-4b67-880d-24b02f3d2599\")>,\n",
       " <selenium.webdriver.remote.webelement.WebElement (session=\"f69c0554cdc00036f8536f3fd883e0d8\", element=\"869a9c8a-7af8-4a52-81d6-f7ae35f7f113\")>,\n",
       " <selenium.webdriver.remote.webelement.WebElement (session=\"f69c0554cdc00036f8536f3fd883e0d8\", element=\"1c43e159-c4e3-421b-958d-fef0c44de761\")>,\n",
       " <selenium.webdriver.remote.webelement.WebElement (session=\"f69c0554cdc00036f8536f3fd883e0d8\", element=\"f53fd335-420a-4f94-9f94-21eee82a5bcf\")>,\n",
       " <selenium.webdriver.remote.webelement.WebElement (session=\"f69c0554cdc00036f8536f3fd883e0d8\", element=\"b6a3f72b-244f-4a3a-b9dc-5657b712117e\")>,\n",
       " <selenium.webdriver.remote.webelement.WebElement (session=\"f69c0554cdc00036f8536f3fd883e0d8\", element=\"719d969d-ed84-49fa-9388-bc05e561e5a4\")>,\n",
       " <selenium.webdriver.remote.webelement.WebElement (session=\"f69c0554cdc00036f8536f3fd883e0d8\", element=\"11d7ec99-32d2-43e9-8bb5-32a34bc2dd98\")>,\n",
       " <selenium.webdriver.remote.webelement.WebElement (session=\"f69c0554cdc00036f8536f3fd883e0d8\", element=\"21f5caaf-7abb-49a9-b179-a1e67f82e568\")>,\n",
       " <selenium.webdriver.remote.webelement.WebElement (session=\"f69c0554cdc00036f8536f3fd883e0d8\", element=\"defbebcf-fb18-4905-a0ad-23d211999f9f\")>,\n",
       " <selenium.webdriver.remote.webelement.WebElement (session=\"f69c0554cdc00036f8536f3fd883e0d8\", element=\"2adb0296-9ae8-4a76-a77c-9e88c340e578\")>]"
      ]
     },
     "execution_count": 44,
     "metadata": {},
     "output_type": "execute_result"
    }
   ],
   "source": [
    "rating_tags = browser.find_elements_by_xpath (\"//div[@class='_3LWZlK']\")\n",
    "rating_tags"
   ]
  },
  {
   "cell_type": "code",
   "execution_count": 45,
   "id": "protecting-fountain",
   "metadata": {},
   "outputs": [],
   "source": [
    "for i in rating_tags:\n",
    "    ratings=i.text\n",
    "    rating.append(ratings)"
   ]
  },
  {
   "cell_type": "code",
   "execution_count": 46,
   "id": "overall-riverside",
   "metadata": {},
   "outputs": [
    {
     "data": {
      "text/plain": [
       "['5',\n",
       " '5',\n",
       " '5',\n",
       " '',\n",
       " '',\n",
       " '',\n",
       " '',\n",
       " '',\n",
       " '',\n",
       " '',\n",
       " '4.6',\n",
       " '4.6',\n",
       " '4.6',\n",
       " '3.8',\n",
       " '4.6',\n",
       " '4.5',\n",
       " '4.6',\n",
       " '4.6',\n",
       " '4.5',\n",
       " '4.6',\n",
       " '4.7',\n",
       " '4.6',\n",
       " '4.6',\n",
       " '4.5',\n",
       " '4.6',\n",
       " '4.6',\n",
       " '4.5',\n",
       " '4.5',\n",
       " '4.6',\n",
       " '4.6',\n",
       " '4.5',\n",
       " '4.6',\n",
       " '3.5',\n",
       " '4.5',\n",
       " '4.5',\n",
       " '4.5',\n",
       " '4.5',\n",
       " '4.5',\n",
       " '4.5',\n",
       " '4.5',\n",
       " '4.6',\n",
       " '3.9',\n",
       " '4.5',\n",
       " '4.1',\n",
       " '4.6',\n",
       " '4.5',\n",
       " '4.6',\n",
       " '4.6',\n",
       " '3.8',\n",
       " '4.6',\n",
       " '4.1',\n",
       " '4.6',\n",
       " '4.6',\n",
       " '4.6',\n",
       " '4.3',\n",
       " '4',\n",
       " '4.6',\n",
       " '4.6',\n",
       " '4.3',\n",
       " '4',\n",
       " '4.5',\n",
       " '4.5',\n",
       " '4.6',\n",
       " '3.8',\n",
       " '4.7',\n",
       " '4.5',\n",
       " '4.7',\n",
       " '4.5',\n",
       " '4.5',\n",
       " '4.5',\n",
       " '4.6',\n",
       " '3.9',\n",
       " '4.6',\n",
       " '4.6',\n",
       " '4.6',\n",
       " '4.6',\n",
       " '4.5',\n",
       " '4.6',\n",
       " '4.6',\n",
       " '4.6',\n",
       " '4.5',\n",
       " '4.5',\n",
       " '3.5',\n",
       " '4.6',\n",
       " '4.6',\n",
       " '4.5',\n",
       " '4.5',\n",
       " '3.9',\n",
       " '4.6',\n",
       " '4.5',\n",
       " '4.5',\n",
       " '4.6',\n",
       " '4.5',\n",
       " '4.1',\n",
       " '4.6',\n",
       " '4.6',\n",
       " '4.6',\n",
       " '3.8',\n",
       " '3.9',\n",
       " '4.6',\n",
       " '4.6',\n",
       " '4.5']"
      ]
     },
     "execution_count": 46,
     "metadata": {},
     "output_type": "execute_result"
    }
   ],
   "source": [
    "rating"
   ]
  },
  {
   "cell_type": "code",
   "execution_count": 47,
   "id": "naked-beverage",
   "metadata": {},
   "outputs": [],
   "source": [
    "url=\"https://www.flipkart.com/apple-iphone-8-silver-256-gb/p/itmexrgvae48gzhp?pid=MOBEXRGVMZWUHCBA&lid=LSTMOBEXRGVMZWUHCBAFXLQGZ&marketplace=FLIPKART&q=iphone11&store=tyy&srno=s_2_41&otracker=search&otracker1=search&fm=organic&iid=a2da1d60-275e-4de0-bc96-983d74421aa3.MOBEXRGVMZWUHCBA.SEARCH&ppt=None&ppn=None&ssid=6daog2hhhc0000001618039232175&qH=d6db477051465f9a\""
   ]
  },
  {
   "cell_type": "code",
   "execution_count": 48,
   "id": "prompt-simpson",
   "metadata": {},
   "outputs": [],
   "source": [
    "#lets open the webpage through our webdriver\n",
    "browser.get(url)"
   ]
  },
  {
   "cell_type": "code",
   "execution_count": 49,
   "id": "fifth-compact",
   "metadata": {},
   "outputs": [
    {
     "data": {
      "text/plain": [
       "[<selenium.webdriver.remote.webelement.WebElement (session=\"f69c0554cdc00036f8536f3fd883e0d8\", element=\"034deb78-02f8-4dc7-a9df-a946f18217d6\")>,\n",
       " <selenium.webdriver.remote.webelement.WebElement (session=\"f69c0554cdc00036f8536f3fd883e0d8\", element=\"5f5ec13b-13f6-4d83-82d2-25cb9167da19\")>,\n",
       " <selenium.webdriver.remote.webelement.WebElement (session=\"f69c0554cdc00036f8536f3fd883e0d8\", element=\"e850b858-5eb3-4920-ba77-a39fe572a699\")>,\n",
       " <selenium.webdriver.remote.webelement.WebElement (session=\"f69c0554cdc00036f8536f3fd883e0d8\", element=\"5d1ecb8f-3754-41e2-b42f-1894fab9855c\")>,\n",
       " <selenium.webdriver.remote.webelement.WebElement (session=\"f69c0554cdc00036f8536f3fd883e0d8\", element=\"dc911611-0a84-4a60-b8a0-e132db6dc731\")>,\n",
       " <selenium.webdriver.remote.webelement.WebElement (session=\"f69c0554cdc00036f8536f3fd883e0d8\", element=\"c8782a37-6c59-4cbd-9272-2a112075453e\")>,\n",
       " <selenium.webdriver.remote.webelement.WebElement (session=\"f69c0554cdc00036f8536f3fd883e0d8\", element=\"f3316d02-ca2e-4b51-bcc8-c1f30677223d\")>,\n",
       " <selenium.webdriver.remote.webelement.WebElement (session=\"f69c0554cdc00036f8536f3fd883e0d8\", element=\"a0080892-d6e3-4343-8786-19bdd4c8be57\")>]"
      ]
     },
     "execution_count": 49,
     "metadata": {},
     "output_type": "execute_result"
    }
   ],
   "source": [
    "review_tags = browser.find_elements_by_xpath (\"//p[@class='_2-N8zT']\")\n",
    "review_tags"
   ]
  },
  {
   "cell_type": "code",
   "execution_count": 50,
   "id": "homeless-country",
   "metadata": {},
   "outputs": [],
   "source": [
    "for i in review_tags:\n",
    "    review=i.text\n",
    "    review_summary.append(review)"
   ]
  },
  {
   "cell_type": "code",
   "execution_count": 51,
   "id": "sought-customs",
   "metadata": {},
   "outputs": [
    {
     "data": {
      "text/plain": [
       "['Brilliant',\n",
       " 'Perfect product!',\n",
       " 'Worth every penny',\n",
       " '',\n",
       " '',\n",
       " '',\n",
       " '',\n",
       " '',\n",
       " '',\n",
       " '',\n",
       " 'Brilliant',\n",
       " 'Perfect product!',\n",
       " 'Worth every penny',\n",
       " '',\n",
       " '',\n",
       " '',\n",
       " '',\n",
       " '',\n",
       " 'Brilliant',\n",
       " 'Brilliant',\n",
       " 'Mind-blowing purchase',\n",
       " '',\n",
       " '',\n",
       " '',\n",
       " '',\n",
       " '']"
      ]
     },
     "execution_count": 51,
     "metadata": {},
     "output_type": "execute_result"
    }
   ],
   "source": [
    "review_summary"
   ]
  },
  {
   "cell_type": "code",
   "execution_count": 52,
   "id": "elementary-malpractice",
   "metadata": {},
   "outputs": [
    {
     "data": {
      "text/plain": [
       "[<selenium.webdriver.remote.webelement.WebElement (session=\"f69c0554cdc00036f8536f3fd883e0d8\", element=\"f0e0c41e-cd20-4e96-87c4-d69c51ee48a4\")>,\n",
       " <selenium.webdriver.remote.webelement.WebElement (session=\"f69c0554cdc00036f8536f3fd883e0d8\", element=\"40d765d5-3dc6-438e-b0f8-f01ebc2405ce\")>,\n",
       " <selenium.webdriver.remote.webelement.WebElement (session=\"f69c0554cdc00036f8536f3fd883e0d8\", element=\"b2e6c980-78b3-4930-b5b1-80fdf87b2468\")>,\n",
       " <selenium.webdriver.remote.webelement.WebElement (session=\"f69c0554cdc00036f8536f3fd883e0d8\", element=\"27d79ecc-f498-4cc2-8990-a7b98769880c\")>,\n",
       " <selenium.webdriver.remote.webelement.WebElement (session=\"f69c0554cdc00036f8536f3fd883e0d8\", element=\"ff7af4ff-2133-46c2-8973-edd7eaf41fd0\")>,\n",
       " <selenium.webdriver.remote.webelement.WebElement (session=\"f69c0554cdc00036f8536f3fd883e0d8\", element=\"977efe86-680a-4238-acd2-ba2991c099c1\")>,\n",
       " <selenium.webdriver.remote.webelement.WebElement (session=\"f69c0554cdc00036f8536f3fd883e0d8\", element=\"49d51f28-89f0-4969-9485-29b0d2723ad0\")>,\n",
       " <selenium.webdriver.remote.webelement.WebElement (session=\"f69c0554cdc00036f8536f3fd883e0d8\", element=\"78906fbe-8949-4bd3-9ea5-8dbc9821797c\")>,\n",
       " <selenium.webdriver.remote.webelement.WebElement (session=\"f69c0554cdc00036f8536f3fd883e0d8\", element=\"ef9bd465-d81a-423b-b9a8-1b1dbdb12e9f\")>,\n",
       " <selenium.webdriver.remote.webelement.WebElement (session=\"f69c0554cdc00036f8536f3fd883e0d8\", element=\"0c3b1666-1640-4b2b-a6c5-cd830dfdc6be\")>,\n",
       " <selenium.webdriver.remote.webelement.WebElement (session=\"f69c0554cdc00036f8536f3fd883e0d8\", element=\"fd3f0f3f-fcff-4728-b12c-cab8d6835a28\")>]"
      ]
     },
     "execution_count": 52,
     "metadata": {},
     "output_type": "execute_result"
    }
   ],
   "source": [
    "fullreview_tags = browser.find_elements_by_xpath (\"//div[@class='']\")\n",
    "fullreview_tags"
   ]
  },
  {
   "cell_type": "code",
   "execution_count": 53,
   "id": "awful-bristol",
   "metadata": {},
   "outputs": [],
   "source": [
    "for i in fullreview_tags:\n",
    "    fullreviews=i.text\n",
    "    full_review.append(fullreviews)"
   ]
  },
  {
   "cell_type": "code",
   "execution_count": 54,
   "id": "generic-istanbul",
   "metadata": {},
   "outputs": [
    {
     "data": {
      "text/plain": [
       "['4.644,833 Ratings & 3,433 Reviews',\n",
       " 'Description\\nNA\\nProduct Description\\nBeautiful Design\\nFeaturing a 15.49-cm (6.1) all-screen Liquid Retina LCD and a glass and aluminum design, the iPhone 11 is as beautiful as it gets. Also, the IP68 rating ensures that is water-resistant up to 2 meters for 30 minutes.\\nTake Your Photos Further. And Wider.\\nThe iPhone 11 features dual 12 MP Ultra Wide (13mm) and Wide (26mm) cameras with 4K video recording up to 60 fps. The Ultra Wide camera provides 120° field of view, letting you capture four times more scene, and the Wide camera provides 100% Focus Pixels for up to three times faster autofocus in low light.\\nView all features\\nSpecifications\\nGeneral\\nIn The Box\\nHandset, EarPods with Lightning Connector, Lightning to USB Cable, USB Power Adapter, Documentation\\nModel Number\\nMWLT2HN/A\\nModel Name\\niPhone 11\\nColor\\nBlack\\nBrowse Type\\nSmartphones\\nSIM Type\\nDual Sim\\nHybrid Sim Slot\\nNo\\nTouchscreen\\nYes\\nRead More\\nRatings & Reviews\\nRate Product\\n4.6★\\n44,833 Ratings &\\n3,433 Reviews\\n5★\\n4★\\n3★\\n2★\\n1★\\n35,280\\n6,036\\n1,341\\n531\\n1,645\\n4.7\\nCamera\\n4.5\\nBattery\\n4.3\\nDisplay\\n4.7\\nValue for Money\\n+ 1800\\n5\\nBrilliant\\nThe Best Phone for the Money\\n\\nThe iPhone 11 offers superb cameras, a more durable design and excellent battery life for an affordable price.\\n\\nCompelling ultra-wide camera\\nNew Night mode is excellent\\nLong battery life\\nAnkit\\nCertified Buyer, Gurgaon\\nSep, 2019\\n3280502\\n5\\nPerfect product!\\nAmazing phone with great cameras and better battery which gives you the best performance. I just love the camera .\\nFlipkart Customer\\nCertified Buyer, Hyderabad\\n10months ago\\n4591770\\n5\\nWorth every penny\\nPreviously I was using one plus 3t it was a great phone\\nAnd then I decided to upgrade I am stuck between Samsung s10 plus or iPhone 11\\nI have seen the specs and everything were good except the display it’s somewhere between 720-1080 and it’s not even an amoled it’s an LCD display\\nBut I decided to go with iPhone because I have never used an IOS device I have Been an android user from the past 9 years I ordered IPhone 11 (128gb) product red\\nMy experience after using 3 weeks\\n1. The delivery ...\\nREAD MORE\\nVamshi Chakrala\\nCertified Buyer, Huzurnagar\\nJan, 2020\\n1418233\\n\\n\\n\\n\\n\\n\\n\\n\\n\\n\\n\\n\\n\\n\\n\\n\\n\\n\\n\\n\\n+\\nAll 3433 reviews\\nQuestions and Answers\\nQ:which phone are best iphone XR or Iphone 11\\nA:Iphone 11\\nAnonymous\\nCertified Buyer\\n30354\\nRead other answers\\nQ:how many years we can play high games like pubg without lag?..my samsung A50 is lagging in 1year now\\nA:Mobile Life Time play\\nRony Sk\\nCertified Buyer\\n1138302\\nQ:Iphone 11 have a depth effect or not\\nA:yes\\nmahaveer gurjar\\nCertified Buyer\\n36187\\nAll questions\\n+\\nSafe and Secure Payments.Easy returns.100% Authentic products.',\n",
       " 'The Best Phone for the Money\\n\\nThe iPhone 11 offers superb cameras, a more durable design and excellent battery life for an affordable price.\\n\\nCompelling ultra-wide camera\\nNew Night mode is excellent\\nLong battery life',\n",
       " 'Amazing phone with great cameras and better battery which gives you the best performance. I just love the camera .',\n",
       " 'Previously I was using one plus 3t it was a great phone\\nAnd then I decided to upgrade I am stuck between Samsung s10 plus or iPhone 11\\nI have seen the specs and everything were good except the display it’s somewhere between 720-1080 and it’s not even an amoled it’s an LCD display\\nBut I decided to go with iPhone because I have never used an IOS device I have Been an android user from the past 9 years I ordered IPhone 11 (128gb) product red\\nMy experience after using 3 weeks\\n1. The delivery ...',\n",
       " '',\n",
       " '',\n",
       " '',\n",
       " '',\n",
       " '',\n",
       " '',\n",
       " '',\n",
       " 'Q:which phone are best iphone XR or Iphone 11\\nA:Iphone 11\\nAnonymous\\nCertified Buyer\\n30354\\nRead other answers\\nQ:how many years we can play high games like pubg without lag?..my samsung A50 is lagging in 1year now\\nA:Mobile Life Time play\\nRony Sk\\nCertified Buyer\\n1138302\\nQ:Iphone 11 have a depth effect or not\\nA:yes\\nmahaveer gurjar\\nCertified Buyer\\n36187',\n",
       " '4.644,839 Ratings & 3,433 Reviews',\n",
       " 'The Best Phone for the Money\\n\\nThe iPhone 11 offers superb cameras, a more durable design and excellent battery life for an affordable price.\\n\\nCompelling ultra-wide camera\\nNew Night mode is excellent\\nLong battery life',\n",
       " 'Amazing phone with great cameras and better battery which gives you the best performance. I just love the camera .',\n",
       " 'Previously I was using one plus 3t it was a great phone\\nAnd then I decided to upgrade I am stuck between Samsung s10 plus or iPhone 11\\nI have seen the specs and everything were good except the display it’s somewhere between 720-1080 and it’s not even an amoled it’s an LCD display\\nBut I decided to go with iPhone because I have never used an IOS device I have Been an android user from the past 9 years I ordered IPhone 11 (128gb) product red\\nMy experience after using 3 weeks\\n1. The delivery ...',\n",
       " '',\n",
       " '',\n",
       " '',\n",
       " '',\n",
       " '',\n",
       " 'Q:which phone are best iphone XR or Iphone 11\\nA:Iphone 11\\nAnonymous\\nCertified Buyer\\n30354\\nRead other answers\\nQ:how many years we can play high games like pubg without lag?..my samsung A50 is lagging in 1year now\\nA:Mobile Life Time play\\nRony Sk\\nCertified Buyer\\n1138302\\nQ:Iphone 11 have a depth effect or not\\nA:yes\\nmahaveer gurjar\\nCertified Buyer\\n36187',\n",
       " '4.511,202 Ratings & 794 Reviews',\n",
       " \"Product Description\\nAn all-new glass design, an updated camera, and a powerful chip, there's so much to love about the iPhone 8. This iPhone brings you an augmented reality experience that's more immersive than before. What's more? You can charge your iPhone wirelessly!\\nFormed From Glass\\nBoasting a color-matched, aerospace-grade aluminium band, this phone is a stunner. The distinctive glass on its front and back is durable.\\nWater and Dust Resistant (IP67)\\nIts body is precision-engineered to be splash, water, and dust resistant.\\nView all features\\nSpecifications\\nGeneral\\nIn The Box\\niPhone with iOS 12, EarPods with Lightning Connector, Lightning to USB Cable, USB Power Adapter, Documentation\\nModel Number\\nMQ7G2HN/A\\nModel Name\\niPhone 8\\nColor\\nSilver\\nBrowse Type\\nSmartphones\\nSIM Type\\nSingle Sim\\nTouchscreen\\nYes\\nSound Enhancements\\nBuilt-in Stereo Speaker, Built-in Microphone\\nRead More\\nRatings & Reviews\\nRate Product\\n4.5★\\n11,202 Ratings &\\n794 Reviews\\n5★\\n4★\\n3★\\n2★\\n1★\\n8,332\\n1,730\\n421\\n152\\n567\\n4.6\\nCamera\\n4.1\\nBattery\\n4.8\\nValue for Money\\n4.5\\nPerformance\\n+ 168\\n5\\nBrilliant\\nI got this as my birthday gift the phone is just awesome pics the display and voice quality is just awesome nd looks are my favourite it is worth of money❤️🥰💕📱\\n+ 1\\nFlipkart Customer\\nCertified Buyer, Mohali\\nDec, 2019\\n25046\\n5\\nBrilliant\\niPhone 8 nice I love this mobile nice picture clarity\\nVenkey P\\nCertified Buyer, Payakaraopeta\\nOct, 2019\\n39887\\n5\\nMind-blowing purchase\\nworth the money. battery charge can lasts full day if used in low power mode and well it's an iPhone 😉. iOS 13 is awesome, camera is not that great but ok when compared with my OnePlus 7 pro and display is best compared to iPhone xr. best buy 👌\\nSathya Kiran\\nCertified Buyer, Secunderabad\\nOct, 2019\\n447117\\n\\n\\n\\n\\n\\n+\\nAll 794 reviews\\nQuestions and Answers\\nQ:which 1 to buy iphone 7 plus or iphone 8?\\nA:Iphone 8 as its faster and also has wireless charging\\nNitin Kumar\\nCertified Buyer\\n8814\\nQ:Which phone is best Google pixel 2 or iPhone 8\\nA:iPhone 8\\nAnonymous\\nCertified Buyer\\n8117\\nRead other answers\\nQ:does jio sim works on iphone 8???\\nA:Yes. It works.\\nKusum Raghava\\nCertified Buyer\\n10728\\nRead other answers\\nAll questions\\n+\\nSafe and Secure Payments.Easy returns.100% Authentic products.\",\n",
       " 'I got this as my birthday gift the phone is just awesome pics the display and voice quality is just awesome nd looks are my favourite it is worth of money❤️🥰💕📱',\n",
       " 'iPhone 8 nice I love this mobile nice picture clarity',\n",
       " \"worth the money. battery charge can lasts full day if used in low power mode and well it's an iPhone 😉. iOS 13 is awesome, camera is not that great but ok when compared with my OnePlus 7 pro and display is best compared to iPhone xr. best buy 👌\",\n",
       " '',\n",
       " '',\n",
       " '',\n",
       " '',\n",
       " '',\n",
       " 'Q:which 1 to buy iphone 7 plus or iphone 8?\\nA:Iphone 8 as its faster and also has wireless charging\\nNitin Kumar\\nCertified Buyer\\n8814\\nQ:Which phone is best Google pixel 2 or iPhone 8\\nA:iPhone 8\\nAnonymous\\nCertified Buyer\\n8117\\nRead other answers\\nQ:does jio sim works on iphone 8???\\nA:Yes. It works.\\nKusum Raghava\\nCertified Buyer\\n10728\\nRead other answers']"
      ]
     },
     "execution_count": 54,
     "metadata": {},
     "output_type": "execute_result"
    }
   ],
   "source": [
    "full_review"
   ]
  },
  {
   "cell_type": "code",
   "execution_count": 55,
   "id": "alpine-intro",
   "metadata": {},
   "outputs": [
    {
     "name": "stdout",
     "output_type": "stream",
     "text": [
      "102 26 34\n"
     ]
    }
   ],
   "source": [
    "print(len(rating), len(review_summary), len(full_review))"
   ]
  },
  {
   "cell_type": "code",
   "execution_count": 56,
   "id": "subsequent-insured",
   "metadata": {},
   "outputs": [],
   "source": [
    "url=\"https://www.flipkart.com/search?q=iphone11&otracker=search&otracker1=search&marketplace=FLIPKART&as-show=on&as=off&page=3\""
   ]
  },
  {
   "cell_type": "code",
   "execution_count": 57,
   "id": "narrative-parliament",
   "metadata": {},
   "outputs": [],
   "source": [
    "#lets open the webpage through our webdriver\n",
    "browser.get(url)"
   ]
  },
  {
   "cell_type": "code",
   "execution_count": 58,
   "id": "southwest-relationship",
   "metadata": {},
   "outputs": [
    {
     "data": {
      "text/plain": [
       "[<selenium.webdriver.remote.webelement.WebElement (session=\"f69c0554cdc00036f8536f3fd883e0d8\", element=\"84db8bd6-b042-4d4e-b997-3afab82cad6f\")>,\n",
       " <selenium.webdriver.remote.webelement.WebElement (session=\"f69c0554cdc00036f8536f3fd883e0d8\", element=\"ceebc478-5b7e-4aa6-975f-cb8374790165\")>,\n",
       " <selenium.webdriver.remote.webelement.WebElement (session=\"f69c0554cdc00036f8536f3fd883e0d8\", element=\"b3a05715-9abb-4fd2-bcbe-7e042c8197af\")>,\n",
       " <selenium.webdriver.remote.webelement.WebElement (session=\"f69c0554cdc00036f8536f3fd883e0d8\", element=\"740e23ec-5576-4a7a-a70b-2e2950c5cf66\")>,\n",
       " <selenium.webdriver.remote.webelement.WebElement (session=\"f69c0554cdc00036f8536f3fd883e0d8\", element=\"f4114682-1704-4d83-9a03-3fa8600472f7\")>,\n",
       " <selenium.webdriver.remote.webelement.WebElement (session=\"f69c0554cdc00036f8536f3fd883e0d8\", element=\"9dc88b6a-b94e-4684-85d8-82f10feb6547\")>,\n",
       " <selenium.webdriver.remote.webelement.WebElement (session=\"f69c0554cdc00036f8536f3fd883e0d8\", element=\"ef8c41f4-4217-4689-bd47-e487c149f391\")>,\n",
       " <selenium.webdriver.remote.webelement.WebElement (session=\"f69c0554cdc00036f8536f3fd883e0d8\", element=\"b09d0051-b66f-49b8-8068-ebaccc1b1744\")>,\n",
       " <selenium.webdriver.remote.webelement.WebElement (session=\"f69c0554cdc00036f8536f3fd883e0d8\", element=\"6fbb0e7a-acc2-4a9d-8a54-948941482e0b\")>,\n",
       " <selenium.webdriver.remote.webelement.WebElement (session=\"f69c0554cdc00036f8536f3fd883e0d8\", element=\"6d0737e1-eb24-4892-a5c6-dc4d69e2f9a4\")>,\n",
       " <selenium.webdriver.remote.webelement.WebElement (session=\"f69c0554cdc00036f8536f3fd883e0d8\", element=\"39881ad2-5a04-41b3-8e1b-17a7f61b5e6c\")>,\n",
       " <selenium.webdriver.remote.webelement.WebElement (session=\"f69c0554cdc00036f8536f3fd883e0d8\", element=\"b9e6e905-5c4d-4c56-8150-8971ff7fca19\")>,\n",
       " <selenium.webdriver.remote.webelement.WebElement (session=\"f69c0554cdc00036f8536f3fd883e0d8\", element=\"0d53da91-7ac7-4f6e-9a88-ce310a4b7500\")>,\n",
       " <selenium.webdriver.remote.webelement.WebElement (session=\"f69c0554cdc00036f8536f3fd883e0d8\", element=\"b011ff71-6d87-4f06-8963-bee0179ba333\")>,\n",
       " <selenium.webdriver.remote.webelement.WebElement (session=\"f69c0554cdc00036f8536f3fd883e0d8\", element=\"7f5937c4-1a4f-4ee2-8fbb-7340e51db75a\")>,\n",
       " <selenium.webdriver.remote.webelement.WebElement (session=\"f69c0554cdc00036f8536f3fd883e0d8\", element=\"b5da870a-7419-4198-a06f-cb359bf39c07\")>,\n",
       " <selenium.webdriver.remote.webelement.WebElement (session=\"f69c0554cdc00036f8536f3fd883e0d8\", element=\"a24f6672-3c01-4225-8519-0bf2b519ebfb\")>,\n",
       " <selenium.webdriver.remote.webelement.WebElement (session=\"f69c0554cdc00036f8536f3fd883e0d8\", element=\"2ab477eb-b808-4776-8d9e-f2a775991736\")>,\n",
       " <selenium.webdriver.remote.webelement.WebElement (session=\"f69c0554cdc00036f8536f3fd883e0d8\", element=\"0e7ebc69-ead3-40b3-b59f-6793830553a3\")>,\n",
       " <selenium.webdriver.remote.webelement.WebElement (session=\"f69c0554cdc00036f8536f3fd883e0d8\", element=\"43bd7d0e-43c5-4481-9094-0a34190af8b0\")>,\n",
       " <selenium.webdriver.remote.webelement.WebElement (session=\"f69c0554cdc00036f8536f3fd883e0d8\", element=\"98eb03b8-96f3-4666-b9be-965cb9936fcc\")>,\n",
       " <selenium.webdriver.remote.webelement.WebElement (session=\"f69c0554cdc00036f8536f3fd883e0d8\", element=\"aeb190b7-ebd7-4f6e-af5e-74d9fe24a093\")>,\n",
       " <selenium.webdriver.remote.webelement.WebElement (session=\"f69c0554cdc00036f8536f3fd883e0d8\", element=\"86ecb68b-34ae-4dde-b48c-72bbff96a517\")>,\n",
       " <selenium.webdriver.remote.webelement.WebElement (session=\"f69c0554cdc00036f8536f3fd883e0d8\", element=\"8184848c-ad2e-4a79-82e8-1341f73461a1\")>,\n",
       " <selenium.webdriver.remote.webelement.WebElement (session=\"f69c0554cdc00036f8536f3fd883e0d8\", element=\"74d04d30-83a2-459c-8b95-1cda8a3485a4\")>,\n",
       " <selenium.webdriver.remote.webelement.WebElement (session=\"f69c0554cdc00036f8536f3fd883e0d8\", element=\"78409928-b206-4c02-aeba-f16a148fe145\")>,\n",
       " <selenium.webdriver.remote.webelement.WebElement (session=\"f69c0554cdc00036f8536f3fd883e0d8\", element=\"250a08b9-e7d0-4598-a1a5-7445f3d0fc1b\")>,\n",
       " <selenium.webdriver.remote.webelement.WebElement (session=\"f69c0554cdc00036f8536f3fd883e0d8\", element=\"9fab4210-4bb7-4a83-94eb-d8388de9adfc\")>,\n",
       " <selenium.webdriver.remote.webelement.WebElement (session=\"f69c0554cdc00036f8536f3fd883e0d8\", element=\"f3049368-1121-4a9e-bc60-882d877464de\")>,\n",
       " <selenium.webdriver.remote.webelement.WebElement (session=\"f69c0554cdc00036f8536f3fd883e0d8\", element=\"ae672feb-e124-44ac-b5fc-92665a880f48\")>,\n",
       " <selenium.webdriver.remote.webelement.WebElement (session=\"f69c0554cdc00036f8536f3fd883e0d8\", element=\"47662100-f431-4b25-b678-cd212ccdbb29\")>,\n",
       " <selenium.webdriver.remote.webelement.WebElement (session=\"f69c0554cdc00036f8536f3fd883e0d8\", element=\"c9c074f8-c916-406c-9f2d-5f72e13af0fc\")>,\n",
       " <selenium.webdriver.remote.webelement.WebElement (session=\"f69c0554cdc00036f8536f3fd883e0d8\", element=\"85c7be48-81ae-4ff1-a911-c2780b1fcc35\")>,\n",
       " <selenium.webdriver.remote.webelement.WebElement (session=\"f69c0554cdc00036f8536f3fd883e0d8\", element=\"b14aea63-f80f-4d2e-a94c-cd655d263b7a\")>,\n",
       " <selenium.webdriver.remote.webelement.WebElement (session=\"f69c0554cdc00036f8536f3fd883e0d8\", element=\"6374edd6-158b-4d58-ad09-0625a0979e2c\")>,\n",
       " <selenium.webdriver.remote.webelement.WebElement (session=\"f69c0554cdc00036f8536f3fd883e0d8\", element=\"391ae012-864b-4db2-acf5-402a2364008b\")>]"
      ]
     },
     "execution_count": 58,
     "metadata": {},
     "output_type": "execute_result"
    }
   ],
   "source": [
    "rating_tags = browser.find_elements_by_xpath (\"//div[@class='_3LWZlK']\")\n",
    "rating_tags"
   ]
  },
  {
   "cell_type": "code",
   "execution_count": 59,
   "id": "interracial-lodging",
   "metadata": {},
   "outputs": [],
   "source": [
    "for i in rating_tags:\n",
    "    ratings=i.text\n",
    "    rating.append(ratings)"
   ]
  },
  {
   "cell_type": "code",
   "execution_count": 60,
   "id": "subjective-shakespeare",
   "metadata": {},
   "outputs": [
    {
     "data": {
      "text/plain": [
       "['5',\n",
       " '5',\n",
       " '5',\n",
       " '',\n",
       " '',\n",
       " '',\n",
       " '',\n",
       " '',\n",
       " '',\n",
       " '',\n",
       " '4.6',\n",
       " '4.6',\n",
       " '4.6',\n",
       " '3.8',\n",
       " '4.6',\n",
       " '4.5',\n",
       " '4.6',\n",
       " '4.6',\n",
       " '4.5',\n",
       " '4.6',\n",
       " '4.7',\n",
       " '4.6',\n",
       " '4.6',\n",
       " '4.5',\n",
       " '4.6',\n",
       " '4.6',\n",
       " '4.5',\n",
       " '4.5',\n",
       " '4.6',\n",
       " '4.6',\n",
       " '4.5',\n",
       " '4.6',\n",
       " '3.5',\n",
       " '4.5',\n",
       " '4.5',\n",
       " '4.5',\n",
       " '4.5',\n",
       " '4.5',\n",
       " '4.5',\n",
       " '4.5',\n",
       " '4.6',\n",
       " '3.9',\n",
       " '4.5',\n",
       " '4.1',\n",
       " '4.6',\n",
       " '4.5',\n",
       " '4.6',\n",
       " '4.6',\n",
       " '3.8',\n",
       " '4.6',\n",
       " '4.1',\n",
       " '4.6',\n",
       " '4.6',\n",
       " '4.6',\n",
       " '4.3',\n",
       " '4',\n",
       " '4.6',\n",
       " '4.6',\n",
       " '4.3',\n",
       " '4',\n",
       " '4.5',\n",
       " '4.5',\n",
       " '4.6',\n",
       " '3.8',\n",
       " '4.7',\n",
       " '4.5',\n",
       " '4.7',\n",
       " '4.5',\n",
       " '4.5',\n",
       " '4.5',\n",
       " '4.6',\n",
       " '3.9',\n",
       " '4.6',\n",
       " '4.6',\n",
       " '4.6',\n",
       " '4.6',\n",
       " '4.5',\n",
       " '4.6',\n",
       " '4.6',\n",
       " '4.6',\n",
       " '4.5',\n",
       " '4.5',\n",
       " '3.5',\n",
       " '4.6',\n",
       " '4.6',\n",
       " '4.5',\n",
       " '4.5',\n",
       " '3.9',\n",
       " '4.6',\n",
       " '4.5',\n",
       " '4.5',\n",
       " '4.6',\n",
       " '4.5',\n",
       " '4.1',\n",
       " '4.6',\n",
       " '4.6',\n",
       " '4.6',\n",
       " '3.8',\n",
       " '3.9',\n",
       " '4.6',\n",
       " '4.6',\n",
       " '4.5',\n",
       " '4.6',\n",
       " '4.6',\n",
       " '4.6',\n",
       " '4.5',\n",
       " '4.5',\n",
       " '4.2',\n",
       " '4.8',\n",
       " '4',\n",
       " '3.5',\n",
       " '3.5',\n",
       " '3.7',\n",
       " '4',\n",
       " '5',\n",
       " '3.2',\n",
       " '3.6',\n",
       " '3.9',\n",
       " '3.8',\n",
       " '3.3',\n",
       " '4.8',\n",
       " '3.4',\n",
       " '3.4',\n",
       " '3.6',\n",
       " '4.3',\n",
       " '3.2',\n",
       " '3.8',\n",
       " '3.8',\n",
       " '4.6',\n",
       " '3.4',\n",
       " '3.2',\n",
       " '4.1',\n",
       " '3.6',\n",
       " '5',\n",
       " '3.6',\n",
       " '3.8',\n",
       " '4.2',\n",
       " '3.2']"
      ]
     },
     "execution_count": 60,
     "metadata": {},
     "output_type": "execute_result"
    }
   ],
   "source": [
    "rating"
   ]
  },
  {
   "cell_type": "code",
   "execution_count": 61,
   "id": "vertical-mortality",
   "metadata": {},
   "outputs": [],
   "source": [
    "url=\"https://www.flipkart.com/apple-iphone-xr-coral-256-gb-includes-earpods-power-adapter/p/itmf9z7zpqsnhggt?pid=MOBF9Z7ZJZ2PKSQQ&lid=LSTMOBF9Z7ZJZ2PKSQQRBCCNV&marketplace=FLIPKART&q=iphone11&store=tyy&srno=s_3_81&otracker=search&otracker1=search&fm=organic&iid=9d12c503-4a13-4da3-854a-1a14322d0f97.MOBF9Z7ZJZ2PKSQQ.SEARCH&ppt=sp&ppn=sp&ssid=qigjspfev40000001618039526396&qH=d6db477051465f9a\""
   ]
  },
  {
   "cell_type": "code",
   "execution_count": 62,
   "id": "advance-minimum",
   "metadata": {},
   "outputs": [],
   "source": [
    "#lets open the webpage through our webdriver\n",
    "browser.get(url)"
   ]
  },
  {
   "cell_type": "code",
   "execution_count": 63,
   "id": "composite-first",
   "metadata": {},
   "outputs": [
    {
     "data": {
      "text/plain": [
       "[<selenium.webdriver.remote.webelement.WebElement (session=\"f69c0554cdc00036f8536f3fd883e0d8\", element=\"4a8cfbd0-1af3-4544-ac29-54ab7eed6bec\")>,\n",
       " <selenium.webdriver.remote.webelement.WebElement (session=\"f69c0554cdc00036f8536f3fd883e0d8\", element=\"58114c7b-479f-41d6-b14c-6467f8989dc3\")>,\n",
       " <selenium.webdriver.remote.webelement.WebElement (session=\"f69c0554cdc00036f8536f3fd883e0d8\", element=\"e9e2e199-7f4b-46ef-8ffd-700503578f60\")>,\n",
       " <selenium.webdriver.remote.webelement.WebElement (session=\"f69c0554cdc00036f8536f3fd883e0d8\", element=\"91c542d7-7f3a-49e4-aa11-d671adb689bd\")>,\n",
       " <selenium.webdriver.remote.webelement.WebElement (session=\"f69c0554cdc00036f8536f3fd883e0d8\", element=\"9e3b17a5-ef87-4b61-9cd5-4930a72573a5\")>,\n",
       " <selenium.webdriver.remote.webelement.WebElement (session=\"f69c0554cdc00036f8536f3fd883e0d8\", element=\"b08770b1-e82e-4cf8-a1f7-c4c972d2bcde\")>,\n",
       " <selenium.webdriver.remote.webelement.WebElement (session=\"f69c0554cdc00036f8536f3fd883e0d8\", element=\"cea2184c-7315-46f6-a2a7-9fd58448030b\")>,\n",
       " <selenium.webdriver.remote.webelement.WebElement (session=\"f69c0554cdc00036f8536f3fd883e0d8\", element=\"511e9714-9e20-485c-95f2-6143e5a43e5f\")>]"
      ]
     },
     "execution_count": 63,
     "metadata": {},
     "output_type": "execute_result"
    }
   ],
   "source": [
    "review_tags = browser.find_elements_by_xpath (\"//p[@class='_2-N8zT']\")\n",
    "review_tags"
   ]
  },
  {
   "cell_type": "code",
   "execution_count": 64,
   "id": "compressed-scroll",
   "metadata": {},
   "outputs": [],
   "source": [
    "for i in review_tags:\n",
    "    review=i.text\n",
    "    review_summary.append(review)"
   ]
  },
  {
   "cell_type": "code",
   "execution_count": 65,
   "id": "apart-array",
   "metadata": {},
   "outputs": [
    {
     "data": {
      "text/plain": [
       "['Brilliant',\n",
       " 'Perfect product!',\n",
       " 'Worth every penny',\n",
       " '',\n",
       " '',\n",
       " '',\n",
       " '',\n",
       " '',\n",
       " '',\n",
       " '',\n",
       " 'Brilliant',\n",
       " 'Perfect product!',\n",
       " 'Worth every penny',\n",
       " '',\n",
       " '',\n",
       " '',\n",
       " '',\n",
       " '',\n",
       " 'Brilliant',\n",
       " 'Brilliant',\n",
       " 'Mind-blowing purchase',\n",
       " '',\n",
       " '',\n",
       " '',\n",
       " '',\n",
       " '',\n",
       " 'Terrific',\n",
       " 'Super!',\n",
       " 'Pretty good',\n",
       " '',\n",
       " '',\n",
       " '',\n",
       " '',\n",
       " '']"
      ]
     },
     "execution_count": 65,
     "metadata": {},
     "output_type": "execute_result"
    }
   ],
   "source": [
    " review_summary"
   ]
  },
  {
   "cell_type": "code",
   "execution_count": 66,
   "id": "swedish-alberta",
   "metadata": {},
   "outputs": [
    {
     "data": {
      "text/plain": [
       "[<selenium.webdriver.remote.webelement.WebElement (session=\"f69c0554cdc00036f8536f3fd883e0d8\", element=\"b405dd44-346d-4968-ba1d-ae29ea1f5c1d\")>,\n",
       " <selenium.webdriver.remote.webelement.WebElement (session=\"f69c0554cdc00036f8536f3fd883e0d8\", element=\"8a16c63d-0a05-4d3f-b29c-9c48de898ae3\")>,\n",
       " <selenium.webdriver.remote.webelement.WebElement (session=\"f69c0554cdc00036f8536f3fd883e0d8\", element=\"d605d983-8486-40dc-9465-72aa34ac6b83\")>,\n",
       " <selenium.webdriver.remote.webelement.WebElement (session=\"f69c0554cdc00036f8536f3fd883e0d8\", element=\"0fda7e95-ef3f-47d1-968e-a5c65234025f\")>,\n",
       " <selenium.webdriver.remote.webelement.WebElement (session=\"f69c0554cdc00036f8536f3fd883e0d8\", element=\"4ebba354-56b3-411e-9496-8bb3951dc1bd\")>,\n",
       " <selenium.webdriver.remote.webelement.WebElement (session=\"f69c0554cdc00036f8536f3fd883e0d8\", element=\"ecee2c6c-f70c-413d-9eb6-5c81145b9196\")>,\n",
       " <selenium.webdriver.remote.webelement.WebElement (session=\"f69c0554cdc00036f8536f3fd883e0d8\", element=\"b6777227-3414-4f72-9c3c-33594f9ace58\")>,\n",
       " <selenium.webdriver.remote.webelement.WebElement (session=\"f69c0554cdc00036f8536f3fd883e0d8\", element=\"4f9f1231-7413-4933-8bab-779112417b34\")>,\n",
       " <selenium.webdriver.remote.webelement.WebElement (session=\"f69c0554cdc00036f8536f3fd883e0d8\", element=\"dc8d637f-11d1-4145-8094-440b4970824c\")>,\n",
       " <selenium.webdriver.remote.webelement.WebElement (session=\"f69c0554cdc00036f8536f3fd883e0d8\", element=\"95e0714b-b25a-47aa-82b9-844a28d8e940\")>,\n",
       " <selenium.webdriver.remote.webelement.WebElement (session=\"f69c0554cdc00036f8536f3fd883e0d8\", element=\"12c660b1-7186-4192-a3c3-90c6398b8f42\")>]"
      ]
     },
     "execution_count": 66,
     "metadata": {},
     "output_type": "execute_result"
    }
   ],
   "source": [
    "fullreview_tags = browser.find_elements_by_xpath (\"//div[@class='']\")\n",
    "fullreview_tags"
   ]
  },
  {
   "cell_type": "code",
   "execution_count": 67,
   "id": "heavy-african",
   "metadata": {},
   "outputs": [],
   "source": [
    "for i in fullreview_tags:\n",
    "    fullreviews=i.text\n",
    "    full_review.append(fullreviews)"
   ]
  },
  {
   "cell_type": "code",
   "execution_count": 68,
   "id": "offshore-arena",
   "metadata": {},
   "outputs": [
    {
     "data": {
      "text/plain": [
       "['4.644,833 Ratings & 3,433 Reviews',\n",
       " 'Description\\nNA\\nProduct Description\\nBeautiful Design\\nFeaturing a 15.49-cm (6.1) all-screen Liquid Retina LCD and a glass and aluminum design, the iPhone 11 is as beautiful as it gets. Also, the IP68 rating ensures that is water-resistant up to 2 meters for 30 minutes.\\nTake Your Photos Further. And Wider.\\nThe iPhone 11 features dual 12 MP Ultra Wide (13mm) and Wide (26mm) cameras with 4K video recording up to 60 fps. The Ultra Wide camera provides 120° field of view, letting you capture four times more scene, and the Wide camera provides 100% Focus Pixels for up to three times faster autofocus in low light.\\nView all features\\nSpecifications\\nGeneral\\nIn The Box\\nHandset, EarPods with Lightning Connector, Lightning to USB Cable, USB Power Adapter, Documentation\\nModel Number\\nMWLT2HN/A\\nModel Name\\niPhone 11\\nColor\\nBlack\\nBrowse Type\\nSmartphones\\nSIM Type\\nDual Sim\\nHybrid Sim Slot\\nNo\\nTouchscreen\\nYes\\nRead More\\nRatings & Reviews\\nRate Product\\n4.6★\\n44,833 Ratings &\\n3,433 Reviews\\n5★\\n4★\\n3★\\n2★\\n1★\\n35,280\\n6,036\\n1,341\\n531\\n1,645\\n4.7\\nCamera\\n4.5\\nBattery\\n4.3\\nDisplay\\n4.7\\nValue for Money\\n+ 1800\\n5\\nBrilliant\\nThe Best Phone for the Money\\n\\nThe iPhone 11 offers superb cameras, a more durable design and excellent battery life for an affordable price.\\n\\nCompelling ultra-wide camera\\nNew Night mode is excellent\\nLong battery life\\nAnkit\\nCertified Buyer, Gurgaon\\nSep, 2019\\n3280502\\n5\\nPerfect product!\\nAmazing phone with great cameras and better battery which gives you the best performance. I just love the camera .\\nFlipkart Customer\\nCertified Buyer, Hyderabad\\n10months ago\\n4591770\\n5\\nWorth every penny\\nPreviously I was using one plus 3t it was a great phone\\nAnd then I decided to upgrade I am stuck between Samsung s10 plus or iPhone 11\\nI have seen the specs and everything were good except the display it’s somewhere between 720-1080 and it’s not even an amoled it’s an LCD display\\nBut I decided to go with iPhone because I have never used an IOS device I have Been an android user from the past 9 years I ordered IPhone 11 (128gb) product red\\nMy experience after using 3 weeks\\n1. The delivery ...\\nREAD MORE\\nVamshi Chakrala\\nCertified Buyer, Huzurnagar\\nJan, 2020\\n1418233\\n\\n\\n\\n\\n\\n\\n\\n\\n\\n\\n\\n\\n\\n\\n\\n\\n\\n\\n\\n\\n+\\nAll 3433 reviews\\nQuestions and Answers\\nQ:which phone are best iphone XR or Iphone 11\\nA:Iphone 11\\nAnonymous\\nCertified Buyer\\n30354\\nRead other answers\\nQ:how many years we can play high games like pubg without lag?..my samsung A50 is lagging in 1year now\\nA:Mobile Life Time play\\nRony Sk\\nCertified Buyer\\n1138302\\nQ:Iphone 11 have a depth effect or not\\nA:yes\\nmahaveer gurjar\\nCertified Buyer\\n36187\\nAll questions\\n+\\nSafe and Secure Payments.Easy returns.100% Authentic products.',\n",
       " 'The Best Phone for the Money\\n\\nThe iPhone 11 offers superb cameras, a more durable design and excellent battery life for an affordable price.\\n\\nCompelling ultra-wide camera\\nNew Night mode is excellent\\nLong battery life',\n",
       " 'Amazing phone with great cameras and better battery which gives you the best performance. I just love the camera .',\n",
       " 'Previously I was using one plus 3t it was a great phone\\nAnd then I decided to upgrade I am stuck between Samsung s10 plus or iPhone 11\\nI have seen the specs and everything were good except the display it’s somewhere between 720-1080 and it’s not even an amoled it’s an LCD display\\nBut I decided to go with iPhone because I have never used an IOS device I have Been an android user from the past 9 years I ordered IPhone 11 (128gb) product red\\nMy experience after using 3 weeks\\n1. The delivery ...',\n",
       " '',\n",
       " '',\n",
       " '',\n",
       " '',\n",
       " '',\n",
       " '',\n",
       " '',\n",
       " 'Q:which phone are best iphone XR or Iphone 11\\nA:Iphone 11\\nAnonymous\\nCertified Buyer\\n30354\\nRead other answers\\nQ:how many years we can play high games like pubg without lag?..my samsung A50 is lagging in 1year now\\nA:Mobile Life Time play\\nRony Sk\\nCertified Buyer\\n1138302\\nQ:Iphone 11 have a depth effect or not\\nA:yes\\nmahaveer gurjar\\nCertified Buyer\\n36187',\n",
       " '4.644,839 Ratings & 3,433 Reviews',\n",
       " 'The Best Phone for the Money\\n\\nThe iPhone 11 offers superb cameras, a more durable design and excellent battery life for an affordable price.\\n\\nCompelling ultra-wide camera\\nNew Night mode is excellent\\nLong battery life',\n",
       " 'Amazing phone with great cameras and better battery which gives you the best performance. I just love the camera .',\n",
       " 'Previously I was using one plus 3t it was a great phone\\nAnd then I decided to upgrade I am stuck between Samsung s10 plus or iPhone 11\\nI have seen the specs and everything were good except the display it’s somewhere between 720-1080 and it’s not even an amoled it’s an LCD display\\nBut I decided to go with iPhone because I have never used an IOS device I have Been an android user from the past 9 years I ordered IPhone 11 (128gb) product red\\nMy experience after using 3 weeks\\n1. The delivery ...',\n",
       " '',\n",
       " '',\n",
       " '',\n",
       " '',\n",
       " '',\n",
       " 'Q:which phone are best iphone XR or Iphone 11\\nA:Iphone 11\\nAnonymous\\nCertified Buyer\\n30354\\nRead other answers\\nQ:how many years we can play high games like pubg without lag?..my samsung A50 is lagging in 1year now\\nA:Mobile Life Time play\\nRony Sk\\nCertified Buyer\\n1138302\\nQ:Iphone 11 have a depth effect or not\\nA:yes\\nmahaveer gurjar\\nCertified Buyer\\n36187',\n",
       " '4.511,202 Ratings & 794 Reviews',\n",
       " \"Product Description\\nAn all-new glass design, an updated camera, and a powerful chip, there's so much to love about the iPhone 8. This iPhone brings you an augmented reality experience that's more immersive than before. What's more? You can charge your iPhone wirelessly!\\nFormed From Glass\\nBoasting a color-matched, aerospace-grade aluminium band, this phone is a stunner. The distinctive glass on its front and back is durable.\\nWater and Dust Resistant (IP67)\\nIts body is precision-engineered to be splash, water, and dust resistant.\\nView all features\\nSpecifications\\nGeneral\\nIn The Box\\niPhone with iOS 12, EarPods with Lightning Connector, Lightning to USB Cable, USB Power Adapter, Documentation\\nModel Number\\nMQ7G2HN/A\\nModel Name\\niPhone 8\\nColor\\nSilver\\nBrowse Type\\nSmartphones\\nSIM Type\\nSingle Sim\\nTouchscreen\\nYes\\nSound Enhancements\\nBuilt-in Stereo Speaker, Built-in Microphone\\nRead More\\nRatings & Reviews\\nRate Product\\n4.5★\\n11,202 Ratings &\\n794 Reviews\\n5★\\n4★\\n3★\\n2★\\n1★\\n8,332\\n1,730\\n421\\n152\\n567\\n4.6\\nCamera\\n4.1\\nBattery\\n4.8\\nValue for Money\\n4.5\\nPerformance\\n+ 168\\n5\\nBrilliant\\nI got this as my birthday gift the phone is just awesome pics the display and voice quality is just awesome nd looks are my favourite it is worth of money❤️🥰💕📱\\n+ 1\\nFlipkart Customer\\nCertified Buyer, Mohali\\nDec, 2019\\n25046\\n5\\nBrilliant\\niPhone 8 nice I love this mobile nice picture clarity\\nVenkey P\\nCertified Buyer, Payakaraopeta\\nOct, 2019\\n39887\\n5\\nMind-blowing purchase\\nworth the money. battery charge can lasts full day if used in low power mode and well it's an iPhone 😉. iOS 13 is awesome, camera is not that great but ok when compared with my OnePlus 7 pro and display is best compared to iPhone xr. best buy 👌\\nSathya Kiran\\nCertified Buyer, Secunderabad\\nOct, 2019\\n447117\\n\\n\\n\\n\\n\\n+\\nAll 794 reviews\\nQuestions and Answers\\nQ:which 1 to buy iphone 7 plus or iphone 8?\\nA:Iphone 8 as its faster and also has wireless charging\\nNitin Kumar\\nCertified Buyer\\n8814\\nQ:Which phone is best Google pixel 2 or iPhone 8\\nA:iPhone 8\\nAnonymous\\nCertified Buyer\\n8117\\nRead other answers\\nQ:does jio sim works on iphone 8???\\nA:Yes. It works.\\nKusum Raghava\\nCertified Buyer\\n10728\\nRead other answers\\nAll questions\\n+\\nSafe and Secure Payments.Easy returns.100% Authentic products.\",\n",
       " 'I got this as my birthday gift the phone is just awesome pics the display and voice quality is just awesome nd looks are my favourite it is worth of money❤️🥰💕📱',\n",
       " 'iPhone 8 nice I love this mobile nice picture clarity',\n",
       " \"worth the money. battery charge can lasts full day if used in low power mode and well it's an iPhone 😉. iOS 13 is awesome, camera is not that great but ok when compared with my OnePlus 7 pro and display is best compared to iPhone xr. best buy 👌\",\n",
       " '',\n",
       " '',\n",
       " '',\n",
       " '',\n",
       " '',\n",
       " 'Q:which 1 to buy iphone 7 plus or iphone 8?\\nA:Iphone 8 as its faster and also has wireless charging\\nNitin Kumar\\nCertified Buyer\\n8814\\nQ:Which phone is best Google pixel 2 or iPhone 8\\nA:iPhone 8\\nAnonymous\\nCertified Buyer\\n8117\\nRead other answers\\nQ:does jio sim works on iphone 8???\\nA:Yes. It works.\\nKusum Raghava\\nCertified Buyer\\n10728\\nRead other answers',\n",
       " '4.679,835 Ratings & 6,821 Reviews',\n",
       " \"Description\\nNA\\nProduct Description\\nThe iPhone XR has arrived to stun our senses with a host of features such as the Liquid Retina Display, a faster Face ID, and the powerful A12 Bionic Chip. Whether it's that picture-perfect portrait shot or a jaw-dropping HDR picture, the cameras of this iPhone too will continue to stun you with their brilliance. Thus, when you have the iPhone XR in your hands, you can only see beauty, in every way.\\nLiquid Retina Display - Beauty Awaits Your Eyes\\nWhat does the display of the iPhone XR smartphone have in store for you? Its advanced 15.49 cm (6.1) Liquid Retina Display along with an innovative backlight, allows the screen to stretch to the corners, thereby exposing you to colorful visuals from one edge to another. It also packs the punch of enhanced color accuracy and a wide color gamut for delightful visuals.\\nExceptional Design - Feel It to Believe It\\nGet set to be stunned by this phone's design as it comprises one of the most durable front glass. A special Apple-designed alloy has been utilized to make the structural bands to complement the look of the back glass.\\nView all features\\nSpecifications\\nGeneral\\nIn The Box\\nHandset, EarPods with Lightning Connector, Lightning to USB Cable, USB Power Adapter, Documentation\\nModel Number\\nMRYP2HN/A\\nModel Name\\niPhone XR\\nColor\\nCoral\\nBrowse Type\\nSmartphones\\nSIM Type\\nDual Sim\\nHybrid Sim Slot\\nNo\\nTouchscreen\\nYes\\nRead More\\nRatings & Reviews\\nRate Product\\n4.6★\\n79,835 Ratings &\\n6,821 Reviews\\n5★\\n4★\\n3★\\n2★\\n1★\\n60,924\\n12,749\\n2,653\\n865\\n2,644\\n4.4\\nCamera\\n4.6\\nBattery\\n4.6\\nDisplay\\n4.8\\nValue for Money\\n+ 2698\\n5\\nTerrific\\nAwesome smart phone.... Loved it.\\nBig display, awesome battery backup, Monster sounds, great colour, Apple durability what more u want.\\n+ 1\\nFlipkart Customer\\nCertified Buyer, Pimpri Chinchwad\\n7months ago\\n2445378\\n5\\nSuper!\\nWriting this review after using iPhone XR for almost six months, a total value for money phone. Battery performance is pretty nice in comparison to other iPhones.\\nCamera is superb. Looking forward for iOS 14 update. I would recommend to buy XR instead of SE2 .\\nFlipkart Customer\\nCertified Buyer, Pune\\n9months ago\\n868155\\n4\\nPretty good\\nSo amazin....Blue colour is fresh+beautiful+awesome . And For me it's so ooooo pretty & fancy colour . Wow! Phone features , COD tho 👍, price value perfect , full screen wallpaper hd for mobile and about battery life i can't describe . Aaaaaa.......lovely. And im Sorry for my photography but in real blue colour is so amazin , i meant it 🖖.\\n+ 1\\nDeepa Cheri\\nCertified Buyer, Guwahati\\n5months ago\\n17426\\n\\n\\n\\n\\n\\n\\n\\n\\n\\n\\n\\n\\n\\n\\n\\n\\n\\n\\n+\\nAll 6821 reviews\\nQuestions and Answers\\nQ:What is the meaning of product that mentioned in the title ? Is it any differ from others\\nA:Red is a licensed brand for raising funds to fight HIV AIDS. A portion of each purchase of product red iPhone goes directly to help fight HIV and AIDS. You can search product red for more information.\\nAnonymous\\nCertified Buyer\\n801158\\nRead other answers\\nQ:which one is better iphone 7 plus or iphone xr\\nA:Xr\\nAnonymous\\nCertified Buyer\\n1618514\\nQ:How long can I take a picture under water ??\\nA:Its water resistant and not water proof and also it doesn’t have any warranty on damages from water\\nFlipkart Customer\\nCertified Buyer\\n412146\\nRead other answers\\nAll questions\\n+\\nSafe and Secure Payments.Easy returns.100% Authentic products.\",\n",
       " 'Awesome smart phone.... Loved it.\\nBig display, awesome battery backup, Monster sounds, great colour, Apple durability what more u want.',\n",
       " 'Writing this review after using iPhone XR for almost six months, a total value for money phone. Battery performance is pretty nice in comparison to other iPhones.\\nCamera is superb. Looking forward for iOS 14 update. I would recommend to buy XR instead of SE2 .',\n",
       " \"So amazin....Blue colour is fresh+beautiful+awesome . And For me it's so ooooo pretty & fancy colour . Wow! Phone features , COD tho 👍, price value perfect , full screen wallpaper hd for mobile and about battery life i can't describe . Aaaaaa.......lovely. And im Sorry for my photography but in real blue colour is so amazin , i meant it 🖖.\",\n",
       " '',\n",
       " '',\n",
       " '',\n",
       " '',\n",
       " '',\n",
       " 'Q:What is the meaning of product that mentioned in the title ? Is it any differ from others\\nA:Red is a licensed brand for raising funds to fight HIV AIDS. A portion of each purchase of product red iPhone goes directly to help fight HIV and AIDS. You can search product red for more information.\\nAnonymous\\nCertified Buyer\\n801158\\nRead other answers\\nQ:which one is better iphone 7 plus or iphone xr\\nA:Xr\\nAnonymous\\nCertified Buyer\\n1618514\\nQ:How long can I take a picture under water ??\\nA:Its water resistant and not water proof and also it doesn’t have any warranty on damages from water\\nFlipkart Customer\\nCertified Buyer\\n412146\\nRead other answers']"
      ]
     },
     "execution_count": 68,
     "metadata": {},
     "output_type": "execute_result"
    }
   ],
   "source": [
    "full_review"
   ]
  },
  {
   "cell_type": "code",
   "execution_count": 69,
   "id": "worldwide-montreal",
   "metadata": {},
   "outputs": [
    {
     "name": "stdout",
     "output_type": "stream",
     "text": [
      "138 34 45\n"
     ]
    }
   ],
   "source": [
    "print(len(rating), len(review_summary), len(full_review))"
   ]
  },
  {
   "cell_type": "code",
   "execution_count": 70,
   "id": "hearing-foster",
   "metadata": {},
   "outputs": [],
   "source": [
    "url=\"https://www.flipkart.com/search?q=iphone11&otracker=search&otracker1=search&marketplace=FLIPKART&as-show=on&as=off&page=4\""
   ]
  },
  {
   "cell_type": "code",
   "execution_count": 71,
   "id": "cardiovascular-nickel",
   "metadata": {},
   "outputs": [],
   "source": [
    "#lets open the webpage through our webdriver\n",
    "browser.get(url)"
   ]
  },
  {
   "cell_type": "code",
   "execution_count": 72,
   "id": "technical-forwarding",
   "metadata": {},
   "outputs": [
    {
     "data": {
      "text/plain": [
       "[<selenium.webdriver.remote.webelement.WebElement (session=\"f69c0554cdc00036f8536f3fd883e0d8\", element=\"901d2fb8-9e34-4b9c-a22b-72d740b8e6c3\")>,\n",
       " <selenium.webdriver.remote.webelement.WebElement (session=\"f69c0554cdc00036f8536f3fd883e0d8\", element=\"6bef17d5-5485-467b-b490-96c928258ff1\")>,\n",
       " <selenium.webdriver.remote.webelement.WebElement (session=\"f69c0554cdc00036f8536f3fd883e0d8\", element=\"f441f41f-b3ee-4b42-81d5-6b533d46b40e\")>,\n",
       " <selenium.webdriver.remote.webelement.WebElement (session=\"f69c0554cdc00036f8536f3fd883e0d8\", element=\"a5053f24-1594-490c-a170-3a8e8862ce8d\")>,\n",
       " <selenium.webdriver.remote.webelement.WebElement (session=\"f69c0554cdc00036f8536f3fd883e0d8\", element=\"92010b6f-db08-42f2-b995-6b5d023e6859\")>,\n",
       " <selenium.webdriver.remote.webelement.WebElement (session=\"f69c0554cdc00036f8536f3fd883e0d8\", element=\"2d98f4cb-47f0-48e3-b4b8-65f8a4ef7362\")>,\n",
       " <selenium.webdriver.remote.webelement.WebElement (session=\"f69c0554cdc00036f8536f3fd883e0d8\", element=\"b3022969-6aae-453d-b7e8-7f184a56742e\")>,\n",
       " <selenium.webdriver.remote.webelement.WebElement (session=\"f69c0554cdc00036f8536f3fd883e0d8\", element=\"2f962cc0-9daf-4478-b336-29a97c8c606f\")>,\n",
       " <selenium.webdriver.remote.webelement.WebElement (session=\"f69c0554cdc00036f8536f3fd883e0d8\", element=\"99cc7951-9a65-4de3-80b2-3ea1ab040a91\")>,\n",
       " <selenium.webdriver.remote.webelement.WebElement (session=\"f69c0554cdc00036f8536f3fd883e0d8\", element=\"17672e0c-498f-4b28-a46d-4243063055ec\")>,\n",
       " <selenium.webdriver.remote.webelement.WebElement (session=\"f69c0554cdc00036f8536f3fd883e0d8\", element=\"64092ff6-8ec0-446e-b68c-b7d68c32b6dd\")>,\n",
       " <selenium.webdriver.remote.webelement.WebElement (session=\"f69c0554cdc00036f8536f3fd883e0d8\", element=\"9abbce4a-31a2-43b3-9d0d-e7cf0354e26b\")>,\n",
       " <selenium.webdriver.remote.webelement.WebElement (session=\"f69c0554cdc00036f8536f3fd883e0d8\", element=\"bc33c8b3-7455-497e-ba0c-b55d6ff69215\")>,\n",
       " <selenium.webdriver.remote.webelement.WebElement (session=\"f69c0554cdc00036f8536f3fd883e0d8\", element=\"c46de7ed-d708-4814-89ba-eafbd5f56315\")>,\n",
       " <selenium.webdriver.remote.webelement.WebElement (session=\"f69c0554cdc00036f8536f3fd883e0d8\", element=\"9816e9e2-fb87-49e4-a245-f0b09874f7b0\")>,\n",
       " <selenium.webdriver.remote.webelement.WebElement (session=\"f69c0554cdc00036f8536f3fd883e0d8\", element=\"7d9380d6-54c5-4818-b324-d4499d942956\")>,\n",
       " <selenium.webdriver.remote.webelement.WebElement (session=\"f69c0554cdc00036f8536f3fd883e0d8\", element=\"7255dbd4-740d-495b-9774-0a57e81db02a\")>,\n",
       " <selenium.webdriver.remote.webelement.WebElement (session=\"f69c0554cdc00036f8536f3fd883e0d8\", element=\"fd58cdf1-b627-43e5-8b58-967a4a864707\")>,\n",
       " <selenium.webdriver.remote.webelement.WebElement (session=\"f69c0554cdc00036f8536f3fd883e0d8\", element=\"c8ccd2d1-f247-41dd-9adf-66de61b0d515\")>,\n",
       " <selenium.webdriver.remote.webelement.WebElement (session=\"f69c0554cdc00036f8536f3fd883e0d8\", element=\"9c9e5658-4de4-4266-a738-6ba6a29ee32c\")>,\n",
       " <selenium.webdriver.remote.webelement.WebElement (session=\"f69c0554cdc00036f8536f3fd883e0d8\", element=\"2828e344-e5d6-4d19-88b5-74586a4f0c8f\")>,\n",
       " <selenium.webdriver.remote.webelement.WebElement (session=\"f69c0554cdc00036f8536f3fd883e0d8\", element=\"be94ed39-482d-4d52-8a22-89f35fa21aac\")>,\n",
       " <selenium.webdriver.remote.webelement.WebElement (session=\"f69c0554cdc00036f8536f3fd883e0d8\", element=\"742d0f8d-50ad-4eca-8196-162882d19714\")>,\n",
       " <selenium.webdriver.remote.webelement.WebElement (session=\"f69c0554cdc00036f8536f3fd883e0d8\", element=\"994cfcbc-6e9e-44ae-9aca-20c49389cc62\")>,\n",
       " <selenium.webdriver.remote.webelement.WebElement (session=\"f69c0554cdc00036f8536f3fd883e0d8\", element=\"6d4f3af2-ec67-4c14-812d-e2ccfa9c918a\")>,\n",
       " <selenium.webdriver.remote.webelement.WebElement (session=\"f69c0554cdc00036f8536f3fd883e0d8\", element=\"b7eb03ca-6984-440c-a871-c5909f505d7e\")>,\n",
       " <selenium.webdriver.remote.webelement.WebElement (session=\"f69c0554cdc00036f8536f3fd883e0d8\", element=\"8bd79b7d-95d6-4013-b03e-e6456f978e9a\")>,\n",
       " <selenium.webdriver.remote.webelement.WebElement (session=\"f69c0554cdc00036f8536f3fd883e0d8\", element=\"e9f0fe4d-8f09-4532-aee6-4e75f8570a6f\")>]"
      ]
     },
     "execution_count": 72,
     "metadata": {},
     "output_type": "execute_result"
    }
   ],
   "source": [
    "rating_tags = browser.find_elements_by_xpath (\"//div[@class='_3LWZlK']\")\n",
    "rating_tags"
   ]
  },
  {
   "cell_type": "code",
   "execution_count": 73,
   "id": "crazy-briefs",
   "metadata": {},
   "outputs": [],
   "source": [
    "for i in rating_tags:\n",
    "    ratings=i.text\n",
    "    rating.append(ratings)"
   ]
  },
  {
   "cell_type": "code",
   "execution_count": 74,
   "id": "moral-retailer",
   "metadata": {},
   "outputs": [
    {
     "data": {
      "text/plain": [
       "['5',\n",
       " '5',\n",
       " '5',\n",
       " '',\n",
       " '',\n",
       " '',\n",
       " '',\n",
       " '',\n",
       " '',\n",
       " '',\n",
       " '4.6',\n",
       " '4.6',\n",
       " '4.6',\n",
       " '3.8',\n",
       " '4.6',\n",
       " '4.5',\n",
       " '4.6',\n",
       " '4.6',\n",
       " '4.5',\n",
       " '4.6',\n",
       " '4.7',\n",
       " '4.6',\n",
       " '4.6',\n",
       " '4.5',\n",
       " '4.6',\n",
       " '4.6',\n",
       " '4.5',\n",
       " '4.5',\n",
       " '4.6',\n",
       " '4.6',\n",
       " '4.5',\n",
       " '4.6',\n",
       " '3.5',\n",
       " '4.5',\n",
       " '4.5',\n",
       " '4.5',\n",
       " '4.5',\n",
       " '4.5',\n",
       " '4.5',\n",
       " '4.5',\n",
       " '4.6',\n",
       " '3.9',\n",
       " '4.5',\n",
       " '4.1',\n",
       " '4.6',\n",
       " '4.5',\n",
       " '4.6',\n",
       " '4.6',\n",
       " '3.8',\n",
       " '4.6',\n",
       " '4.1',\n",
       " '4.6',\n",
       " '4.6',\n",
       " '4.6',\n",
       " '4.3',\n",
       " '4',\n",
       " '4.6',\n",
       " '4.6',\n",
       " '4.3',\n",
       " '4',\n",
       " '4.5',\n",
       " '4.5',\n",
       " '4.6',\n",
       " '3.8',\n",
       " '4.7',\n",
       " '4.5',\n",
       " '4.7',\n",
       " '4.5',\n",
       " '4.5',\n",
       " '4.5',\n",
       " '4.6',\n",
       " '3.9',\n",
       " '4.6',\n",
       " '4.6',\n",
       " '4.6',\n",
       " '4.6',\n",
       " '4.5',\n",
       " '4.6',\n",
       " '4.6',\n",
       " '4.6',\n",
       " '4.5',\n",
       " '4.5',\n",
       " '3.5',\n",
       " '4.6',\n",
       " '4.6',\n",
       " '4.5',\n",
       " '4.5',\n",
       " '3.9',\n",
       " '4.6',\n",
       " '4.5',\n",
       " '4.5',\n",
       " '4.6',\n",
       " '4.5',\n",
       " '4.1',\n",
       " '4.6',\n",
       " '4.6',\n",
       " '4.6',\n",
       " '3.8',\n",
       " '3.9',\n",
       " '4.6',\n",
       " '4.6',\n",
       " '4.5',\n",
       " '4.6',\n",
       " '4.6',\n",
       " '4.6',\n",
       " '4.5',\n",
       " '4.5',\n",
       " '4.2',\n",
       " '4.8',\n",
       " '4',\n",
       " '3.5',\n",
       " '3.5',\n",
       " '3.7',\n",
       " '4',\n",
       " '5',\n",
       " '3.2',\n",
       " '3.6',\n",
       " '3.9',\n",
       " '3.8',\n",
       " '3.3',\n",
       " '4.8',\n",
       " '3.4',\n",
       " '3.4',\n",
       " '3.6',\n",
       " '4.3',\n",
       " '3.2',\n",
       " '3.8',\n",
       " '3.8',\n",
       " '4.6',\n",
       " '3.4',\n",
       " '3.2',\n",
       " '4.1',\n",
       " '3.6',\n",
       " '5',\n",
       " '3.6',\n",
       " '3.8',\n",
       " '4.2',\n",
       " '3.2',\n",
       " '3.7',\n",
       " '3.2',\n",
       " '3.8',\n",
       " '3.4',\n",
       " '3.4',\n",
       " '3.1',\n",
       " '4.6',\n",
       " '3.7',\n",
       " '4.8',\n",
       " '4.5',\n",
       " '3.3',\n",
       " '3.7',\n",
       " '3.5',\n",
       " '3.9',\n",
       " '4',\n",
       " '4.5',\n",
       " '3.8',\n",
       " '3.8',\n",
       " '3.6',\n",
       " '3.9',\n",
       " '3.5',\n",
       " '3.6',\n",
       " '4',\n",
       " '3.8',\n",
       " '3.7',\n",
       " '3.9',\n",
       " '3.8',\n",
       " '4.6']"
      ]
     },
     "execution_count": 74,
     "metadata": {},
     "output_type": "execute_result"
    }
   ],
   "source": [
    "rating"
   ]
  },
  {
   "cell_type": "code",
   "execution_count": 75,
   "id": "duplicate-louisiana",
   "metadata": {},
   "outputs": [],
   "source": [
    "url=\"https://www.flipkart.com/electmart-edge-tempered-glass-apple-iphone-6s-6/p/itm7275d10813ffe?pid=ACCFUHYBEFEUXZKA&lid=LSTACCFUHYBEFEUXZKAXGBKOU&marketplace=FLIPKART&q=iphone11&store=tyy&srno=s_4_121&otracker=search&otracker1=search&fm=organic&iid=a26f0f15-c87b-4fdb-9e56-d257755deec1.ACCFUHYBEFEUXZKA.SEARCH&ppt=sp&ppn=sp&ssid=5ikrfcazvk0000001618039843022&qH=d6db477051465f9a\""
   ]
  },
  {
   "cell_type": "code",
   "execution_count": 76,
   "id": "right-exercise",
   "metadata": {},
   "outputs": [],
   "source": [
    "#lets open the webpage through our webdriver\n",
    "browser.get(url)"
   ]
  },
  {
   "cell_type": "code",
   "execution_count": 77,
   "id": "stuffed-inventory",
   "metadata": {},
   "outputs": [
    {
     "data": {
      "text/plain": [
       "[<selenium.webdriver.remote.webelement.WebElement (session=\"f69c0554cdc00036f8536f3fd883e0d8\", element=\"03490c66-3561-4938-a7a1-e91e0bb48597\")>,\n",
       " <selenium.webdriver.remote.webelement.WebElement (session=\"f69c0554cdc00036f8536f3fd883e0d8\", element=\"c8199824-e3f5-438c-b8c1-257baf26a3a7\")>,\n",
       " <selenium.webdriver.remote.webelement.WebElement (session=\"f69c0554cdc00036f8536f3fd883e0d8\", element=\"3dc77e59-1ee7-4f52-a966-b00bd7297d29\")>,\n",
       " <selenium.webdriver.remote.webelement.WebElement (session=\"f69c0554cdc00036f8536f3fd883e0d8\", element=\"408ba976-26e7-4dc4-a851-d89bd23f554a\")>,\n",
       " <selenium.webdriver.remote.webelement.WebElement (session=\"f69c0554cdc00036f8536f3fd883e0d8\", element=\"04002dc4-11e6-45d9-a11a-4bef0eb061d1\")>,\n",
       " <selenium.webdriver.remote.webelement.WebElement (session=\"f69c0554cdc00036f8536f3fd883e0d8\", element=\"85e665f1-8904-4709-9fa5-39af118814ea\")>,\n",
       " <selenium.webdriver.remote.webelement.WebElement (session=\"f69c0554cdc00036f8536f3fd883e0d8\", element=\"01107f5c-89b4-4454-84f3-46b5ac861af9\")>,\n",
       " <selenium.webdriver.remote.webelement.WebElement (session=\"f69c0554cdc00036f8536f3fd883e0d8\", element=\"feeae808-cf88-4428-9f1a-6ece5a5bf783\")>]"
      ]
     },
     "execution_count": 77,
     "metadata": {},
     "output_type": "execute_result"
    }
   ],
   "source": [
    "review_tags = browser.find_elements_by_xpath (\"//p[@class='_2-N8zT']\")\n",
    "review_tags"
   ]
  },
  {
   "cell_type": "code",
   "execution_count": 78,
   "id": "personal-forestry",
   "metadata": {},
   "outputs": [],
   "source": [
    "for i in review_tags:\n",
    "    review=i.text\n",
    "    review_summary.append(review)"
   ]
  },
  {
   "cell_type": "code",
   "execution_count": 79,
   "id": "confident-identification",
   "metadata": {},
   "outputs": [
    {
     "data": {
      "text/plain": [
       "['Brilliant',\n",
       " 'Perfect product!',\n",
       " 'Worth every penny',\n",
       " '',\n",
       " '',\n",
       " '',\n",
       " '',\n",
       " '',\n",
       " '',\n",
       " '',\n",
       " 'Brilliant',\n",
       " 'Perfect product!',\n",
       " 'Worth every penny',\n",
       " '',\n",
       " '',\n",
       " '',\n",
       " '',\n",
       " '',\n",
       " 'Brilliant',\n",
       " 'Brilliant',\n",
       " 'Mind-blowing purchase',\n",
       " '',\n",
       " '',\n",
       " '',\n",
       " '',\n",
       " '',\n",
       " 'Terrific',\n",
       " 'Super!',\n",
       " 'Pretty good',\n",
       " '',\n",
       " '',\n",
       " '',\n",
       " '',\n",
       " '',\n",
       " 'Decent product',\n",
       " 'Wonderful',\n",
       " 'Terrific purchase',\n",
       " '',\n",
       " '',\n",
       " '',\n",
       " '',\n",
       " '']"
      ]
     },
     "execution_count": 79,
     "metadata": {},
     "output_type": "execute_result"
    }
   ],
   "source": [
    "review_summary"
   ]
  },
  {
   "cell_type": "code",
   "execution_count": 80,
   "id": "centered-strand",
   "metadata": {},
   "outputs": [
    {
     "data": {
      "text/plain": [
       "[<selenium.webdriver.remote.webelement.WebElement (session=\"f69c0554cdc00036f8536f3fd883e0d8\", element=\"991c9f0b-efd2-4f77-af04-3ecfcf867dce\")>,\n",
       " <selenium.webdriver.remote.webelement.WebElement (session=\"f69c0554cdc00036f8536f3fd883e0d8\", element=\"f07b3749-eb1f-4538-83a4-a080287f8de3\")>,\n",
       " <selenium.webdriver.remote.webelement.WebElement (session=\"f69c0554cdc00036f8536f3fd883e0d8\", element=\"8208b34e-83c0-47bd-b964-c1f9c25e2c1e\")>,\n",
       " <selenium.webdriver.remote.webelement.WebElement (session=\"f69c0554cdc00036f8536f3fd883e0d8\", element=\"e79b1b5f-989c-43c2-a70a-ac8a40547231\")>,\n",
       " <selenium.webdriver.remote.webelement.WebElement (session=\"f69c0554cdc00036f8536f3fd883e0d8\", element=\"72362404-952c-4615-9a96-2a0f22634eae\")>,\n",
       " <selenium.webdriver.remote.webelement.WebElement (session=\"f69c0554cdc00036f8536f3fd883e0d8\", element=\"27d07dca-3afc-459f-b157-93aba8dcf56e\")>,\n",
       " <selenium.webdriver.remote.webelement.WebElement (session=\"f69c0554cdc00036f8536f3fd883e0d8\", element=\"f441170b-3af9-486c-91ba-03d89f334c51\")>,\n",
       " <selenium.webdriver.remote.webelement.WebElement (session=\"f69c0554cdc00036f8536f3fd883e0d8\", element=\"80ea6798-7179-454f-92a9-2df20549a396\")>,\n",
       " <selenium.webdriver.remote.webelement.WebElement (session=\"f69c0554cdc00036f8536f3fd883e0d8\", element=\"34ddcb0c-40d8-4e78-991b-839b88ec65d1\")>]"
      ]
     },
     "execution_count": 80,
     "metadata": {},
     "output_type": "execute_result"
    }
   ],
   "source": [
    "fullreview_tags = browser.find_elements_by_xpath (\"//div[@class='']\")\n",
    "fullreview_tags"
   ]
  },
  {
   "cell_type": "code",
   "execution_count": 81,
   "id": "broadband-slovakia",
   "metadata": {},
   "outputs": [],
   "source": [
    "for i in fullreview_tags:\n",
    "    fullreviews=i.text\n",
    "    full_review.append(fullreviews)"
   ]
  },
  {
   "cell_type": "code",
   "execution_count": 82,
   "id": "improved-small",
   "metadata": {},
   "outputs": [
    {
     "data": {
      "text/plain": [
       "['4.644,833 Ratings & 3,433 Reviews',\n",
       " 'Description\\nNA\\nProduct Description\\nBeautiful Design\\nFeaturing a 15.49-cm (6.1) all-screen Liquid Retina LCD and a glass and aluminum design, the iPhone 11 is as beautiful as it gets. Also, the IP68 rating ensures that is water-resistant up to 2 meters for 30 minutes.\\nTake Your Photos Further. And Wider.\\nThe iPhone 11 features dual 12 MP Ultra Wide (13mm) and Wide (26mm) cameras with 4K video recording up to 60 fps. The Ultra Wide camera provides 120° field of view, letting you capture four times more scene, and the Wide camera provides 100% Focus Pixels for up to three times faster autofocus in low light.\\nView all features\\nSpecifications\\nGeneral\\nIn The Box\\nHandset, EarPods with Lightning Connector, Lightning to USB Cable, USB Power Adapter, Documentation\\nModel Number\\nMWLT2HN/A\\nModel Name\\niPhone 11\\nColor\\nBlack\\nBrowse Type\\nSmartphones\\nSIM Type\\nDual Sim\\nHybrid Sim Slot\\nNo\\nTouchscreen\\nYes\\nRead More\\nRatings & Reviews\\nRate Product\\n4.6★\\n44,833 Ratings &\\n3,433 Reviews\\n5★\\n4★\\n3★\\n2★\\n1★\\n35,280\\n6,036\\n1,341\\n531\\n1,645\\n4.7\\nCamera\\n4.5\\nBattery\\n4.3\\nDisplay\\n4.7\\nValue for Money\\n+ 1800\\n5\\nBrilliant\\nThe Best Phone for the Money\\n\\nThe iPhone 11 offers superb cameras, a more durable design and excellent battery life for an affordable price.\\n\\nCompelling ultra-wide camera\\nNew Night mode is excellent\\nLong battery life\\nAnkit\\nCertified Buyer, Gurgaon\\nSep, 2019\\n3280502\\n5\\nPerfect product!\\nAmazing phone with great cameras and better battery which gives you the best performance. I just love the camera .\\nFlipkart Customer\\nCertified Buyer, Hyderabad\\n10months ago\\n4591770\\n5\\nWorth every penny\\nPreviously I was using one plus 3t it was a great phone\\nAnd then I decided to upgrade I am stuck between Samsung s10 plus or iPhone 11\\nI have seen the specs and everything were good except the display it’s somewhere between 720-1080 and it’s not even an amoled it’s an LCD display\\nBut I decided to go with iPhone because I have never used an IOS device I have Been an android user from the past 9 years I ordered IPhone 11 (128gb) product red\\nMy experience after using 3 weeks\\n1. The delivery ...\\nREAD MORE\\nVamshi Chakrala\\nCertified Buyer, Huzurnagar\\nJan, 2020\\n1418233\\n\\n\\n\\n\\n\\n\\n\\n\\n\\n\\n\\n\\n\\n\\n\\n\\n\\n\\n\\n\\n+\\nAll 3433 reviews\\nQuestions and Answers\\nQ:which phone are best iphone XR or Iphone 11\\nA:Iphone 11\\nAnonymous\\nCertified Buyer\\n30354\\nRead other answers\\nQ:how many years we can play high games like pubg without lag?..my samsung A50 is lagging in 1year now\\nA:Mobile Life Time play\\nRony Sk\\nCertified Buyer\\n1138302\\nQ:Iphone 11 have a depth effect or not\\nA:yes\\nmahaveer gurjar\\nCertified Buyer\\n36187\\nAll questions\\n+\\nSafe and Secure Payments.Easy returns.100% Authentic products.',\n",
       " 'The Best Phone for the Money\\n\\nThe iPhone 11 offers superb cameras, a more durable design and excellent battery life for an affordable price.\\n\\nCompelling ultra-wide camera\\nNew Night mode is excellent\\nLong battery life',\n",
       " 'Amazing phone with great cameras and better battery which gives you the best performance. I just love the camera .',\n",
       " 'Previously I was using one plus 3t it was a great phone\\nAnd then I decided to upgrade I am stuck between Samsung s10 plus or iPhone 11\\nI have seen the specs and everything were good except the display it’s somewhere between 720-1080 and it’s not even an amoled it’s an LCD display\\nBut I decided to go with iPhone because I have never used an IOS device I have Been an android user from the past 9 years I ordered IPhone 11 (128gb) product red\\nMy experience after using 3 weeks\\n1. The delivery ...',\n",
       " '',\n",
       " '',\n",
       " '',\n",
       " '',\n",
       " '',\n",
       " '',\n",
       " '',\n",
       " 'Q:which phone are best iphone XR or Iphone 11\\nA:Iphone 11\\nAnonymous\\nCertified Buyer\\n30354\\nRead other answers\\nQ:how many years we can play high games like pubg without lag?..my samsung A50 is lagging in 1year now\\nA:Mobile Life Time play\\nRony Sk\\nCertified Buyer\\n1138302\\nQ:Iphone 11 have a depth effect or not\\nA:yes\\nmahaveer gurjar\\nCertified Buyer\\n36187',\n",
       " '4.644,839 Ratings & 3,433 Reviews',\n",
       " 'The Best Phone for the Money\\n\\nThe iPhone 11 offers superb cameras, a more durable design and excellent battery life for an affordable price.\\n\\nCompelling ultra-wide camera\\nNew Night mode is excellent\\nLong battery life',\n",
       " 'Amazing phone with great cameras and better battery which gives you the best performance. I just love the camera .',\n",
       " 'Previously I was using one plus 3t it was a great phone\\nAnd then I decided to upgrade I am stuck between Samsung s10 plus or iPhone 11\\nI have seen the specs and everything were good except the display it’s somewhere between 720-1080 and it’s not even an amoled it’s an LCD display\\nBut I decided to go with iPhone because I have never used an IOS device I have Been an android user from the past 9 years I ordered IPhone 11 (128gb) product red\\nMy experience after using 3 weeks\\n1. The delivery ...',\n",
       " '',\n",
       " '',\n",
       " '',\n",
       " '',\n",
       " '',\n",
       " 'Q:which phone are best iphone XR or Iphone 11\\nA:Iphone 11\\nAnonymous\\nCertified Buyer\\n30354\\nRead other answers\\nQ:how many years we can play high games like pubg without lag?..my samsung A50 is lagging in 1year now\\nA:Mobile Life Time play\\nRony Sk\\nCertified Buyer\\n1138302\\nQ:Iphone 11 have a depth effect or not\\nA:yes\\nmahaveer gurjar\\nCertified Buyer\\n36187',\n",
       " '4.511,202 Ratings & 794 Reviews',\n",
       " \"Product Description\\nAn all-new glass design, an updated camera, and a powerful chip, there's so much to love about the iPhone 8. This iPhone brings you an augmented reality experience that's more immersive than before. What's more? You can charge your iPhone wirelessly!\\nFormed From Glass\\nBoasting a color-matched, aerospace-grade aluminium band, this phone is a stunner. The distinctive glass on its front and back is durable.\\nWater and Dust Resistant (IP67)\\nIts body is precision-engineered to be splash, water, and dust resistant.\\nView all features\\nSpecifications\\nGeneral\\nIn The Box\\niPhone with iOS 12, EarPods with Lightning Connector, Lightning to USB Cable, USB Power Adapter, Documentation\\nModel Number\\nMQ7G2HN/A\\nModel Name\\niPhone 8\\nColor\\nSilver\\nBrowse Type\\nSmartphones\\nSIM Type\\nSingle Sim\\nTouchscreen\\nYes\\nSound Enhancements\\nBuilt-in Stereo Speaker, Built-in Microphone\\nRead More\\nRatings & Reviews\\nRate Product\\n4.5★\\n11,202 Ratings &\\n794 Reviews\\n5★\\n4★\\n3★\\n2★\\n1★\\n8,332\\n1,730\\n421\\n152\\n567\\n4.6\\nCamera\\n4.1\\nBattery\\n4.8\\nValue for Money\\n4.5\\nPerformance\\n+ 168\\n5\\nBrilliant\\nI got this as my birthday gift the phone is just awesome pics the display and voice quality is just awesome nd looks are my favourite it is worth of money❤️🥰💕📱\\n+ 1\\nFlipkart Customer\\nCertified Buyer, Mohali\\nDec, 2019\\n25046\\n5\\nBrilliant\\niPhone 8 nice I love this mobile nice picture clarity\\nVenkey P\\nCertified Buyer, Payakaraopeta\\nOct, 2019\\n39887\\n5\\nMind-blowing purchase\\nworth the money. battery charge can lasts full day if used in low power mode and well it's an iPhone 😉. iOS 13 is awesome, camera is not that great but ok when compared with my OnePlus 7 pro and display is best compared to iPhone xr. best buy 👌\\nSathya Kiran\\nCertified Buyer, Secunderabad\\nOct, 2019\\n447117\\n\\n\\n\\n\\n\\n+\\nAll 794 reviews\\nQuestions and Answers\\nQ:which 1 to buy iphone 7 plus or iphone 8?\\nA:Iphone 8 as its faster and also has wireless charging\\nNitin Kumar\\nCertified Buyer\\n8814\\nQ:Which phone is best Google pixel 2 or iPhone 8\\nA:iPhone 8\\nAnonymous\\nCertified Buyer\\n8117\\nRead other answers\\nQ:does jio sim works on iphone 8???\\nA:Yes. It works.\\nKusum Raghava\\nCertified Buyer\\n10728\\nRead other answers\\nAll questions\\n+\\nSafe and Secure Payments.Easy returns.100% Authentic products.\",\n",
       " 'I got this as my birthday gift the phone is just awesome pics the display and voice quality is just awesome nd looks are my favourite it is worth of money❤️🥰💕📱',\n",
       " 'iPhone 8 nice I love this mobile nice picture clarity',\n",
       " \"worth the money. battery charge can lasts full day if used in low power mode and well it's an iPhone 😉. iOS 13 is awesome, camera is not that great but ok when compared with my OnePlus 7 pro and display is best compared to iPhone xr. best buy 👌\",\n",
       " '',\n",
       " '',\n",
       " '',\n",
       " '',\n",
       " '',\n",
       " 'Q:which 1 to buy iphone 7 plus or iphone 8?\\nA:Iphone 8 as its faster and also has wireless charging\\nNitin Kumar\\nCertified Buyer\\n8814\\nQ:Which phone is best Google pixel 2 or iPhone 8\\nA:iPhone 8\\nAnonymous\\nCertified Buyer\\n8117\\nRead other answers\\nQ:does jio sim works on iphone 8???\\nA:Yes. It works.\\nKusum Raghava\\nCertified Buyer\\n10728\\nRead other answers',\n",
       " '4.679,835 Ratings & 6,821 Reviews',\n",
       " \"Description\\nNA\\nProduct Description\\nThe iPhone XR has arrived to stun our senses with a host of features such as the Liquid Retina Display, a faster Face ID, and the powerful A12 Bionic Chip. Whether it's that picture-perfect portrait shot or a jaw-dropping HDR picture, the cameras of this iPhone too will continue to stun you with their brilliance. Thus, when you have the iPhone XR in your hands, you can only see beauty, in every way.\\nLiquid Retina Display - Beauty Awaits Your Eyes\\nWhat does the display of the iPhone XR smartphone have in store for you? Its advanced 15.49 cm (6.1) Liquid Retina Display along with an innovative backlight, allows the screen to stretch to the corners, thereby exposing you to colorful visuals from one edge to another. It also packs the punch of enhanced color accuracy and a wide color gamut for delightful visuals.\\nExceptional Design - Feel It to Believe It\\nGet set to be stunned by this phone's design as it comprises one of the most durable front glass. A special Apple-designed alloy has been utilized to make the structural bands to complement the look of the back glass.\\nView all features\\nSpecifications\\nGeneral\\nIn The Box\\nHandset, EarPods with Lightning Connector, Lightning to USB Cable, USB Power Adapter, Documentation\\nModel Number\\nMRYP2HN/A\\nModel Name\\niPhone XR\\nColor\\nCoral\\nBrowse Type\\nSmartphones\\nSIM Type\\nDual Sim\\nHybrid Sim Slot\\nNo\\nTouchscreen\\nYes\\nRead More\\nRatings & Reviews\\nRate Product\\n4.6★\\n79,835 Ratings &\\n6,821 Reviews\\n5★\\n4★\\n3★\\n2★\\n1★\\n60,924\\n12,749\\n2,653\\n865\\n2,644\\n4.4\\nCamera\\n4.6\\nBattery\\n4.6\\nDisplay\\n4.8\\nValue for Money\\n+ 2698\\n5\\nTerrific\\nAwesome smart phone.... Loved it.\\nBig display, awesome battery backup, Monster sounds, great colour, Apple durability what more u want.\\n+ 1\\nFlipkart Customer\\nCertified Buyer, Pimpri Chinchwad\\n7months ago\\n2445378\\n5\\nSuper!\\nWriting this review after using iPhone XR for almost six months, a total value for money phone. Battery performance is pretty nice in comparison to other iPhones.\\nCamera is superb. Looking forward for iOS 14 update. I would recommend to buy XR instead of SE2 .\\nFlipkart Customer\\nCertified Buyer, Pune\\n9months ago\\n868155\\n4\\nPretty good\\nSo amazin....Blue colour is fresh+beautiful+awesome . And For me it's so ooooo pretty & fancy colour . Wow! Phone features , COD tho 👍, price value perfect , full screen wallpaper hd for mobile and about battery life i can't describe . Aaaaaa.......lovely. And im Sorry for my photography but in real blue colour is so amazin , i meant it 🖖.\\n+ 1\\nDeepa Cheri\\nCertified Buyer, Guwahati\\n5months ago\\n17426\\n\\n\\n\\n\\n\\n\\n\\n\\n\\n\\n\\n\\n\\n\\n\\n\\n\\n\\n+\\nAll 6821 reviews\\nQuestions and Answers\\nQ:What is the meaning of product that mentioned in the title ? Is it any differ from others\\nA:Red is a licensed brand for raising funds to fight HIV AIDS. A portion of each purchase of product red iPhone goes directly to help fight HIV and AIDS. You can search product red for more information.\\nAnonymous\\nCertified Buyer\\n801158\\nRead other answers\\nQ:which one is better iphone 7 plus or iphone xr\\nA:Xr\\nAnonymous\\nCertified Buyer\\n1618514\\nQ:How long can I take a picture under water ??\\nA:Its water resistant and not water proof and also it doesn’t have any warranty on damages from water\\nFlipkart Customer\\nCertified Buyer\\n412146\\nRead other answers\\nAll questions\\n+\\nSafe and Secure Payments.Easy returns.100% Authentic products.\",\n",
       " 'Awesome smart phone.... Loved it.\\nBig display, awesome battery backup, Monster sounds, great colour, Apple durability what more u want.',\n",
       " 'Writing this review after using iPhone XR for almost six months, a total value for money phone. Battery performance is pretty nice in comparison to other iPhones.\\nCamera is superb. Looking forward for iOS 14 update. I would recommend to buy XR instead of SE2 .',\n",
       " \"So amazin....Blue colour is fresh+beautiful+awesome . And For me it's so ooooo pretty & fancy colour . Wow! Phone features , COD tho 👍, price value perfect , full screen wallpaper hd for mobile and about battery life i can't describe . Aaaaaa.......lovely. And im Sorry for my photography but in real blue colour is so amazin , i meant it 🖖.\",\n",
       " '',\n",
       " '',\n",
       " '',\n",
       " '',\n",
       " '',\n",
       " 'Q:What is the meaning of product that mentioned in the title ? Is it any differ from others\\nA:Red is a licensed brand for raising funds to fight HIV AIDS. A portion of each purchase of product red iPhone goes directly to help fight HIV and AIDS. You can search product red for more information.\\nAnonymous\\nCertified Buyer\\n801158\\nRead other answers\\nQ:which one is better iphone 7 plus or iphone xr\\nA:Xr\\nAnonymous\\nCertified Buyer\\n1618514\\nQ:How long can I take a picture under water ??\\nA:Its water resistant and not water proof and also it doesn’t have any warranty on damages from water\\nFlipkart Customer\\nCertified Buyer\\n412146\\nRead other answers',\n",
       " '3.768 Ratings & 16 Reviews',\n",
       " 'Good',\n",
       " 'Superb good quality glass',\n",
       " 'Fine quality of 6s genuine product',\n",
       " '',\n",
       " '',\n",
       " '',\n",
       " '',\n",
       " '']"
      ]
     },
     "execution_count": 82,
     "metadata": {},
     "output_type": "execute_result"
    }
   ],
   "source": [
    " full_review"
   ]
  },
  {
   "cell_type": "code",
   "execution_count": 83,
   "id": "opened-amateur",
   "metadata": {},
   "outputs": [
    {
     "name": "stdout",
     "output_type": "stream",
     "text": [
      "166 42 54\n"
     ]
    }
   ],
   "source": [
    "print(len(rating), len(review_summary), len(full_review))"
   ]
  },
  {
   "cell_type": "code",
   "execution_count": 84,
   "id": "corporate-firewall",
   "metadata": {},
   "outputs": [],
   "source": [
    "url=\"https://www.flipkart.com/search?q=iphone11&otracker=search&otracker1=search&marketplace=FLIPKART&as-show=on&as=off&page=5\""
   ]
  },
  {
   "cell_type": "code",
   "execution_count": 85,
   "id": "collective-running",
   "metadata": {},
   "outputs": [],
   "source": [
    "#lets open the webpage through our webdriver\n",
    "browser.get(url)"
   ]
  },
  {
   "cell_type": "code",
   "execution_count": 86,
   "id": "loaded-boxing",
   "metadata": {},
   "outputs": [
    {
     "data": {
      "text/plain": [
       "[<selenium.webdriver.remote.webelement.WebElement (session=\"f69c0554cdc00036f8536f3fd883e0d8\", element=\"e212546b-0361-4dbd-968a-af0cc7cc24ff\")>,\n",
       " <selenium.webdriver.remote.webelement.WebElement (session=\"f69c0554cdc00036f8536f3fd883e0d8\", element=\"9da916c6-6ceb-423b-8fcb-b1640cdc5719\")>,\n",
       " <selenium.webdriver.remote.webelement.WebElement (session=\"f69c0554cdc00036f8536f3fd883e0d8\", element=\"4aa5c34a-4e46-46aa-a94c-b31e34a26f42\")>,\n",
       " <selenium.webdriver.remote.webelement.WebElement (session=\"f69c0554cdc00036f8536f3fd883e0d8\", element=\"6b599002-3607-43aa-b54c-eb934eeff079\")>,\n",
       " <selenium.webdriver.remote.webelement.WebElement (session=\"f69c0554cdc00036f8536f3fd883e0d8\", element=\"957b0a5a-d78a-458a-882e-d59e7e28c8f0\")>,\n",
       " <selenium.webdriver.remote.webelement.WebElement (session=\"f69c0554cdc00036f8536f3fd883e0d8\", element=\"a1d13c04-05e8-4bbe-a2d6-ed36b21d90b3\")>,\n",
       " <selenium.webdriver.remote.webelement.WebElement (session=\"f69c0554cdc00036f8536f3fd883e0d8\", element=\"1e589f80-f5a4-4a56-addc-8d1a7899e523\")>,\n",
       " <selenium.webdriver.remote.webelement.WebElement (session=\"f69c0554cdc00036f8536f3fd883e0d8\", element=\"8cab5cc6-fa6e-4e13-99ed-81f47ccfe596\")>,\n",
       " <selenium.webdriver.remote.webelement.WebElement (session=\"f69c0554cdc00036f8536f3fd883e0d8\", element=\"c5301a5a-a28e-4bd5-94c4-0274b94993c4\")>,\n",
       " <selenium.webdriver.remote.webelement.WebElement (session=\"f69c0554cdc00036f8536f3fd883e0d8\", element=\"03ff0a46-c7aa-4ab3-9b49-49122b3be86d\")>,\n",
       " <selenium.webdriver.remote.webelement.WebElement (session=\"f69c0554cdc00036f8536f3fd883e0d8\", element=\"e05f2830-60ed-4898-b34c-d455a93ff620\")>,\n",
       " <selenium.webdriver.remote.webelement.WebElement (session=\"f69c0554cdc00036f8536f3fd883e0d8\", element=\"24b44102-16a2-4313-918c-deabee5a4433\")>,\n",
       " <selenium.webdriver.remote.webelement.WebElement (session=\"f69c0554cdc00036f8536f3fd883e0d8\", element=\"19fddfcb-67ab-43be-a367-018221ea222b\")>,\n",
       " <selenium.webdriver.remote.webelement.WebElement (session=\"f69c0554cdc00036f8536f3fd883e0d8\", element=\"b652512f-00a0-4015-a6aa-b13326639b1c\")>,\n",
       " <selenium.webdriver.remote.webelement.WebElement (session=\"f69c0554cdc00036f8536f3fd883e0d8\", element=\"eea64d26-167b-4be6-97c2-2f8a7aedd91e\")>,\n",
       " <selenium.webdriver.remote.webelement.WebElement (session=\"f69c0554cdc00036f8536f3fd883e0d8\", element=\"00b3dba1-4db7-4016-92b6-0f427c427c3f\")>,\n",
       " <selenium.webdriver.remote.webelement.WebElement (session=\"f69c0554cdc00036f8536f3fd883e0d8\", element=\"a74c83d5-22b8-4b27-af3c-ba426bd55d14\")>,\n",
       " <selenium.webdriver.remote.webelement.WebElement (session=\"f69c0554cdc00036f8536f3fd883e0d8\", element=\"b63f75d4-cebc-4b3a-9411-e34e8bf75e62\")>,\n",
       " <selenium.webdriver.remote.webelement.WebElement (session=\"f69c0554cdc00036f8536f3fd883e0d8\", element=\"2bb6f485-b86f-4a6c-a2aa-3cbc7d2a39f8\")>,\n",
       " <selenium.webdriver.remote.webelement.WebElement (session=\"f69c0554cdc00036f8536f3fd883e0d8\", element=\"3a74462c-83ab-4e0f-a585-6f8dab7bfb1e\")>]"
      ]
     },
     "execution_count": 86,
     "metadata": {},
     "output_type": "execute_result"
    }
   ],
   "source": [
    "rating_tags = browser.find_elements_by_xpath (\"//div[@class='_3LWZlK']\")\n",
    "rating_tags"
   ]
  },
  {
   "cell_type": "code",
   "execution_count": 87,
   "id": "available-survival",
   "metadata": {},
   "outputs": [],
   "source": [
    "for i in rating_tags:\n",
    "    ratings=i.text\n",
    "    rating.append(ratings)"
   ]
  },
  {
   "cell_type": "code",
   "execution_count": 88,
   "id": "documented-navigator",
   "metadata": {},
   "outputs": [
    {
     "data": {
      "text/plain": [
       "['5',\n",
       " '5',\n",
       " '5',\n",
       " '',\n",
       " '',\n",
       " '',\n",
       " '',\n",
       " '',\n",
       " '',\n",
       " '',\n",
       " '4.6',\n",
       " '4.6',\n",
       " '4.6',\n",
       " '3.8',\n",
       " '4.6',\n",
       " '4.5',\n",
       " '4.6',\n",
       " '4.6',\n",
       " '4.5',\n",
       " '4.6',\n",
       " '4.7',\n",
       " '4.6',\n",
       " '4.6',\n",
       " '4.5',\n",
       " '4.6',\n",
       " '4.6',\n",
       " '4.5',\n",
       " '4.5',\n",
       " '4.6',\n",
       " '4.6',\n",
       " '4.5',\n",
       " '4.6',\n",
       " '3.5',\n",
       " '4.5',\n",
       " '4.5',\n",
       " '4.5',\n",
       " '4.5',\n",
       " '4.5',\n",
       " '4.5',\n",
       " '4.5',\n",
       " '4.6',\n",
       " '3.9',\n",
       " '4.5',\n",
       " '4.1',\n",
       " '4.6',\n",
       " '4.5',\n",
       " '4.6',\n",
       " '4.6',\n",
       " '3.8',\n",
       " '4.6',\n",
       " '4.1',\n",
       " '4.6',\n",
       " '4.6',\n",
       " '4.6',\n",
       " '4.3',\n",
       " '4',\n",
       " '4.6',\n",
       " '4.6',\n",
       " '4.3',\n",
       " '4',\n",
       " '4.5',\n",
       " '4.5',\n",
       " '4.6',\n",
       " '3.8',\n",
       " '4.7',\n",
       " '4.5',\n",
       " '4.7',\n",
       " '4.5',\n",
       " '4.5',\n",
       " '4.5',\n",
       " '4.6',\n",
       " '3.9',\n",
       " '4.6',\n",
       " '4.6',\n",
       " '4.6',\n",
       " '4.6',\n",
       " '4.5',\n",
       " '4.6',\n",
       " '4.6',\n",
       " '4.6',\n",
       " '4.5',\n",
       " '4.5',\n",
       " '3.5',\n",
       " '4.6',\n",
       " '4.6',\n",
       " '4.5',\n",
       " '4.5',\n",
       " '3.9',\n",
       " '4.6',\n",
       " '4.5',\n",
       " '4.5',\n",
       " '4.6',\n",
       " '4.5',\n",
       " '4.1',\n",
       " '4.6',\n",
       " '4.6',\n",
       " '4.6',\n",
       " '3.8',\n",
       " '3.9',\n",
       " '4.6',\n",
       " '4.6',\n",
       " '4.5',\n",
       " '4.6',\n",
       " '4.6',\n",
       " '4.6',\n",
       " '4.5',\n",
       " '4.5',\n",
       " '4.2',\n",
       " '4.8',\n",
       " '4',\n",
       " '3.5',\n",
       " '3.5',\n",
       " '3.7',\n",
       " '4',\n",
       " '5',\n",
       " '3.2',\n",
       " '3.6',\n",
       " '3.9',\n",
       " '3.8',\n",
       " '3.3',\n",
       " '4.8',\n",
       " '3.4',\n",
       " '3.4',\n",
       " '3.6',\n",
       " '4.3',\n",
       " '3.2',\n",
       " '3.8',\n",
       " '3.8',\n",
       " '4.6',\n",
       " '3.4',\n",
       " '3.2',\n",
       " '4.1',\n",
       " '3.6',\n",
       " '5',\n",
       " '3.6',\n",
       " '3.8',\n",
       " '4.2',\n",
       " '3.2',\n",
       " '3.7',\n",
       " '3.2',\n",
       " '3.8',\n",
       " '3.4',\n",
       " '3.4',\n",
       " '3.1',\n",
       " '4.6',\n",
       " '3.7',\n",
       " '4.8',\n",
       " '4.5',\n",
       " '3.3',\n",
       " '3.7',\n",
       " '3.5',\n",
       " '3.9',\n",
       " '4',\n",
       " '4.5',\n",
       " '3.8',\n",
       " '3.8',\n",
       " '3.6',\n",
       " '3.9',\n",
       " '3.5',\n",
       " '3.6',\n",
       " '4',\n",
       " '3.8',\n",
       " '3.7',\n",
       " '3.9',\n",
       " '3.8',\n",
       " '4.6',\n",
       " '3.2',\n",
       " '3.5',\n",
       " '3.8',\n",
       " '3.8',\n",
       " '3.7',\n",
       " '4.6',\n",
       " '3.8',\n",
       " '3.5',\n",
       " '4',\n",
       " '3.4',\n",
       " '3.9',\n",
       " '4.5',\n",
       " '3.8',\n",
       " '3.9',\n",
       " '4.3',\n",
       " '3.8',\n",
       " '3.9',\n",
       " '3.8',\n",
       " '4.6',\n",
       " '3.5']"
      ]
     },
     "execution_count": 88,
     "metadata": {},
     "output_type": "execute_result"
    }
   ],
   "source": [
    "rating"
   ]
  },
  {
   "cell_type": "code",
   "execution_count": 89,
   "id": "comfortable-peeing",
   "metadata": {},
   "outputs": [],
   "source": [
    "url=\"https://www.flipkart.com/lowfe-white-dual-ports-adapter-2in1-3-5mm-aux-headphone-handfree-audio-jack-charging-connector-iphone-11pro-11pro-max-x-xs-xs-max-xr-7-plus-8-8plus-6-6s-6splus-music-charging-phone-converter/p/itm06a8d3b684aba?pid=PHCFYNYHWBR8HPK9&lid=LSTPHCFYNYHWBR8HPK9AX0CWR&marketplace=FLIPKART&q=iphone11&store=tyy&srno=s_5_161&otracker=search&otracker1=search&fm=organic&iid=a6d392eb-d19e-44bc-8c23-39b11ce278af.PHCFYNYHWBR8HPK9.SEARCH&ppt=None&ppn=None&ssid=w62b3i6sxs0000001618040191610&qH=d6db477051465f9a\""
   ]
  },
  {
   "cell_type": "code",
   "execution_count": 90,
   "id": "impaired-afghanistan",
   "metadata": {},
   "outputs": [],
   "source": [
    "#lets open the webpage through our webdriver\n",
    "browser.get(url)"
   ]
  },
  {
   "cell_type": "code",
   "execution_count": 91,
   "id": "cultural-sister",
   "metadata": {},
   "outputs": [
    {
     "data": {
      "text/plain": [
       "[<selenium.webdriver.remote.webelement.WebElement (session=\"f69c0554cdc00036f8536f3fd883e0d8\", element=\"e2c243e7-d98e-413f-be8c-6d700d71d04b\")>,\n",
       " <selenium.webdriver.remote.webelement.WebElement (session=\"f69c0554cdc00036f8536f3fd883e0d8\", element=\"44f422f1-3770-4199-a9e6-314872e7cdbd\")>]"
      ]
     },
     "execution_count": 91,
     "metadata": {},
     "output_type": "execute_result"
    }
   ],
   "source": [
    "review_tags = browser.find_elements_by_xpath (\"//p[@class='_2-N8zT']\")\n",
    "review_tags"
   ]
  },
  {
   "cell_type": "code",
   "execution_count": 92,
   "id": "geographic-workshop",
   "metadata": {},
   "outputs": [],
   "source": [
    "for i in review_tags:\n",
    "    review=i.text\n",
    "    review_summary.append(review)"
   ]
  },
  {
   "cell_type": "code",
   "execution_count": 93,
   "id": "ideal-frost",
   "metadata": {},
   "outputs": [
    {
     "data": {
      "text/plain": [
       "['Brilliant',\n",
       " 'Perfect product!',\n",
       " 'Worth every penny',\n",
       " '',\n",
       " '',\n",
       " '',\n",
       " '',\n",
       " '',\n",
       " '',\n",
       " '',\n",
       " 'Brilliant',\n",
       " 'Perfect product!',\n",
       " 'Worth every penny',\n",
       " '',\n",
       " '',\n",
       " '',\n",
       " '',\n",
       " '',\n",
       " 'Brilliant',\n",
       " 'Brilliant',\n",
       " 'Mind-blowing purchase',\n",
       " '',\n",
       " '',\n",
       " '',\n",
       " '',\n",
       " '',\n",
       " 'Terrific',\n",
       " 'Super!',\n",
       " 'Pretty good',\n",
       " '',\n",
       " '',\n",
       " '',\n",
       " '',\n",
       " '',\n",
       " 'Decent product',\n",
       " 'Wonderful',\n",
       " 'Terrific purchase',\n",
       " '',\n",
       " '',\n",
       " '',\n",
       " '',\n",
       " '',\n",
       " 'Worthless',\n",
       " 'Highly recommended']"
      ]
     },
     "execution_count": 93,
     "metadata": {},
     "output_type": "execute_result"
    }
   ],
   "source": [
    " review_summary"
   ]
  },
  {
   "cell_type": "code",
   "execution_count": 94,
   "id": "competitive-horizon",
   "metadata": {},
   "outputs": [
    {
     "data": {
      "text/plain": [
       "[<selenium.webdriver.remote.webelement.WebElement (session=\"f69c0554cdc00036f8536f3fd883e0d8\", element=\"6230eb86-efdb-4704-89ea-51940f2813ea\")>,\n",
       " <selenium.webdriver.remote.webelement.WebElement (session=\"f69c0554cdc00036f8536f3fd883e0d8\", element=\"005b2d19-13e3-4cb7-a8ef-d292592b7b50\")>,\n",
       " <selenium.webdriver.remote.webelement.WebElement (session=\"f69c0554cdc00036f8536f3fd883e0d8\", element=\"587e969a-7cf8-4347-b482-de046597cc2c\")>]"
      ]
     },
     "execution_count": 94,
     "metadata": {},
     "output_type": "execute_result"
    }
   ],
   "source": [
    "fullreview_tags = browser.find_elements_by_xpath (\"//div[@class='']\")\n",
    "fullreview_tags"
   ]
  },
  {
   "cell_type": "code",
   "execution_count": 95,
   "id": "satisfied-boards",
   "metadata": {},
   "outputs": [],
   "source": [
    "for i in fullreview_tags:\n",
    "    fullreviews=i.text\n",
    "    full_review.append(fullreviews)"
   ]
  },
  {
   "cell_type": "code",
   "execution_count": 96,
   "id": "conceptual-writing",
   "metadata": {},
   "outputs": [
    {
     "data": {
      "text/plain": [
       "['4.644,833 Ratings & 3,433 Reviews',\n",
       " 'Description\\nNA\\nProduct Description\\nBeautiful Design\\nFeaturing a 15.49-cm (6.1) all-screen Liquid Retina LCD and a glass and aluminum design, the iPhone 11 is as beautiful as it gets. Also, the IP68 rating ensures that is water-resistant up to 2 meters for 30 minutes.\\nTake Your Photos Further. And Wider.\\nThe iPhone 11 features dual 12 MP Ultra Wide (13mm) and Wide (26mm) cameras with 4K video recording up to 60 fps. The Ultra Wide camera provides 120° field of view, letting you capture four times more scene, and the Wide camera provides 100% Focus Pixels for up to three times faster autofocus in low light.\\nView all features\\nSpecifications\\nGeneral\\nIn The Box\\nHandset, EarPods with Lightning Connector, Lightning to USB Cable, USB Power Adapter, Documentation\\nModel Number\\nMWLT2HN/A\\nModel Name\\niPhone 11\\nColor\\nBlack\\nBrowse Type\\nSmartphones\\nSIM Type\\nDual Sim\\nHybrid Sim Slot\\nNo\\nTouchscreen\\nYes\\nRead More\\nRatings & Reviews\\nRate Product\\n4.6★\\n44,833 Ratings &\\n3,433 Reviews\\n5★\\n4★\\n3★\\n2★\\n1★\\n35,280\\n6,036\\n1,341\\n531\\n1,645\\n4.7\\nCamera\\n4.5\\nBattery\\n4.3\\nDisplay\\n4.7\\nValue for Money\\n+ 1800\\n5\\nBrilliant\\nThe Best Phone for the Money\\n\\nThe iPhone 11 offers superb cameras, a more durable design and excellent battery life for an affordable price.\\n\\nCompelling ultra-wide camera\\nNew Night mode is excellent\\nLong battery life\\nAnkit\\nCertified Buyer, Gurgaon\\nSep, 2019\\n3280502\\n5\\nPerfect product!\\nAmazing phone with great cameras and better battery which gives you the best performance. I just love the camera .\\nFlipkart Customer\\nCertified Buyer, Hyderabad\\n10months ago\\n4591770\\n5\\nWorth every penny\\nPreviously I was using one plus 3t it was a great phone\\nAnd then I decided to upgrade I am stuck between Samsung s10 plus or iPhone 11\\nI have seen the specs and everything were good except the display it’s somewhere between 720-1080 and it’s not even an amoled it’s an LCD display\\nBut I decided to go with iPhone because I have never used an IOS device I have Been an android user from the past 9 years I ordered IPhone 11 (128gb) product red\\nMy experience after using 3 weeks\\n1. The delivery ...\\nREAD MORE\\nVamshi Chakrala\\nCertified Buyer, Huzurnagar\\nJan, 2020\\n1418233\\n\\n\\n\\n\\n\\n\\n\\n\\n\\n\\n\\n\\n\\n\\n\\n\\n\\n\\n\\n\\n+\\nAll 3433 reviews\\nQuestions and Answers\\nQ:which phone are best iphone XR or Iphone 11\\nA:Iphone 11\\nAnonymous\\nCertified Buyer\\n30354\\nRead other answers\\nQ:how many years we can play high games like pubg without lag?..my samsung A50 is lagging in 1year now\\nA:Mobile Life Time play\\nRony Sk\\nCertified Buyer\\n1138302\\nQ:Iphone 11 have a depth effect or not\\nA:yes\\nmahaveer gurjar\\nCertified Buyer\\n36187\\nAll questions\\n+\\nSafe and Secure Payments.Easy returns.100% Authentic products.',\n",
       " 'The Best Phone for the Money\\n\\nThe iPhone 11 offers superb cameras, a more durable design and excellent battery life for an affordable price.\\n\\nCompelling ultra-wide camera\\nNew Night mode is excellent\\nLong battery life',\n",
       " 'Amazing phone with great cameras and better battery which gives you the best performance. I just love the camera .',\n",
       " 'Previously I was using one plus 3t it was a great phone\\nAnd then I decided to upgrade I am stuck between Samsung s10 plus or iPhone 11\\nI have seen the specs and everything were good except the display it’s somewhere between 720-1080 and it’s not even an amoled it’s an LCD display\\nBut I decided to go with iPhone because I have never used an IOS device I have Been an android user from the past 9 years I ordered IPhone 11 (128gb) product red\\nMy experience after using 3 weeks\\n1. The delivery ...',\n",
       " '',\n",
       " '',\n",
       " '',\n",
       " '',\n",
       " '',\n",
       " '',\n",
       " '',\n",
       " 'Q:which phone are best iphone XR or Iphone 11\\nA:Iphone 11\\nAnonymous\\nCertified Buyer\\n30354\\nRead other answers\\nQ:how many years we can play high games like pubg without lag?..my samsung A50 is lagging in 1year now\\nA:Mobile Life Time play\\nRony Sk\\nCertified Buyer\\n1138302\\nQ:Iphone 11 have a depth effect or not\\nA:yes\\nmahaveer gurjar\\nCertified Buyer\\n36187',\n",
       " '4.644,839 Ratings & 3,433 Reviews',\n",
       " 'The Best Phone for the Money\\n\\nThe iPhone 11 offers superb cameras, a more durable design and excellent battery life for an affordable price.\\n\\nCompelling ultra-wide camera\\nNew Night mode is excellent\\nLong battery life',\n",
       " 'Amazing phone with great cameras and better battery which gives you the best performance. I just love the camera .',\n",
       " 'Previously I was using one plus 3t it was a great phone\\nAnd then I decided to upgrade I am stuck between Samsung s10 plus or iPhone 11\\nI have seen the specs and everything were good except the display it’s somewhere between 720-1080 and it’s not even an amoled it’s an LCD display\\nBut I decided to go with iPhone because I have never used an IOS device I have Been an android user from the past 9 years I ordered IPhone 11 (128gb) product red\\nMy experience after using 3 weeks\\n1. The delivery ...',\n",
       " '',\n",
       " '',\n",
       " '',\n",
       " '',\n",
       " '',\n",
       " 'Q:which phone are best iphone XR or Iphone 11\\nA:Iphone 11\\nAnonymous\\nCertified Buyer\\n30354\\nRead other answers\\nQ:how many years we can play high games like pubg without lag?..my samsung A50 is lagging in 1year now\\nA:Mobile Life Time play\\nRony Sk\\nCertified Buyer\\n1138302\\nQ:Iphone 11 have a depth effect or not\\nA:yes\\nmahaveer gurjar\\nCertified Buyer\\n36187',\n",
       " '4.511,202 Ratings & 794 Reviews',\n",
       " \"Product Description\\nAn all-new glass design, an updated camera, and a powerful chip, there's so much to love about the iPhone 8. This iPhone brings you an augmented reality experience that's more immersive than before. What's more? You can charge your iPhone wirelessly!\\nFormed From Glass\\nBoasting a color-matched, aerospace-grade aluminium band, this phone is a stunner. The distinctive glass on its front and back is durable.\\nWater and Dust Resistant (IP67)\\nIts body is precision-engineered to be splash, water, and dust resistant.\\nView all features\\nSpecifications\\nGeneral\\nIn The Box\\niPhone with iOS 12, EarPods with Lightning Connector, Lightning to USB Cable, USB Power Adapter, Documentation\\nModel Number\\nMQ7G2HN/A\\nModel Name\\niPhone 8\\nColor\\nSilver\\nBrowse Type\\nSmartphones\\nSIM Type\\nSingle Sim\\nTouchscreen\\nYes\\nSound Enhancements\\nBuilt-in Stereo Speaker, Built-in Microphone\\nRead More\\nRatings & Reviews\\nRate Product\\n4.5★\\n11,202 Ratings &\\n794 Reviews\\n5★\\n4★\\n3★\\n2★\\n1★\\n8,332\\n1,730\\n421\\n152\\n567\\n4.6\\nCamera\\n4.1\\nBattery\\n4.8\\nValue for Money\\n4.5\\nPerformance\\n+ 168\\n5\\nBrilliant\\nI got this as my birthday gift the phone is just awesome pics the display and voice quality is just awesome nd looks are my favourite it is worth of money❤️🥰💕📱\\n+ 1\\nFlipkart Customer\\nCertified Buyer, Mohali\\nDec, 2019\\n25046\\n5\\nBrilliant\\niPhone 8 nice I love this mobile nice picture clarity\\nVenkey P\\nCertified Buyer, Payakaraopeta\\nOct, 2019\\n39887\\n5\\nMind-blowing purchase\\nworth the money. battery charge can lasts full day if used in low power mode and well it's an iPhone 😉. iOS 13 is awesome, camera is not that great but ok when compared with my OnePlus 7 pro and display is best compared to iPhone xr. best buy 👌\\nSathya Kiran\\nCertified Buyer, Secunderabad\\nOct, 2019\\n447117\\n\\n\\n\\n\\n\\n+\\nAll 794 reviews\\nQuestions and Answers\\nQ:which 1 to buy iphone 7 plus or iphone 8?\\nA:Iphone 8 as its faster and also has wireless charging\\nNitin Kumar\\nCertified Buyer\\n8814\\nQ:Which phone is best Google pixel 2 or iPhone 8\\nA:iPhone 8\\nAnonymous\\nCertified Buyer\\n8117\\nRead other answers\\nQ:does jio sim works on iphone 8???\\nA:Yes. It works.\\nKusum Raghava\\nCertified Buyer\\n10728\\nRead other answers\\nAll questions\\n+\\nSafe and Secure Payments.Easy returns.100% Authentic products.\",\n",
       " 'I got this as my birthday gift the phone is just awesome pics the display and voice quality is just awesome nd looks are my favourite it is worth of money❤️🥰💕📱',\n",
       " 'iPhone 8 nice I love this mobile nice picture clarity',\n",
       " \"worth the money. battery charge can lasts full day if used in low power mode and well it's an iPhone 😉. iOS 13 is awesome, camera is not that great but ok when compared with my OnePlus 7 pro and display is best compared to iPhone xr. best buy 👌\",\n",
       " '',\n",
       " '',\n",
       " '',\n",
       " '',\n",
       " '',\n",
       " 'Q:which 1 to buy iphone 7 plus or iphone 8?\\nA:Iphone 8 as its faster and also has wireless charging\\nNitin Kumar\\nCertified Buyer\\n8814\\nQ:Which phone is best Google pixel 2 or iPhone 8\\nA:iPhone 8\\nAnonymous\\nCertified Buyer\\n8117\\nRead other answers\\nQ:does jio sim works on iphone 8???\\nA:Yes. It works.\\nKusum Raghava\\nCertified Buyer\\n10728\\nRead other answers',\n",
       " '4.679,835 Ratings & 6,821 Reviews',\n",
       " \"Description\\nNA\\nProduct Description\\nThe iPhone XR has arrived to stun our senses with a host of features such as the Liquid Retina Display, a faster Face ID, and the powerful A12 Bionic Chip. Whether it's that picture-perfect portrait shot or a jaw-dropping HDR picture, the cameras of this iPhone too will continue to stun you with their brilliance. Thus, when you have the iPhone XR in your hands, you can only see beauty, in every way.\\nLiquid Retina Display - Beauty Awaits Your Eyes\\nWhat does the display of the iPhone XR smartphone have in store for you? Its advanced 15.49 cm (6.1) Liquid Retina Display along with an innovative backlight, allows the screen to stretch to the corners, thereby exposing you to colorful visuals from one edge to another. It also packs the punch of enhanced color accuracy and a wide color gamut for delightful visuals.\\nExceptional Design - Feel It to Believe It\\nGet set to be stunned by this phone's design as it comprises one of the most durable front glass. A special Apple-designed alloy has been utilized to make the structural bands to complement the look of the back glass.\\nView all features\\nSpecifications\\nGeneral\\nIn The Box\\nHandset, EarPods with Lightning Connector, Lightning to USB Cable, USB Power Adapter, Documentation\\nModel Number\\nMRYP2HN/A\\nModel Name\\niPhone XR\\nColor\\nCoral\\nBrowse Type\\nSmartphones\\nSIM Type\\nDual Sim\\nHybrid Sim Slot\\nNo\\nTouchscreen\\nYes\\nRead More\\nRatings & Reviews\\nRate Product\\n4.6★\\n79,835 Ratings &\\n6,821 Reviews\\n5★\\n4★\\n3★\\n2★\\n1★\\n60,924\\n12,749\\n2,653\\n865\\n2,644\\n4.4\\nCamera\\n4.6\\nBattery\\n4.6\\nDisplay\\n4.8\\nValue for Money\\n+ 2698\\n5\\nTerrific\\nAwesome smart phone.... Loved it.\\nBig display, awesome battery backup, Monster sounds, great colour, Apple durability what more u want.\\n+ 1\\nFlipkart Customer\\nCertified Buyer, Pimpri Chinchwad\\n7months ago\\n2445378\\n5\\nSuper!\\nWriting this review after using iPhone XR for almost six months, a total value for money phone. Battery performance is pretty nice in comparison to other iPhones.\\nCamera is superb. Looking forward for iOS 14 update. I would recommend to buy XR instead of SE2 .\\nFlipkart Customer\\nCertified Buyer, Pune\\n9months ago\\n868155\\n4\\nPretty good\\nSo amazin....Blue colour is fresh+beautiful+awesome . And For me it's so ooooo pretty & fancy colour . Wow! Phone features , COD tho 👍, price value perfect , full screen wallpaper hd for mobile and about battery life i can't describe . Aaaaaa.......lovely. And im Sorry for my photography but in real blue colour is so amazin , i meant it 🖖.\\n+ 1\\nDeepa Cheri\\nCertified Buyer, Guwahati\\n5months ago\\n17426\\n\\n\\n\\n\\n\\n\\n\\n\\n\\n\\n\\n\\n\\n\\n\\n\\n\\n\\n+\\nAll 6821 reviews\\nQuestions and Answers\\nQ:What is the meaning of product that mentioned in the title ? Is it any differ from others\\nA:Red is a licensed brand for raising funds to fight HIV AIDS. A portion of each purchase of product red iPhone goes directly to help fight HIV and AIDS. You can search product red for more information.\\nAnonymous\\nCertified Buyer\\n801158\\nRead other answers\\nQ:which one is better iphone 7 plus or iphone xr\\nA:Xr\\nAnonymous\\nCertified Buyer\\n1618514\\nQ:How long can I take a picture under water ??\\nA:Its water resistant and not water proof and also it doesn’t have any warranty on damages from water\\nFlipkart Customer\\nCertified Buyer\\n412146\\nRead other answers\\nAll questions\\n+\\nSafe and Secure Payments.Easy returns.100% Authentic products.\",\n",
       " 'Awesome smart phone.... Loved it.\\nBig display, awesome battery backup, Monster sounds, great colour, Apple durability what more u want.',\n",
       " 'Writing this review after using iPhone XR for almost six months, a total value for money phone. Battery performance is pretty nice in comparison to other iPhones.\\nCamera is superb. Looking forward for iOS 14 update. I would recommend to buy XR instead of SE2 .',\n",
       " \"So amazin....Blue colour is fresh+beautiful+awesome . And For me it's so ooooo pretty & fancy colour . Wow! Phone features , COD tho 👍, price value perfect , full screen wallpaper hd for mobile and about battery life i can't describe . Aaaaaa.......lovely. And im Sorry for my photography but in real blue colour is so amazin , i meant it 🖖.\",\n",
       " '',\n",
       " '',\n",
       " '',\n",
       " '',\n",
       " '',\n",
       " 'Q:What is the meaning of product that mentioned in the title ? Is it any differ from others\\nA:Red is a licensed brand for raising funds to fight HIV AIDS. A portion of each purchase of product red iPhone goes directly to help fight HIV and AIDS. You can search product red for more information.\\nAnonymous\\nCertified Buyer\\n801158\\nRead other answers\\nQ:which one is better iphone 7 plus or iphone xr\\nA:Xr\\nAnonymous\\nCertified Buyer\\n1618514\\nQ:How long can I take a picture under water ??\\nA:Its water resistant and not water proof and also it doesn’t have any warranty on damages from water\\nFlipkart Customer\\nCertified Buyer\\n412146\\nRead other answers',\n",
       " '3.768 Ratings & 16 Reviews',\n",
       " 'Good',\n",
       " 'Superb good quality glass',\n",
       " 'Fine quality of 6s genuine product',\n",
       " '',\n",
       " '',\n",
       " '',\n",
       " '',\n",
       " '',\n",
       " '3.25 Ratings & 2 Reviews',\n",
       " 'bad quality product',\n",
       " 'Nice']"
      ]
     },
     "execution_count": 96,
     "metadata": {},
     "output_type": "execute_result"
    }
   ],
   "source": [
    "full_review"
   ]
  },
  {
   "cell_type": "code",
   "execution_count": 97,
   "id": "stylish-float",
   "metadata": {},
   "outputs": [
    {
     "name": "stdout",
     "output_type": "stream",
     "text": [
      "186 44 57\n"
     ]
    }
   ],
   "source": [
    "print(len(rating), len(review_summary), len(full_review))"
   ]
  },
  {
   "cell_type": "code",
   "execution_count": 98,
   "id": "cognitive-chinese",
   "metadata": {},
   "outputs": [
    {
     "data": {
      "text/plain": [
       "[<selenium.webdriver.remote.webelement.WebElement (session=\"f69c0554cdc00036f8536f3fd883e0d8\", element=\"a4405e56-e0a6-4ea8-bd21-67eafb9b6c46\")>,\n",
       " <selenium.webdriver.remote.webelement.WebElement (session=\"f69c0554cdc00036f8536f3fd883e0d8\", element=\"307fffca-2f30-49a4-8ab5-00d3721b8837\")>,\n",
       " <selenium.webdriver.remote.webelement.WebElement (session=\"f69c0554cdc00036f8536f3fd883e0d8\", element=\"aae03855-8d36-4ec6-b276-7cea3cdf279d\")>,\n",
       " <selenium.webdriver.remote.webelement.WebElement (session=\"f69c0554cdc00036f8536f3fd883e0d8\", element=\"c9d3ba25-499a-4dfd-a1cd-536d534d6a8c\")>,\n",
       " <selenium.webdriver.remote.webelement.WebElement (session=\"f69c0554cdc00036f8536f3fd883e0d8\", element=\"2f8b0d22-ec48-42e4-b2e1-d46f771fe4ef\")>,\n",
       " <selenium.webdriver.remote.webelement.WebElement (session=\"f69c0554cdc00036f8536f3fd883e0d8\", element=\"fed82153-202c-44cd-b72d-b119ffdf98d5\")>,\n",
       " <selenium.webdriver.remote.webelement.WebElement (session=\"f69c0554cdc00036f8536f3fd883e0d8\", element=\"3cb69d91-5fdb-4f86-8be2-24dc700bba00\")>,\n",
       " <selenium.webdriver.remote.webelement.WebElement (session=\"f69c0554cdc00036f8536f3fd883e0d8\", element=\"7ceb5e43-1c63-479d-8c48-1666ea6f73b3\")>,\n",
       " <selenium.webdriver.remote.webelement.WebElement (session=\"f69c0554cdc00036f8536f3fd883e0d8\", element=\"d5ba3a47-f859-427f-8bab-23f7bd608604\")>,\n",
       " <selenium.webdriver.remote.webelement.WebElement (session=\"f69c0554cdc00036f8536f3fd883e0d8\", element=\"fb216ee8-5eec-4c48-a5b0-e688571e5374\")>,\n",
       " <selenium.webdriver.remote.webelement.WebElement (session=\"f69c0554cdc00036f8536f3fd883e0d8\", element=\"b187457d-c005-473c-aa26-3031c693a060\")>,\n",
       " <selenium.webdriver.remote.webelement.WebElement (session=\"f69c0554cdc00036f8536f3fd883e0d8\", element=\"ebacd4b6-83f6-4863-9e7e-717990883815\")>,\n",
       " <selenium.webdriver.remote.webelement.WebElement (session=\"f69c0554cdc00036f8536f3fd883e0d8\", element=\"04950369-5b75-4691-b5cc-c2f0fdfd541d\")>,\n",
       " <selenium.webdriver.remote.webelement.WebElement (session=\"f69c0554cdc00036f8536f3fd883e0d8\", element=\"cd3b6d7e-b770-4084-8b6f-c59932ced3a0\")>,\n",
       " <selenium.webdriver.remote.webelement.WebElement (session=\"f69c0554cdc00036f8536f3fd883e0d8\", element=\"27a09454-56d7-4046-a5c7-7b75f892569d\")>,\n",
       " <selenium.webdriver.remote.webelement.WebElement (session=\"f69c0554cdc00036f8536f3fd883e0d8\", element=\"dfb5d1d3-97df-4da4-8edb-a5927465a76b\")>,\n",
       " <selenium.webdriver.remote.webelement.WebElement (session=\"f69c0554cdc00036f8536f3fd883e0d8\", element=\"0560dd01-7035-446b-a4f3-07ad831f7f30\")>,\n",
       " <selenium.webdriver.remote.webelement.WebElement (session=\"f69c0554cdc00036f8536f3fd883e0d8\", element=\"9801b057-b57d-4463-a63c-0eee775c3306\")>,\n",
       " <selenium.webdriver.remote.webelement.WebElement (session=\"f69c0554cdc00036f8536f3fd883e0d8\", element=\"4cba92f5-630d-44ad-8ffe-c02863ad8733\")>,\n",
       " <selenium.webdriver.remote.webelement.WebElement (session=\"f69c0554cdc00036f8536f3fd883e0d8\", element=\"50b8d203-976e-48ab-84bc-b7cc884ab6d3\")>]"
      ]
     },
     "execution_count": 98,
     "metadata": {},
     "output_type": "execute_result"
    }
   ],
   "source": [
    "rating_tags = browser.find_elements_by_xpath (\"//div[@class='_3LWZlK']\")\n",
    "rating_tags"
   ]
  },
  {
   "cell_type": "code",
   "execution_count": 99,
   "id": "congressional-muscle",
   "metadata": {},
   "outputs": [],
   "source": [
    "for i in rating_tags:\n",
    "    ratings=i.text\n",
    "    rating.append(ratings)"
   ]
  },
  {
   "cell_type": "code",
   "execution_count": 100,
   "id": "backed-outreach",
   "metadata": {},
   "outputs": [
    {
     "data": {
      "text/plain": [
       "['5',\n",
       " '5',\n",
       " '5',\n",
       " '',\n",
       " '',\n",
       " '',\n",
       " '',\n",
       " '',\n",
       " '',\n",
       " '',\n",
       " '4.6',\n",
       " '4.6',\n",
       " '4.6',\n",
       " '3.8',\n",
       " '4.6',\n",
       " '4.5',\n",
       " '4.6',\n",
       " '4.6',\n",
       " '4.5',\n",
       " '4.6',\n",
       " '4.7',\n",
       " '4.6',\n",
       " '4.6',\n",
       " '4.5',\n",
       " '4.6',\n",
       " '4.6',\n",
       " '4.5',\n",
       " '4.5',\n",
       " '4.6',\n",
       " '4.6',\n",
       " '4.5',\n",
       " '4.6',\n",
       " '3.5',\n",
       " '4.5',\n",
       " '4.5',\n",
       " '4.5',\n",
       " '4.5',\n",
       " '4.5',\n",
       " '4.5',\n",
       " '4.5',\n",
       " '4.6',\n",
       " '3.9',\n",
       " '4.5',\n",
       " '4.1',\n",
       " '4.6',\n",
       " '4.5',\n",
       " '4.6',\n",
       " '4.6',\n",
       " '3.8',\n",
       " '4.6',\n",
       " '4.1',\n",
       " '4.6',\n",
       " '4.6',\n",
       " '4.6',\n",
       " '4.3',\n",
       " '4',\n",
       " '4.6',\n",
       " '4.6',\n",
       " '4.3',\n",
       " '4',\n",
       " '4.5',\n",
       " '4.5',\n",
       " '4.6',\n",
       " '3.8',\n",
       " '4.7',\n",
       " '4.5',\n",
       " '4.7',\n",
       " '4.5',\n",
       " '4.5',\n",
       " '4.5',\n",
       " '4.6',\n",
       " '3.9',\n",
       " '4.6',\n",
       " '4.6',\n",
       " '4.6',\n",
       " '4.6',\n",
       " '4.5',\n",
       " '4.6',\n",
       " '4.6',\n",
       " '4.6',\n",
       " '4.5',\n",
       " '4.5',\n",
       " '3.5',\n",
       " '4.6',\n",
       " '4.6',\n",
       " '4.5',\n",
       " '4.5',\n",
       " '3.9',\n",
       " '4.6',\n",
       " '4.5',\n",
       " '4.5',\n",
       " '4.6',\n",
       " '4.5',\n",
       " '4.1',\n",
       " '4.6',\n",
       " '4.6',\n",
       " '4.6',\n",
       " '3.8',\n",
       " '3.9',\n",
       " '4.6',\n",
       " '4.6',\n",
       " '4.5',\n",
       " '4.6',\n",
       " '4.6',\n",
       " '4.6',\n",
       " '4.5',\n",
       " '4.5',\n",
       " '4.2',\n",
       " '4.8',\n",
       " '4',\n",
       " '3.5',\n",
       " '3.5',\n",
       " '3.7',\n",
       " '4',\n",
       " '5',\n",
       " '3.2',\n",
       " '3.6',\n",
       " '3.9',\n",
       " '3.8',\n",
       " '3.3',\n",
       " '4.8',\n",
       " '3.4',\n",
       " '3.4',\n",
       " '3.6',\n",
       " '4.3',\n",
       " '3.2',\n",
       " '3.8',\n",
       " '3.8',\n",
       " '4.6',\n",
       " '3.4',\n",
       " '3.2',\n",
       " '4.1',\n",
       " '3.6',\n",
       " '5',\n",
       " '3.6',\n",
       " '3.8',\n",
       " '4.2',\n",
       " '3.2',\n",
       " '3.7',\n",
       " '3.2',\n",
       " '3.8',\n",
       " '3.4',\n",
       " '3.4',\n",
       " '3.1',\n",
       " '4.6',\n",
       " '3.7',\n",
       " '4.8',\n",
       " '4.5',\n",
       " '3.3',\n",
       " '3.7',\n",
       " '3.5',\n",
       " '3.9',\n",
       " '4',\n",
       " '4.5',\n",
       " '3.8',\n",
       " '3.8',\n",
       " '3.6',\n",
       " '3.9',\n",
       " '3.5',\n",
       " '3.6',\n",
       " '4',\n",
       " '3.8',\n",
       " '3.7',\n",
       " '3.9',\n",
       " '3.8',\n",
       " '4.6',\n",
       " '3.2',\n",
       " '3.5',\n",
       " '3.8',\n",
       " '3.8',\n",
       " '3.7',\n",
       " '4.6',\n",
       " '3.8',\n",
       " '3.5',\n",
       " '4',\n",
       " '3.4',\n",
       " '3.9',\n",
       " '4.5',\n",
       " '3.8',\n",
       " '3.9',\n",
       " '4.3',\n",
       " '3.8',\n",
       " '3.9',\n",
       " '3.8',\n",
       " '4.6',\n",
       " '3.5',\n",
       " '4',\n",
       " '3.8',\n",
       " '4',\n",
       " '3',\n",
       " '4.5',\n",
       " '3.5',\n",
       " '3.8',\n",
       " '4.5',\n",
       " '3.8',\n",
       " '3.9',\n",
       " '4',\n",
       " '3.4',\n",
       " '3.5',\n",
       " '4.6',\n",
       " '3.7',\n",
       " '3.8',\n",
       " '3.9',\n",
       " '3.8',\n",
       " '4.6',\n",
       " '3.5']"
      ]
     },
     "execution_count": 100,
     "metadata": {},
     "output_type": "execute_result"
    }
   ],
   "source": [
    "rating"
   ]
  },
  {
   "cell_type": "code",
   "execution_count": 104,
   "id": "happy-rental",
   "metadata": {},
   "outputs": [],
   "source": [
    "url=\"https://www.flipkart.com/apylook-iphone-12-pro-mobile-skin/p/itm766ff57e4f9d8?pid=MSKGYQGWA8BUFSGD&lid=LSTMSKGYQGWA8BUFSGDIXZKJQ&marketplace=FLIPKART&q=iphone11&store=tyy&srno=s_6_203&otracker=search&otracker1=search&fm=organic&iid=90cbf111-d5a6-43b1-8b05-ede61417cc01.MSKGYQGWA8BUFSGD.SEARCH&ppt=None&ppn=None&ssid=p70732yxnk0000001618040743760&qH=d6db477051465f9a\""
   ]
  },
  {
   "cell_type": "code",
   "execution_count": 105,
   "id": "thrown-product",
   "metadata": {},
   "outputs": [],
   "source": [
    "#lets open the webpage through our webdriver\n",
    "browser.get(url)"
   ]
  },
  {
   "cell_type": "code",
   "execution_count": 106,
   "id": "hundred-national",
   "metadata": {},
   "outputs": [
    {
     "data": {
      "text/plain": [
       "[<selenium.webdriver.remote.webelement.WebElement (session=\"f69c0554cdc00036f8536f3fd883e0d8\", element=\"f603948b-7686-470e-802f-63fe277c0634\")>,\n",
       " <selenium.webdriver.remote.webelement.WebElement (session=\"f69c0554cdc00036f8536f3fd883e0d8\", element=\"7b96aa12-bf58-489a-b20e-818b516aca98\")>]"
      ]
     },
     "execution_count": 106,
     "metadata": {},
     "output_type": "execute_result"
    }
   ],
   "source": [
    "review_tags = browser.find_elements_by_xpath (\"//p[@class='_2-N8zT']\")\n",
    "review_tags"
   ]
  },
  {
   "cell_type": "code",
   "execution_count": 107,
   "id": "funky-responsibility",
   "metadata": {},
   "outputs": [],
   "source": [
    "for i in review_tags:\n",
    "    review=i.text\n",
    "    review_summary.append(review)"
   ]
  },
  {
   "cell_type": "code",
   "execution_count": 108,
   "id": "moderate-transcription",
   "metadata": {},
   "outputs": [
    {
     "data": {
      "text/plain": [
       "['Brilliant',\n",
       " 'Perfect product!',\n",
       " 'Worth every penny',\n",
       " '',\n",
       " '',\n",
       " '',\n",
       " '',\n",
       " '',\n",
       " '',\n",
       " '',\n",
       " 'Brilliant',\n",
       " 'Perfect product!',\n",
       " 'Worth every penny',\n",
       " '',\n",
       " '',\n",
       " '',\n",
       " '',\n",
       " '',\n",
       " 'Brilliant',\n",
       " 'Brilliant',\n",
       " 'Mind-blowing purchase',\n",
       " '',\n",
       " '',\n",
       " '',\n",
       " '',\n",
       " '',\n",
       " 'Terrific',\n",
       " 'Super!',\n",
       " 'Pretty good',\n",
       " '',\n",
       " '',\n",
       " '',\n",
       " '',\n",
       " '',\n",
       " 'Decent product',\n",
       " 'Wonderful',\n",
       " 'Terrific purchase',\n",
       " '',\n",
       " '',\n",
       " '',\n",
       " '',\n",
       " '',\n",
       " 'Worthless',\n",
       " 'Highly recommended',\n",
       " 'Useless product',\n",
       " 'Good']"
      ]
     },
     "execution_count": 108,
     "metadata": {},
     "output_type": "execute_result"
    }
   ],
   "source": [
    " review_summary"
   ]
  },
  {
   "cell_type": "code",
   "execution_count": 109,
   "id": "controversial-ownership",
   "metadata": {},
   "outputs": [
    {
     "data": {
      "text/plain": [
       "[<selenium.webdriver.remote.webelement.WebElement (session=\"f69c0554cdc00036f8536f3fd883e0d8\", element=\"7d3849ed-33a9-4027-bea9-8b66beea84b3\")>,\n",
       " <selenium.webdriver.remote.webelement.WebElement (session=\"f69c0554cdc00036f8536f3fd883e0d8\", element=\"5d4d0e8c-d15a-4d64-bbfb-2b80dbb484f7\")>,\n",
       " <selenium.webdriver.remote.webelement.WebElement (session=\"f69c0554cdc00036f8536f3fd883e0d8\", element=\"8a9a01b5-3f71-4390-84c3-c9535ecf946e\")>]"
      ]
     },
     "execution_count": 109,
     "metadata": {},
     "output_type": "execute_result"
    }
   ],
   "source": [
    "fullreview_tags = browser.find_elements_by_xpath (\"//div[@class='']\")\n",
    "fullreview_tags"
   ]
  },
  {
   "cell_type": "code",
   "execution_count": 110,
   "id": "photographic-louisiana",
   "metadata": {},
   "outputs": [],
   "source": [
    "for i in fullreview_tags:\n",
    "    fullreviews=i.text\n",
    "    full_review.append(fullreviews)"
   ]
  },
  {
   "cell_type": "code",
   "execution_count": 111,
   "id": "acceptable-malta",
   "metadata": {},
   "outputs": [
    {
     "data": {
      "text/plain": [
       "['4.644,833 Ratings & 3,433 Reviews',\n",
       " 'Description\\nNA\\nProduct Description\\nBeautiful Design\\nFeaturing a 15.49-cm (6.1) all-screen Liquid Retina LCD and a glass and aluminum design, the iPhone 11 is as beautiful as it gets. Also, the IP68 rating ensures that is water-resistant up to 2 meters for 30 minutes.\\nTake Your Photos Further. And Wider.\\nThe iPhone 11 features dual 12 MP Ultra Wide (13mm) and Wide (26mm) cameras with 4K video recording up to 60 fps. The Ultra Wide camera provides 120° field of view, letting you capture four times more scene, and the Wide camera provides 100% Focus Pixels for up to three times faster autofocus in low light.\\nView all features\\nSpecifications\\nGeneral\\nIn The Box\\nHandset, EarPods with Lightning Connector, Lightning to USB Cable, USB Power Adapter, Documentation\\nModel Number\\nMWLT2HN/A\\nModel Name\\niPhone 11\\nColor\\nBlack\\nBrowse Type\\nSmartphones\\nSIM Type\\nDual Sim\\nHybrid Sim Slot\\nNo\\nTouchscreen\\nYes\\nRead More\\nRatings & Reviews\\nRate Product\\n4.6★\\n44,833 Ratings &\\n3,433 Reviews\\n5★\\n4★\\n3★\\n2★\\n1★\\n35,280\\n6,036\\n1,341\\n531\\n1,645\\n4.7\\nCamera\\n4.5\\nBattery\\n4.3\\nDisplay\\n4.7\\nValue for Money\\n+ 1800\\n5\\nBrilliant\\nThe Best Phone for the Money\\n\\nThe iPhone 11 offers superb cameras, a more durable design and excellent battery life for an affordable price.\\n\\nCompelling ultra-wide camera\\nNew Night mode is excellent\\nLong battery life\\nAnkit\\nCertified Buyer, Gurgaon\\nSep, 2019\\n3280502\\n5\\nPerfect product!\\nAmazing phone with great cameras and better battery which gives you the best performance. I just love the camera .\\nFlipkart Customer\\nCertified Buyer, Hyderabad\\n10months ago\\n4591770\\n5\\nWorth every penny\\nPreviously I was using one plus 3t it was a great phone\\nAnd then I decided to upgrade I am stuck between Samsung s10 plus or iPhone 11\\nI have seen the specs and everything were good except the display it’s somewhere between 720-1080 and it’s not even an amoled it’s an LCD display\\nBut I decided to go with iPhone because I have never used an IOS device I have Been an android user from the past 9 years I ordered IPhone 11 (128gb) product red\\nMy experience after using 3 weeks\\n1. The delivery ...\\nREAD MORE\\nVamshi Chakrala\\nCertified Buyer, Huzurnagar\\nJan, 2020\\n1418233\\n\\n\\n\\n\\n\\n\\n\\n\\n\\n\\n\\n\\n\\n\\n\\n\\n\\n\\n\\n\\n+\\nAll 3433 reviews\\nQuestions and Answers\\nQ:which phone are best iphone XR or Iphone 11\\nA:Iphone 11\\nAnonymous\\nCertified Buyer\\n30354\\nRead other answers\\nQ:how many years we can play high games like pubg without lag?..my samsung A50 is lagging in 1year now\\nA:Mobile Life Time play\\nRony Sk\\nCertified Buyer\\n1138302\\nQ:Iphone 11 have a depth effect or not\\nA:yes\\nmahaveer gurjar\\nCertified Buyer\\n36187\\nAll questions\\n+\\nSafe and Secure Payments.Easy returns.100% Authentic products.',\n",
       " 'The Best Phone for the Money\\n\\nThe iPhone 11 offers superb cameras, a more durable design and excellent battery life for an affordable price.\\n\\nCompelling ultra-wide camera\\nNew Night mode is excellent\\nLong battery life',\n",
       " 'Amazing phone with great cameras and better battery which gives you the best performance. I just love the camera .',\n",
       " 'Previously I was using one plus 3t it was a great phone\\nAnd then I decided to upgrade I am stuck between Samsung s10 plus or iPhone 11\\nI have seen the specs and everything were good except the display it’s somewhere between 720-1080 and it’s not even an amoled it’s an LCD display\\nBut I decided to go with iPhone because I have never used an IOS device I have Been an android user from the past 9 years I ordered IPhone 11 (128gb) product red\\nMy experience after using 3 weeks\\n1. The delivery ...',\n",
       " '',\n",
       " '',\n",
       " '',\n",
       " '',\n",
       " '',\n",
       " '',\n",
       " '',\n",
       " 'Q:which phone are best iphone XR or Iphone 11\\nA:Iphone 11\\nAnonymous\\nCertified Buyer\\n30354\\nRead other answers\\nQ:how many years we can play high games like pubg without lag?..my samsung A50 is lagging in 1year now\\nA:Mobile Life Time play\\nRony Sk\\nCertified Buyer\\n1138302\\nQ:Iphone 11 have a depth effect or not\\nA:yes\\nmahaveer gurjar\\nCertified Buyer\\n36187',\n",
       " '4.644,839 Ratings & 3,433 Reviews',\n",
       " 'The Best Phone for the Money\\n\\nThe iPhone 11 offers superb cameras, a more durable design and excellent battery life for an affordable price.\\n\\nCompelling ultra-wide camera\\nNew Night mode is excellent\\nLong battery life',\n",
       " 'Amazing phone with great cameras and better battery which gives you the best performance. I just love the camera .',\n",
       " 'Previously I was using one plus 3t it was a great phone\\nAnd then I decided to upgrade I am stuck between Samsung s10 plus or iPhone 11\\nI have seen the specs and everything were good except the display it’s somewhere between 720-1080 and it’s not even an amoled it’s an LCD display\\nBut I decided to go with iPhone because I have never used an IOS device I have Been an android user from the past 9 years I ordered IPhone 11 (128gb) product red\\nMy experience after using 3 weeks\\n1. The delivery ...',\n",
       " '',\n",
       " '',\n",
       " '',\n",
       " '',\n",
       " '',\n",
       " 'Q:which phone are best iphone XR or Iphone 11\\nA:Iphone 11\\nAnonymous\\nCertified Buyer\\n30354\\nRead other answers\\nQ:how many years we can play high games like pubg without lag?..my samsung A50 is lagging in 1year now\\nA:Mobile Life Time play\\nRony Sk\\nCertified Buyer\\n1138302\\nQ:Iphone 11 have a depth effect or not\\nA:yes\\nmahaveer gurjar\\nCertified Buyer\\n36187',\n",
       " '4.511,202 Ratings & 794 Reviews',\n",
       " \"Product Description\\nAn all-new glass design, an updated camera, and a powerful chip, there's so much to love about the iPhone 8. This iPhone brings you an augmented reality experience that's more immersive than before. What's more? You can charge your iPhone wirelessly!\\nFormed From Glass\\nBoasting a color-matched, aerospace-grade aluminium band, this phone is a stunner. The distinctive glass on its front and back is durable.\\nWater and Dust Resistant (IP67)\\nIts body is precision-engineered to be splash, water, and dust resistant.\\nView all features\\nSpecifications\\nGeneral\\nIn The Box\\niPhone with iOS 12, EarPods with Lightning Connector, Lightning to USB Cable, USB Power Adapter, Documentation\\nModel Number\\nMQ7G2HN/A\\nModel Name\\niPhone 8\\nColor\\nSilver\\nBrowse Type\\nSmartphones\\nSIM Type\\nSingle Sim\\nTouchscreen\\nYes\\nSound Enhancements\\nBuilt-in Stereo Speaker, Built-in Microphone\\nRead More\\nRatings & Reviews\\nRate Product\\n4.5★\\n11,202 Ratings &\\n794 Reviews\\n5★\\n4★\\n3★\\n2★\\n1★\\n8,332\\n1,730\\n421\\n152\\n567\\n4.6\\nCamera\\n4.1\\nBattery\\n4.8\\nValue for Money\\n4.5\\nPerformance\\n+ 168\\n5\\nBrilliant\\nI got this as my birthday gift the phone is just awesome pics the display and voice quality is just awesome nd looks are my favourite it is worth of money❤️🥰💕📱\\n+ 1\\nFlipkart Customer\\nCertified Buyer, Mohali\\nDec, 2019\\n25046\\n5\\nBrilliant\\niPhone 8 nice I love this mobile nice picture clarity\\nVenkey P\\nCertified Buyer, Payakaraopeta\\nOct, 2019\\n39887\\n5\\nMind-blowing purchase\\nworth the money. battery charge can lasts full day if used in low power mode and well it's an iPhone 😉. iOS 13 is awesome, camera is not that great but ok when compared with my OnePlus 7 pro and display is best compared to iPhone xr. best buy 👌\\nSathya Kiran\\nCertified Buyer, Secunderabad\\nOct, 2019\\n447117\\n\\n\\n\\n\\n\\n+\\nAll 794 reviews\\nQuestions and Answers\\nQ:which 1 to buy iphone 7 plus or iphone 8?\\nA:Iphone 8 as its faster and also has wireless charging\\nNitin Kumar\\nCertified Buyer\\n8814\\nQ:Which phone is best Google pixel 2 or iPhone 8\\nA:iPhone 8\\nAnonymous\\nCertified Buyer\\n8117\\nRead other answers\\nQ:does jio sim works on iphone 8???\\nA:Yes. It works.\\nKusum Raghava\\nCertified Buyer\\n10728\\nRead other answers\\nAll questions\\n+\\nSafe and Secure Payments.Easy returns.100% Authentic products.\",\n",
       " 'I got this as my birthday gift the phone is just awesome pics the display and voice quality is just awesome nd looks are my favourite it is worth of money❤️🥰💕📱',\n",
       " 'iPhone 8 nice I love this mobile nice picture clarity',\n",
       " \"worth the money. battery charge can lasts full day if used in low power mode and well it's an iPhone 😉. iOS 13 is awesome, camera is not that great but ok when compared with my OnePlus 7 pro and display is best compared to iPhone xr. best buy 👌\",\n",
       " '',\n",
       " '',\n",
       " '',\n",
       " '',\n",
       " '',\n",
       " 'Q:which 1 to buy iphone 7 plus or iphone 8?\\nA:Iphone 8 as its faster and also has wireless charging\\nNitin Kumar\\nCertified Buyer\\n8814\\nQ:Which phone is best Google pixel 2 or iPhone 8\\nA:iPhone 8\\nAnonymous\\nCertified Buyer\\n8117\\nRead other answers\\nQ:does jio sim works on iphone 8???\\nA:Yes. It works.\\nKusum Raghava\\nCertified Buyer\\n10728\\nRead other answers',\n",
       " '4.679,835 Ratings & 6,821 Reviews',\n",
       " \"Description\\nNA\\nProduct Description\\nThe iPhone XR has arrived to stun our senses with a host of features such as the Liquid Retina Display, a faster Face ID, and the powerful A12 Bionic Chip. Whether it's that picture-perfect portrait shot or a jaw-dropping HDR picture, the cameras of this iPhone too will continue to stun you with their brilliance. Thus, when you have the iPhone XR in your hands, you can only see beauty, in every way.\\nLiquid Retina Display - Beauty Awaits Your Eyes\\nWhat does the display of the iPhone XR smartphone have in store for you? Its advanced 15.49 cm (6.1) Liquid Retina Display along with an innovative backlight, allows the screen to stretch to the corners, thereby exposing you to colorful visuals from one edge to another. It also packs the punch of enhanced color accuracy and a wide color gamut for delightful visuals.\\nExceptional Design - Feel It to Believe It\\nGet set to be stunned by this phone's design as it comprises one of the most durable front glass. A special Apple-designed alloy has been utilized to make the structural bands to complement the look of the back glass.\\nView all features\\nSpecifications\\nGeneral\\nIn The Box\\nHandset, EarPods with Lightning Connector, Lightning to USB Cable, USB Power Adapter, Documentation\\nModel Number\\nMRYP2HN/A\\nModel Name\\niPhone XR\\nColor\\nCoral\\nBrowse Type\\nSmartphones\\nSIM Type\\nDual Sim\\nHybrid Sim Slot\\nNo\\nTouchscreen\\nYes\\nRead More\\nRatings & Reviews\\nRate Product\\n4.6★\\n79,835 Ratings &\\n6,821 Reviews\\n5★\\n4★\\n3★\\n2★\\n1★\\n60,924\\n12,749\\n2,653\\n865\\n2,644\\n4.4\\nCamera\\n4.6\\nBattery\\n4.6\\nDisplay\\n4.8\\nValue for Money\\n+ 2698\\n5\\nTerrific\\nAwesome smart phone.... Loved it.\\nBig display, awesome battery backup, Monster sounds, great colour, Apple durability what more u want.\\n+ 1\\nFlipkart Customer\\nCertified Buyer, Pimpri Chinchwad\\n7months ago\\n2445378\\n5\\nSuper!\\nWriting this review after using iPhone XR for almost six months, a total value for money phone. Battery performance is pretty nice in comparison to other iPhones.\\nCamera is superb. Looking forward for iOS 14 update. I would recommend to buy XR instead of SE2 .\\nFlipkart Customer\\nCertified Buyer, Pune\\n9months ago\\n868155\\n4\\nPretty good\\nSo amazin....Blue colour is fresh+beautiful+awesome . And For me it's so ooooo pretty & fancy colour . Wow! Phone features , COD tho 👍, price value perfect , full screen wallpaper hd for mobile and about battery life i can't describe . Aaaaaa.......lovely. And im Sorry for my photography but in real blue colour is so amazin , i meant it 🖖.\\n+ 1\\nDeepa Cheri\\nCertified Buyer, Guwahati\\n5months ago\\n17426\\n\\n\\n\\n\\n\\n\\n\\n\\n\\n\\n\\n\\n\\n\\n\\n\\n\\n\\n+\\nAll 6821 reviews\\nQuestions and Answers\\nQ:What is the meaning of product that mentioned in the title ? Is it any differ from others\\nA:Red is a licensed brand for raising funds to fight HIV AIDS. A portion of each purchase of product red iPhone goes directly to help fight HIV and AIDS. You can search product red for more information.\\nAnonymous\\nCertified Buyer\\n801158\\nRead other answers\\nQ:which one is better iphone 7 plus or iphone xr\\nA:Xr\\nAnonymous\\nCertified Buyer\\n1618514\\nQ:How long can I take a picture under water ??\\nA:Its water resistant and not water proof and also it doesn’t have any warranty on damages from water\\nFlipkart Customer\\nCertified Buyer\\n412146\\nRead other answers\\nAll questions\\n+\\nSafe and Secure Payments.Easy returns.100% Authentic products.\",\n",
       " 'Awesome smart phone.... Loved it.\\nBig display, awesome battery backup, Monster sounds, great colour, Apple durability what more u want.',\n",
       " 'Writing this review after using iPhone XR for almost six months, a total value for money phone. Battery performance is pretty nice in comparison to other iPhones.\\nCamera is superb. Looking forward for iOS 14 update. I would recommend to buy XR instead of SE2 .',\n",
       " \"So amazin....Blue colour is fresh+beautiful+awesome . And For me it's so ooooo pretty & fancy colour . Wow! Phone features , COD tho 👍, price value perfect , full screen wallpaper hd for mobile and about battery life i can't describe . Aaaaaa.......lovely. And im Sorry for my photography but in real blue colour is so amazin , i meant it 🖖.\",\n",
       " '',\n",
       " '',\n",
       " '',\n",
       " '',\n",
       " '',\n",
       " 'Q:What is the meaning of product that mentioned in the title ? Is it any differ from others\\nA:Red is a licensed brand for raising funds to fight HIV AIDS. A portion of each purchase of product red iPhone goes directly to help fight HIV and AIDS. You can search product red for more information.\\nAnonymous\\nCertified Buyer\\n801158\\nRead other answers\\nQ:which one is better iphone 7 plus or iphone xr\\nA:Xr\\nAnonymous\\nCertified Buyer\\n1618514\\nQ:How long can I take a picture under water ??\\nA:Its water resistant and not water proof and also it doesn’t have any warranty on damages from water\\nFlipkart Customer\\nCertified Buyer\\n412146\\nRead other answers',\n",
       " '3.768 Ratings & 16 Reviews',\n",
       " 'Good',\n",
       " 'Superb good quality glass',\n",
       " 'Fine quality of 6s genuine product',\n",
       " '',\n",
       " '',\n",
       " '',\n",
       " '',\n",
       " '',\n",
       " '3.25 Ratings & 2 Reviews',\n",
       " 'bad quality product',\n",
       " 'Nice',\n",
       " '23 Ratings & 2 Reviews',\n",
       " 'It doesn’t stick well very bad quality',\n",
       " 'i think the product is okay .. but you need to provide proper instructions to do this .']"
      ]
     },
     "execution_count": 111,
     "metadata": {},
     "output_type": "execute_result"
    }
   ],
   "source": [
    " full_review"
   ]
  },
  {
   "cell_type": "code",
   "execution_count": 112,
   "id": "frank-demonstration",
   "metadata": {},
   "outputs": [
    {
     "name": "stdout",
     "output_type": "stream",
     "text": [
      "206 46 60\n"
     ]
    }
   ],
   "source": [
    "print(len(rating), len(review_summary), len(full_review))"
   ]
  },
  {
   "cell_type": "code",
   "execution_count": 113,
   "id": "bottom-banks",
   "metadata": {},
   "outputs": [],
   "source": [
    "url=\"https://www.flipkart.com/villa-screen-guard-iphone-5-apple-5s-se/p/itm93dd927c61983?pid=ACCFW2WCKPVNWF6Z&lid=LSTACCFW2WCKPVNWF6ZVVPCAH&marketplace=FLIPKART&q=iphone11&store=tyy&srno=s_6_204&otracker=search&otracker1=search&fm=organic&iid=en_2sVdVRh%2FWYuep%2FED602kewI9bJ3YKvoMwOOmTYsDrhVOMu9OwaAtQVeXwozJWLkNZAOuFDHmWU73EV0fUosjcg%3D%3D&ppt=sp&ppn=sp&ssid=f0fol1uleo0000001618040949160&qH=d6db477051465f9a\""
   ]
  },
  {
   "cell_type": "code",
   "execution_count": 114,
   "id": "elementary-locking",
   "metadata": {},
   "outputs": [],
   "source": [
    "#lets open the webpage through our webdriver\n",
    "browser.get(url)"
   ]
  },
  {
   "cell_type": "code",
   "execution_count": 115,
   "id": "dressed-gasoline",
   "metadata": {},
   "outputs": [
    {
     "data": {
      "text/plain": [
       "[<selenium.webdriver.remote.webelement.WebElement (session=\"f69c0554cdc00036f8536f3fd883e0d8\", element=\"f5e1b228-8597-4174-961b-ffecbc7a97d8\")>]"
      ]
     },
     "execution_count": 115,
     "metadata": {},
     "output_type": "execute_result"
    }
   ],
   "source": [
    "review_tags = browser.find_elements_by_xpath (\"//p[@class='_2-N8zT']\")\n",
    "review_tags"
   ]
  },
  {
   "cell_type": "code",
   "execution_count": 116,
   "id": "heavy-dinner",
   "metadata": {},
   "outputs": [],
   "source": [
    "for i in review_tags:\n",
    "    review=i.text\n",
    "    review_summary.append(review)"
   ]
  },
  {
   "cell_type": "code",
   "execution_count": 117,
   "id": "blank-venezuela",
   "metadata": {},
   "outputs": [
    {
     "data": {
      "text/plain": [
       "['Brilliant',\n",
       " 'Perfect product!',\n",
       " 'Worth every penny',\n",
       " '',\n",
       " '',\n",
       " '',\n",
       " '',\n",
       " '',\n",
       " '',\n",
       " '',\n",
       " 'Brilliant',\n",
       " 'Perfect product!',\n",
       " 'Worth every penny',\n",
       " '',\n",
       " '',\n",
       " '',\n",
       " '',\n",
       " '',\n",
       " 'Brilliant',\n",
       " 'Brilliant',\n",
       " 'Mind-blowing purchase',\n",
       " '',\n",
       " '',\n",
       " '',\n",
       " '',\n",
       " '',\n",
       " 'Terrific',\n",
       " 'Super!',\n",
       " 'Pretty good',\n",
       " '',\n",
       " '',\n",
       " '',\n",
       " '',\n",
       " '',\n",
       " 'Decent product',\n",
       " 'Wonderful',\n",
       " 'Terrific purchase',\n",
       " '',\n",
       " '',\n",
       " '',\n",
       " '',\n",
       " '',\n",
       " 'Worthless',\n",
       " 'Highly recommended',\n",
       " 'Useless product',\n",
       " 'Good',\n",
       " 'Classy product']"
      ]
     },
     "execution_count": 117,
     "metadata": {},
     "output_type": "execute_result"
    }
   ],
   "source": [
    "review_summary"
   ]
  },
  {
   "cell_type": "code",
   "execution_count": 118,
   "id": "alike-order",
   "metadata": {},
   "outputs": [
    {
     "data": {
      "text/plain": [
       "[<selenium.webdriver.remote.webelement.WebElement (session=\"f69c0554cdc00036f8536f3fd883e0d8\", element=\"e8f88a12-eeea-4260-938d-3eb5fa711a16\")>,\n",
       " <selenium.webdriver.remote.webelement.WebElement (session=\"f69c0554cdc00036f8536f3fd883e0d8\", element=\"a9c5e4a4-53b3-4461-bc06-2955934d5d9d\")>]"
      ]
     },
     "execution_count": 118,
     "metadata": {},
     "output_type": "execute_result"
    }
   ],
   "source": [
    "fullreview_tags = browser.find_elements_by_xpath (\"//div[@class='']\")\n",
    "fullreview_tags"
   ]
  },
  {
   "cell_type": "code",
   "execution_count": 119,
   "id": "collaborative-encoding",
   "metadata": {},
   "outputs": [],
   "source": [
    "for i in fullreview_tags:\n",
    "    fullreviews=i.text\n",
    "    full_review.append(fullreviews)"
   ]
  },
  {
   "cell_type": "code",
   "execution_count": 120,
   "id": "vietnamese-clarity",
   "metadata": {},
   "outputs": [
    {
     "data": {
      "text/plain": [
       "['4.644,833 Ratings & 3,433 Reviews',\n",
       " 'Description\\nNA\\nProduct Description\\nBeautiful Design\\nFeaturing a 15.49-cm (6.1) all-screen Liquid Retina LCD and a glass and aluminum design, the iPhone 11 is as beautiful as it gets. Also, the IP68 rating ensures that is water-resistant up to 2 meters for 30 minutes.\\nTake Your Photos Further. And Wider.\\nThe iPhone 11 features dual 12 MP Ultra Wide (13mm) and Wide (26mm) cameras with 4K video recording up to 60 fps. The Ultra Wide camera provides 120° field of view, letting you capture four times more scene, and the Wide camera provides 100% Focus Pixels for up to three times faster autofocus in low light.\\nView all features\\nSpecifications\\nGeneral\\nIn The Box\\nHandset, EarPods with Lightning Connector, Lightning to USB Cable, USB Power Adapter, Documentation\\nModel Number\\nMWLT2HN/A\\nModel Name\\niPhone 11\\nColor\\nBlack\\nBrowse Type\\nSmartphones\\nSIM Type\\nDual Sim\\nHybrid Sim Slot\\nNo\\nTouchscreen\\nYes\\nRead More\\nRatings & Reviews\\nRate Product\\n4.6★\\n44,833 Ratings &\\n3,433 Reviews\\n5★\\n4★\\n3★\\n2★\\n1★\\n35,280\\n6,036\\n1,341\\n531\\n1,645\\n4.7\\nCamera\\n4.5\\nBattery\\n4.3\\nDisplay\\n4.7\\nValue for Money\\n+ 1800\\n5\\nBrilliant\\nThe Best Phone for the Money\\n\\nThe iPhone 11 offers superb cameras, a more durable design and excellent battery life for an affordable price.\\n\\nCompelling ultra-wide camera\\nNew Night mode is excellent\\nLong battery life\\nAnkit\\nCertified Buyer, Gurgaon\\nSep, 2019\\n3280502\\n5\\nPerfect product!\\nAmazing phone with great cameras and better battery which gives you the best performance. I just love the camera .\\nFlipkart Customer\\nCertified Buyer, Hyderabad\\n10months ago\\n4591770\\n5\\nWorth every penny\\nPreviously I was using one plus 3t it was a great phone\\nAnd then I decided to upgrade I am stuck between Samsung s10 plus or iPhone 11\\nI have seen the specs and everything were good except the display it’s somewhere between 720-1080 and it’s not even an amoled it’s an LCD display\\nBut I decided to go with iPhone because I have never used an IOS device I have Been an android user from the past 9 years I ordered IPhone 11 (128gb) product red\\nMy experience after using 3 weeks\\n1. The delivery ...\\nREAD MORE\\nVamshi Chakrala\\nCertified Buyer, Huzurnagar\\nJan, 2020\\n1418233\\n\\n\\n\\n\\n\\n\\n\\n\\n\\n\\n\\n\\n\\n\\n\\n\\n\\n\\n\\n\\n+\\nAll 3433 reviews\\nQuestions and Answers\\nQ:which phone are best iphone XR or Iphone 11\\nA:Iphone 11\\nAnonymous\\nCertified Buyer\\n30354\\nRead other answers\\nQ:how many years we can play high games like pubg without lag?..my samsung A50 is lagging in 1year now\\nA:Mobile Life Time play\\nRony Sk\\nCertified Buyer\\n1138302\\nQ:Iphone 11 have a depth effect or not\\nA:yes\\nmahaveer gurjar\\nCertified Buyer\\n36187\\nAll questions\\n+\\nSafe and Secure Payments.Easy returns.100% Authentic products.',\n",
       " 'The Best Phone for the Money\\n\\nThe iPhone 11 offers superb cameras, a more durable design and excellent battery life for an affordable price.\\n\\nCompelling ultra-wide camera\\nNew Night mode is excellent\\nLong battery life',\n",
       " 'Amazing phone with great cameras and better battery which gives you the best performance. I just love the camera .',\n",
       " 'Previously I was using one plus 3t it was a great phone\\nAnd then I decided to upgrade I am stuck between Samsung s10 plus or iPhone 11\\nI have seen the specs and everything were good except the display it’s somewhere between 720-1080 and it’s not even an amoled it’s an LCD display\\nBut I decided to go with iPhone because I have never used an IOS device I have Been an android user from the past 9 years I ordered IPhone 11 (128gb) product red\\nMy experience after using 3 weeks\\n1. The delivery ...',\n",
       " '',\n",
       " '',\n",
       " '',\n",
       " '',\n",
       " '',\n",
       " '',\n",
       " '',\n",
       " 'Q:which phone are best iphone XR or Iphone 11\\nA:Iphone 11\\nAnonymous\\nCertified Buyer\\n30354\\nRead other answers\\nQ:how many years we can play high games like pubg without lag?..my samsung A50 is lagging in 1year now\\nA:Mobile Life Time play\\nRony Sk\\nCertified Buyer\\n1138302\\nQ:Iphone 11 have a depth effect or not\\nA:yes\\nmahaveer gurjar\\nCertified Buyer\\n36187',\n",
       " '4.644,839 Ratings & 3,433 Reviews',\n",
       " 'The Best Phone for the Money\\n\\nThe iPhone 11 offers superb cameras, a more durable design and excellent battery life for an affordable price.\\n\\nCompelling ultra-wide camera\\nNew Night mode is excellent\\nLong battery life',\n",
       " 'Amazing phone with great cameras and better battery which gives you the best performance. I just love the camera .',\n",
       " 'Previously I was using one plus 3t it was a great phone\\nAnd then I decided to upgrade I am stuck between Samsung s10 plus or iPhone 11\\nI have seen the specs and everything were good except the display it’s somewhere between 720-1080 and it’s not even an amoled it’s an LCD display\\nBut I decided to go with iPhone because I have never used an IOS device I have Been an android user from the past 9 years I ordered IPhone 11 (128gb) product red\\nMy experience after using 3 weeks\\n1. The delivery ...',\n",
       " '',\n",
       " '',\n",
       " '',\n",
       " '',\n",
       " '',\n",
       " 'Q:which phone are best iphone XR or Iphone 11\\nA:Iphone 11\\nAnonymous\\nCertified Buyer\\n30354\\nRead other answers\\nQ:how many years we can play high games like pubg without lag?..my samsung A50 is lagging in 1year now\\nA:Mobile Life Time play\\nRony Sk\\nCertified Buyer\\n1138302\\nQ:Iphone 11 have a depth effect or not\\nA:yes\\nmahaveer gurjar\\nCertified Buyer\\n36187',\n",
       " '4.511,202 Ratings & 794 Reviews',\n",
       " \"Product Description\\nAn all-new glass design, an updated camera, and a powerful chip, there's so much to love about the iPhone 8. This iPhone brings you an augmented reality experience that's more immersive than before. What's more? You can charge your iPhone wirelessly!\\nFormed From Glass\\nBoasting a color-matched, aerospace-grade aluminium band, this phone is a stunner. The distinctive glass on its front and back is durable.\\nWater and Dust Resistant (IP67)\\nIts body is precision-engineered to be splash, water, and dust resistant.\\nView all features\\nSpecifications\\nGeneral\\nIn The Box\\niPhone with iOS 12, EarPods with Lightning Connector, Lightning to USB Cable, USB Power Adapter, Documentation\\nModel Number\\nMQ7G2HN/A\\nModel Name\\niPhone 8\\nColor\\nSilver\\nBrowse Type\\nSmartphones\\nSIM Type\\nSingle Sim\\nTouchscreen\\nYes\\nSound Enhancements\\nBuilt-in Stereo Speaker, Built-in Microphone\\nRead More\\nRatings & Reviews\\nRate Product\\n4.5★\\n11,202 Ratings &\\n794 Reviews\\n5★\\n4★\\n3★\\n2★\\n1★\\n8,332\\n1,730\\n421\\n152\\n567\\n4.6\\nCamera\\n4.1\\nBattery\\n4.8\\nValue for Money\\n4.5\\nPerformance\\n+ 168\\n5\\nBrilliant\\nI got this as my birthday gift the phone is just awesome pics the display and voice quality is just awesome nd looks are my favourite it is worth of money❤️🥰💕📱\\n+ 1\\nFlipkart Customer\\nCertified Buyer, Mohali\\nDec, 2019\\n25046\\n5\\nBrilliant\\niPhone 8 nice I love this mobile nice picture clarity\\nVenkey P\\nCertified Buyer, Payakaraopeta\\nOct, 2019\\n39887\\n5\\nMind-blowing purchase\\nworth the money. battery charge can lasts full day if used in low power mode and well it's an iPhone 😉. iOS 13 is awesome, camera is not that great but ok when compared with my OnePlus 7 pro and display is best compared to iPhone xr. best buy 👌\\nSathya Kiran\\nCertified Buyer, Secunderabad\\nOct, 2019\\n447117\\n\\n\\n\\n\\n\\n+\\nAll 794 reviews\\nQuestions and Answers\\nQ:which 1 to buy iphone 7 plus or iphone 8?\\nA:Iphone 8 as its faster and also has wireless charging\\nNitin Kumar\\nCertified Buyer\\n8814\\nQ:Which phone is best Google pixel 2 or iPhone 8\\nA:iPhone 8\\nAnonymous\\nCertified Buyer\\n8117\\nRead other answers\\nQ:does jio sim works on iphone 8???\\nA:Yes. It works.\\nKusum Raghava\\nCertified Buyer\\n10728\\nRead other answers\\nAll questions\\n+\\nSafe and Secure Payments.Easy returns.100% Authentic products.\",\n",
       " 'I got this as my birthday gift the phone is just awesome pics the display and voice quality is just awesome nd looks are my favourite it is worth of money❤️🥰💕📱',\n",
       " 'iPhone 8 nice I love this mobile nice picture clarity',\n",
       " \"worth the money. battery charge can lasts full day if used in low power mode and well it's an iPhone 😉. iOS 13 is awesome, camera is not that great but ok when compared with my OnePlus 7 pro and display is best compared to iPhone xr. best buy 👌\",\n",
       " '',\n",
       " '',\n",
       " '',\n",
       " '',\n",
       " '',\n",
       " 'Q:which 1 to buy iphone 7 plus or iphone 8?\\nA:Iphone 8 as its faster and also has wireless charging\\nNitin Kumar\\nCertified Buyer\\n8814\\nQ:Which phone is best Google pixel 2 or iPhone 8\\nA:iPhone 8\\nAnonymous\\nCertified Buyer\\n8117\\nRead other answers\\nQ:does jio sim works on iphone 8???\\nA:Yes. It works.\\nKusum Raghava\\nCertified Buyer\\n10728\\nRead other answers',\n",
       " '4.679,835 Ratings & 6,821 Reviews',\n",
       " \"Description\\nNA\\nProduct Description\\nThe iPhone XR has arrived to stun our senses with a host of features such as the Liquid Retina Display, a faster Face ID, and the powerful A12 Bionic Chip. Whether it's that picture-perfect portrait shot or a jaw-dropping HDR picture, the cameras of this iPhone too will continue to stun you with their brilliance. Thus, when you have the iPhone XR in your hands, you can only see beauty, in every way.\\nLiquid Retina Display - Beauty Awaits Your Eyes\\nWhat does the display of the iPhone XR smartphone have in store for you? Its advanced 15.49 cm (6.1) Liquid Retina Display along with an innovative backlight, allows the screen to stretch to the corners, thereby exposing you to colorful visuals from one edge to another. It also packs the punch of enhanced color accuracy and a wide color gamut for delightful visuals.\\nExceptional Design - Feel It to Believe It\\nGet set to be stunned by this phone's design as it comprises one of the most durable front glass. A special Apple-designed alloy has been utilized to make the structural bands to complement the look of the back glass.\\nView all features\\nSpecifications\\nGeneral\\nIn The Box\\nHandset, EarPods with Lightning Connector, Lightning to USB Cable, USB Power Adapter, Documentation\\nModel Number\\nMRYP2HN/A\\nModel Name\\niPhone XR\\nColor\\nCoral\\nBrowse Type\\nSmartphones\\nSIM Type\\nDual Sim\\nHybrid Sim Slot\\nNo\\nTouchscreen\\nYes\\nRead More\\nRatings & Reviews\\nRate Product\\n4.6★\\n79,835 Ratings &\\n6,821 Reviews\\n5★\\n4★\\n3★\\n2★\\n1★\\n60,924\\n12,749\\n2,653\\n865\\n2,644\\n4.4\\nCamera\\n4.6\\nBattery\\n4.6\\nDisplay\\n4.8\\nValue for Money\\n+ 2698\\n5\\nTerrific\\nAwesome smart phone.... Loved it.\\nBig display, awesome battery backup, Monster sounds, great colour, Apple durability what more u want.\\n+ 1\\nFlipkart Customer\\nCertified Buyer, Pimpri Chinchwad\\n7months ago\\n2445378\\n5\\nSuper!\\nWriting this review after using iPhone XR for almost six months, a total value for money phone. Battery performance is pretty nice in comparison to other iPhones.\\nCamera is superb. Looking forward for iOS 14 update. I would recommend to buy XR instead of SE2 .\\nFlipkart Customer\\nCertified Buyer, Pune\\n9months ago\\n868155\\n4\\nPretty good\\nSo amazin....Blue colour is fresh+beautiful+awesome . And For me it's so ooooo pretty & fancy colour . Wow! Phone features , COD tho 👍, price value perfect , full screen wallpaper hd for mobile and about battery life i can't describe . Aaaaaa.......lovely. And im Sorry for my photography but in real blue colour is so amazin , i meant it 🖖.\\n+ 1\\nDeepa Cheri\\nCertified Buyer, Guwahati\\n5months ago\\n17426\\n\\n\\n\\n\\n\\n\\n\\n\\n\\n\\n\\n\\n\\n\\n\\n\\n\\n\\n+\\nAll 6821 reviews\\nQuestions and Answers\\nQ:What is the meaning of product that mentioned in the title ? Is it any differ from others\\nA:Red is a licensed brand for raising funds to fight HIV AIDS. A portion of each purchase of product red iPhone goes directly to help fight HIV and AIDS. You can search product red for more information.\\nAnonymous\\nCertified Buyer\\n801158\\nRead other answers\\nQ:which one is better iphone 7 plus or iphone xr\\nA:Xr\\nAnonymous\\nCertified Buyer\\n1618514\\nQ:How long can I take a picture under water ??\\nA:Its water resistant and not water proof and also it doesn’t have any warranty on damages from water\\nFlipkart Customer\\nCertified Buyer\\n412146\\nRead other answers\\nAll questions\\n+\\nSafe and Secure Payments.Easy returns.100% Authentic products.\",\n",
       " 'Awesome smart phone.... Loved it.\\nBig display, awesome battery backup, Monster sounds, great colour, Apple durability what more u want.',\n",
       " 'Writing this review after using iPhone XR for almost six months, a total value for money phone. Battery performance is pretty nice in comparison to other iPhones.\\nCamera is superb. Looking forward for iOS 14 update. I would recommend to buy XR instead of SE2 .',\n",
       " \"So amazin....Blue colour is fresh+beautiful+awesome . And For me it's so ooooo pretty & fancy colour . Wow! Phone features , COD tho 👍, price value perfect , full screen wallpaper hd for mobile and about battery life i can't describe . Aaaaaa.......lovely. And im Sorry for my photography but in real blue colour is so amazin , i meant it 🖖.\",\n",
       " '',\n",
       " '',\n",
       " '',\n",
       " '',\n",
       " '',\n",
       " 'Q:What is the meaning of product that mentioned in the title ? Is it any differ from others\\nA:Red is a licensed brand for raising funds to fight HIV AIDS. A portion of each purchase of product red iPhone goes directly to help fight HIV and AIDS. You can search product red for more information.\\nAnonymous\\nCertified Buyer\\n801158\\nRead other answers\\nQ:which one is better iphone 7 plus or iphone xr\\nA:Xr\\nAnonymous\\nCertified Buyer\\n1618514\\nQ:How long can I take a picture under water ??\\nA:Its water resistant and not water proof and also it doesn’t have any warranty on damages from water\\nFlipkart Customer\\nCertified Buyer\\n412146\\nRead other answers',\n",
       " '3.768 Ratings & 16 Reviews',\n",
       " 'Good',\n",
       " 'Superb good quality glass',\n",
       " 'Fine quality of 6s genuine product',\n",
       " '',\n",
       " '',\n",
       " '',\n",
       " '',\n",
       " '',\n",
       " '3.25 Ratings & 2 Reviews',\n",
       " 'bad quality product',\n",
       " 'Nice',\n",
       " '23 Ratings & 2 Reviews',\n",
       " 'It doesn’t stick well very bad quality',\n",
       " 'i think the product is okay .. but you need to provide proper instructions to do this .',\n",
       " '3.813 Ratings & 1 Reviews',\n",
       " 'NYC n well packed']"
      ]
     },
     "execution_count": 120,
     "metadata": {},
     "output_type": "execute_result"
    }
   ],
   "source": [
    "full_review"
   ]
  },
  {
   "cell_type": "code",
   "execution_count": 121,
   "id": "committed-penalty",
   "metadata": {},
   "outputs": [
    {
     "name": "stdout",
     "output_type": "stream",
     "text": [
      "206 47 62\n"
     ]
    }
   ],
   "source": [
    "print(len(rating), len(review_summary), len(full_review))"
   ]
  },
  {
   "cell_type": "code",
   "execution_count": 122,
   "id": "monthly-shareware",
   "metadata": {},
   "outputs": [],
   "source": [
    "url=\"https://www.flipkart.com/ubon-front-back-tempered-glass-apple-iphone-11/p/itmb13f45eb31d5f?pid=ACCFVVNHHGHSKHA8&lid=LSTACCFVVNHHGHSKHA8JD5TCE&marketplace=FLIPKART&q=iphone11&store=tyy&srno=s_6_208&otracker=search&otracker1=search&fm=organic&iid=90cbf111-d5a6-43b1-8b05-ede61417cc01.ACCFVVNHHGHSKHA8.SEARCH&ppt=sp&ppn=sp&ssid=u4po2atji80000001618041193185&qH=d6db477051465f9a\""
   ]
  },
  {
   "cell_type": "code",
   "execution_count": 123,
   "id": "utility-bottom",
   "metadata": {},
   "outputs": [],
   "source": [
    "#lets open the webpage through our webdriver\n",
    "browser.get(url)"
   ]
  },
  {
   "cell_type": "code",
   "execution_count": 124,
   "id": "fifteen-toronto",
   "metadata": {},
   "outputs": [
    {
     "data": {
      "text/plain": [
       "[<selenium.webdriver.remote.webelement.WebElement (session=\"f69c0554cdc00036f8536f3fd883e0d8\", element=\"69836c26-a19d-42b7-bd2b-f57dfa5500d1\")>,\n",
       " <selenium.webdriver.remote.webelement.WebElement (session=\"f69c0554cdc00036f8536f3fd883e0d8\", element=\"5a723185-1766-484d-9926-d8e861ac2086\")>,\n",
       " <selenium.webdriver.remote.webelement.WebElement (session=\"f69c0554cdc00036f8536f3fd883e0d8\", element=\"4c15285e-1bbc-4733-8c1a-cb4acae84bdf\")>,\n",
       " <selenium.webdriver.remote.webelement.WebElement (session=\"f69c0554cdc00036f8536f3fd883e0d8\", element=\"b89fe7fe-fe94-4225-b2c8-6f9b7e6bee3c\")>,\n",
       " <selenium.webdriver.remote.webelement.WebElement (session=\"f69c0554cdc00036f8536f3fd883e0d8\", element=\"dfc6d200-473a-47ab-93a6-ae8954487ac3\")>]"
      ]
     },
     "execution_count": 124,
     "metadata": {},
     "output_type": "execute_result"
    }
   ],
   "source": [
    "review_tags = browser.find_elements_by_xpath (\"//p[@class='_2-N8zT']\")\n",
    "review_tags"
   ]
  },
  {
   "cell_type": "code",
   "execution_count": 125,
   "id": "right-favor",
   "metadata": {},
   "outputs": [],
   "source": [
    "for i in review_tags:\n",
    "    review=i.text\n",
    "    review_summary.append(review)"
   ]
  },
  {
   "cell_type": "code",
   "execution_count": 126,
   "id": "coral-might",
   "metadata": {},
   "outputs": [
    {
     "data": {
      "text/plain": [
       "['Brilliant',\n",
       " 'Perfect product!',\n",
       " 'Worth every penny',\n",
       " '',\n",
       " '',\n",
       " '',\n",
       " '',\n",
       " '',\n",
       " '',\n",
       " '',\n",
       " 'Brilliant',\n",
       " 'Perfect product!',\n",
       " 'Worth every penny',\n",
       " '',\n",
       " '',\n",
       " '',\n",
       " '',\n",
       " '',\n",
       " 'Brilliant',\n",
       " 'Brilliant',\n",
       " 'Mind-blowing purchase',\n",
       " '',\n",
       " '',\n",
       " '',\n",
       " '',\n",
       " '',\n",
       " 'Terrific',\n",
       " 'Super!',\n",
       " 'Pretty good',\n",
       " '',\n",
       " '',\n",
       " '',\n",
       " '',\n",
       " '',\n",
       " 'Decent product',\n",
       " 'Wonderful',\n",
       " 'Terrific purchase',\n",
       " '',\n",
       " '',\n",
       " '',\n",
       " '',\n",
       " '',\n",
       " 'Worthless',\n",
       " 'Highly recommended',\n",
       " 'Useless product',\n",
       " 'Good',\n",
       " 'Classy product',\n",
       " 'Not recommended at all',\n",
       " 'Classy product',\n",
       " 'Utterly Disappointed',\n",
       " '',\n",
       " '']"
      ]
     },
     "execution_count": 126,
     "metadata": {},
     "output_type": "execute_result"
    }
   ],
   "source": [
    " review_summary"
   ]
  },
  {
   "cell_type": "code",
   "execution_count": 127,
   "id": "adult-shelter",
   "metadata": {},
   "outputs": [
    {
     "data": {
      "text/plain": [
       "[<selenium.webdriver.remote.webelement.WebElement (session=\"f69c0554cdc00036f8536f3fd883e0d8\", element=\"5d8861f3-e8fc-405c-bc28-4bc9a1374439\")>,\n",
       " <selenium.webdriver.remote.webelement.WebElement (session=\"f69c0554cdc00036f8536f3fd883e0d8\", element=\"558c8f20-2d42-419c-8057-b2e2cb6986a9\")>,\n",
       " <selenium.webdriver.remote.webelement.WebElement (session=\"f69c0554cdc00036f8536f3fd883e0d8\", element=\"a2afc428-3311-436f-aae9-a91020a51962\")>,\n",
       " <selenium.webdriver.remote.webelement.WebElement (session=\"f69c0554cdc00036f8536f3fd883e0d8\", element=\"88ed33b6-a063-49d9-b67c-97563298b720\")>,\n",
       " <selenium.webdriver.remote.webelement.WebElement (session=\"f69c0554cdc00036f8536f3fd883e0d8\", element=\"9615dd73-38f5-4582-a80c-7b5f9e6ece7b\")>,\n",
       " <selenium.webdriver.remote.webelement.WebElement (session=\"f69c0554cdc00036f8536f3fd883e0d8\", element=\"d351dabd-f08a-4e2b-b44e-fb29fbc09384\")>]"
      ]
     },
     "execution_count": 127,
     "metadata": {},
     "output_type": "execute_result"
    }
   ],
   "source": [
    "fullreview_tags = browser.find_elements_by_xpath (\"//div[@class='']\")\n",
    "fullreview_tags"
   ]
  },
  {
   "cell_type": "code",
   "execution_count": 128,
   "id": "domestic-coalition",
   "metadata": {},
   "outputs": [],
   "source": [
    "for i in fullreview_tags:\n",
    "    fullreviews=i.text\n",
    "    full_review.append(fullreviews)"
   ]
  },
  {
   "cell_type": "code",
   "execution_count": 129,
   "id": "absolute-pasta",
   "metadata": {},
   "outputs": [
    {
     "data": {
      "text/plain": [
       "['4.644,833 Ratings & 3,433 Reviews',\n",
       " 'Description\\nNA\\nProduct Description\\nBeautiful Design\\nFeaturing a 15.49-cm (6.1) all-screen Liquid Retina LCD and a glass and aluminum design, the iPhone 11 is as beautiful as it gets. Also, the IP68 rating ensures that is water-resistant up to 2 meters for 30 minutes.\\nTake Your Photos Further. And Wider.\\nThe iPhone 11 features dual 12 MP Ultra Wide (13mm) and Wide (26mm) cameras with 4K video recording up to 60 fps. The Ultra Wide camera provides 120° field of view, letting you capture four times more scene, and the Wide camera provides 100% Focus Pixels for up to three times faster autofocus in low light.\\nView all features\\nSpecifications\\nGeneral\\nIn The Box\\nHandset, EarPods with Lightning Connector, Lightning to USB Cable, USB Power Adapter, Documentation\\nModel Number\\nMWLT2HN/A\\nModel Name\\niPhone 11\\nColor\\nBlack\\nBrowse Type\\nSmartphones\\nSIM Type\\nDual Sim\\nHybrid Sim Slot\\nNo\\nTouchscreen\\nYes\\nRead More\\nRatings & Reviews\\nRate Product\\n4.6★\\n44,833 Ratings &\\n3,433 Reviews\\n5★\\n4★\\n3★\\n2★\\n1★\\n35,280\\n6,036\\n1,341\\n531\\n1,645\\n4.7\\nCamera\\n4.5\\nBattery\\n4.3\\nDisplay\\n4.7\\nValue for Money\\n+ 1800\\n5\\nBrilliant\\nThe Best Phone for the Money\\n\\nThe iPhone 11 offers superb cameras, a more durable design and excellent battery life for an affordable price.\\n\\nCompelling ultra-wide camera\\nNew Night mode is excellent\\nLong battery life\\nAnkit\\nCertified Buyer, Gurgaon\\nSep, 2019\\n3280502\\n5\\nPerfect product!\\nAmazing phone with great cameras and better battery which gives you the best performance. I just love the camera .\\nFlipkart Customer\\nCertified Buyer, Hyderabad\\n10months ago\\n4591770\\n5\\nWorth every penny\\nPreviously I was using one plus 3t it was a great phone\\nAnd then I decided to upgrade I am stuck between Samsung s10 plus or iPhone 11\\nI have seen the specs and everything were good except the display it’s somewhere between 720-1080 and it’s not even an amoled it’s an LCD display\\nBut I decided to go with iPhone because I have never used an IOS device I have Been an android user from the past 9 years I ordered IPhone 11 (128gb) product red\\nMy experience after using 3 weeks\\n1. The delivery ...\\nREAD MORE\\nVamshi Chakrala\\nCertified Buyer, Huzurnagar\\nJan, 2020\\n1418233\\n\\n\\n\\n\\n\\n\\n\\n\\n\\n\\n\\n\\n\\n\\n\\n\\n\\n\\n\\n\\n+\\nAll 3433 reviews\\nQuestions and Answers\\nQ:which phone are best iphone XR or Iphone 11\\nA:Iphone 11\\nAnonymous\\nCertified Buyer\\n30354\\nRead other answers\\nQ:how many years we can play high games like pubg without lag?..my samsung A50 is lagging in 1year now\\nA:Mobile Life Time play\\nRony Sk\\nCertified Buyer\\n1138302\\nQ:Iphone 11 have a depth effect or not\\nA:yes\\nmahaveer gurjar\\nCertified Buyer\\n36187\\nAll questions\\n+\\nSafe and Secure Payments.Easy returns.100% Authentic products.',\n",
       " 'The Best Phone for the Money\\n\\nThe iPhone 11 offers superb cameras, a more durable design and excellent battery life for an affordable price.\\n\\nCompelling ultra-wide camera\\nNew Night mode is excellent\\nLong battery life',\n",
       " 'Amazing phone with great cameras and better battery which gives you the best performance. I just love the camera .',\n",
       " 'Previously I was using one plus 3t it was a great phone\\nAnd then I decided to upgrade I am stuck between Samsung s10 plus or iPhone 11\\nI have seen the specs and everything were good except the display it’s somewhere between 720-1080 and it’s not even an amoled it’s an LCD display\\nBut I decided to go with iPhone because I have never used an IOS device I have Been an android user from the past 9 years I ordered IPhone 11 (128gb) product red\\nMy experience after using 3 weeks\\n1. The delivery ...',\n",
       " '',\n",
       " '',\n",
       " '',\n",
       " '',\n",
       " '',\n",
       " '',\n",
       " '',\n",
       " 'Q:which phone are best iphone XR or Iphone 11\\nA:Iphone 11\\nAnonymous\\nCertified Buyer\\n30354\\nRead other answers\\nQ:how many years we can play high games like pubg without lag?..my samsung A50 is lagging in 1year now\\nA:Mobile Life Time play\\nRony Sk\\nCertified Buyer\\n1138302\\nQ:Iphone 11 have a depth effect or not\\nA:yes\\nmahaveer gurjar\\nCertified Buyer\\n36187',\n",
       " '4.644,839 Ratings & 3,433 Reviews',\n",
       " 'The Best Phone for the Money\\n\\nThe iPhone 11 offers superb cameras, a more durable design and excellent battery life for an affordable price.\\n\\nCompelling ultra-wide camera\\nNew Night mode is excellent\\nLong battery life',\n",
       " 'Amazing phone with great cameras and better battery which gives you the best performance. I just love the camera .',\n",
       " 'Previously I was using one plus 3t it was a great phone\\nAnd then I decided to upgrade I am stuck between Samsung s10 plus or iPhone 11\\nI have seen the specs and everything were good except the display it’s somewhere between 720-1080 and it’s not even an amoled it’s an LCD display\\nBut I decided to go with iPhone because I have never used an IOS device I have Been an android user from the past 9 years I ordered IPhone 11 (128gb) product red\\nMy experience after using 3 weeks\\n1. The delivery ...',\n",
       " '',\n",
       " '',\n",
       " '',\n",
       " '',\n",
       " '',\n",
       " 'Q:which phone are best iphone XR or Iphone 11\\nA:Iphone 11\\nAnonymous\\nCertified Buyer\\n30354\\nRead other answers\\nQ:how many years we can play high games like pubg without lag?..my samsung A50 is lagging in 1year now\\nA:Mobile Life Time play\\nRony Sk\\nCertified Buyer\\n1138302\\nQ:Iphone 11 have a depth effect or not\\nA:yes\\nmahaveer gurjar\\nCertified Buyer\\n36187',\n",
       " '4.511,202 Ratings & 794 Reviews',\n",
       " \"Product Description\\nAn all-new glass design, an updated camera, and a powerful chip, there's so much to love about the iPhone 8. This iPhone brings you an augmented reality experience that's more immersive than before. What's more? You can charge your iPhone wirelessly!\\nFormed From Glass\\nBoasting a color-matched, aerospace-grade aluminium band, this phone is a stunner. The distinctive glass on its front and back is durable.\\nWater and Dust Resistant (IP67)\\nIts body is precision-engineered to be splash, water, and dust resistant.\\nView all features\\nSpecifications\\nGeneral\\nIn The Box\\niPhone with iOS 12, EarPods with Lightning Connector, Lightning to USB Cable, USB Power Adapter, Documentation\\nModel Number\\nMQ7G2HN/A\\nModel Name\\niPhone 8\\nColor\\nSilver\\nBrowse Type\\nSmartphones\\nSIM Type\\nSingle Sim\\nTouchscreen\\nYes\\nSound Enhancements\\nBuilt-in Stereo Speaker, Built-in Microphone\\nRead More\\nRatings & Reviews\\nRate Product\\n4.5★\\n11,202 Ratings &\\n794 Reviews\\n5★\\n4★\\n3★\\n2★\\n1★\\n8,332\\n1,730\\n421\\n152\\n567\\n4.6\\nCamera\\n4.1\\nBattery\\n4.8\\nValue for Money\\n4.5\\nPerformance\\n+ 168\\n5\\nBrilliant\\nI got this as my birthday gift the phone is just awesome pics the display and voice quality is just awesome nd looks are my favourite it is worth of money❤️🥰💕📱\\n+ 1\\nFlipkart Customer\\nCertified Buyer, Mohali\\nDec, 2019\\n25046\\n5\\nBrilliant\\niPhone 8 nice I love this mobile nice picture clarity\\nVenkey P\\nCertified Buyer, Payakaraopeta\\nOct, 2019\\n39887\\n5\\nMind-blowing purchase\\nworth the money. battery charge can lasts full day if used in low power mode and well it's an iPhone 😉. iOS 13 is awesome, camera is not that great but ok when compared with my OnePlus 7 pro and display is best compared to iPhone xr. best buy 👌\\nSathya Kiran\\nCertified Buyer, Secunderabad\\nOct, 2019\\n447117\\n\\n\\n\\n\\n\\n+\\nAll 794 reviews\\nQuestions and Answers\\nQ:which 1 to buy iphone 7 plus or iphone 8?\\nA:Iphone 8 as its faster and also has wireless charging\\nNitin Kumar\\nCertified Buyer\\n8814\\nQ:Which phone is best Google pixel 2 or iPhone 8\\nA:iPhone 8\\nAnonymous\\nCertified Buyer\\n8117\\nRead other answers\\nQ:does jio sim works on iphone 8???\\nA:Yes. It works.\\nKusum Raghava\\nCertified Buyer\\n10728\\nRead other answers\\nAll questions\\n+\\nSafe and Secure Payments.Easy returns.100% Authentic products.\",\n",
       " 'I got this as my birthday gift the phone is just awesome pics the display and voice quality is just awesome nd looks are my favourite it is worth of money❤️🥰💕📱',\n",
       " 'iPhone 8 nice I love this mobile nice picture clarity',\n",
       " \"worth the money. battery charge can lasts full day if used in low power mode and well it's an iPhone 😉. iOS 13 is awesome, camera is not that great but ok when compared with my OnePlus 7 pro and display is best compared to iPhone xr. best buy 👌\",\n",
       " '',\n",
       " '',\n",
       " '',\n",
       " '',\n",
       " '',\n",
       " 'Q:which 1 to buy iphone 7 plus or iphone 8?\\nA:Iphone 8 as its faster and also has wireless charging\\nNitin Kumar\\nCertified Buyer\\n8814\\nQ:Which phone is best Google pixel 2 or iPhone 8\\nA:iPhone 8\\nAnonymous\\nCertified Buyer\\n8117\\nRead other answers\\nQ:does jio sim works on iphone 8???\\nA:Yes. It works.\\nKusum Raghava\\nCertified Buyer\\n10728\\nRead other answers',\n",
       " '4.679,835 Ratings & 6,821 Reviews',\n",
       " \"Description\\nNA\\nProduct Description\\nThe iPhone XR has arrived to stun our senses with a host of features such as the Liquid Retina Display, a faster Face ID, and the powerful A12 Bionic Chip. Whether it's that picture-perfect portrait shot or a jaw-dropping HDR picture, the cameras of this iPhone too will continue to stun you with their brilliance. Thus, when you have the iPhone XR in your hands, you can only see beauty, in every way.\\nLiquid Retina Display - Beauty Awaits Your Eyes\\nWhat does the display of the iPhone XR smartphone have in store for you? Its advanced 15.49 cm (6.1) Liquid Retina Display along with an innovative backlight, allows the screen to stretch to the corners, thereby exposing you to colorful visuals from one edge to another. It also packs the punch of enhanced color accuracy and a wide color gamut for delightful visuals.\\nExceptional Design - Feel It to Believe It\\nGet set to be stunned by this phone's design as it comprises one of the most durable front glass. A special Apple-designed alloy has been utilized to make the structural bands to complement the look of the back glass.\\nView all features\\nSpecifications\\nGeneral\\nIn The Box\\nHandset, EarPods with Lightning Connector, Lightning to USB Cable, USB Power Adapter, Documentation\\nModel Number\\nMRYP2HN/A\\nModel Name\\niPhone XR\\nColor\\nCoral\\nBrowse Type\\nSmartphones\\nSIM Type\\nDual Sim\\nHybrid Sim Slot\\nNo\\nTouchscreen\\nYes\\nRead More\\nRatings & Reviews\\nRate Product\\n4.6★\\n79,835 Ratings &\\n6,821 Reviews\\n5★\\n4★\\n3★\\n2★\\n1★\\n60,924\\n12,749\\n2,653\\n865\\n2,644\\n4.4\\nCamera\\n4.6\\nBattery\\n4.6\\nDisplay\\n4.8\\nValue for Money\\n+ 2698\\n5\\nTerrific\\nAwesome smart phone.... Loved it.\\nBig display, awesome battery backup, Monster sounds, great colour, Apple durability what more u want.\\n+ 1\\nFlipkart Customer\\nCertified Buyer, Pimpri Chinchwad\\n7months ago\\n2445378\\n5\\nSuper!\\nWriting this review after using iPhone XR for almost six months, a total value for money phone. Battery performance is pretty nice in comparison to other iPhones.\\nCamera is superb. Looking forward for iOS 14 update. I would recommend to buy XR instead of SE2 .\\nFlipkart Customer\\nCertified Buyer, Pune\\n9months ago\\n868155\\n4\\nPretty good\\nSo amazin....Blue colour is fresh+beautiful+awesome . And For me it's so ooooo pretty & fancy colour . Wow! Phone features , COD tho 👍, price value perfect , full screen wallpaper hd for mobile and about battery life i can't describe . Aaaaaa.......lovely. And im Sorry for my photography but in real blue colour is so amazin , i meant it 🖖.\\n+ 1\\nDeepa Cheri\\nCertified Buyer, Guwahati\\n5months ago\\n17426\\n\\n\\n\\n\\n\\n\\n\\n\\n\\n\\n\\n\\n\\n\\n\\n\\n\\n\\n+\\nAll 6821 reviews\\nQuestions and Answers\\nQ:What is the meaning of product that mentioned in the title ? Is it any differ from others\\nA:Red is a licensed brand for raising funds to fight HIV AIDS. A portion of each purchase of product red iPhone goes directly to help fight HIV and AIDS. You can search product red for more information.\\nAnonymous\\nCertified Buyer\\n801158\\nRead other answers\\nQ:which one is better iphone 7 plus or iphone xr\\nA:Xr\\nAnonymous\\nCertified Buyer\\n1618514\\nQ:How long can I take a picture under water ??\\nA:Its water resistant and not water proof and also it doesn’t have any warranty on damages from water\\nFlipkart Customer\\nCertified Buyer\\n412146\\nRead other answers\\nAll questions\\n+\\nSafe and Secure Payments.Easy returns.100% Authentic products.\",\n",
       " 'Awesome smart phone.... Loved it.\\nBig display, awesome battery backup, Monster sounds, great colour, Apple durability what more u want.',\n",
       " 'Writing this review after using iPhone XR for almost six months, a total value for money phone. Battery performance is pretty nice in comparison to other iPhones.\\nCamera is superb. Looking forward for iOS 14 update. I would recommend to buy XR instead of SE2 .',\n",
       " \"So amazin....Blue colour is fresh+beautiful+awesome . And For me it's so ooooo pretty & fancy colour . Wow! Phone features , COD tho 👍, price value perfect , full screen wallpaper hd for mobile and about battery life i can't describe . Aaaaaa.......lovely. And im Sorry for my photography but in real blue colour is so amazin , i meant it 🖖.\",\n",
       " '',\n",
       " '',\n",
       " '',\n",
       " '',\n",
       " '',\n",
       " 'Q:What is the meaning of product that mentioned in the title ? Is it any differ from others\\nA:Red is a licensed brand for raising funds to fight HIV AIDS. A portion of each purchase of product red iPhone goes directly to help fight HIV and AIDS. You can search product red for more information.\\nAnonymous\\nCertified Buyer\\n801158\\nRead other answers\\nQ:which one is better iphone 7 plus or iphone xr\\nA:Xr\\nAnonymous\\nCertified Buyer\\n1618514\\nQ:How long can I take a picture under water ??\\nA:Its water resistant and not water proof and also it doesn’t have any warranty on damages from water\\nFlipkart Customer\\nCertified Buyer\\n412146\\nRead other answers',\n",
       " '3.768 Ratings & 16 Reviews',\n",
       " 'Good',\n",
       " 'Superb good quality glass',\n",
       " 'Fine quality of 6s genuine product',\n",
       " '',\n",
       " '',\n",
       " '',\n",
       " '',\n",
       " '',\n",
       " '3.25 Ratings & 2 Reviews',\n",
       " 'bad quality product',\n",
       " 'Nice',\n",
       " '23 Ratings & 2 Reviews',\n",
       " 'It doesn’t stick well very bad quality',\n",
       " 'i think the product is okay .. but you need to provide proper instructions to do this .',\n",
       " '3.813 Ratings & 1 Reviews',\n",
       " 'NYC n well packed',\n",
       " '3.842 Ratings & 5 Reviews',\n",
       " 'Worst product. Very big in size. Does not fit to screen properly. Worst product',\n",
       " 'nice product',\n",
       " 'Worst ever product it’s plastic and make me very irritating 😠',\n",
       " '',\n",
       " '']"
      ]
     },
     "execution_count": 129,
     "metadata": {},
     "output_type": "execute_result"
    }
   ],
   "source": [
    " full_review"
   ]
  },
  {
   "cell_type": "code",
   "execution_count": 130,
   "id": "harmful-spine",
   "metadata": {},
   "outputs": [
    {
     "name": "stdout",
     "output_type": "stream",
     "text": [
      "206 52 68\n"
     ]
    }
   ],
   "source": [
    "print(len(rating), len(review_summary), len(full_review))"
   ]
  },
  {
   "cell_type": "code",
   "execution_count": 131,
   "id": "front-venue",
   "metadata": {},
   "outputs": [],
   "source": [
    "url=\"https://www.flipkart.com/house-hoa-accessories-edge-tempered-glass-apple-iphone-5-se-5s/p/itmf4c72unk4qgdv?pid=ACCF4CFJGHHZTYHH&lid=LSTACCF4CFJGHHZTYHHXMX0PF&marketplace=FLIPKART&q=iphone11&store=tyy&srno=s_6_209&otracker=search&otracker1=search&fm=organic&iid=90cbf111-d5a6-43b1-8b05-ede61417cc01.ACCF4CFJGHHZTYHH.SEARCH&ppt=sp&ppn=sp&ssid=xamrpb5j1s0000001618041378194&qH=d6db477051465f9a\""
   ]
  },
  {
   "cell_type": "code",
   "execution_count": 132,
   "id": "young-delhi",
   "metadata": {},
   "outputs": [],
   "source": [
    "#lets open the webpage through our webdriver\n",
    "browser.get(url)"
   ]
  },
  {
   "cell_type": "code",
   "execution_count": 133,
   "id": "physical-cleaners",
   "metadata": {},
   "outputs": [
    {
     "data": {
      "text/plain": [
       "[<selenium.webdriver.remote.webelement.WebElement (session=\"f69c0554cdc00036f8536f3fd883e0d8\", element=\"dab45e55-3a51-4fc8-a35e-124b315606c8\")>,\n",
       " <selenium.webdriver.remote.webelement.WebElement (session=\"f69c0554cdc00036f8536f3fd883e0d8\", element=\"d9735d52-8c28-4023-a369-0d17af08e8c5\")>,\n",
       " <selenium.webdriver.remote.webelement.WebElement (session=\"f69c0554cdc00036f8536f3fd883e0d8\", element=\"5809a11a-b2c9-4721-9779-2520470c2877\")>,\n",
       " <selenium.webdriver.remote.webelement.WebElement (session=\"f69c0554cdc00036f8536f3fd883e0d8\", element=\"45c9acd4-c76b-443d-873d-0132516f25db\")>]"
      ]
     },
     "execution_count": 133,
     "metadata": {},
     "output_type": "execute_result"
    }
   ],
   "source": [
    "review_tags = browser.find_elements_by_xpath (\"//p[@class='_2-N8zT']\")\n",
    "review_tags"
   ]
  },
  {
   "cell_type": "code",
   "execution_count": 134,
   "id": "imported-pavilion",
   "metadata": {},
   "outputs": [],
   "source": [
    "for i in review_tags:\n",
    "    review=i.text\n",
    "    review_summary.append(review)"
   ]
  },
  {
   "cell_type": "code",
   "execution_count": 135,
   "id": "destroyed-noise",
   "metadata": {},
   "outputs": [
    {
     "data": {
      "text/plain": [
       "['Brilliant',\n",
       " 'Perfect product!',\n",
       " 'Worth every penny',\n",
       " '',\n",
       " '',\n",
       " '',\n",
       " '',\n",
       " '',\n",
       " '',\n",
       " '',\n",
       " 'Brilliant',\n",
       " 'Perfect product!',\n",
       " 'Worth every penny',\n",
       " '',\n",
       " '',\n",
       " '',\n",
       " '',\n",
       " '',\n",
       " 'Brilliant',\n",
       " 'Brilliant',\n",
       " 'Mind-blowing purchase',\n",
       " '',\n",
       " '',\n",
       " '',\n",
       " '',\n",
       " '',\n",
       " 'Terrific',\n",
       " 'Super!',\n",
       " 'Pretty good',\n",
       " '',\n",
       " '',\n",
       " '',\n",
       " '',\n",
       " '',\n",
       " 'Decent product',\n",
       " 'Wonderful',\n",
       " 'Terrific purchase',\n",
       " '',\n",
       " '',\n",
       " '',\n",
       " '',\n",
       " '',\n",
       " 'Worthless',\n",
       " 'Highly recommended',\n",
       " 'Useless product',\n",
       " 'Good',\n",
       " 'Classy product',\n",
       " 'Not recommended at all',\n",
       " 'Classy product',\n",
       " 'Utterly Disappointed',\n",
       " '',\n",
       " '',\n",
       " 'Very poor',\n",
       " 'Best in the market!',\n",
       " 'Fabulous!',\n",
       " '']"
      ]
     },
     "execution_count": 135,
     "metadata": {},
     "output_type": "execute_result"
    }
   ],
   "source": [
    "review_summary"
   ]
  },
  {
   "cell_type": "code",
   "execution_count": 136,
   "id": "prescription-remark",
   "metadata": {},
   "outputs": [
    {
     "data": {
      "text/plain": [
       "[<selenium.webdriver.remote.webelement.WebElement (session=\"f69c0554cdc00036f8536f3fd883e0d8\", element=\"40717096-3a1b-4ee6-b450-77996488e751\")>,\n",
       " <selenium.webdriver.remote.webelement.WebElement (session=\"f69c0554cdc00036f8536f3fd883e0d8\", element=\"74507a92-899f-4f6f-ac81-8be858c4b82f\")>,\n",
       " <selenium.webdriver.remote.webelement.WebElement (session=\"f69c0554cdc00036f8536f3fd883e0d8\", element=\"cafea320-09c2-482d-b295-53e8f4979be7\")>,\n",
       " <selenium.webdriver.remote.webelement.WebElement (session=\"f69c0554cdc00036f8536f3fd883e0d8\", element=\"577fc2e0-bcce-417c-a801-f0c31c4c6ff4\")>,\n",
       " <selenium.webdriver.remote.webelement.WebElement (session=\"f69c0554cdc00036f8536f3fd883e0d8\", element=\"80e74459-a94b-4b19-bb94-2edfaa558277\")>]"
      ]
     },
     "execution_count": 136,
     "metadata": {},
     "output_type": "execute_result"
    }
   ],
   "source": [
    "fullreview_tags = browser.find_elements_by_xpath (\"//div[@class='']\")\n",
    "fullreview_tags"
   ]
  },
  {
   "cell_type": "code",
   "execution_count": 137,
   "id": "classified-garbage",
   "metadata": {},
   "outputs": [],
   "source": [
    "for i in fullreview_tags:\n",
    "    fullreviews=i.text\n",
    "    full_review.append(fullreviews)"
   ]
  },
  {
   "cell_type": "code",
   "execution_count": 138,
   "id": "metric-silence",
   "metadata": {},
   "outputs": [
    {
     "data": {
      "text/plain": [
       "['4.644,833 Ratings & 3,433 Reviews',\n",
       " 'Description\\nNA\\nProduct Description\\nBeautiful Design\\nFeaturing a 15.49-cm (6.1) all-screen Liquid Retina LCD and a glass and aluminum design, the iPhone 11 is as beautiful as it gets. Also, the IP68 rating ensures that is water-resistant up to 2 meters for 30 minutes.\\nTake Your Photos Further. And Wider.\\nThe iPhone 11 features dual 12 MP Ultra Wide (13mm) and Wide (26mm) cameras with 4K video recording up to 60 fps. The Ultra Wide camera provides 120° field of view, letting you capture four times more scene, and the Wide camera provides 100% Focus Pixels for up to three times faster autofocus in low light.\\nView all features\\nSpecifications\\nGeneral\\nIn The Box\\nHandset, EarPods with Lightning Connector, Lightning to USB Cable, USB Power Adapter, Documentation\\nModel Number\\nMWLT2HN/A\\nModel Name\\niPhone 11\\nColor\\nBlack\\nBrowse Type\\nSmartphones\\nSIM Type\\nDual Sim\\nHybrid Sim Slot\\nNo\\nTouchscreen\\nYes\\nRead More\\nRatings & Reviews\\nRate Product\\n4.6★\\n44,833 Ratings &\\n3,433 Reviews\\n5★\\n4★\\n3★\\n2★\\n1★\\n35,280\\n6,036\\n1,341\\n531\\n1,645\\n4.7\\nCamera\\n4.5\\nBattery\\n4.3\\nDisplay\\n4.7\\nValue for Money\\n+ 1800\\n5\\nBrilliant\\nThe Best Phone for the Money\\n\\nThe iPhone 11 offers superb cameras, a more durable design and excellent battery life for an affordable price.\\n\\nCompelling ultra-wide camera\\nNew Night mode is excellent\\nLong battery life\\nAnkit\\nCertified Buyer, Gurgaon\\nSep, 2019\\n3280502\\n5\\nPerfect product!\\nAmazing phone with great cameras and better battery which gives you the best performance. I just love the camera .\\nFlipkart Customer\\nCertified Buyer, Hyderabad\\n10months ago\\n4591770\\n5\\nWorth every penny\\nPreviously I was using one plus 3t it was a great phone\\nAnd then I decided to upgrade I am stuck between Samsung s10 plus or iPhone 11\\nI have seen the specs and everything were good except the display it’s somewhere between 720-1080 and it’s not even an amoled it’s an LCD display\\nBut I decided to go with iPhone because I have never used an IOS device I have Been an android user from the past 9 years I ordered IPhone 11 (128gb) product red\\nMy experience after using 3 weeks\\n1. The delivery ...\\nREAD MORE\\nVamshi Chakrala\\nCertified Buyer, Huzurnagar\\nJan, 2020\\n1418233\\n\\n\\n\\n\\n\\n\\n\\n\\n\\n\\n\\n\\n\\n\\n\\n\\n\\n\\n\\n\\n+\\nAll 3433 reviews\\nQuestions and Answers\\nQ:which phone are best iphone XR or Iphone 11\\nA:Iphone 11\\nAnonymous\\nCertified Buyer\\n30354\\nRead other answers\\nQ:how many years we can play high games like pubg without lag?..my samsung A50 is lagging in 1year now\\nA:Mobile Life Time play\\nRony Sk\\nCertified Buyer\\n1138302\\nQ:Iphone 11 have a depth effect or not\\nA:yes\\nmahaveer gurjar\\nCertified Buyer\\n36187\\nAll questions\\n+\\nSafe and Secure Payments.Easy returns.100% Authentic products.',\n",
       " 'The Best Phone for the Money\\n\\nThe iPhone 11 offers superb cameras, a more durable design and excellent battery life for an affordable price.\\n\\nCompelling ultra-wide camera\\nNew Night mode is excellent\\nLong battery life',\n",
       " 'Amazing phone with great cameras and better battery which gives you the best performance. I just love the camera .',\n",
       " 'Previously I was using one plus 3t it was a great phone\\nAnd then I decided to upgrade I am stuck between Samsung s10 plus or iPhone 11\\nI have seen the specs and everything were good except the display it’s somewhere between 720-1080 and it’s not even an amoled it’s an LCD display\\nBut I decided to go with iPhone because I have never used an IOS device I have Been an android user from the past 9 years I ordered IPhone 11 (128gb) product red\\nMy experience after using 3 weeks\\n1. The delivery ...',\n",
       " '',\n",
       " '',\n",
       " '',\n",
       " '',\n",
       " '',\n",
       " '',\n",
       " '',\n",
       " 'Q:which phone are best iphone XR or Iphone 11\\nA:Iphone 11\\nAnonymous\\nCertified Buyer\\n30354\\nRead other answers\\nQ:how many years we can play high games like pubg without lag?..my samsung A50 is lagging in 1year now\\nA:Mobile Life Time play\\nRony Sk\\nCertified Buyer\\n1138302\\nQ:Iphone 11 have a depth effect or not\\nA:yes\\nmahaveer gurjar\\nCertified Buyer\\n36187',\n",
       " '4.644,839 Ratings & 3,433 Reviews',\n",
       " 'The Best Phone for the Money\\n\\nThe iPhone 11 offers superb cameras, a more durable design and excellent battery life for an affordable price.\\n\\nCompelling ultra-wide camera\\nNew Night mode is excellent\\nLong battery life',\n",
       " 'Amazing phone with great cameras and better battery which gives you the best performance. I just love the camera .',\n",
       " 'Previously I was using one plus 3t it was a great phone\\nAnd then I decided to upgrade I am stuck between Samsung s10 plus or iPhone 11\\nI have seen the specs and everything were good except the display it’s somewhere between 720-1080 and it’s not even an amoled it’s an LCD display\\nBut I decided to go with iPhone because I have never used an IOS device I have Been an android user from the past 9 years I ordered IPhone 11 (128gb) product red\\nMy experience after using 3 weeks\\n1. The delivery ...',\n",
       " '',\n",
       " '',\n",
       " '',\n",
       " '',\n",
       " '',\n",
       " 'Q:which phone are best iphone XR or Iphone 11\\nA:Iphone 11\\nAnonymous\\nCertified Buyer\\n30354\\nRead other answers\\nQ:how many years we can play high games like pubg without lag?..my samsung A50 is lagging in 1year now\\nA:Mobile Life Time play\\nRony Sk\\nCertified Buyer\\n1138302\\nQ:Iphone 11 have a depth effect or not\\nA:yes\\nmahaveer gurjar\\nCertified Buyer\\n36187',\n",
       " '4.511,202 Ratings & 794 Reviews',\n",
       " \"Product Description\\nAn all-new glass design, an updated camera, and a powerful chip, there's so much to love about the iPhone 8. This iPhone brings you an augmented reality experience that's more immersive than before. What's more? You can charge your iPhone wirelessly!\\nFormed From Glass\\nBoasting a color-matched, aerospace-grade aluminium band, this phone is a stunner. The distinctive glass on its front and back is durable.\\nWater and Dust Resistant (IP67)\\nIts body is precision-engineered to be splash, water, and dust resistant.\\nView all features\\nSpecifications\\nGeneral\\nIn The Box\\niPhone with iOS 12, EarPods with Lightning Connector, Lightning to USB Cable, USB Power Adapter, Documentation\\nModel Number\\nMQ7G2HN/A\\nModel Name\\niPhone 8\\nColor\\nSilver\\nBrowse Type\\nSmartphones\\nSIM Type\\nSingle Sim\\nTouchscreen\\nYes\\nSound Enhancements\\nBuilt-in Stereo Speaker, Built-in Microphone\\nRead More\\nRatings & Reviews\\nRate Product\\n4.5★\\n11,202 Ratings &\\n794 Reviews\\n5★\\n4★\\n3★\\n2★\\n1★\\n8,332\\n1,730\\n421\\n152\\n567\\n4.6\\nCamera\\n4.1\\nBattery\\n4.8\\nValue for Money\\n4.5\\nPerformance\\n+ 168\\n5\\nBrilliant\\nI got this as my birthday gift the phone is just awesome pics the display and voice quality is just awesome nd looks are my favourite it is worth of money❤️🥰💕📱\\n+ 1\\nFlipkart Customer\\nCertified Buyer, Mohali\\nDec, 2019\\n25046\\n5\\nBrilliant\\niPhone 8 nice I love this mobile nice picture clarity\\nVenkey P\\nCertified Buyer, Payakaraopeta\\nOct, 2019\\n39887\\n5\\nMind-blowing purchase\\nworth the money. battery charge can lasts full day if used in low power mode and well it's an iPhone 😉. iOS 13 is awesome, camera is not that great but ok when compared with my OnePlus 7 pro and display is best compared to iPhone xr. best buy 👌\\nSathya Kiran\\nCertified Buyer, Secunderabad\\nOct, 2019\\n447117\\n\\n\\n\\n\\n\\n+\\nAll 794 reviews\\nQuestions and Answers\\nQ:which 1 to buy iphone 7 plus or iphone 8?\\nA:Iphone 8 as its faster and also has wireless charging\\nNitin Kumar\\nCertified Buyer\\n8814\\nQ:Which phone is best Google pixel 2 or iPhone 8\\nA:iPhone 8\\nAnonymous\\nCertified Buyer\\n8117\\nRead other answers\\nQ:does jio sim works on iphone 8???\\nA:Yes. It works.\\nKusum Raghava\\nCertified Buyer\\n10728\\nRead other answers\\nAll questions\\n+\\nSafe and Secure Payments.Easy returns.100% Authentic products.\",\n",
       " 'I got this as my birthday gift the phone is just awesome pics the display and voice quality is just awesome nd looks are my favourite it is worth of money❤️🥰💕📱',\n",
       " 'iPhone 8 nice I love this mobile nice picture clarity',\n",
       " \"worth the money. battery charge can lasts full day if used in low power mode and well it's an iPhone 😉. iOS 13 is awesome, camera is not that great but ok when compared with my OnePlus 7 pro and display is best compared to iPhone xr. best buy 👌\",\n",
       " '',\n",
       " '',\n",
       " '',\n",
       " '',\n",
       " '',\n",
       " 'Q:which 1 to buy iphone 7 plus or iphone 8?\\nA:Iphone 8 as its faster and also has wireless charging\\nNitin Kumar\\nCertified Buyer\\n8814\\nQ:Which phone is best Google pixel 2 or iPhone 8\\nA:iPhone 8\\nAnonymous\\nCertified Buyer\\n8117\\nRead other answers\\nQ:does jio sim works on iphone 8???\\nA:Yes. It works.\\nKusum Raghava\\nCertified Buyer\\n10728\\nRead other answers',\n",
       " '4.679,835 Ratings & 6,821 Reviews',\n",
       " \"Description\\nNA\\nProduct Description\\nThe iPhone XR has arrived to stun our senses with a host of features such as the Liquid Retina Display, a faster Face ID, and the powerful A12 Bionic Chip. Whether it's that picture-perfect portrait shot or a jaw-dropping HDR picture, the cameras of this iPhone too will continue to stun you with their brilliance. Thus, when you have the iPhone XR in your hands, you can only see beauty, in every way.\\nLiquid Retina Display - Beauty Awaits Your Eyes\\nWhat does the display of the iPhone XR smartphone have in store for you? Its advanced 15.49 cm (6.1) Liquid Retina Display along with an innovative backlight, allows the screen to stretch to the corners, thereby exposing you to colorful visuals from one edge to another. It also packs the punch of enhanced color accuracy and a wide color gamut for delightful visuals.\\nExceptional Design - Feel It to Believe It\\nGet set to be stunned by this phone's design as it comprises one of the most durable front glass. A special Apple-designed alloy has been utilized to make the structural bands to complement the look of the back glass.\\nView all features\\nSpecifications\\nGeneral\\nIn The Box\\nHandset, EarPods with Lightning Connector, Lightning to USB Cable, USB Power Adapter, Documentation\\nModel Number\\nMRYP2HN/A\\nModel Name\\niPhone XR\\nColor\\nCoral\\nBrowse Type\\nSmartphones\\nSIM Type\\nDual Sim\\nHybrid Sim Slot\\nNo\\nTouchscreen\\nYes\\nRead More\\nRatings & Reviews\\nRate Product\\n4.6★\\n79,835 Ratings &\\n6,821 Reviews\\n5★\\n4★\\n3★\\n2★\\n1★\\n60,924\\n12,749\\n2,653\\n865\\n2,644\\n4.4\\nCamera\\n4.6\\nBattery\\n4.6\\nDisplay\\n4.8\\nValue for Money\\n+ 2698\\n5\\nTerrific\\nAwesome smart phone.... Loved it.\\nBig display, awesome battery backup, Monster sounds, great colour, Apple durability what more u want.\\n+ 1\\nFlipkart Customer\\nCertified Buyer, Pimpri Chinchwad\\n7months ago\\n2445378\\n5\\nSuper!\\nWriting this review after using iPhone XR for almost six months, a total value for money phone. Battery performance is pretty nice in comparison to other iPhones.\\nCamera is superb. Looking forward for iOS 14 update. I would recommend to buy XR instead of SE2 .\\nFlipkart Customer\\nCertified Buyer, Pune\\n9months ago\\n868155\\n4\\nPretty good\\nSo amazin....Blue colour is fresh+beautiful+awesome . And For me it's so ooooo pretty & fancy colour . Wow! Phone features , COD tho 👍, price value perfect , full screen wallpaper hd for mobile and about battery life i can't describe . Aaaaaa.......lovely. And im Sorry for my photography but in real blue colour is so amazin , i meant it 🖖.\\n+ 1\\nDeepa Cheri\\nCertified Buyer, Guwahati\\n5months ago\\n17426\\n\\n\\n\\n\\n\\n\\n\\n\\n\\n\\n\\n\\n\\n\\n\\n\\n\\n\\n+\\nAll 6821 reviews\\nQuestions and Answers\\nQ:What is the meaning of product that mentioned in the title ? Is it any differ from others\\nA:Red is a licensed brand for raising funds to fight HIV AIDS. A portion of each purchase of product red iPhone goes directly to help fight HIV and AIDS. You can search product red for more information.\\nAnonymous\\nCertified Buyer\\n801158\\nRead other answers\\nQ:which one is better iphone 7 plus or iphone xr\\nA:Xr\\nAnonymous\\nCertified Buyer\\n1618514\\nQ:How long can I take a picture under water ??\\nA:Its water resistant and not water proof and also it doesn’t have any warranty on damages from water\\nFlipkart Customer\\nCertified Buyer\\n412146\\nRead other answers\\nAll questions\\n+\\nSafe and Secure Payments.Easy returns.100% Authentic products.\",\n",
       " 'Awesome smart phone.... Loved it.\\nBig display, awesome battery backup, Monster sounds, great colour, Apple durability what more u want.',\n",
       " 'Writing this review after using iPhone XR for almost six months, a total value for money phone. Battery performance is pretty nice in comparison to other iPhones.\\nCamera is superb. Looking forward for iOS 14 update. I would recommend to buy XR instead of SE2 .',\n",
       " \"So amazin....Blue colour is fresh+beautiful+awesome . And For me it's so ooooo pretty & fancy colour . Wow! Phone features , COD tho 👍, price value perfect , full screen wallpaper hd for mobile and about battery life i can't describe . Aaaaaa.......lovely. And im Sorry for my photography but in real blue colour is so amazin , i meant it 🖖.\",\n",
       " '',\n",
       " '',\n",
       " '',\n",
       " '',\n",
       " '',\n",
       " 'Q:What is the meaning of product that mentioned in the title ? Is it any differ from others\\nA:Red is a licensed brand for raising funds to fight HIV AIDS. A portion of each purchase of product red iPhone goes directly to help fight HIV and AIDS. You can search product red for more information.\\nAnonymous\\nCertified Buyer\\n801158\\nRead other answers\\nQ:which one is better iphone 7 plus or iphone xr\\nA:Xr\\nAnonymous\\nCertified Buyer\\n1618514\\nQ:How long can I take a picture under water ??\\nA:Its water resistant and not water proof and also it doesn’t have any warranty on damages from water\\nFlipkart Customer\\nCertified Buyer\\n412146\\nRead other answers',\n",
       " '3.768 Ratings & 16 Reviews',\n",
       " 'Good',\n",
       " 'Superb good quality glass',\n",
       " 'Fine quality of 6s genuine product',\n",
       " '',\n",
       " '',\n",
       " '',\n",
       " '',\n",
       " '',\n",
       " '3.25 Ratings & 2 Reviews',\n",
       " 'bad quality product',\n",
       " 'Nice',\n",
       " '23 Ratings & 2 Reviews',\n",
       " 'It doesn’t stick well very bad quality',\n",
       " 'i think the product is okay .. but you need to provide proper instructions to do this .',\n",
       " '3.813 Ratings & 1 Reviews',\n",
       " 'NYC n well packed',\n",
       " '3.842 Ratings & 5 Reviews',\n",
       " 'Worst product. Very big in size. Does not fit to screen properly. Worst product',\n",
       " 'nice product',\n",
       " 'Worst ever product it’s plastic and make me very irritating 😠',\n",
       " '',\n",
       " '',\n",
       " '4.515 Ratings & 4 Reviews',\n",
       " 'waste',\n",
       " 'Just Awesome👍🏻',\n",
       " 'satisfied fully. superb.',\n",
       " '']"
      ]
     },
     "execution_count": 138,
     "metadata": {},
     "output_type": "execute_result"
    }
   ],
   "source": [
    "full_review"
   ]
  },
  {
   "cell_type": "code",
   "execution_count": 139,
   "id": "equipped-retailer",
   "metadata": {},
   "outputs": [
    {
     "name": "stdout",
     "output_type": "stream",
     "text": [
      "206 56 73\n"
     ]
    }
   ],
   "source": [
    "print(len(rating), len(review_summary), len(full_review))"
   ]
  },
  {
   "cell_type": "code",
   "execution_count": 140,
   "id": "bound-indie",
   "metadata": {},
   "outputs": [],
   "source": [
    "url=\"https://www.flipkart.com/czartech-tempered-glass-guard-iphone-12-12-pro/p/itm72beeb286ee6b?pid=ACCFX5XTJGMGBAMW&lid=LSTACCFX5XTJGMGBAMWAMSFP4&marketplace=FLIPKART&q=iphone11&store=tyy&srno=s_6_210&otracker=search&otracker1=search&fm=organic&iid=en_2sVdVRh%2FWYuep%2FED602kewI9bJ3YKvoMwOOmTYsDrhWTx8lLxSK6z3XPun%2FbVnhen4NJh3fdvKIX5K3t4Ia35A%3D%3D&ppt=sp&ppn=sp&ssid=v6h8ppvq4g0000001618041573775&qH=d6db477051465f9a\""
   ]
  },
  {
   "cell_type": "code",
   "execution_count": 141,
   "id": "forward-clark",
   "metadata": {},
   "outputs": [],
   "source": [
    "#lets open the webpage through our webdriver\n",
    "browser.get(url)"
   ]
  },
  {
   "cell_type": "code",
   "execution_count": 142,
   "id": "agricultural-intelligence",
   "metadata": {},
   "outputs": [
    {
     "data": {
      "text/plain": [
       "[<selenium.webdriver.remote.webelement.WebElement (session=\"f69c0554cdc00036f8536f3fd883e0d8\", element=\"74c006bb-db66-4241-82a9-b8956c43c30f\")>,\n",
       " <selenium.webdriver.remote.webelement.WebElement (session=\"f69c0554cdc00036f8536f3fd883e0d8\", element=\"2a9266bb-d27d-49b8-a7f0-ac6c0cf0b3ae\")>,\n",
       " <selenium.webdriver.remote.webelement.WebElement (session=\"f69c0554cdc00036f8536f3fd883e0d8\", element=\"2b462e62-788e-403f-86d9-b0d05f388575\")>,\n",
       " <selenium.webdriver.remote.webelement.WebElement (session=\"f69c0554cdc00036f8536f3fd883e0d8\", element=\"cecb8106-7613-4132-ac52-32e6ef4120f4\")>,\n",
       " <selenium.webdriver.remote.webelement.WebElement (session=\"f69c0554cdc00036f8536f3fd883e0d8\", element=\"6e9ea54c-e51d-422c-9a8e-059a2a0ee664\")>,\n",
       " <selenium.webdriver.remote.webelement.WebElement (session=\"f69c0554cdc00036f8536f3fd883e0d8\", element=\"3ab80b83-9ae1-4f40-bdeb-985b23f29a08\")>,\n",
       " <selenium.webdriver.remote.webelement.WebElement (session=\"f69c0554cdc00036f8536f3fd883e0d8\", element=\"b6b1fcd2-c89a-4334-a636-f37b94f2f7c3\")>,\n",
       " <selenium.webdriver.remote.webelement.WebElement (session=\"f69c0554cdc00036f8536f3fd883e0d8\", element=\"d833f038-8a8f-4aaf-8224-4af7b1e474a3\")>]"
      ]
     },
     "execution_count": 142,
     "metadata": {},
     "output_type": "execute_result"
    }
   ],
   "source": [
    "review_tags = browser.find_elements_by_xpath (\"//p[@class='_2-N8zT']\")\n",
    "review_tags"
   ]
  },
  {
   "cell_type": "code",
   "execution_count": 143,
   "id": "organic-guitar",
   "metadata": {},
   "outputs": [],
   "source": [
    "for i in review_tags:\n",
    "    review=i.text\n",
    "    review_summary.append(review)"
   ]
  },
  {
   "cell_type": "code",
   "execution_count": 144,
   "id": "underlying-category",
   "metadata": {},
   "outputs": [
    {
     "data": {
      "text/plain": [
       "['Brilliant',\n",
       " 'Perfect product!',\n",
       " 'Worth every penny',\n",
       " '',\n",
       " '',\n",
       " '',\n",
       " '',\n",
       " '',\n",
       " '',\n",
       " '',\n",
       " 'Brilliant',\n",
       " 'Perfect product!',\n",
       " 'Worth every penny',\n",
       " '',\n",
       " '',\n",
       " '',\n",
       " '',\n",
       " '',\n",
       " 'Brilliant',\n",
       " 'Brilliant',\n",
       " 'Mind-blowing purchase',\n",
       " '',\n",
       " '',\n",
       " '',\n",
       " '',\n",
       " '',\n",
       " 'Terrific',\n",
       " 'Super!',\n",
       " 'Pretty good',\n",
       " '',\n",
       " '',\n",
       " '',\n",
       " '',\n",
       " '',\n",
       " 'Decent product',\n",
       " 'Wonderful',\n",
       " 'Terrific purchase',\n",
       " '',\n",
       " '',\n",
       " '',\n",
       " '',\n",
       " '',\n",
       " 'Worthless',\n",
       " 'Highly recommended',\n",
       " 'Useless product',\n",
       " 'Good',\n",
       " 'Classy product',\n",
       " 'Not recommended at all',\n",
       " 'Classy product',\n",
       " 'Utterly Disappointed',\n",
       " '',\n",
       " '',\n",
       " 'Very poor',\n",
       " 'Best in the market!',\n",
       " 'Fabulous!',\n",
       " '',\n",
       " 'Must buy!',\n",
       " 'Terrific purchase',\n",
       " 'Terrific purchase',\n",
       " '',\n",
       " '',\n",
       " '',\n",
       " '',\n",
       " '']"
      ]
     },
     "execution_count": 144,
     "metadata": {},
     "output_type": "execute_result"
    }
   ],
   "source": [
    " review_summary"
   ]
  },
  {
   "cell_type": "code",
   "execution_count": 145,
   "id": "white-comfort",
   "metadata": {},
   "outputs": [
    {
     "data": {
      "text/plain": [
       "[<selenium.webdriver.remote.webelement.WebElement (session=\"f69c0554cdc00036f8536f3fd883e0d8\", element=\"615ca7f8-79f7-48da-be92-33dcbf1586be\")>,\n",
       " <selenium.webdriver.remote.webelement.WebElement (session=\"f69c0554cdc00036f8536f3fd883e0d8\", element=\"471ac18d-b557-4fdb-b054-80e2dd67af6f\")>,\n",
       " <selenium.webdriver.remote.webelement.WebElement (session=\"f69c0554cdc00036f8536f3fd883e0d8\", element=\"2a760727-cdc5-44c9-95b6-fb47a11e6bd4\")>,\n",
       " <selenium.webdriver.remote.webelement.WebElement (session=\"f69c0554cdc00036f8536f3fd883e0d8\", element=\"7ac80368-bdd5-40af-a625-60128aeb0d98\")>,\n",
       " <selenium.webdriver.remote.webelement.WebElement (session=\"f69c0554cdc00036f8536f3fd883e0d8\", element=\"089eeb53-883b-41e6-9217-9da7d6bd2505\")>,\n",
       " <selenium.webdriver.remote.webelement.WebElement (session=\"f69c0554cdc00036f8536f3fd883e0d8\", element=\"4fad1c7e-6e6a-406f-a241-eb13441ceb1b\")>,\n",
       " <selenium.webdriver.remote.webelement.WebElement (session=\"f69c0554cdc00036f8536f3fd883e0d8\", element=\"a59467bf-17be-4842-ad47-eb579d84d8b2\")>,\n",
       " <selenium.webdriver.remote.webelement.WebElement (session=\"f69c0554cdc00036f8536f3fd883e0d8\", element=\"5ecf5862-7ec0-49a5-b84a-e89463ba0afb\")>,\n",
       " <selenium.webdriver.remote.webelement.WebElement (session=\"f69c0554cdc00036f8536f3fd883e0d8\", element=\"1d7b0a60-0f97-499c-b785-35a5caeb0ca5\")>]"
      ]
     },
     "execution_count": 145,
     "metadata": {},
     "output_type": "execute_result"
    }
   ],
   "source": [
    "fullreview_tags = browser.find_elements_by_xpath (\"//div[@class='']\")\n",
    "fullreview_tags"
   ]
  },
  {
   "cell_type": "code",
   "execution_count": 146,
   "id": "small-calendar",
   "metadata": {},
   "outputs": [],
   "source": [
    "for i in fullreview_tags:\n",
    "    fullreviews=i.text\n",
    "    full_review.append(fullreviews)"
   ]
  },
  {
   "cell_type": "code",
   "execution_count": 147,
   "id": "matched-antigua",
   "metadata": {},
   "outputs": [
    {
     "data": {
      "text/plain": [
       "['4.644,833 Ratings & 3,433 Reviews',\n",
       " 'Description\\nNA\\nProduct Description\\nBeautiful Design\\nFeaturing a 15.49-cm (6.1) all-screen Liquid Retina LCD and a glass and aluminum design, the iPhone 11 is as beautiful as it gets. Also, the IP68 rating ensures that is water-resistant up to 2 meters for 30 minutes.\\nTake Your Photos Further. And Wider.\\nThe iPhone 11 features dual 12 MP Ultra Wide (13mm) and Wide (26mm) cameras with 4K video recording up to 60 fps. The Ultra Wide camera provides 120° field of view, letting you capture four times more scene, and the Wide camera provides 100% Focus Pixels for up to three times faster autofocus in low light.\\nView all features\\nSpecifications\\nGeneral\\nIn The Box\\nHandset, EarPods with Lightning Connector, Lightning to USB Cable, USB Power Adapter, Documentation\\nModel Number\\nMWLT2HN/A\\nModel Name\\niPhone 11\\nColor\\nBlack\\nBrowse Type\\nSmartphones\\nSIM Type\\nDual Sim\\nHybrid Sim Slot\\nNo\\nTouchscreen\\nYes\\nRead More\\nRatings & Reviews\\nRate Product\\n4.6★\\n44,833 Ratings &\\n3,433 Reviews\\n5★\\n4★\\n3★\\n2★\\n1★\\n35,280\\n6,036\\n1,341\\n531\\n1,645\\n4.7\\nCamera\\n4.5\\nBattery\\n4.3\\nDisplay\\n4.7\\nValue for Money\\n+ 1800\\n5\\nBrilliant\\nThe Best Phone for the Money\\n\\nThe iPhone 11 offers superb cameras, a more durable design and excellent battery life for an affordable price.\\n\\nCompelling ultra-wide camera\\nNew Night mode is excellent\\nLong battery life\\nAnkit\\nCertified Buyer, Gurgaon\\nSep, 2019\\n3280502\\n5\\nPerfect product!\\nAmazing phone with great cameras and better battery which gives you the best performance. I just love the camera .\\nFlipkart Customer\\nCertified Buyer, Hyderabad\\n10months ago\\n4591770\\n5\\nWorth every penny\\nPreviously I was using one plus 3t it was a great phone\\nAnd then I decided to upgrade I am stuck between Samsung s10 plus or iPhone 11\\nI have seen the specs and everything were good except the display it’s somewhere between 720-1080 and it’s not even an amoled it’s an LCD display\\nBut I decided to go with iPhone because I have never used an IOS device I have Been an android user from the past 9 years I ordered IPhone 11 (128gb) product red\\nMy experience after using 3 weeks\\n1. The delivery ...\\nREAD MORE\\nVamshi Chakrala\\nCertified Buyer, Huzurnagar\\nJan, 2020\\n1418233\\n\\n\\n\\n\\n\\n\\n\\n\\n\\n\\n\\n\\n\\n\\n\\n\\n\\n\\n\\n\\n+\\nAll 3433 reviews\\nQuestions and Answers\\nQ:which phone are best iphone XR or Iphone 11\\nA:Iphone 11\\nAnonymous\\nCertified Buyer\\n30354\\nRead other answers\\nQ:how many years we can play high games like pubg without lag?..my samsung A50 is lagging in 1year now\\nA:Mobile Life Time play\\nRony Sk\\nCertified Buyer\\n1138302\\nQ:Iphone 11 have a depth effect or not\\nA:yes\\nmahaveer gurjar\\nCertified Buyer\\n36187\\nAll questions\\n+\\nSafe and Secure Payments.Easy returns.100% Authentic products.',\n",
       " 'The Best Phone for the Money\\n\\nThe iPhone 11 offers superb cameras, a more durable design and excellent battery life for an affordable price.\\n\\nCompelling ultra-wide camera\\nNew Night mode is excellent\\nLong battery life',\n",
       " 'Amazing phone with great cameras and better battery which gives you the best performance. I just love the camera .',\n",
       " 'Previously I was using one plus 3t it was a great phone\\nAnd then I decided to upgrade I am stuck between Samsung s10 plus or iPhone 11\\nI have seen the specs and everything were good except the display it’s somewhere between 720-1080 and it’s not even an amoled it’s an LCD display\\nBut I decided to go with iPhone because I have never used an IOS device I have Been an android user from the past 9 years I ordered IPhone 11 (128gb) product red\\nMy experience after using 3 weeks\\n1. The delivery ...',\n",
       " '',\n",
       " '',\n",
       " '',\n",
       " '',\n",
       " '',\n",
       " '',\n",
       " '',\n",
       " 'Q:which phone are best iphone XR or Iphone 11\\nA:Iphone 11\\nAnonymous\\nCertified Buyer\\n30354\\nRead other answers\\nQ:how many years we can play high games like pubg without lag?..my samsung A50 is lagging in 1year now\\nA:Mobile Life Time play\\nRony Sk\\nCertified Buyer\\n1138302\\nQ:Iphone 11 have a depth effect or not\\nA:yes\\nmahaveer gurjar\\nCertified Buyer\\n36187',\n",
       " '4.644,839 Ratings & 3,433 Reviews',\n",
       " 'The Best Phone for the Money\\n\\nThe iPhone 11 offers superb cameras, a more durable design and excellent battery life for an affordable price.\\n\\nCompelling ultra-wide camera\\nNew Night mode is excellent\\nLong battery life',\n",
       " 'Amazing phone with great cameras and better battery which gives you the best performance. I just love the camera .',\n",
       " 'Previously I was using one plus 3t it was a great phone\\nAnd then I decided to upgrade I am stuck between Samsung s10 plus or iPhone 11\\nI have seen the specs and everything were good except the display it’s somewhere between 720-1080 and it’s not even an amoled it’s an LCD display\\nBut I decided to go with iPhone because I have never used an IOS device I have Been an android user from the past 9 years I ordered IPhone 11 (128gb) product red\\nMy experience after using 3 weeks\\n1. The delivery ...',\n",
       " '',\n",
       " '',\n",
       " '',\n",
       " '',\n",
       " '',\n",
       " 'Q:which phone are best iphone XR or Iphone 11\\nA:Iphone 11\\nAnonymous\\nCertified Buyer\\n30354\\nRead other answers\\nQ:how many years we can play high games like pubg without lag?..my samsung A50 is lagging in 1year now\\nA:Mobile Life Time play\\nRony Sk\\nCertified Buyer\\n1138302\\nQ:Iphone 11 have a depth effect or not\\nA:yes\\nmahaveer gurjar\\nCertified Buyer\\n36187',\n",
       " '4.511,202 Ratings & 794 Reviews',\n",
       " \"Product Description\\nAn all-new glass design, an updated camera, and a powerful chip, there's so much to love about the iPhone 8. This iPhone brings you an augmented reality experience that's more immersive than before. What's more? You can charge your iPhone wirelessly!\\nFormed From Glass\\nBoasting a color-matched, aerospace-grade aluminium band, this phone is a stunner. The distinctive glass on its front and back is durable.\\nWater and Dust Resistant (IP67)\\nIts body is precision-engineered to be splash, water, and dust resistant.\\nView all features\\nSpecifications\\nGeneral\\nIn The Box\\niPhone with iOS 12, EarPods with Lightning Connector, Lightning to USB Cable, USB Power Adapter, Documentation\\nModel Number\\nMQ7G2HN/A\\nModel Name\\niPhone 8\\nColor\\nSilver\\nBrowse Type\\nSmartphones\\nSIM Type\\nSingle Sim\\nTouchscreen\\nYes\\nSound Enhancements\\nBuilt-in Stereo Speaker, Built-in Microphone\\nRead More\\nRatings & Reviews\\nRate Product\\n4.5★\\n11,202 Ratings &\\n794 Reviews\\n5★\\n4★\\n3★\\n2★\\n1★\\n8,332\\n1,730\\n421\\n152\\n567\\n4.6\\nCamera\\n4.1\\nBattery\\n4.8\\nValue for Money\\n4.5\\nPerformance\\n+ 168\\n5\\nBrilliant\\nI got this as my birthday gift the phone is just awesome pics the display and voice quality is just awesome nd looks are my favourite it is worth of money❤️🥰💕📱\\n+ 1\\nFlipkart Customer\\nCertified Buyer, Mohali\\nDec, 2019\\n25046\\n5\\nBrilliant\\niPhone 8 nice I love this mobile nice picture clarity\\nVenkey P\\nCertified Buyer, Payakaraopeta\\nOct, 2019\\n39887\\n5\\nMind-blowing purchase\\nworth the money. battery charge can lasts full day if used in low power mode and well it's an iPhone 😉. iOS 13 is awesome, camera is not that great but ok when compared with my OnePlus 7 pro and display is best compared to iPhone xr. best buy 👌\\nSathya Kiran\\nCertified Buyer, Secunderabad\\nOct, 2019\\n447117\\n\\n\\n\\n\\n\\n+\\nAll 794 reviews\\nQuestions and Answers\\nQ:which 1 to buy iphone 7 plus or iphone 8?\\nA:Iphone 8 as its faster and also has wireless charging\\nNitin Kumar\\nCertified Buyer\\n8814\\nQ:Which phone is best Google pixel 2 or iPhone 8\\nA:iPhone 8\\nAnonymous\\nCertified Buyer\\n8117\\nRead other answers\\nQ:does jio sim works on iphone 8???\\nA:Yes. It works.\\nKusum Raghava\\nCertified Buyer\\n10728\\nRead other answers\\nAll questions\\n+\\nSafe and Secure Payments.Easy returns.100% Authentic products.\",\n",
       " 'I got this as my birthday gift the phone is just awesome pics the display and voice quality is just awesome nd looks are my favourite it is worth of money❤️🥰💕📱',\n",
       " 'iPhone 8 nice I love this mobile nice picture clarity',\n",
       " \"worth the money. battery charge can lasts full day if used in low power mode and well it's an iPhone 😉. iOS 13 is awesome, camera is not that great but ok when compared with my OnePlus 7 pro and display is best compared to iPhone xr. best buy 👌\",\n",
       " '',\n",
       " '',\n",
       " '',\n",
       " '',\n",
       " '',\n",
       " 'Q:which 1 to buy iphone 7 plus or iphone 8?\\nA:Iphone 8 as its faster and also has wireless charging\\nNitin Kumar\\nCertified Buyer\\n8814\\nQ:Which phone is best Google pixel 2 or iPhone 8\\nA:iPhone 8\\nAnonymous\\nCertified Buyer\\n8117\\nRead other answers\\nQ:does jio sim works on iphone 8???\\nA:Yes. It works.\\nKusum Raghava\\nCertified Buyer\\n10728\\nRead other answers',\n",
       " '4.679,835 Ratings & 6,821 Reviews',\n",
       " \"Description\\nNA\\nProduct Description\\nThe iPhone XR has arrived to stun our senses with a host of features such as the Liquid Retina Display, a faster Face ID, and the powerful A12 Bionic Chip. Whether it's that picture-perfect portrait shot or a jaw-dropping HDR picture, the cameras of this iPhone too will continue to stun you with their brilliance. Thus, when you have the iPhone XR in your hands, you can only see beauty, in every way.\\nLiquid Retina Display - Beauty Awaits Your Eyes\\nWhat does the display of the iPhone XR smartphone have in store for you? Its advanced 15.49 cm (6.1) Liquid Retina Display along with an innovative backlight, allows the screen to stretch to the corners, thereby exposing you to colorful visuals from one edge to another. It also packs the punch of enhanced color accuracy and a wide color gamut for delightful visuals.\\nExceptional Design - Feel It to Believe It\\nGet set to be stunned by this phone's design as it comprises one of the most durable front glass. A special Apple-designed alloy has been utilized to make the structural bands to complement the look of the back glass.\\nView all features\\nSpecifications\\nGeneral\\nIn The Box\\nHandset, EarPods with Lightning Connector, Lightning to USB Cable, USB Power Adapter, Documentation\\nModel Number\\nMRYP2HN/A\\nModel Name\\niPhone XR\\nColor\\nCoral\\nBrowse Type\\nSmartphones\\nSIM Type\\nDual Sim\\nHybrid Sim Slot\\nNo\\nTouchscreen\\nYes\\nRead More\\nRatings & Reviews\\nRate Product\\n4.6★\\n79,835 Ratings &\\n6,821 Reviews\\n5★\\n4★\\n3★\\n2★\\n1★\\n60,924\\n12,749\\n2,653\\n865\\n2,644\\n4.4\\nCamera\\n4.6\\nBattery\\n4.6\\nDisplay\\n4.8\\nValue for Money\\n+ 2698\\n5\\nTerrific\\nAwesome smart phone.... Loved it.\\nBig display, awesome battery backup, Monster sounds, great colour, Apple durability what more u want.\\n+ 1\\nFlipkart Customer\\nCertified Buyer, Pimpri Chinchwad\\n7months ago\\n2445378\\n5\\nSuper!\\nWriting this review after using iPhone XR for almost six months, a total value for money phone. Battery performance is pretty nice in comparison to other iPhones.\\nCamera is superb. Looking forward for iOS 14 update. I would recommend to buy XR instead of SE2 .\\nFlipkart Customer\\nCertified Buyer, Pune\\n9months ago\\n868155\\n4\\nPretty good\\nSo amazin....Blue colour is fresh+beautiful+awesome . And For me it's so ooooo pretty & fancy colour . Wow! Phone features , COD tho 👍, price value perfect , full screen wallpaper hd for mobile and about battery life i can't describe . Aaaaaa.......lovely. And im Sorry for my photography but in real blue colour is so amazin , i meant it 🖖.\\n+ 1\\nDeepa Cheri\\nCertified Buyer, Guwahati\\n5months ago\\n17426\\n\\n\\n\\n\\n\\n\\n\\n\\n\\n\\n\\n\\n\\n\\n\\n\\n\\n\\n+\\nAll 6821 reviews\\nQuestions and Answers\\nQ:What is the meaning of product that mentioned in the title ? Is it any differ from others\\nA:Red is a licensed brand for raising funds to fight HIV AIDS. A portion of each purchase of product red iPhone goes directly to help fight HIV and AIDS. You can search product red for more information.\\nAnonymous\\nCertified Buyer\\n801158\\nRead other answers\\nQ:which one is better iphone 7 plus or iphone xr\\nA:Xr\\nAnonymous\\nCertified Buyer\\n1618514\\nQ:How long can I take a picture under water ??\\nA:Its water resistant and not water proof and also it doesn’t have any warranty on damages from water\\nFlipkart Customer\\nCertified Buyer\\n412146\\nRead other answers\\nAll questions\\n+\\nSafe and Secure Payments.Easy returns.100% Authentic products.\",\n",
       " 'Awesome smart phone.... Loved it.\\nBig display, awesome battery backup, Monster sounds, great colour, Apple durability what more u want.',\n",
       " 'Writing this review after using iPhone XR for almost six months, a total value for money phone. Battery performance is pretty nice in comparison to other iPhones.\\nCamera is superb. Looking forward for iOS 14 update. I would recommend to buy XR instead of SE2 .',\n",
       " \"So amazin....Blue colour is fresh+beautiful+awesome . And For me it's so ooooo pretty & fancy colour . Wow! Phone features , COD tho 👍, price value perfect , full screen wallpaper hd for mobile and about battery life i can't describe . Aaaaaa.......lovely. And im Sorry for my photography but in real blue colour is so amazin , i meant it 🖖.\",\n",
       " '',\n",
       " '',\n",
       " '',\n",
       " '',\n",
       " '',\n",
       " 'Q:What is the meaning of product that mentioned in the title ? Is it any differ from others\\nA:Red is a licensed brand for raising funds to fight HIV AIDS. A portion of each purchase of product red iPhone goes directly to help fight HIV and AIDS. You can search product red for more information.\\nAnonymous\\nCertified Buyer\\n801158\\nRead other answers\\nQ:which one is better iphone 7 plus or iphone xr\\nA:Xr\\nAnonymous\\nCertified Buyer\\n1618514\\nQ:How long can I take a picture under water ??\\nA:Its water resistant and not water proof and also it doesn’t have any warranty on damages from water\\nFlipkart Customer\\nCertified Buyer\\n412146\\nRead other answers',\n",
       " '3.768 Ratings & 16 Reviews',\n",
       " 'Good',\n",
       " 'Superb good quality glass',\n",
       " 'Fine quality of 6s genuine product',\n",
       " '',\n",
       " '',\n",
       " '',\n",
       " '',\n",
       " '',\n",
       " '3.25 Ratings & 2 Reviews',\n",
       " 'bad quality product',\n",
       " 'Nice',\n",
       " '23 Ratings & 2 Reviews',\n",
       " 'It doesn’t stick well very bad quality',\n",
       " 'i think the product is okay .. but you need to provide proper instructions to do this .',\n",
       " '3.813 Ratings & 1 Reviews',\n",
       " 'NYC n well packed',\n",
       " '3.842 Ratings & 5 Reviews',\n",
       " 'Worst product. Very big in size. Does not fit to screen properly. Worst product',\n",
       " 'nice product',\n",
       " 'Worst ever product it’s plastic and make me very irritating 😠',\n",
       " '',\n",
       " '',\n",
       " '4.515 Ratings & 4 Reviews',\n",
       " 'waste',\n",
       " 'Just Awesome👍🏻',\n",
       " 'satisfied fully. superb.',\n",
       " '',\n",
       " '4.613 Ratings & 9 Reviews',\n",
       " 'Good quality tempered very protective fit is perfect money valuable.',\n",
       " 'The Best and Easy Way to apply tempered - worth your money. Its very easy and could be done in a minute. I recently bought this product for my iPhone Pro Max. Is soo simple ,and bubble free....',\n",
       " 'It fits on the screen perfectly. The edge to edge design is precisely made.',\n",
       " '',\n",
       " '',\n",
       " '',\n",
       " '',\n",
       " '']"
      ]
     },
     "execution_count": 147,
     "metadata": {},
     "output_type": "execute_result"
    }
   ],
   "source": [
    " full_review"
   ]
  },
  {
   "cell_type": "code",
   "execution_count": 148,
   "id": "twenty-muslim",
   "metadata": {},
   "outputs": [
    {
     "name": "stdout",
     "output_type": "stream",
     "text": [
      "206 64 82\n"
     ]
    }
   ],
   "source": [
    "print(len(rating), len(review_summary), len(full_review))"
   ]
  },
  {
   "cell_type": "code",
   "execution_count": 155,
   "id": "drawn-brooks",
   "metadata": {},
   "outputs": [],
   "source": [
    "url=\"https://www.flipkart.com/roxel-edge-tempered-glass-apple-iphone-8-plus-gold-64-gb/p/itmfdz83by7gzrry?pid=ACCFDYY2VUMDHKG4&lid=LSTACCFDYY2VUMDHKG4UAHUQQ&marketplace=FLIPKART&q=iphone11&store=tyy&srno=s_6_221&otracker=search&otracker1=search&fm=organic&iid=90cbf111-d5a6-43b1-8b05-ede61417cc01.ACCFDYY2VUMDHKG4.SEARCH&ppt=sp&ppn=sp&qH=d6db477051465f9a\""
   ]
  },
  {
   "cell_type": "code",
   "execution_count": 156,
   "id": "exotic-chinese",
   "metadata": {},
   "outputs": [],
   "source": [
    "#lets open the webpage through our webdriver\n",
    "browser.get(url)"
   ]
  },
  {
   "cell_type": "code",
   "execution_count": 157,
   "id": "instant-chapel",
   "metadata": {},
   "outputs": [
    {
     "data": {
      "text/plain": [
       "[<selenium.webdriver.remote.webelement.WebElement (session=\"f69c0554cdc00036f8536f3fd883e0d8\", element=\"74a27d94-1a47-44fe-9f25-50729807c24c\")>,\n",
       " <selenium.webdriver.remote.webelement.WebElement (session=\"f69c0554cdc00036f8536f3fd883e0d8\", element=\"926e9556-96d3-4fce-94d0-046bf8cf64e0\")>]"
      ]
     },
     "execution_count": 157,
     "metadata": {},
     "output_type": "execute_result"
    }
   ],
   "source": [
    "review_tags = browser.find_elements_by_xpath (\"//p[@class='_2-N8zT']\")\n",
    "review_tags"
   ]
  },
  {
   "cell_type": "code",
   "execution_count": 158,
   "id": "moved-fisher",
   "metadata": {},
   "outputs": [],
   "source": [
    "for i in review_tags:\n",
    "    review=i.text\n",
    "    review_summary.append(review)"
   ]
  },
  {
   "cell_type": "code",
   "execution_count": 159,
   "id": "distant-universe",
   "metadata": {},
   "outputs": [
    {
     "data": {
      "text/plain": [
       "['Brilliant',\n",
       " 'Perfect product!',\n",
       " 'Worth every penny',\n",
       " '',\n",
       " '',\n",
       " '',\n",
       " '',\n",
       " '',\n",
       " '',\n",
       " '',\n",
       " 'Brilliant',\n",
       " 'Perfect product!',\n",
       " 'Worth every penny',\n",
       " '',\n",
       " '',\n",
       " '',\n",
       " '',\n",
       " '',\n",
       " 'Brilliant',\n",
       " 'Brilliant',\n",
       " 'Mind-blowing purchase',\n",
       " '',\n",
       " '',\n",
       " '',\n",
       " '',\n",
       " '',\n",
       " 'Terrific',\n",
       " 'Super!',\n",
       " 'Pretty good',\n",
       " '',\n",
       " '',\n",
       " '',\n",
       " '',\n",
       " '',\n",
       " 'Decent product',\n",
       " 'Wonderful',\n",
       " 'Terrific purchase',\n",
       " '',\n",
       " '',\n",
       " '',\n",
       " '',\n",
       " '',\n",
       " 'Worthless',\n",
       " 'Highly recommended',\n",
       " 'Useless product',\n",
       " 'Good',\n",
       " 'Classy product',\n",
       " 'Not recommended at all',\n",
       " 'Classy product',\n",
       " 'Utterly Disappointed',\n",
       " '',\n",
       " '',\n",
       " 'Very poor',\n",
       " 'Best in the market!',\n",
       " 'Fabulous!',\n",
       " '',\n",
       " 'Must buy!',\n",
       " 'Terrific purchase',\n",
       " 'Terrific purchase',\n",
       " '',\n",
       " '',\n",
       " '',\n",
       " '',\n",
       " '',\n",
       " 'Useless product',\n",
       " 'Very poor']"
      ]
     },
     "execution_count": 159,
     "metadata": {},
     "output_type": "execute_result"
    }
   ],
   "source": [
    " review_summary"
   ]
  },
  {
   "cell_type": "code",
   "execution_count": 160,
   "id": "computational-graham",
   "metadata": {},
   "outputs": [
    {
     "data": {
      "text/plain": [
       "[<selenium.webdriver.remote.webelement.WebElement (session=\"f69c0554cdc00036f8536f3fd883e0d8\", element=\"9895d7cb-5f5a-4bee-b0a8-70add4d2ecfb\")>,\n",
       " <selenium.webdriver.remote.webelement.WebElement (session=\"f69c0554cdc00036f8536f3fd883e0d8\", element=\"0b5f71d1-d747-41f0-ac3d-4d5ec76372db\")>,\n",
       " <selenium.webdriver.remote.webelement.WebElement (session=\"f69c0554cdc00036f8536f3fd883e0d8\", element=\"44a45bb3-f330-41fd-b0cd-1de05a7c7cc7\")>]"
      ]
     },
     "execution_count": 160,
     "metadata": {},
     "output_type": "execute_result"
    }
   ],
   "source": [
    "fullreview_tags = browser.find_elements_by_xpath (\"//div[@class='']\")\n",
    "fullreview_tags"
   ]
  },
  {
   "cell_type": "code",
   "execution_count": 162,
   "id": "refined-enforcement",
   "metadata": {},
   "outputs": [],
   "source": [
    "for i in fullreview_tags:\n",
    "    fullreviews=i.text\n",
    "    full_review.append(fullreviews)"
   ]
  },
  {
   "cell_type": "code",
   "execution_count": 163,
   "id": "asian-smoke",
   "metadata": {},
   "outputs": [
    {
     "data": {
      "text/plain": [
       "['4.644,833 Ratings & 3,433 Reviews',\n",
       " 'Description\\nNA\\nProduct Description\\nBeautiful Design\\nFeaturing a 15.49-cm (6.1) all-screen Liquid Retina LCD and a glass and aluminum design, the iPhone 11 is as beautiful as it gets. Also, the IP68 rating ensures that is water-resistant up to 2 meters for 30 minutes.\\nTake Your Photos Further. And Wider.\\nThe iPhone 11 features dual 12 MP Ultra Wide (13mm) and Wide (26mm) cameras with 4K video recording up to 60 fps. The Ultra Wide camera provides 120° field of view, letting you capture four times more scene, and the Wide camera provides 100% Focus Pixels for up to three times faster autofocus in low light.\\nView all features\\nSpecifications\\nGeneral\\nIn The Box\\nHandset, EarPods with Lightning Connector, Lightning to USB Cable, USB Power Adapter, Documentation\\nModel Number\\nMWLT2HN/A\\nModel Name\\niPhone 11\\nColor\\nBlack\\nBrowse Type\\nSmartphones\\nSIM Type\\nDual Sim\\nHybrid Sim Slot\\nNo\\nTouchscreen\\nYes\\nRead More\\nRatings & Reviews\\nRate Product\\n4.6★\\n44,833 Ratings &\\n3,433 Reviews\\n5★\\n4★\\n3★\\n2★\\n1★\\n35,280\\n6,036\\n1,341\\n531\\n1,645\\n4.7\\nCamera\\n4.5\\nBattery\\n4.3\\nDisplay\\n4.7\\nValue for Money\\n+ 1800\\n5\\nBrilliant\\nThe Best Phone for the Money\\n\\nThe iPhone 11 offers superb cameras, a more durable design and excellent battery life for an affordable price.\\n\\nCompelling ultra-wide camera\\nNew Night mode is excellent\\nLong battery life\\nAnkit\\nCertified Buyer, Gurgaon\\nSep, 2019\\n3280502\\n5\\nPerfect product!\\nAmazing phone with great cameras and better battery which gives you the best performance. I just love the camera .\\nFlipkart Customer\\nCertified Buyer, Hyderabad\\n10months ago\\n4591770\\n5\\nWorth every penny\\nPreviously I was using one plus 3t it was a great phone\\nAnd then I decided to upgrade I am stuck between Samsung s10 plus or iPhone 11\\nI have seen the specs and everything were good except the display it’s somewhere between 720-1080 and it’s not even an amoled it’s an LCD display\\nBut I decided to go with iPhone because I have never used an IOS device I have Been an android user from the past 9 years I ordered IPhone 11 (128gb) product red\\nMy experience after using 3 weeks\\n1. The delivery ...\\nREAD MORE\\nVamshi Chakrala\\nCertified Buyer, Huzurnagar\\nJan, 2020\\n1418233\\n\\n\\n\\n\\n\\n\\n\\n\\n\\n\\n\\n\\n\\n\\n\\n\\n\\n\\n\\n\\n+\\nAll 3433 reviews\\nQuestions and Answers\\nQ:which phone are best iphone XR or Iphone 11\\nA:Iphone 11\\nAnonymous\\nCertified Buyer\\n30354\\nRead other answers\\nQ:how many years we can play high games like pubg without lag?..my samsung A50 is lagging in 1year now\\nA:Mobile Life Time play\\nRony Sk\\nCertified Buyer\\n1138302\\nQ:Iphone 11 have a depth effect or not\\nA:yes\\nmahaveer gurjar\\nCertified Buyer\\n36187\\nAll questions\\n+\\nSafe and Secure Payments.Easy returns.100% Authentic products.',\n",
       " 'The Best Phone for the Money\\n\\nThe iPhone 11 offers superb cameras, a more durable design and excellent battery life for an affordable price.\\n\\nCompelling ultra-wide camera\\nNew Night mode is excellent\\nLong battery life',\n",
       " 'Amazing phone with great cameras and better battery which gives you the best performance. I just love the camera .',\n",
       " 'Previously I was using one plus 3t it was a great phone\\nAnd then I decided to upgrade I am stuck between Samsung s10 plus or iPhone 11\\nI have seen the specs and everything were good except the display it’s somewhere between 720-1080 and it’s not even an amoled it’s an LCD display\\nBut I decided to go with iPhone because I have never used an IOS device I have Been an android user from the past 9 years I ordered IPhone 11 (128gb) product red\\nMy experience after using 3 weeks\\n1. The delivery ...',\n",
       " '',\n",
       " '',\n",
       " '',\n",
       " '',\n",
       " '',\n",
       " '',\n",
       " '',\n",
       " 'Q:which phone are best iphone XR or Iphone 11\\nA:Iphone 11\\nAnonymous\\nCertified Buyer\\n30354\\nRead other answers\\nQ:how many years we can play high games like pubg without lag?..my samsung A50 is lagging in 1year now\\nA:Mobile Life Time play\\nRony Sk\\nCertified Buyer\\n1138302\\nQ:Iphone 11 have a depth effect or not\\nA:yes\\nmahaveer gurjar\\nCertified Buyer\\n36187',\n",
       " '4.644,839 Ratings & 3,433 Reviews',\n",
       " 'The Best Phone for the Money\\n\\nThe iPhone 11 offers superb cameras, a more durable design and excellent battery life for an affordable price.\\n\\nCompelling ultra-wide camera\\nNew Night mode is excellent\\nLong battery life',\n",
       " 'Amazing phone with great cameras and better battery which gives you the best performance. I just love the camera .',\n",
       " 'Previously I was using one plus 3t it was a great phone\\nAnd then I decided to upgrade I am stuck between Samsung s10 plus or iPhone 11\\nI have seen the specs and everything were good except the display it’s somewhere between 720-1080 and it’s not even an amoled it’s an LCD display\\nBut I decided to go with iPhone because I have never used an IOS device I have Been an android user from the past 9 years I ordered IPhone 11 (128gb) product red\\nMy experience after using 3 weeks\\n1. The delivery ...',\n",
       " '',\n",
       " '',\n",
       " '',\n",
       " '',\n",
       " '',\n",
       " 'Q:which phone are best iphone XR or Iphone 11\\nA:Iphone 11\\nAnonymous\\nCertified Buyer\\n30354\\nRead other answers\\nQ:how many years we can play high games like pubg without lag?..my samsung A50 is lagging in 1year now\\nA:Mobile Life Time play\\nRony Sk\\nCertified Buyer\\n1138302\\nQ:Iphone 11 have a depth effect or not\\nA:yes\\nmahaveer gurjar\\nCertified Buyer\\n36187',\n",
       " '4.511,202 Ratings & 794 Reviews',\n",
       " \"Product Description\\nAn all-new glass design, an updated camera, and a powerful chip, there's so much to love about the iPhone 8. This iPhone brings you an augmented reality experience that's more immersive than before. What's more? You can charge your iPhone wirelessly!\\nFormed From Glass\\nBoasting a color-matched, aerospace-grade aluminium band, this phone is a stunner. The distinctive glass on its front and back is durable.\\nWater and Dust Resistant (IP67)\\nIts body is precision-engineered to be splash, water, and dust resistant.\\nView all features\\nSpecifications\\nGeneral\\nIn The Box\\niPhone with iOS 12, EarPods with Lightning Connector, Lightning to USB Cable, USB Power Adapter, Documentation\\nModel Number\\nMQ7G2HN/A\\nModel Name\\niPhone 8\\nColor\\nSilver\\nBrowse Type\\nSmartphones\\nSIM Type\\nSingle Sim\\nTouchscreen\\nYes\\nSound Enhancements\\nBuilt-in Stereo Speaker, Built-in Microphone\\nRead More\\nRatings & Reviews\\nRate Product\\n4.5★\\n11,202 Ratings &\\n794 Reviews\\n5★\\n4★\\n3★\\n2★\\n1★\\n8,332\\n1,730\\n421\\n152\\n567\\n4.6\\nCamera\\n4.1\\nBattery\\n4.8\\nValue for Money\\n4.5\\nPerformance\\n+ 168\\n5\\nBrilliant\\nI got this as my birthday gift the phone is just awesome pics the display and voice quality is just awesome nd looks are my favourite it is worth of money❤️🥰💕📱\\n+ 1\\nFlipkart Customer\\nCertified Buyer, Mohali\\nDec, 2019\\n25046\\n5\\nBrilliant\\niPhone 8 nice I love this mobile nice picture clarity\\nVenkey P\\nCertified Buyer, Payakaraopeta\\nOct, 2019\\n39887\\n5\\nMind-blowing purchase\\nworth the money. battery charge can lasts full day if used in low power mode and well it's an iPhone 😉. iOS 13 is awesome, camera is not that great but ok when compared with my OnePlus 7 pro and display is best compared to iPhone xr. best buy 👌\\nSathya Kiran\\nCertified Buyer, Secunderabad\\nOct, 2019\\n447117\\n\\n\\n\\n\\n\\n+\\nAll 794 reviews\\nQuestions and Answers\\nQ:which 1 to buy iphone 7 plus or iphone 8?\\nA:Iphone 8 as its faster and also has wireless charging\\nNitin Kumar\\nCertified Buyer\\n8814\\nQ:Which phone is best Google pixel 2 or iPhone 8\\nA:iPhone 8\\nAnonymous\\nCertified Buyer\\n8117\\nRead other answers\\nQ:does jio sim works on iphone 8???\\nA:Yes. It works.\\nKusum Raghava\\nCertified Buyer\\n10728\\nRead other answers\\nAll questions\\n+\\nSafe and Secure Payments.Easy returns.100% Authentic products.\",\n",
       " 'I got this as my birthday gift the phone is just awesome pics the display and voice quality is just awesome nd looks are my favourite it is worth of money❤️🥰💕📱',\n",
       " 'iPhone 8 nice I love this mobile nice picture clarity',\n",
       " \"worth the money. battery charge can lasts full day if used in low power mode and well it's an iPhone 😉. iOS 13 is awesome, camera is not that great but ok when compared with my OnePlus 7 pro and display is best compared to iPhone xr. best buy 👌\",\n",
       " '',\n",
       " '',\n",
       " '',\n",
       " '',\n",
       " '',\n",
       " 'Q:which 1 to buy iphone 7 plus or iphone 8?\\nA:Iphone 8 as its faster and also has wireless charging\\nNitin Kumar\\nCertified Buyer\\n8814\\nQ:Which phone is best Google pixel 2 or iPhone 8\\nA:iPhone 8\\nAnonymous\\nCertified Buyer\\n8117\\nRead other answers\\nQ:does jio sim works on iphone 8???\\nA:Yes. It works.\\nKusum Raghava\\nCertified Buyer\\n10728\\nRead other answers',\n",
       " '4.679,835 Ratings & 6,821 Reviews',\n",
       " \"Description\\nNA\\nProduct Description\\nThe iPhone XR has arrived to stun our senses with a host of features such as the Liquid Retina Display, a faster Face ID, and the powerful A12 Bionic Chip. Whether it's that picture-perfect portrait shot or a jaw-dropping HDR picture, the cameras of this iPhone too will continue to stun you with their brilliance. Thus, when you have the iPhone XR in your hands, you can only see beauty, in every way.\\nLiquid Retina Display - Beauty Awaits Your Eyes\\nWhat does the display of the iPhone XR smartphone have in store for you? Its advanced 15.49 cm (6.1) Liquid Retina Display along with an innovative backlight, allows the screen to stretch to the corners, thereby exposing you to colorful visuals from one edge to another. It also packs the punch of enhanced color accuracy and a wide color gamut for delightful visuals.\\nExceptional Design - Feel It to Believe It\\nGet set to be stunned by this phone's design as it comprises one of the most durable front glass. A special Apple-designed alloy has been utilized to make the structural bands to complement the look of the back glass.\\nView all features\\nSpecifications\\nGeneral\\nIn The Box\\nHandset, EarPods with Lightning Connector, Lightning to USB Cable, USB Power Adapter, Documentation\\nModel Number\\nMRYP2HN/A\\nModel Name\\niPhone XR\\nColor\\nCoral\\nBrowse Type\\nSmartphones\\nSIM Type\\nDual Sim\\nHybrid Sim Slot\\nNo\\nTouchscreen\\nYes\\nRead More\\nRatings & Reviews\\nRate Product\\n4.6★\\n79,835 Ratings &\\n6,821 Reviews\\n5★\\n4★\\n3★\\n2★\\n1★\\n60,924\\n12,749\\n2,653\\n865\\n2,644\\n4.4\\nCamera\\n4.6\\nBattery\\n4.6\\nDisplay\\n4.8\\nValue for Money\\n+ 2698\\n5\\nTerrific\\nAwesome smart phone.... Loved it.\\nBig display, awesome battery backup, Monster sounds, great colour, Apple durability what more u want.\\n+ 1\\nFlipkart Customer\\nCertified Buyer, Pimpri Chinchwad\\n7months ago\\n2445378\\n5\\nSuper!\\nWriting this review after using iPhone XR for almost six months, a total value for money phone. Battery performance is pretty nice in comparison to other iPhones.\\nCamera is superb. Looking forward for iOS 14 update. I would recommend to buy XR instead of SE2 .\\nFlipkart Customer\\nCertified Buyer, Pune\\n9months ago\\n868155\\n4\\nPretty good\\nSo amazin....Blue colour is fresh+beautiful+awesome . And For me it's so ooooo pretty & fancy colour . Wow! Phone features , COD tho 👍, price value perfect , full screen wallpaper hd for mobile and about battery life i can't describe . Aaaaaa.......lovely. And im Sorry for my photography but in real blue colour is so amazin , i meant it 🖖.\\n+ 1\\nDeepa Cheri\\nCertified Buyer, Guwahati\\n5months ago\\n17426\\n\\n\\n\\n\\n\\n\\n\\n\\n\\n\\n\\n\\n\\n\\n\\n\\n\\n\\n+\\nAll 6821 reviews\\nQuestions and Answers\\nQ:What is the meaning of product that mentioned in the title ? Is it any differ from others\\nA:Red is a licensed brand for raising funds to fight HIV AIDS. A portion of each purchase of product red iPhone goes directly to help fight HIV and AIDS. You can search product red for more information.\\nAnonymous\\nCertified Buyer\\n801158\\nRead other answers\\nQ:which one is better iphone 7 plus or iphone xr\\nA:Xr\\nAnonymous\\nCertified Buyer\\n1618514\\nQ:How long can I take a picture under water ??\\nA:Its water resistant and not water proof and also it doesn’t have any warranty on damages from water\\nFlipkart Customer\\nCertified Buyer\\n412146\\nRead other answers\\nAll questions\\n+\\nSafe and Secure Payments.Easy returns.100% Authentic products.\",\n",
       " 'Awesome smart phone.... Loved it.\\nBig display, awesome battery backup, Monster sounds, great colour, Apple durability what more u want.',\n",
       " 'Writing this review after using iPhone XR for almost six months, a total value for money phone. Battery performance is pretty nice in comparison to other iPhones.\\nCamera is superb. Looking forward for iOS 14 update. I would recommend to buy XR instead of SE2 .',\n",
       " \"So amazin....Blue colour is fresh+beautiful+awesome . And For me it's so ooooo pretty & fancy colour . Wow! Phone features , COD tho 👍, price value perfect , full screen wallpaper hd for mobile and about battery life i can't describe . Aaaaaa.......lovely. And im Sorry for my photography but in real blue colour is so amazin , i meant it 🖖.\",\n",
       " '',\n",
       " '',\n",
       " '',\n",
       " '',\n",
       " '',\n",
       " 'Q:What is the meaning of product that mentioned in the title ? Is it any differ from others\\nA:Red is a licensed brand for raising funds to fight HIV AIDS. A portion of each purchase of product red iPhone goes directly to help fight HIV and AIDS. You can search product red for more information.\\nAnonymous\\nCertified Buyer\\n801158\\nRead other answers\\nQ:which one is better iphone 7 plus or iphone xr\\nA:Xr\\nAnonymous\\nCertified Buyer\\n1618514\\nQ:How long can I take a picture under water ??\\nA:Its water resistant and not water proof and also it doesn’t have any warranty on damages from water\\nFlipkart Customer\\nCertified Buyer\\n412146\\nRead other answers',\n",
       " '3.768 Ratings & 16 Reviews',\n",
       " 'Good',\n",
       " 'Superb good quality glass',\n",
       " 'Fine quality of 6s genuine product',\n",
       " '',\n",
       " '',\n",
       " '',\n",
       " '',\n",
       " '',\n",
       " '3.25 Ratings & 2 Reviews',\n",
       " 'bad quality product',\n",
       " 'Nice',\n",
       " '23 Ratings & 2 Reviews',\n",
       " 'It doesn’t stick well very bad quality',\n",
       " 'i think the product is okay .. but you need to provide proper instructions to do this .',\n",
       " '3.813 Ratings & 1 Reviews',\n",
       " 'NYC n well packed',\n",
       " '3.842 Ratings & 5 Reviews',\n",
       " 'Worst product. Very big in size. Does not fit to screen properly. Worst product',\n",
       " 'nice product',\n",
       " 'Worst ever product it’s plastic and make me very irritating 😠',\n",
       " '',\n",
       " '',\n",
       " '4.515 Ratings & 4 Reviews',\n",
       " 'waste',\n",
       " 'Just Awesome👍🏻',\n",
       " 'satisfied fully. superb.',\n",
       " '',\n",
       " '4.613 Ratings & 9 Reviews',\n",
       " 'Good quality tempered very protective fit is perfect money valuable.',\n",
       " 'The Best and Easy Way to apply tempered - worth your money. Its very easy and could be done in a minute. I recently bought this product for my iPhone Pro Max. Is soo simple ,and bubble free....',\n",
       " 'It fits on the screen perfectly. The edge to edge design is precisely made.',\n",
       " '',\n",
       " '',\n",
       " '',\n",
       " '',\n",
       " '',\n",
       " '3.47 Ratings & 2 Reviews',\n",
       " \"Please don't waste your money on this product .\",\n",
       " 'Worst product']"
      ]
     },
     "execution_count": 163,
     "metadata": {},
     "output_type": "execute_result"
    }
   ],
   "source": [
    " full_review"
   ]
  },
  {
   "cell_type": "code",
   "execution_count": 164,
   "id": "exterior-issue",
   "metadata": {},
   "outputs": [
    {
     "name": "stdout",
     "output_type": "stream",
     "text": [
      "206 66 85\n"
     ]
    }
   ],
   "source": [
    "print(len(rating), len(review_summary), len(full_review))"
   ]
  },
  {
   "cell_type": "code",
   "execution_count": 165,
   "id": "comfortable-spine",
   "metadata": {},
   "outputs": [],
   "source": [
    "url=\"https://www.flipkart.com/koiston-impossible-screen-guard-apple-iphone-se-2020/p/itm0682c8967d395?pid=ACCFSHAWJJ6T7HKQ&lid=LSTACCFSHAWJJ6T7HKQUY2BJN&marketplace=FLIPKART&q=iphone11&store=tyy&srno=s_6_225&otracker=search&otracker1=search&fm=organic&iid=90cbf111-d5a6-43b1-8b05-ede61417cc01.ACCFSHAWJJ6T7HKQ.SEARCH&ppt=sp&ppn=sp&ssid=vpejahu98w0000001618042174388&qH=d6db477051465f9a\""
   ]
  },
  {
   "cell_type": "code",
   "execution_count": 166,
   "id": "hidden-money",
   "metadata": {},
   "outputs": [],
   "source": [
    "#lets open the webpage through our webdriver\n",
    "browser.get(url)"
   ]
  },
  {
   "cell_type": "code",
   "execution_count": 167,
   "id": "speaking-submission",
   "metadata": {},
   "outputs": [
    {
     "data": {
      "text/plain": [
       "[<selenium.webdriver.remote.webelement.WebElement (session=\"f69c0554cdc00036f8536f3fd883e0d8\", element=\"9111faf8-1fbb-4e44-9f1a-8958a7fb68b9\")>,\n",
       " <selenium.webdriver.remote.webelement.WebElement (session=\"f69c0554cdc00036f8536f3fd883e0d8\", element=\"576d8e7f-8d51-446c-a4ef-57ea5982a95c\")>,\n",
       " <selenium.webdriver.remote.webelement.WebElement (session=\"f69c0554cdc00036f8536f3fd883e0d8\", element=\"014022f0-aa61-42a2-baac-d71b0c9ea690\")>,\n",
       " <selenium.webdriver.remote.webelement.WebElement (session=\"f69c0554cdc00036f8536f3fd883e0d8\", element=\"77d713c5-6580-46ac-854b-2d7d36a12db9\")>,\n",
       " <selenium.webdriver.remote.webelement.WebElement (session=\"f69c0554cdc00036f8536f3fd883e0d8\", element=\"c4876f4c-86b5-41fb-8083-9a49416d7f01\")>,\n",
       " <selenium.webdriver.remote.webelement.WebElement (session=\"f69c0554cdc00036f8536f3fd883e0d8\", element=\"a2f3f5b1-adeb-4d69-abd4-a5dda0c7e802\")>,\n",
       " <selenium.webdriver.remote.webelement.WebElement (session=\"f69c0554cdc00036f8536f3fd883e0d8\", element=\"e6b7541c-8e78-4eae-aa22-4749813d5285\")>,\n",
       " <selenium.webdriver.remote.webelement.WebElement (session=\"f69c0554cdc00036f8536f3fd883e0d8\", element=\"fa08a1c1-0db9-4d25-b2a0-048183772a3a\")>]"
      ]
     },
     "execution_count": 167,
     "metadata": {},
     "output_type": "execute_result"
    }
   ],
   "source": [
    "review_tags = browser.find_elements_by_xpath (\"//p[@class='_2-N8zT']\")\n",
    "review_tags"
   ]
  },
  {
   "cell_type": "code",
   "execution_count": 168,
   "id": "restricted-vehicle",
   "metadata": {},
   "outputs": [],
   "source": [
    "for i in review_tags:\n",
    "    review=i.text\n",
    "    review_summary.append(review)"
   ]
  },
  {
   "cell_type": "code",
   "execution_count": 169,
   "id": "objective-original",
   "metadata": {},
   "outputs": [
    {
     "data": {
      "text/plain": [
       "['Brilliant',\n",
       " 'Perfect product!',\n",
       " 'Worth every penny',\n",
       " '',\n",
       " '',\n",
       " '',\n",
       " '',\n",
       " '',\n",
       " '',\n",
       " '',\n",
       " 'Brilliant',\n",
       " 'Perfect product!',\n",
       " 'Worth every penny',\n",
       " '',\n",
       " '',\n",
       " '',\n",
       " '',\n",
       " '',\n",
       " 'Brilliant',\n",
       " 'Brilliant',\n",
       " 'Mind-blowing purchase',\n",
       " '',\n",
       " '',\n",
       " '',\n",
       " '',\n",
       " '',\n",
       " 'Terrific',\n",
       " 'Super!',\n",
       " 'Pretty good',\n",
       " '',\n",
       " '',\n",
       " '',\n",
       " '',\n",
       " '',\n",
       " 'Decent product',\n",
       " 'Wonderful',\n",
       " 'Terrific purchase',\n",
       " '',\n",
       " '',\n",
       " '',\n",
       " '',\n",
       " '',\n",
       " 'Worthless',\n",
       " 'Highly recommended',\n",
       " 'Useless product',\n",
       " 'Good',\n",
       " 'Classy product',\n",
       " 'Not recommended at all',\n",
       " 'Classy product',\n",
       " 'Utterly Disappointed',\n",
       " '',\n",
       " '',\n",
       " 'Very poor',\n",
       " 'Best in the market!',\n",
       " 'Fabulous!',\n",
       " '',\n",
       " 'Must buy!',\n",
       " 'Terrific purchase',\n",
       " 'Terrific purchase',\n",
       " '',\n",
       " '',\n",
       " '',\n",
       " '',\n",
       " '',\n",
       " 'Useless product',\n",
       " 'Very poor',\n",
       " 'Very Good',\n",
       " 'Wonderful',\n",
       " 'Really Nice',\n",
       " '',\n",
       " '',\n",
       " '',\n",
       " '',\n",
       " '']"
      ]
     },
     "execution_count": 169,
     "metadata": {},
     "output_type": "execute_result"
    }
   ],
   "source": [
    " review_summary"
   ]
  },
  {
   "cell_type": "code",
   "execution_count": 170,
   "id": "social-spank",
   "metadata": {},
   "outputs": [
    {
     "data": {
      "text/plain": [
       "[<selenium.webdriver.remote.webelement.WebElement (session=\"f69c0554cdc00036f8536f3fd883e0d8\", element=\"761049da-870e-4c4e-8d27-b9c81f57bb2f\")>,\n",
       " <selenium.webdriver.remote.webelement.WebElement (session=\"f69c0554cdc00036f8536f3fd883e0d8\", element=\"c48a112c-6b78-4605-b872-1419cbdf458a\")>,\n",
       " <selenium.webdriver.remote.webelement.WebElement (session=\"f69c0554cdc00036f8536f3fd883e0d8\", element=\"43b819f5-68fd-45d0-90d3-225c970227cc\")>,\n",
       " <selenium.webdriver.remote.webelement.WebElement (session=\"f69c0554cdc00036f8536f3fd883e0d8\", element=\"dd8678e4-c52a-47b3-801a-d5816408211d\")>,\n",
       " <selenium.webdriver.remote.webelement.WebElement (session=\"f69c0554cdc00036f8536f3fd883e0d8\", element=\"99a79684-6c37-4654-a25a-c9336f05bad9\")>,\n",
       " <selenium.webdriver.remote.webelement.WebElement (session=\"f69c0554cdc00036f8536f3fd883e0d8\", element=\"01241a18-9b5f-4709-a324-53813ab3fa2e\")>,\n",
       " <selenium.webdriver.remote.webelement.WebElement (session=\"f69c0554cdc00036f8536f3fd883e0d8\", element=\"0ab36ca6-1476-4fb6-ae44-39ef85aa93a9\")>,\n",
       " <selenium.webdriver.remote.webelement.WebElement (session=\"f69c0554cdc00036f8536f3fd883e0d8\", element=\"b5bfb9be-3eec-4678-9cc5-93a933aef3d6\")>,\n",
       " <selenium.webdriver.remote.webelement.WebElement (session=\"f69c0554cdc00036f8536f3fd883e0d8\", element=\"7b1f9abe-a592-40ec-9769-c44b90527b96\")>]"
      ]
     },
     "execution_count": 170,
     "metadata": {},
     "output_type": "execute_result"
    }
   ],
   "source": [
    "fullreview_tags = browser.find_elements_by_xpath (\"//div[@class='']\")\n",
    "fullreview_tags"
   ]
  },
  {
   "cell_type": "code",
   "execution_count": 171,
   "id": "varying-immigration",
   "metadata": {},
   "outputs": [],
   "source": [
    "for i in fullreview_tags:\n",
    "    fullreviews=i.text\n",
    "    full_review.append(fullreviews)"
   ]
  },
  {
   "cell_type": "code",
   "execution_count": 172,
   "id": "initial-understanding",
   "metadata": {},
   "outputs": [
    {
     "data": {
      "text/plain": [
       "['4.644,833 Ratings & 3,433 Reviews',\n",
       " 'Description\\nNA\\nProduct Description\\nBeautiful Design\\nFeaturing a 15.49-cm (6.1) all-screen Liquid Retina LCD and a glass and aluminum design, the iPhone 11 is as beautiful as it gets. Also, the IP68 rating ensures that is water-resistant up to 2 meters for 30 minutes.\\nTake Your Photos Further. And Wider.\\nThe iPhone 11 features dual 12 MP Ultra Wide (13mm) and Wide (26mm) cameras with 4K video recording up to 60 fps. The Ultra Wide camera provides 120° field of view, letting you capture four times more scene, and the Wide camera provides 100% Focus Pixels for up to three times faster autofocus in low light.\\nView all features\\nSpecifications\\nGeneral\\nIn The Box\\nHandset, EarPods with Lightning Connector, Lightning to USB Cable, USB Power Adapter, Documentation\\nModel Number\\nMWLT2HN/A\\nModel Name\\niPhone 11\\nColor\\nBlack\\nBrowse Type\\nSmartphones\\nSIM Type\\nDual Sim\\nHybrid Sim Slot\\nNo\\nTouchscreen\\nYes\\nRead More\\nRatings & Reviews\\nRate Product\\n4.6★\\n44,833 Ratings &\\n3,433 Reviews\\n5★\\n4★\\n3★\\n2★\\n1★\\n35,280\\n6,036\\n1,341\\n531\\n1,645\\n4.7\\nCamera\\n4.5\\nBattery\\n4.3\\nDisplay\\n4.7\\nValue for Money\\n+ 1800\\n5\\nBrilliant\\nThe Best Phone for the Money\\n\\nThe iPhone 11 offers superb cameras, a more durable design and excellent battery life for an affordable price.\\n\\nCompelling ultra-wide camera\\nNew Night mode is excellent\\nLong battery life\\nAnkit\\nCertified Buyer, Gurgaon\\nSep, 2019\\n3280502\\n5\\nPerfect product!\\nAmazing phone with great cameras and better battery which gives you the best performance. I just love the camera .\\nFlipkart Customer\\nCertified Buyer, Hyderabad\\n10months ago\\n4591770\\n5\\nWorth every penny\\nPreviously I was using one plus 3t it was a great phone\\nAnd then I decided to upgrade I am stuck between Samsung s10 plus or iPhone 11\\nI have seen the specs and everything were good except the display it’s somewhere between 720-1080 and it’s not even an amoled it’s an LCD display\\nBut I decided to go with iPhone because I have never used an IOS device I have Been an android user from the past 9 years I ordered IPhone 11 (128gb) product red\\nMy experience after using 3 weeks\\n1. The delivery ...\\nREAD MORE\\nVamshi Chakrala\\nCertified Buyer, Huzurnagar\\nJan, 2020\\n1418233\\n\\n\\n\\n\\n\\n\\n\\n\\n\\n\\n\\n\\n\\n\\n\\n\\n\\n\\n\\n\\n+\\nAll 3433 reviews\\nQuestions and Answers\\nQ:which phone are best iphone XR or Iphone 11\\nA:Iphone 11\\nAnonymous\\nCertified Buyer\\n30354\\nRead other answers\\nQ:how many years we can play high games like pubg without lag?..my samsung A50 is lagging in 1year now\\nA:Mobile Life Time play\\nRony Sk\\nCertified Buyer\\n1138302\\nQ:Iphone 11 have a depth effect or not\\nA:yes\\nmahaveer gurjar\\nCertified Buyer\\n36187\\nAll questions\\n+\\nSafe and Secure Payments.Easy returns.100% Authentic products.',\n",
       " 'The Best Phone for the Money\\n\\nThe iPhone 11 offers superb cameras, a more durable design and excellent battery life for an affordable price.\\n\\nCompelling ultra-wide camera\\nNew Night mode is excellent\\nLong battery life',\n",
       " 'Amazing phone with great cameras and better battery which gives you the best performance. I just love the camera .',\n",
       " 'Previously I was using one plus 3t it was a great phone\\nAnd then I decided to upgrade I am stuck between Samsung s10 plus or iPhone 11\\nI have seen the specs and everything were good except the display it’s somewhere between 720-1080 and it’s not even an amoled it’s an LCD display\\nBut I decided to go with iPhone because I have never used an IOS device I have Been an android user from the past 9 years I ordered IPhone 11 (128gb) product red\\nMy experience after using 3 weeks\\n1. The delivery ...',\n",
       " '',\n",
       " '',\n",
       " '',\n",
       " '',\n",
       " '',\n",
       " '',\n",
       " '',\n",
       " 'Q:which phone are best iphone XR or Iphone 11\\nA:Iphone 11\\nAnonymous\\nCertified Buyer\\n30354\\nRead other answers\\nQ:how many years we can play high games like pubg without lag?..my samsung A50 is lagging in 1year now\\nA:Mobile Life Time play\\nRony Sk\\nCertified Buyer\\n1138302\\nQ:Iphone 11 have a depth effect or not\\nA:yes\\nmahaveer gurjar\\nCertified Buyer\\n36187',\n",
       " '4.644,839 Ratings & 3,433 Reviews',\n",
       " 'The Best Phone for the Money\\n\\nThe iPhone 11 offers superb cameras, a more durable design and excellent battery life for an affordable price.\\n\\nCompelling ultra-wide camera\\nNew Night mode is excellent\\nLong battery life',\n",
       " 'Amazing phone with great cameras and better battery which gives you the best performance. I just love the camera .',\n",
       " 'Previously I was using one plus 3t it was a great phone\\nAnd then I decided to upgrade I am stuck between Samsung s10 plus or iPhone 11\\nI have seen the specs and everything were good except the display it’s somewhere between 720-1080 and it’s not even an amoled it’s an LCD display\\nBut I decided to go with iPhone because I have never used an IOS device I have Been an android user from the past 9 years I ordered IPhone 11 (128gb) product red\\nMy experience after using 3 weeks\\n1. The delivery ...',\n",
       " '',\n",
       " '',\n",
       " '',\n",
       " '',\n",
       " '',\n",
       " 'Q:which phone are best iphone XR or Iphone 11\\nA:Iphone 11\\nAnonymous\\nCertified Buyer\\n30354\\nRead other answers\\nQ:how many years we can play high games like pubg without lag?..my samsung A50 is lagging in 1year now\\nA:Mobile Life Time play\\nRony Sk\\nCertified Buyer\\n1138302\\nQ:Iphone 11 have a depth effect or not\\nA:yes\\nmahaveer gurjar\\nCertified Buyer\\n36187',\n",
       " '4.511,202 Ratings & 794 Reviews',\n",
       " \"Product Description\\nAn all-new glass design, an updated camera, and a powerful chip, there's so much to love about the iPhone 8. This iPhone brings you an augmented reality experience that's more immersive than before. What's more? You can charge your iPhone wirelessly!\\nFormed From Glass\\nBoasting a color-matched, aerospace-grade aluminium band, this phone is a stunner. The distinctive glass on its front and back is durable.\\nWater and Dust Resistant (IP67)\\nIts body is precision-engineered to be splash, water, and dust resistant.\\nView all features\\nSpecifications\\nGeneral\\nIn The Box\\niPhone with iOS 12, EarPods with Lightning Connector, Lightning to USB Cable, USB Power Adapter, Documentation\\nModel Number\\nMQ7G2HN/A\\nModel Name\\niPhone 8\\nColor\\nSilver\\nBrowse Type\\nSmartphones\\nSIM Type\\nSingle Sim\\nTouchscreen\\nYes\\nSound Enhancements\\nBuilt-in Stereo Speaker, Built-in Microphone\\nRead More\\nRatings & Reviews\\nRate Product\\n4.5★\\n11,202 Ratings &\\n794 Reviews\\n5★\\n4★\\n3★\\n2★\\n1★\\n8,332\\n1,730\\n421\\n152\\n567\\n4.6\\nCamera\\n4.1\\nBattery\\n4.8\\nValue for Money\\n4.5\\nPerformance\\n+ 168\\n5\\nBrilliant\\nI got this as my birthday gift the phone is just awesome pics the display and voice quality is just awesome nd looks are my favourite it is worth of money❤️🥰💕📱\\n+ 1\\nFlipkart Customer\\nCertified Buyer, Mohali\\nDec, 2019\\n25046\\n5\\nBrilliant\\niPhone 8 nice I love this mobile nice picture clarity\\nVenkey P\\nCertified Buyer, Payakaraopeta\\nOct, 2019\\n39887\\n5\\nMind-blowing purchase\\nworth the money. battery charge can lasts full day if used in low power mode and well it's an iPhone 😉. iOS 13 is awesome, camera is not that great but ok when compared with my OnePlus 7 pro and display is best compared to iPhone xr. best buy 👌\\nSathya Kiran\\nCertified Buyer, Secunderabad\\nOct, 2019\\n447117\\n\\n\\n\\n\\n\\n+\\nAll 794 reviews\\nQuestions and Answers\\nQ:which 1 to buy iphone 7 plus or iphone 8?\\nA:Iphone 8 as its faster and also has wireless charging\\nNitin Kumar\\nCertified Buyer\\n8814\\nQ:Which phone is best Google pixel 2 or iPhone 8\\nA:iPhone 8\\nAnonymous\\nCertified Buyer\\n8117\\nRead other answers\\nQ:does jio sim works on iphone 8???\\nA:Yes. It works.\\nKusum Raghava\\nCertified Buyer\\n10728\\nRead other answers\\nAll questions\\n+\\nSafe and Secure Payments.Easy returns.100% Authentic products.\",\n",
       " 'I got this as my birthday gift the phone is just awesome pics the display and voice quality is just awesome nd looks are my favourite it is worth of money❤️🥰💕📱',\n",
       " 'iPhone 8 nice I love this mobile nice picture clarity',\n",
       " \"worth the money. battery charge can lasts full day if used in low power mode and well it's an iPhone 😉. iOS 13 is awesome, camera is not that great but ok when compared with my OnePlus 7 pro and display is best compared to iPhone xr. best buy 👌\",\n",
       " '',\n",
       " '',\n",
       " '',\n",
       " '',\n",
       " '',\n",
       " 'Q:which 1 to buy iphone 7 plus or iphone 8?\\nA:Iphone 8 as its faster and also has wireless charging\\nNitin Kumar\\nCertified Buyer\\n8814\\nQ:Which phone is best Google pixel 2 or iPhone 8\\nA:iPhone 8\\nAnonymous\\nCertified Buyer\\n8117\\nRead other answers\\nQ:does jio sim works on iphone 8???\\nA:Yes. It works.\\nKusum Raghava\\nCertified Buyer\\n10728\\nRead other answers',\n",
       " '4.679,835 Ratings & 6,821 Reviews',\n",
       " \"Description\\nNA\\nProduct Description\\nThe iPhone XR has arrived to stun our senses with a host of features such as the Liquid Retina Display, a faster Face ID, and the powerful A12 Bionic Chip. Whether it's that picture-perfect portrait shot or a jaw-dropping HDR picture, the cameras of this iPhone too will continue to stun you with their brilliance. Thus, when you have the iPhone XR in your hands, you can only see beauty, in every way.\\nLiquid Retina Display - Beauty Awaits Your Eyes\\nWhat does the display of the iPhone XR smartphone have in store for you? Its advanced 15.49 cm (6.1) Liquid Retina Display along with an innovative backlight, allows the screen to stretch to the corners, thereby exposing you to colorful visuals from one edge to another. It also packs the punch of enhanced color accuracy and a wide color gamut for delightful visuals.\\nExceptional Design - Feel It to Believe It\\nGet set to be stunned by this phone's design as it comprises one of the most durable front glass. A special Apple-designed alloy has been utilized to make the structural bands to complement the look of the back glass.\\nView all features\\nSpecifications\\nGeneral\\nIn The Box\\nHandset, EarPods with Lightning Connector, Lightning to USB Cable, USB Power Adapter, Documentation\\nModel Number\\nMRYP2HN/A\\nModel Name\\niPhone XR\\nColor\\nCoral\\nBrowse Type\\nSmartphones\\nSIM Type\\nDual Sim\\nHybrid Sim Slot\\nNo\\nTouchscreen\\nYes\\nRead More\\nRatings & Reviews\\nRate Product\\n4.6★\\n79,835 Ratings &\\n6,821 Reviews\\n5★\\n4★\\n3★\\n2★\\n1★\\n60,924\\n12,749\\n2,653\\n865\\n2,644\\n4.4\\nCamera\\n4.6\\nBattery\\n4.6\\nDisplay\\n4.8\\nValue for Money\\n+ 2698\\n5\\nTerrific\\nAwesome smart phone.... Loved it.\\nBig display, awesome battery backup, Monster sounds, great colour, Apple durability what more u want.\\n+ 1\\nFlipkart Customer\\nCertified Buyer, Pimpri Chinchwad\\n7months ago\\n2445378\\n5\\nSuper!\\nWriting this review after using iPhone XR for almost six months, a total value for money phone. Battery performance is pretty nice in comparison to other iPhones.\\nCamera is superb. Looking forward for iOS 14 update. I would recommend to buy XR instead of SE2 .\\nFlipkart Customer\\nCertified Buyer, Pune\\n9months ago\\n868155\\n4\\nPretty good\\nSo amazin....Blue colour is fresh+beautiful+awesome . And For me it's so ooooo pretty & fancy colour . Wow! Phone features , COD tho 👍, price value perfect , full screen wallpaper hd for mobile and about battery life i can't describe . Aaaaaa.......lovely. And im Sorry for my photography but in real blue colour is so amazin , i meant it 🖖.\\n+ 1\\nDeepa Cheri\\nCertified Buyer, Guwahati\\n5months ago\\n17426\\n\\n\\n\\n\\n\\n\\n\\n\\n\\n\\n\\n\\n\\n\\n\\n\\n\\n\\n+\\nAll 6821 reviews\\nQuestions and Answers\\nQ:What is the meaning of product that mentioned in the title ? Is it any differ from others\\nA:Red is a licensed brand for raising funds to fight HIV AIDS. A portion of each purchase of product red iPhone goes directly to help fight HIV and AIDS. You can search product red for more information.\\nAnonymous\\nCertified Buyer\\n801158\\nRead other answers\\nQ:which one is better iphone 7 plus or iphone xr\\nA:Xr\\nAnonymous\\nCertified Buyer\\n1618514\\nQ:How long can I take a picture under water ??\\nA:Its water resistant and not water proof and also it doesn’t have any warranty on damages from water\\nFlipkart Customer\\nCertified Buyer\\n412146\\nRead other answers\\nAll questions\\n+\\nSafe and Secure Payments.Easy returns.100% Authentic products.\",\n",
       " 'Awesome smart phone.... Loved it.\\nBig display, awesome battery backup, Monster sounds, great colour, Apple durability what more u want.',\n",
       " 'Writing this review after using iPhone XR for almost six months, a total value for money phone. Battery performance is pretty nice in comparison to other iPhones.\\nCamera is superb. Looking forward for iOS 14 update. I would recommend to buy XR instead of SE2 .',\n",
       " \"So amazin....Blue colour is fresh+beautiful+awesome . And For me it's so ooooo pretty & fancy colour . Wow! Phone features , COD tho 👍, price value perfect , full screen wallpaper hd for mobile and about battery life i can't describe . Aaaaaa.......lovely. And im Sorry for my photography but in real blue colour is so amazin , i meant it 🖖.\",\n",
       " '',\n",
       " '',\n",
       " '',\n",
       " '',\n",
       " '',\n",
       " 'Q:What is the meaning of product that mentioned in the title ? Is it any differ from others\\nA:Red is a licensed brand for raising funds to fight HIV AIDS. A portion of each purchase of product red iPhone goes directly to help fight HIV and AIDS. You can search product red for more information.\\nAnonymous\\nCertified Buyer\\n801158\\nRead other answers\\nQ:which one is better iphone 7 plus or iphone xr\\nA:Xr\\nAnonymous\\nCertified Buyer\\n1618514\\nQ:How long can I take a picture under water ??\\nA:Its water resistant and not water proof and also it doesn’t have any warranty on damages from water\\nFlipkart Customer\\nCertified Buyer\\n412146\\nRead other answers',\n",
       " '3.768 Ratings & 16 Reviews',\n",
       " 'Good',\n",
       " 'Superb good quality glass',\n",
       " 'Fine quality of 6s genuine product',\n",
       " '',\n",
       " '',\n",
       " '',\n",
       " '',\n",
       " '',\n",
       " '3.25 Ratings & 2 Reviews',\n",
       " 'bad quality product',\n",
       " 'Nice',\n",
       " '23 Ratings & 2 Reviews',\n",
       " 'It doesn’t stick well very bad quality',\n",
       " 'i think the product is okay .. but you need to provide proper instructions to do this .',\n",
       " '3.813 Ratings & 1 Reviews',\n",
       " 'NYC n well packed',\n",
       " '3.842 Ratings & 5 Reviews',\n",
       " 'Worst product. Very big in size. Does not fit to screen properly. Worst product',\n",
       " 'nice product',\n",
       " 'Worst ever product it’s plastic and make me very irritating 😠',\n",
       " '',\n",
       " '',\n",
       " '4.515 Ratings & 4 Reviews',\n",
       " 'waste',\n",
       " 'Just Awesome👍🏻',\n",
       " 'satisfied fully. superb.',\n",
       " '',\n",
       " '4.613 Ratings & 9 Reviews',\n",
       " 'Good quality tempered very protective fit is perfect money valuable.',\n",
       " 'The Best and Easy Way to apply tempered - worth your money. Its very easy and could be done in a minute. I recently bought this product for my iPhone Pro Max. Is soo simple ,and bubble free....',\n",
       " 'It fits on the screen perfectly. The edge to edge design is precisely made.',\n",
       " '',\n",
       " '',\n",
       " '',\n",
       " '',\n",
       " '',\n",
       " '3.47 Ratings & 2 Reviews',\n",
       " \"Please don't waste your money on this product .\",\n",
       " 'Worst product',\n",
       " '3.531 Ratings & 10 Reviews',\n",
       " 'Good product',\n",
       " 'Very pleased with the product.\\nHands down ⭐️⭐️⭐️⭐️⭐️',\n",
       " 'Good product.',\n",
       " '',\n",
       " '',\n",
       " '',\n",
       " '',\n",
       " '']"
      ]
     },
     "execution_count": 172,
     "metadata": {},
     "output_type": "execute_result"
    }
   ],
   "source": [
    "full_review"
   ]
  },
  {
   "cell_type": "code",
   "execution_count": 173,
   "id": "medieval-bronze",
   "metadata": {},
   "outputs": [
    {
     "name": "stdout",
     "output_type": "stream",
     "text": [
      "206 74 94\n"
     ]
    }
   ],
   "source": [
    "print(len(rating), len(review_summary), len(full_review))"
   ]
  },
  {
   "cell_type": "code",
   "execution_count": 174,
   "id": "front-network",
   "metadata": {},
   "outputs": [],
   "source": [
    "url=\"https://www.flipkart.com/case-creation-screen-guard-apple-iphone-6-plus/p/itmf2wqkt4rtrsva?pid=ACCFFWEYCZGW6XGE&lid=LSTACCFFWEYCZGW6XGEQ1JJIW&marketplace=FLIPKART&q=iphone11&store=tyy&srno=s_6_229&otracker=search&otracker1=search&fm=organic&iid=90cbf111-d5a6-43b1-8b05-ede61417cc01.ACCFFWEYCZGW6XGE.SEARCH&ppt=sp&ppn=sp&ssid=md4i4xnun40000001618042440183&qH=d6db477051465f9a\""
   ]
  },
  {
   "cell_type": "code",
   "execution_count": 175,
   "id": "agreed-school",
   "metadata": {},
   "outputs": [],
   "source": [
    "#lets open the webpage through our webdriver\n",
    "browser.get(url)"
   ]
  },
  {
   "cell_type": "code",
   "execution_count": 176,
   "id": "behavioral-double",
   "metadata": {},
   "outputs": [
    {
     "data": {
      "text/plain": [
       "[<selenium.webdriver.remote.webelement.WebElement (session=\"f69c0554cdc00036f8536f3fd883e0d8\", element=\"af15dced-e470-4136-adc6-a682a279c68c\")>]"
      ]
     },
     "execution_count": 176,
     "metadata": {},
     "output_type": "execute_result"
    }
   ],
   "source": [
    "review_tags = browser.find_elements_by_xpath (\"//p[@class='_2-N8zT']\")\n",
    "review_tags"
   ]
  },
  {
   "cell_type": "code",
   "execution_count": 177,
   "id": "distributed-suspect",
   "metadata": {},
   "outputs": [],
   "source": [
    "for i in review_tags:\n",
    "    review=i.text\n",
    "    review_summary.append(review)"
   ]
  },
  {
   "cell_type": "code",
   "execution_count": 178,
   "id": "former-japan",
   "metadata": {},
   "outputs": [
    {
     "data": {
      "text/plain": [
       "['Brilliant',\n",
       " 'Perfect product!',\n",
       " 'Worth every penny',\n",
       " '',\n",
       " '',\n",
       " '',\n",
       " '',\n",
       " '',\n",
       " '',\n",
       " '',\n",
       " 'Brilliant',\n",
       " 'Perfect product!',\n",
       " 'Worth every penny',\n",
       " '',\n",
       " '',\n",
       " '',\n",
       " '',\n",
       " '',\n",
       " 'Brilliant',\n",
       " 'Brilliant',\n",
       " 'Mind-blowing purchase',\n",
       " '',\n",
       " '',\n",
       " '',\n",
       " '',\n",
       " '',\n",
       " 'Terrific',\n",
       " 'Super!',\n",
       " 'Pretty good',\n",
       " '',\n",
       " '',\n",
       " '',\n",
       " '',\n",
       " '',\n",
       " 'Decent product',\n",
       " 'Wonderful',\n",
       " 'Terrific purchase',\n",
       " '',\n",
       " '',\n",
       " '',\n",
       " '',\n",
       " '',\n",
       " 'Worthless',\n",
       " 'Highly recommended',\n",
       " 'Useless product',\n",
       " 'Good',\n",
       " 'Classy product',\n",
       " 'Not recommended at all',\n",
       " 'Classy product',\n",
       " 'Utterly Disappointed',\n",
       " '',\n",
       " '',\n",
       " 'Very poor',\n",
       " 'Best in the market!',\n",
       " 'Fabulous!',\n",
       " '',\n",
       " 'Must buy!',\n",
       " 'Terrific purchase',\n",
       " 'Terrific purchase',\n",
       " '',\n",
       " '',\n",
       " '',\n",
       " '',\n",
       " '',\n",
       " 'Useless product',\n",
       " 'Very poor',\n",
       " 'Very Good',\n",
       " 'Wonderful',\n",
       " 'Really Nice',\n",
       " '',\n",
       " '',\n",
       " '',\n",
       " '',\n",
       " '',\n",
       " 'Satisfied']"
      ]
     },
     "execution_count": 178,
     "metadata": {},
     "output_type": "execute_result"
    }
   ],
   "source": [
    "review_summary"
   ]
  },
  {
   "cell_type": "code",
   "execution_count": 179,
   "id": "quality-gothic",
   "metadata": {},
   "outputs": [
    {
     "data": {
      "text/plain": [
       "[<selenium.webdriver.remote.webelement.WebElement (session=\"f69c0554cdc00036f8536f3fd883e0d8\", element=\"4fa755d6-7443-4c4a-b2f6-bdc344fb3b95\")>,\n",
       " <selenium.webdriver.remote.webelement.WebElement (session=\"f69c0554cdc00036f8536f3fd883e0d8\", element=\"4fd4f792-a502-4bfc-83d6-677fcf90e2fe\")>]"
      ]
     },
     "execution_count": 179,
     "metadata": {},
     "output_type": "execute_result"
    }
   ],
   "source": [
    "fullreview_tags = browser.find_elements_by_xpath (\"//div[@class='']\")\n",
    "fullreview_tags"
   ]
  },
  {
   "cell_type": "code",
   "execution_count": 180,
   "id": "latin-physiology",
   "metadata": {},
   "outputs": [],
   "source": [
    "for i in fullreview_tags:\n",
    "    fullreviews=i.text\n",
    "    full_review.append(fullreviews)"
   ]
  },
  {
   "cell_type": "code",
   "execution_count": 181,
   "id": "smoking-crowd",
   "metadata": {},
   "outputs": [
    {
     "data": {
      "text/plain": [
       "['4.644,833 Ratings & 3,433 Reviews',\n",
       " 'Description\\nNA\\nProduct Description\\nBeautiful Design\\nFeaturing a 15.49-cm (6.1) all-screen Liquid Retina LCD and a glass and aluminum design, the iPhone 11 is as beautiful as it gets. Also, the IP68 rating ensures that is water-resistant up to 2 meters for 30 minutes.\\nTake Your Photos Further. And Wider.\\nThe iPhone 11 features dual 12 MP Ultra Wide (13mm) and Wide (26mm) cameras with 4K video recording up to 60 fps. The Ultra Wide camera provides 120° field of view, letting you capture four times more scene, and the Wide camera provides 100% Focus Pixels for up to three times faster autofocus in low light.\\nView all features\\nSpecifications\\nGeneral\\nIn The Box\\nHandset, EarPods with Lightning Connector, Lightning to USB Cable, USB Power Adapter, Documentation\\nModel Number\\nMWLT2HN/A\\nModel Name\\niPhone 11\\nColor\\nBlack\\nBrowse Type\\nSmartphones\\nSIM Type\\nDual Sim\\nHybrid Sim Slot\\nNo\\nTouchscreen\\nYes\\nRead More\\nRatings & Reviews\\nRate Product\\n4.6★\\n44,833 Ratings &\\n3,433 Reviews\\n5★\\n4★\\n3★\\n2★\\n1★\\n35,280\\n6,036\\n1,341\\n531\\n1,645\\n4.7\\nCamera\\n4.5\\nBattery\\n4.3\\nDisplay\\n4.7\\nValue for Money\\n+ 1800\\n5\\nBrilliant\\nThe Best Phone for the Money\\n\\nThe iPhone 11 offers superb cameras, a more durable design and excellent battery life for an affordable price.\\n\\nCompelling ultra-wide camera\\nNew Night mode is excellent\\nLong battery life\\nAnkit\\nCertified Buyer, Gurgaon\\nSep, 2019\\n3280502\\n5\\nPerfect product!\\nAmazing phone with great cameras and better battery which gives you the best performance. I just love the camera .\\nFlipkart Customer\\nCertified Buyer, Hyderabad\\n10months ago\\n4591770\\n5\\nWorth every penny\\nPreviously I was using one plus 3t it was a great phone\\nAnd then I decided to upgrade I am stuck between Samsung s10 plus or iPhone 11\\nI have seen the specs and everything were good except the display it’s somewhere between 720-1080 and it’s not even an amoled it’s an LCD display\\nBut I decided to go with iPhone because I have never used an IOS device I have Been an android user from the past 9 years I ordered IPhone 11 (128gb) product red\\nMy experience after using 3 weeks\\n1. The delivery ...\\nREAD MORE\\nVamshi Chakrala\\nCertified Buyer, Huzurnagar\\nJan, 2020\\n1418233\\n\\n\\n\\n\\n\\n\\n\\n\\n\\n\\n\\n\\n\\n\\n\\n\\n\\n\\n\\n\\n+\\nAll 3433 reviews\\nQuestions and Answers\\nQ:which phone are best iphone XR or Iphone 11\\nA:Iphone 11\\nAnonymous\\nCertified Buyer\\n30354\\nRead other answers\\nQ:how many years we can play high games like pubg without lag?..my samsung A50 is lagging in 1year now\\nA:Mobile Life Time play\\nRony Sk\\nCertified Buyer\\n1138302\\nQ:Iphone 11 have a depth effect or not\\nA:yes\\nmahaveer gurjar\\nCertified Buyer\\n36187\\nAll questions\\n+\\nSafe and Secure Payments.Easy returns.100% Authentic products.',\n",
       " 'The Best Phone for the Money\\n\\nThe iPhone 11 offers superb cameras, a more durable design and excellent battery life for an affordable price.\\n\\nCompelling ultra-wide camera\\nNew Night mode is excellent\\nLong battery life',\n",
       " 'Amazing phone with great cameras and better battery which gives you the best performance. I just love the camera .',\n",
       " 'Previously I was using one plus 3t it was a great phone\\nAnd then I decided to upgrade I am stuck between Samsung s10 plus or iPhone 11\\nI have seen the specs and everything were good except the display it’s somewhere between 720-1080 and it’s not even an amoled it’s an LCD display\\nBut I decided to go with iPhone because I have never used an IOS device I have Been an android user from the past 9 years I ordered IPhone 11 (128gb) product red\\nMy experience after using 3 weeks\\n1. The delivery ...',\n",
       " '',\n",
       " '',\n",
       " '',\n",
       " '',\n",
       " '',\n",
       " '',\n",
       " '',\n",
       " 'Q:which phone are best iphone XR or Iphone 11\\nA:Iphone 11\\nAnonymous\\nCertified Buyer\\n30354\\nRead other answers\\nQ:how many years we can play high games like pubg without lag?..my samsung A50 is lagging in 1year now\\nA:Mobile Life Time play\\nRony Sk\\nCertified Buyer\\n1138302\\nQ:Iphone 11 have a depth effect or not\\nA:yes\\nmahaveer gurjar\\nCertified Buyer\\n36187',\n",
       " '4.644,839 Ratings & 3,433 Reviews',\n",
       " 'The Best Phone for the Money\\n\\nThe iPhone 11 offers superb cameras, a more durable design and excellent battery life for an affordable price.\\n\\nCompelling ultra-wide camera\\nNew Night mode is excellent\\nLong battery life',\n",
       " 'Amazing phone with great cameras and better battery which gives you the best performance. I just love the camera .',\n",
       " 'Previously I was using one plus 3t it was a great phone\\nAnd then I decided to upgrade I am stuck between Samsung s10 plus or iPhone 11\\nI have seen the specs and everything were good except the display it’s somewhere between 720-1080 and it’s not even an amoled it’s an LCD display\\nBut I decided to go with iPhone because I have never used an IOS device I have Been an android user from the past 9 years I ordered IPhone 11 (128gb) product red\\nMy experience after using 3 weeks\\n1. The delivery ...',\n",
       " '',\n",
       " '',\n",
       " '',\n",
       " '',\n",
       " '',\n",
       " 'Q:which phone are best iphone XR or Iphone 11\\nA:Iphone 11\\nAnonymous\\nCertified Buyer\\n30354\\nRead other answers\\nQ:how many years we can play high games like pubg without lag?..my samsung A50 is lagging in 1year now\\nA:Mobile Life Time play\\nRony Sk\\nCertified Buyer\\n1138302\\nQ:Iphone 11 have a depth effect or not\\nA:yes\\nmahaveer gurjar\\nCertified Buyer\\n36187',\n",
       " '4.511,202 Ratings & 794 Reviews',\n",
       " \"Product Description\\nAn all-new glass design, an updated camera, and a powerful chip, there's so much to love about the iPhone 8. This iPhone brings you an augmented reality experience that's more immersive than before. What's more? You can charge your iPhone wirelessly!\\nFormed From Glass\\nBoasting a color-matched, aerospace-grade aluminium band, this phone is a stunner. The distinctive glass on its front and back is durable.\\nWater and Dust Resistant (IP67)\\nIts body is precision-engineered to be splash, water, and dust resistant.\\nView all features\\nSpecifications\\nGeneral\\nIn The Box\\niPhone with iOS 12, EarPods with Lightning Connector, Lightning to USB Cable, USB Power Adapter, Documentation\\nModel Number\\nMQ7G2HN/A\\nModel Name\\niPhone 8\\nColor\\nSilver\\nBrowse Type\\nSmartphones\\nSIM Type\\nSingle Sim\\nTouchscreen\\nYes\\nSound Enhancements\\nBuilt-in Stereo Speaker, Built-in Microphone\\nRead More\\nRatings & Reviews\\nRate Product\\n4.5★\\n11,202 Ratings &\\n794 Reviews\\n5★\\n4★\\n3★\\n2★\\n1★\\n8,332\\n1,730\\n421\\n152\\n567\\n4.6\\nCamera\\n4.1\\nBattery\\n4.8\\nValue for Money\\n4.5\\nPerformance\\n+ 168\\n5\\nBrilliant\\nI got this as my birthday gift the phone is just awesome pics the display and voice quality is just awesome nd looks are my favourite it is worth of money❤️🥰💕📱\\n+ 1\\nFlipkart Customer\\nCertified Buyer, Mohali\\nDec, 2019\\n25046\\n5\\nBrilliant\\niPhone 8 nice I love this mobile nice picture clarity\\nVenkey P\\nCertified Buyer, Payakaraopeta\\nOct, 2019\\n39887\\n5\\nMind-blowing purchase\\nworth the money. battery charge can lasts full day if used in low power mode and well it's an iPhone 😉. iOS 13 is awesome, camera is not that great but ok when compared with my OnePlus 7 pro and display is best compared to iPhone xr. best buy 👌\\nSathya Kiran\\nCertified Buyer, Secunderabad\\nOct, 2019\\n447117\\n\\n\\n\\n\\n\\n+\\nAll 794 reviews\\nQuestions and Answers\\nQ:which 1 to buy iphone 7 plus or iphone 8?\\nA:Iphone 8 as its faster and also has wireless charging\\nNitin Kumar\\nCertified Buyer\\n8814\\nQ:Which phone is best Google pixel 2 or iPhone 8\\nA:iPhone 8\\nAnonymous\\nCertified Buyer\\n8117\\nRead other answers\\nQ:does jio sim works on iphone 8???\\nA:Yes. It works.\\nKusum Raghava\\nCertified Buyer\\n10728\\nRead other answers\\nAll questions\\n+\\nSafe and Secure Payments.Easy returns.100% Authentic products.\",\n",
       " 'I got this as my birthday gift the phone is just awesome pics the display and voice quality is just awesome nd looks are my favourite it is worth of money❤️🥰💕📱',\n",
       " 'iPhone 8 nice I love this mobile nice picture clarity',\n",
       " \"worth the money. battery charge can lasts full day if used in low power mode and well it's an iPhone 😉. iOS 13 is awesome, camera is not that great but ok when compared with my OnePlus 7 pro and display is best compared to iPhone xr. best buy 👌\",\n",
       " '',\n",
       " '',\n",
       " '',\n",
       " '',\n",
       " '',\n",
       " 'Q:which 1 to buy iphone 7 plus or iphone 8?\\nA:Iphone 8 as its faster and also has wireless charging\\nNitin Kumar\\nCertified Buyer\\n8814\\nQ:Which phone is best Google pixel 2 or iPhone 8\\nA:iPhone 8\\nAnonymous\\nCertified Buyer\\n8117\\nRead other answers\\nQ:does jio sim works on iphone 8???\\nA:Yes. It works.\\nKusum Raghava\\nCertified Buyer\\n10728\\nRead other answers',\n",
       " '4.679,835 Ratings & 6,821 Reviews',\n",
       " \"Description\\nNA\\nProduct Description\\nThe iPhone XR has arrived to stun our senses with a host of features such as the Liquid Retina Display, a faster Face ID, and the powerful A12 Bionic Chip. Whether it's that picture-perfect portrait shot or a jaw-dropping HDR picture, the cameras of this iPhone too will continue to stun you with their brilliance. Thus, when you have the iPhone XR in your hands, you can only see beauty, in every way.\\nLiquid Retina Display - Beauty Awaits Your Eyes\\nWhat does the display of the iPhone XR smartphone have in store for you? Its advanced 15.49 cm (6.1) Liquid Retina Display along with an innovative backlight, allows the screen to stretch to the corners, thereby exposing you to colorful visuals from one edge to another. It also packs the punch of enhanced color accuracy and a wide color gamut for delightful visuals.\\nExceptional Design - Feel It to Believe It\\nGet set to be stunned by this phone's design as it comprises one of the most durable front glass. A special Apple-designed alloy has been utilized to make the structural bands to complement the look of the back glass.\\nView all features\\nSpecifications\\nGeneral\\nIn The Box\\nHandset, EarPods with Lightning Connector, Lightning to USB Cable, USB Power Adapter, Documentation\\nModel Number\\nMRYP2HN/A\\nModel Name\\niPhone XR\\nColor\\nCoral\\nBrowse Type\\nSmartphones\\nSIM Type\\nDual Sim\\nHybrid Sim Slot\\nNo\\nTouchscreen\\nYes\\nRead More\\nRatings & Reviews\\nRate Product\\n4.6★\\n79,835 Ratings &\\n6,821 Reviews\\n5★\\n4★\\n3★\\n2★\\n1★\\n60,924\\n12,749\\n2,653\\n865\\n2,644\\n4.4\\nCamera\\n4.6\\nBattery\\n4.6\\nDisplay\\n4.8\\nValue for Money\\n+ 2698\\n5\\nTerrific\\nAwesome smart phone.... Loved it.\\nBig display, awesome battery backup, Monster sounds, great colour, Apple durability what more u want.\\n+ 1\\nFlipkart Customer\\nCertified Buyer, Pimpri Chinchwad\\n7months ago\\n2445378\\n5\\nSuper!\\nWriting this review after using iPhone XR for almost six months, a total value for money phone. Battery performance is pretty nice in comparison to other iPhones.\\nCamera is superb. Looking forward for iOS 14 update. I would recommend to buy XR instead of SE2 .\\nFlipkart Customer\\nCertified Buyer, Pune\\n9months ago\\n868155\\n4\\nPretty good\\nSo amazin....Blue colour is fresh+beautiful+awesome . And For me it's so ooooo pretty & fancy colour . Wow! Phone features , COD tho 👍, price value perfect , full screen wallpaper hd for mobile and about battery life i can't describe . Aaaaaa.......lovely. And im Sorry for my photography but in real blue colour is so amazin , i meant it 🖖.\\n+ 1\\nDeepa Cheri\\nCertified Buyer, Guwahati\\n5months ago\\n17426\\n\\n\\n\\n\\n\\n\\n\\n\\n\\n\\n\\n\\n\\n\\n\\n\\n\\n\\n+\\nAll 6821 reviews\\nQuestions and Answers\\nQ:What is the meaning of product that mentioned in the title ? Is it any differ from others\\nA:Red is a licensed brand for raising funds to fight HIV AIDS. A portion of each purchase of product red iPhone goes directly to help fight HIV and AIDS. You can search product red for more information.\\nAnonymous\\nCertified Buyer\\n801158\\nRead other answers\\nQ:which one is better iphone 7 plus or iphone xr\\nA:Xr\\nAnonymous\\nCertified Buyer\\n1618514\\nQ:How long can I take a picture under water ??\\nA:Its water resistant and not water proof and also it doesn’t have any warranty on damages from water\\nFlipkart Customer\\nCertified Buyer\\n412146\\nRead other answers\\nAll questions\\n+\\nSafe and Secure Payments.Easy returns.100% Authentic products.\",\n",
       " 'Awesome smart phone.... Loved it.\\nBig display, awesome battery backup, Monster sounds, great colour, Apple durability what more u want.',\n",
       " 'Writing this review after using iPhone XR for almost six months, a total value for money phone. Battery performance is pretty nice in comparison to other iPhones.\\nCamera is superb. Looking forward for iOS 14 update. I would recommend to buy XR instead of SE2 .',\n",
       " \"So amazin....Blue colour is fresh+beautiful+awesome . And For me it's so ooooo pretty & fancy colour . Wow! Phone features , COD tho 👍, price value perfect , full screen wallpaper hd for mobile and about battery life i can't describe . Aaaaaa.......lovely. And im Sorry for my photography but in real blue colour is so amazin , i meant it 🖖.\",\n",
       " '',\n",
       " '',\n",
       " '',\n",
       " '',\n",
       " '',\n",
       " 'Q:What is the meaning of product that mentioned in the title ? Is it any differ from others\\nA:Red is a licensed brand for raising funds to fight HIV AIDS. A portion of each purchase of product red iPhone goes directly to help fight HIV and AIDS. You can search product red for more information.\\nAnonymous\\nCertified Buyer\\n801158\\nRead other answers\\nQ:which one is better iphone 7 plus or iphone xr\\nA:Xr\\nAnonymous\\nCertified Buyer\\n1618514\\nQ:How long can I take a picture under water ??\\nA:Its water resistant and not water proof and also it doesn’t have any warranty on damages from water\\nFlipkart Customer\\nCertified Buyer\\n412146\\nRead other answers',\n",
       " '3.768 Ratings & 16 Reviews',\n",
       " 'Good',\n",
       " 'Superb good quality glass',\n",
       " 'Fine quality of 6s genuine product',\n",
       " '',\n",
       " '',\n",
       " '',\n",
       " '',\n",
       " '',\n",
       " '3.25 Ratings & 2 Reviews',\n",
       " 'bad quality product',\n",
       " 'Nice',\n",
       " '23 Ratings & 2 Reviews',\n",
       " 'It doesn’t stick well very bad quality',\n",
       " 'i think the product is okay .. but you need to provide proper instructions to do this .',\n",
       " '3.813 Ratings & 1 Reviews',\n",
       " 'NYC n well packed',\n",
       " '3.842 Ratings & 5 Reviews',\n",
       " 'Worst product. Very big in size. Does not fit to screen properly. Worst product',\n",
       " 'nice product',\n",
       " 'Worst ever product it’s plastic and make me very irritating 😠',\n",
       " '',\n",
       " '',\n",
       " '4.515 Ratings & 4 Reviews',\n",
       " 'waste',\n",
       " 'Just Awesome👍🏻',\n",
       " 'satisfied fully. superb.',\n",
       " '',\n",
       " '4.613 Ratings & 9 Reviews',\n",
       " 'Good quality tempered very protective fit is perfect money valuable.',\n",
       " 'The Best and Easy Way to apply tempered - worth your money. Its very easy and could be done in a minute. I recently bought this product for my iPhone Pro Max. Is soo simple ,and bubble free....',\n",
       " 'It fits on the screen perfectly. The edge to edge design is precisely made.',\n",
       " '',\n",
       " '',\n",
       " '',\n",
       " '',\n",
       " '',\n",
       " '3.47 Ratings & 2 Reviews',\n",
       " \"Please don't waste your money on this product .\",\n",
       " 'Worst product',\n",
       " '3.531 Ratings & 10 Reviews',\n",
       " 'Good product',\n",
       " 'Very pleased with the product.\\nHands down ⭐️⭐️⭐️⭐️⭐️',\n",
       " 'Good product.',\n",
       " '',\n",
       " '',\n",
       " '',\n",
       " '',\n",
       " '',\n",
       " '3.73 Ratings & 1 Reviews',\n",
       " 'Good product.. good service']"
      ]
     },
     "execution_count": 181,
     "metadata": {},
     "output_type": "execute_result"
    }
   ],
   "source": [
    " full_review"
   ]
  },
  {
   "cell_type": "code",
   "execution_count": 182,
   "id": "trained-mississippi",
   "metadata": {},
   "outputs": [
    {
     "name": "stdout",
     "output_type": "stream",
     "text": [
      "206 75 96\n"
     ]
    }
   ],
   "source": [
    "print(len(rating), len(review_summary), len(full_review))"
   ]
  },
  {
   "cell_type": "code",
   "execution_count": 183,
   "id": "renewable-instruction",
   "metadata": {},
   "outputs": [],
   "source": [
    "url=\"https://www.flipkart.com/acutas-tempered-glass-guard-apple-iphone-x-xs-11-pro/p/itm33ed63f63be23?pid=ACCFH9ZYXAAJFQMV&lid=LSTACCFH9ZYXAAJFQMVH8CVZ4&marketplace=FLIPKART&q=iphone11&store=tyy&srno=s_6_234&otracker=search&otracker1=search&fm=organic&iid=en_2sVdVRh%2FWYuep%2FED602kewI9bJ3YKvoMwOOmTYsDrhWtf3qO9%2FBhZ2mJUZEqtArmBWzpwmjPjHlxTm%2BLJ0S9FQ%3D%3D&ppt=sp&ppn=sp&ssid=edddbbvs2o0000001618042646473&qH=d6db477051465f9a\""
   ]
  },
  {
   "cell_type": "code",
   "execution_count": 184,
   "id": "interior-richards",
   "metadata": {},
   "outputs": [],
   "source": [
    "#lets open the webpage through our webdriver\n",
    "browser.get(url)"
   ]
  },
  {
   "cell_type": "code",
   "execution_count": 185,
   "id": "invisible-coral",
   "metadata": {},
   "outputs": [
    {
     "data": {
      "text/plain": [
       "[<selenium.webdriver.remote.webelement.WebElement (session=\"f69c0554cdc00036f8536f3fd883e0d8\", element=\"502343c9-ce32-417c-a2af-6c1171eeed0c\")>,\n",
       " <selenium.webdriver.remote.webelement.WebElement (session=\"f69c0554cdc00036f8536f3fd883e0d8\", element=\"9c858423-9559-451c-8531-1eb92bfe7658\")>,\n",
       " <selenium.webdriver.remote.webelement.WebElement (session=\"f69c0554cdc00036f8536f3fd883e0d8\", element=\"4b2fbd4a-da28-4e2b-a102-730efd3541fc\")>,\n",
       " <selenium.webdriver.remote.webelement.WebElement (session=\"f69c0554cdc00036f8536f3fd883e0d8\", element=\"6e2bdaf1-1c02-4d2c-8a87-eec96eef40bb\")>]"
      ]
     },
     "execution_count": 185,
     "metadata": {},
     "output_type": "execute_result"
    }
   ],
   "source": [
    "review_tags = browser.find_elements_by_xpath (\"//p[@class='_2-N8zT']\")\n",
    "review_tags"
   ]
  },
  {
   "cell_type": "code",
   "execution_count": 186,
   "id": "surgical-kernel",
   "metadata": {},
   "outputs": [],
   "source": [
    "for i in review_tags:\n",
    "    review=i.text\n",
    "    review_summary.append(review)"
   ]
  },
  {
   "cell_type": "code",
   "execution_count": 187,
   "id": "divine-violin",
   "metadata": {},
   "outputs": [
    {
     "data": {
      "text/plain": [
       "['Brilliant',\n",
       " 'Perfect product!',\n",
       " 'Worth every penny',\n",
       " '',\n",
       " '',\n",
       " '',\n",
       " '',\n",
       " '',\n",
       " '',\n",
       " '',\n",
       " 'Brilliant',\n",
       " 'Perfect product!',\n",
       " 'Worth every penny',\n",
       " '',\n",
       " '',\n",
       " '',\n",
       " '',\n",
       " '',\n",
       " 'Brilliant',\n",
       " 'Brilliant',\n",
       " 'Mind-blowing purchase',\n",
       " '',\n",
       " '',\n",
       " '',\n",
       " '',\n",
       " '',\n",
       " 'Terrific',\n",
       " 'Super!',\n",
       " 'Pretty good',\n",
       " '',\n",
       " '',\n",
       " '',\n",
       " '',\n",
       " '',\n",
       " 'Decent product',\n",
       " 'Wonderful',\n",
       " 'Terrific purchase',\n",
       " '',\n",
       " '',\n",
       " '',\n",
       " '',\n",
       " '',\n",
       " 'Worthless',\n",
       " 'Highly recommended',\n",
       " 'Useless product',\n",
       " 'Good',\n",
       " 'Classy product',\n",
       " 'Not recommended at all',\n",
       " 'Classy product',\n",
       " 'Utterly Disappointed',\n",
       " '',\n",
       " '',\n",
       " 'Very poor',\n",
       " 'Best in the market!',\n",
       " 'Fabulous!',\n",
       " '',\n",
       " 'Must buy!',\n",
       " 'Terrific purchase',\n",
       " 'Terrific purchase',\n",
       " '',\n",
       " '',\n",
       " '',\n",
       " '',\n",
       " '',\n",
       " 'Useless product',\n",
       " 'Very poor',\n",
       " 'Very Good',\n",
       " 'Wonderful',\n",
       " 'Really Nice',\n",
       " '',\n",
       " '',\n",
       " '',\n",
       " '',\n",
       " '',\n",
       " 'Satisfied',\n",
       " 'Worthless',\n",
       " 'Very poor',\n",
       " 'Worth every penny',\n",
       " '']"
      ]
     },
     "execution_count": 187,
     "metadata": {},
     "output_type": "execute_result"
    }
   ],
   "source": [
    "review_summary"
   ]
  },
  {
   "cell_type": "code",
   "execution_count": 188,
   "id": "compressed-central",
   "metadata": {},
   "outputs": [
    {
     "data": {
      "text/plain": [
       "[<selenium.webdriver.remote.webelement.WebElement (session=\"f69c0554cdc00036f8536f3fd883e0d8\", element=\"5c2f8ca9-927c-4328-8fc8-0ced2a67e8ba\")>,\n",
       " <selenium.webdriver.remote.webelement.WebElement (session=\"f69c0554cdc00036f8536f3fd883e0d8\", element=\"5f54f222-522d-4d93-9e9e-e53286d7df7d\")>,\n",
       " <selenium.webdriver.remote.webelement.WebElement (session=\"f69c0554cdc00036f8536f3fd883e0d8\", element=\"a98f9ff8-39e6-4003-aca0-1659907f307a\")>,\n",
       " <selenium.webdriver.remote.webelement.WebElement (session=\"f69c0554cdc00036f8536f3fd883e0d8\", element=\"2de70331-1478-478d-ade8-29182f72e8eb\")>,\n",
       " <selenium.webdriver.remote.webelement.WebElement (session=\"f69c0554cdc00036f8536f3fd883e0d8\", element=\"3a1a9172-927d-493d-926c-3f206188bfb6\")>]"
      ]
     },
     "execution_count": 188,
     "metadata": {},
     "output_type": "execute_result"
    }
   ],
   "source": [
    "fullreview_tags = browser.find_elements_by_xpath (\"//div[@class='']\")\n",
    "fullreview_tags"
   ]
  },
  {
   "cell_type": "code",
   "execution_count": 189,
   "id": "contained-shopper",
   "metadata": {},
   "outputs": [],
   "source": [
    "for i in fullreview_tags:\n",
    "    fullreviews=i.text\n",
    "    full_review.append(fullreviews)"
   ]
  },
  {
   "cell_type": "code",
   "execution_count": 190,
   "id": "electrical-black",
   "metadata": {},
   "outputs": [
    {
     "data": {
      "text/plain": [
       "['4.644,833 Ratings & 3,433 Reviews',\n",
       " 'Description\\nNA\\nProduct Description\\nBeautiful Design\\nFeaturing a 15.49-cm (6.1) all-screen Liquid Retina LCD and a glass and aluminum design, the iPhone 11 is as beautiful as it gets. Also, the IP68 rating ensures that is water-resistant up to 2 meters for 30 minutes.\\nTake Your Photos Further. And Wider.\\nThe iPhone 11 features dual 12 MP Ultra Wide (13mm) and Wide (26mm) cameras with 4K video recording up to 60 fps. The Ultra Wide camera provides 120° field of view, letting you capture four times more scene, and the Wide camera provides 100% Focus Pixels for up to three times faster autofocus in low light.\\nView all features\\nSpecifications\\nGeneral\\nIn The Box\\nHandset, EarPods with Lightning Connector, Lightning to USB Cable, USB Power Adapter, Documentation\\nModel Number\\nMWLT2HN/A\\nModel Name\\niPhone 11\\nColor\\nBlack\\nBrowse Type\\nSmartphones\\nSIM Type\\nDual Sim\\nHybrid Sim Slot\\nNo\\nTouchscreen\\nYes\\nRead More\\nRatings & Reviews\\nRate Product\\n4.6★\\n44,833 Ratings &\\n3,433 Reviews\\n5★\\n4★\\n3★\\n2★\\n1★\\n35,280\\n6,036\\n1,341\\n531\\n1,645\\n4.7\\nCamera\\n4.5\\nBattery\\n4.3\\nDisplay\\n4.7\\nValue for Money\\n+ 1800\\n5\\nBrilliant\\nThe Best Phone for the Money\\n\\nThe iPhone 11 offers superb cameras, a more durable design and excellent battery life for an affordable price.\\n\\nCompelling ultra-wide camera\\nNew Night mode is excellent\\nLong battery life\\nAnkit\\nCertified Buyer, Gurgaon\\nSep, 2019\\n3280502\\n5\\nPerfect product!\\nAmazing phone with great cameras and better battery which gives you the best performance. I just love the camera .\\nFlipkart Customer\\nCertified Buyer, Hyderabad\\n10months ago\\n4591770\\n5\\nWorth every penny\\nPreviously I was using one plus 3t it was a great phone\\nAnd then I decided to upgrade I am stuck between Samsung s10 plus or iPhone 11\\nI have seen the specs and everything were good except the display it’s somewhere between 720-1080 and it’s not even an amoled it’s an LCD display\\nBut I decided to go with iPhone because I have never used an IOS device I have Been an android user from the past 9 years I ordered IPhone 11 (128gb) product red\\nMy experience after using 3 weeks\\n1. The delivery ...\\nREAD MORE\\nVamshi Chakrala\\nCertified Buyer, Huzurnagar\\nJan, 2020\\n1418233\\n\\n\\n\\n\\n\\n\\n\\n\\n\\n\\n\\n\\n\\n\\n\\n\\n\\n\\n\\n\\n+\\nAll 3433 reviews\\nQuestions and Answers\\nQ:which phone are best iphone XR or Iphone 11\\nA:Iphone 11\\nAnonymous\\nCertified Buyer\\n30354\\nRead other answers\\nQ:how many years we can play high games like pubg without lag?..my samsung A50 is lagging in 1year now\\nA:Mobile Life Time play\\nRony Sk\\nCertified Buyer\\n1138302\\nQ:Iphone 11 have a depth effect or not\\nA:yes\\nmahaveer gurjar\\nCertified Buyer\\n36187\\nAll questions\\n+\\nSafe and Secure Payments.Easy returns.100% Authentic products.',\n",
       " 'The Best Phone for the Money\\n\\nThe iPhone 11 offers superb cameras, a more durable design and excellent battery life for an affordable price.\\n\\nCompelling ultra-wide camera\\nNew Night mode is excellent\\nLong battery life',\n",
       " 'Amazing phone with great cameras and better battery which gives you the best performance. I just love the camera .',\n",
       " 'Previously I was using one plus 3t it was a great phone\\nAnd then I decided to upgrade I am stuck between Samsung s10 plus or iPhone 11\\nI have seen the specs and everything were good except the display it’s somewhere between 720-1080 and it’s not even an amoled it’s an LCD display\\nBut I decided to go with iPhone because I have never used an IOS device I have Been an android user from the past 9 years I ordered IPhone 11 (128gb) product red\\nMy experience after using 3 weeks\\n1. The delivery ...',\n",
       " '',\n",
       " '',\n",
       " '',\n",
       " '',\n",
       " '',\n",
       " '',\n",
       " '',\n",
       " 'Q:which phone are best iphone XR or Iphone 11\\nA:Iphone 11\\nAnonymous\\nCertified Buyer\\n30354\\nRead other answers\\nQ:how many years we can play high games like pubg without lag?..my samsung A50 is lagging in 1year now\\nA:Mobile Life Time play\\nRony Sk\\nCertified Buyer\\n1138302\\nQ:Iphone 11 have a depth effect or not\\nA:yes\\nmahaveer gurjar\\nCertified Buyer\\n36187',\n",
       " '4.644,839 Ratings & 3,433 Reviews',\n",
       " 'The Best Phone for the Money\\n\\nThe iPhone 11 offers superb cameras, a more durable design and excellent battery life for an affordable price.\\n\\nCompelling ultra-wide camera\\nNew Night mode is excellent\\nLong battery life',\n",
       " 'Amazing phone with great cameras and better battery which gives you the best performance. I just love the camera .',\n",
       " 'Previously I was using one plus 3t it was a great phone\\nAnd then I decided to upgrade I am stuck between Samsung s10 plus or iPhone 11\\nI have seen the specs and everything were good except the display it’s somewhere between 720-1080 and it’s not even an amoled it’s an LCD display\\nBut I decided to go with iPhone because I have never used an IOS device I have Been an android user from the past 9 years I ordered IPhone 11 (128gb) product red\\nMy experience after using 3 weeks\\n1. The delivery ...',\n",
       " '',\n",
       " '',\n",
       " '',\n",
       " '',\n",
       " '',\n",
       " 'Q:which phone are best iphone XR or Iphone 11\\nA:Iphone 11\\nAnonymous\\nCertified Buyer\\n30354\\nRead other answers\\nQ:how many years we can play high games like pubg without lag?..my samsung A50 is lagging in 1year now\\nA:Mobile Life Time play\\nRony Sk\\nCertified Buyer\\n1138302\\nQ:Iphone 11 have a depth effect or not\\nA:yes\\nmahaveer gurjar\\nCertified Buyer\\n36187',\n",
       " '4.511,202 Ratings & 794 Reviews',\n",
       " \"Product Description\\nAn all-new glass design, an updated camera, and a powerful chip, there's so much to love about the iPhone 8. This iPhone brings you an augmented reality experience that's more immersive than before. What's more? You can charge your iPhone wirelessly!\\nFormed From Glass\\nBoasting a color-matched, aerospace-grade aluminium band, this phone is a stunner. The distinctive glass on its front and back is durable.\\nWater and Dust Resistant (IP67)\\nIts body is precision-engineered to be splash, water, and dust resistant.\\nView all features\\nSpecifications\\nGeneral\\nIn The Box\\niPhone with iOS 12, EarPods with Lightning Connector, Lightning to USB Cable, USB Power Adapter, Documentation\\nModel Number\\nMQ7G2HN/A\\nModel Name\\niPhone 8\\nColor\\nSilver\\nBrowse Type\\nSmartphones\\nSIM Type\\nSingle Sim\\nTouchscreen\\nYes\\nSound Enhancements\\nBuilt-in Stereo Speaker, Built-in Microphone\\nRead More\\nRatings & Reviews\\nRate Product\\n4.5★\\n11,202 Ratings &\\n794 Reviews\\n5★\\n4★\\n3★\\n2★\\n1★\\n8,332\\n1,730\\n421\\n152\\n567\\n4.6\\nCamera\\n4.1\\nBattery\\n4.8\\nValue for Money\\n4.5\\nPerformance\\n+ 168\\n5\\nBrilliant\\nI got this as my birthday gift the phone is just awesome pics the display and voice quality is just awesome nd looks are my favourite it is worth of money❤️🥰💕📱\\n+ 1\\nFlipkart Customer\\nCertified Buyer, Mohali\\nDec, 2019\\n25046\\n5\\nBrilliant\\niPhone 8 nice I love this mobile nice picture clarity\\nVenkey P\\nCertified Buyer, Payakaraopeta\\nOct, 2019\\n39887\\n5\\nMind-blowing purchase\\nworth the money. battery charge can lasts full day if used in low power mode and well it's an iPhone 😉. iOS 13 is awesome, camera is not that great but ok when compared with my OnePlus 7 pro and display is best compared to iPhone xr. best buy 👌\\nSathya Kiran\\nCertified Buyer, Secunderabad\\nOct, 2019\\n447117\\n\\n\\n\\n\\n\\n+\\nAll 794 reviews\\nQuestions and Answers\\nQ:which 1 to buy iphone 7 plus or iphone 8?\\nA:Iphone 8 as its faster and also has wireless charging\\nNitin Kumar\\nCertified Buyer\\n8814\\nQ:Which phone is best Google pixel 2 or iPhone 8\\nA:iPhone 8\\nAnonymous\\nCertified Buyer\\n8117\\nRead other answers\\nQ:does jio sim works on iphone 8???\\nA:Yes. It works.\\nKusum Raghava\\nCertified Buyer\\n10728\\nRead other answers\\nAll questions\\n+\\nSafe and Secure Payments.Easy returns.100% Authentic products.\",\n",
       " 'I got this as my birthday gift the phone is just awesome pics the display and voice quality is just awesome nd looks are my favourite it is worth of money❤️🥰💕📱',\n",
       " 'iPhone 8 nice I love this mobile nice picture clarity',\n",
       " \"worth the money. battery charge can lasts full day if used in low power mode and well it's an iPhone 😉. iOS 13 is awesome, camera is not that great but ok when compared with my OnePlus 7 pro and display is best compared to iPhone xr. best buy 👌\",\n",
       " '',\n",
       " '',\n",
       " '',\n",
       " '',\n",
       " '',\n",
       " 'Q:which 1 to buy iphone 7 plus or iphone 8?\\nA:Iphone 8 as its faster and also has wireless charging\\nNitin Kumar\\nCertified Buyer\\n8814\\nQ:Which phone is best Google pixel 2 or iPhone 8\\nA:iPhone 8\\nAnonymous\\nCertified Buyer\\n8117\\nRead other answers\\nQ:does jio sim works on iphone 8???\\nA:Yes. It works.\\nKusum Raghava\\nCertified Buyer\\n10728\\nRead other answers',\n",
       " '4.679,835 Ratings & 6,821 Reviews',\n",
       " \"Description\\nNA\\nProduct Description\\nThe iPhone XR has arrived to stun our senses with a host of features such as the Liquid Retina Display, a faster Face ID, and the powerful A12 Bionic Chip. Whether it's that picture-perfect portrait shot or a jaw-dropping HDR picture, the cameras of this iPhone too will continue to stun you with their brilliance. Thus, when you have the iPhone XR in your hands, you can only see beauty, in every way.\\nLiquid Retina Display - Beauty Awaits Your Eyes\\nWhat does the display of the iPhone XR smartphone have in store for you? Its advanced 15.49 cm (6.1) Liquid Retina Display along with an innovative backlight, allows the screen to stretch to the corners, thereby exposing you to colorful visuals from one edge to another. It also packs the punch of enhanced color accuracy and a wide color gamut for delightful visuals.\\nExceptional Design - Feel It to Believe It\\nGet set to be stunned by this phone's design as it comprises one of the most durable front glass. A special Apple-designed alloy has been utilized to make the structural bands to complement the look of the back glass.\\nView all features\\nSpecifications\\nGeneral\\nIn The Box\\nHandset, EarPods with Lightning Connector, Lightning to USB Cable, USB Power Adapter, Documentation\\nModel Number\\nMRYP2HN/A\\nModel Name\\niPhone XR\\nColor\\nCoral\\nBrowse Type\\nSmartphones\\nSIM Type\\nDual Sim\\nHybrid Sim Slot\\nNo\\nTouchscreen\\nYes\\nRead More\\nRatings & Reviews\\nRate Product\\n4.6★\\n79,835 Ratings &\\n6,821 Reviews\\n5★\\n4★\\n3★\\n2★\\n1★\\n60,924\\n12,749\\n2,653\\n865\\n2,644\\n4.4\\nCamera\\n4.6\\nBattery\\n4.6\\nDisplay\\n4.8\\nValue for Money\\n+ 2698\\n5\\nTerrific\\nAwesome smart phone.... Loved it.\\nBig display, awesome battery backup, Monster sounds, great colour, Apple durability what more u want.\\n+ 1\\nFlipkart Customer\\nCertified Buyer, Pimpri Chinchwad\\n7months ago\\n2445378\\n5\\nSuper!\\nWriting this review after using iPhone XR for almost six months, a total value for money phone. Battery performance is pretty nice in comparison to other iPhones.\\nCamera is superb. Looking forward for iOS 14 update. I would recommend to buy XR instead of SE2 .\\nFlipkart Customer\\nCertified Buyer, Pune\\n9months ago\\n868155\\n4\\nPretty good\\nSo amazin....Blue colour is fresh+beautiful+awesome . And For me it's so ooooo pretty & fancy colour . Wow! Phone features , COD tho 👍, price value perfect , full screen wallpaper hd for mobile and about battery life i can't describe . Aaaaaa.......lovely. And im Sorry for my photography but in real blue colour is so amazin , i meant it 🖖.\\n+ 1\\nDeepa Cheri\\nCertified Buyer, Guwahati\\n5months ago\\n17426\\n\\n\\n\\n\\n\\n\\n\\n\\n\\n\\n\\n\\n\\n\\n\\n\\n\\n\\n+\\nAll 6821 reviews\\nQuestions and Answers\\nQ:What is the meaning of product that mentioned in the title ? Is it any differ from others\\nA:Red is a licensed brand for raising funds to fight HIV AIDS. A portion of each purchase of product red iPhone goes directly to help fight HIV and AIDS. You can search product red for more information.\\nAnonymous\\nCertified Buyer\\n801158\\nRead other answers\\nQ:which one is better iphone 7 plus or iphone xr\\nA:Xr\\nAnonymous\\nCertified Buyer\\n1618514\\nQ:How long can I take a picture under water ??\\nA:Its water resistant and not water proof and also it doesn’t have any warranty on damages from water\\nFlipkart Customer\\nCertified Buyer\\n412146\\nRead other answers\\nAll questions\\n+\\nSafe and Secure Payments.Easy returns.100% Authentic products.\",\n",
       " 'Awesome smart phone.... Loved it.\\nBig display, awesome battery backup, Monster sounds, great colour, Apple durability what more u want.',\n",
       " 'Writing this review after using iPhone XR for almost six months, a total value for money phone. Battery performance is pretty nice in comparison to other iPhones.\\nCamera is superb. Looking forward for iOS 14 update. I would recommend to buy XR instead of SE2 .',\n",
       " \"So amazin....Blue colour is fresh+beautiful+awesome . And For me it's so ooooo pretty & fancy colour . Wow! Phone features , COD tho 👍, price value perfect , full screen wallpaper hd for mobile and about battery life i can't describe . Aaaaaa.......lovely. And im Sorry for my photography but in real blue colour is so amazin , i meant it 🖖.\",\n",
       " '',\n",
       " '',\n",
       " '',\n",
       " '',\n",
       " '',\n",
       " 'Q:What is the meaning of product that mentioned in the title ? Is it any differ from others\\nA:Red is a licensed brand for raising funds to fight HIV AIDS. A portion of each purchase of product red iPhone goes directly to help fight HIV and AIDS. You can search product red for more information.\\nAnonymous\\nCertified Buyer\\n801158\\nRead other answers\\nQ:which one is better iphone 7 plus or iphone xr\\nA:Xr\\nAnonymous\\nCertified Buyer\\n1618514\\nQ:How long can I take a picture under water ??\\nA:Its water resistant and not water proof and also it doesn’t have any warranty on damages from water\\nFlipkart Customer\\nCertified Buyer\\n412146\\nRead other answers',\n",
       " '3.768 Ratings & 16 Reviews',\n",
       " 'Good',\n",
       " 'Superb good quality glass',\n",
       " 'Fine quality of 6s genuine product',\n",
       " '',\n",
       " '',\n",
       " '',\n",
       " '',\n",
       " '',\n",
       " '3.25 Ratings & 2 Reviews',\n",
       " 'bad quality product',\n",
       " 'Nice',\n",
       " '23 Ratings & 2 Reviews',\n",
       " 'It doesn’t stick well very bad quality',\n",
       " 'i think the product is okay .. but you need to provide proper instructions to do this .',\n",
       " '3.813 Ratings & 1 Reviews',\n",
       " 'NYC n well packed',\n",
       " '3.842 Ratings & 5 Reviews',\n",
       " 'Worst product. Very big in size. Does not fit to screen properly. Worst product',\n",
       " 'nice product',\n",
       " 'Worst ever product it’s plastic and make me very irritating 😠',\n",
       " '',\n",
       " '',\n",
       " '4.515 Ratings & 4 Reviews',\n",
       " 'waste',\n",
       " 'Just Awesome👍🏻',\n",
       " 'satisfied fully. superb.',\n",
       " '',\n",
       " '4.613 Ratings & 9 Reviews',\n",
       " 'Good quality tempered very protective fit is perfect money valuable.',\n",
       " 'The Best and Easy Way to apply tempered - worth your money. Its very easy and could be done in a minute. I recently bought this product for my iPhone Pro Max. Is soo simple ,and bubble free....',\n",
       " 'It fits on the screen perfectly. The edge to edge design is precisely made.',\n",
       " '',\n",
       " '',\n",
       " '',\n",
       " '',\n",
       " '',\n",
       " '3.47 Ratings & 2 Reviews',\n",
       " \"Please don't waste your money on this product .\",\n",
       " 'Worst product',\n",
       " '3.531 Ratings & 10 Reviews',\n",
       " 'Good product',\n",
       " 'Very pleased with the product.\\nHands down ⭐️⭐️⭐️⭐️⭐️',\n",
       " 'Good product.',\n",
       " '',\n",
       " '',\n",
       " '',\n",
       " '',\n",
       " '',\n",
       " '3.73 Ratings & 1 Reviews',\n",
       " 'Good product.. good service',\n",
       " '3.913 Ratings & 4 Reviews',\n",
       " 'Better to for a higher price one. This is cheap quality and do not cover edge to edge. Barely cover screen itself',\n",
       " 'Wrost product',\n",
       " 'Super',\n",
       " '']"
      ]
     },
     "execution_count": 190,
     "metadata": {},
     "output_type": "execute_result"
    }
   ],
   "source": [
    " full_review"
   ]
  },
  {
   "cell_type": "code",
   "execution_count": 191,
   "id": "underlying-amsterdam",
   "metadata": {},
   "outputs": [
    {
     "name": "stdout",
     "output_type": "stream",
     "text": [
      "206 79 101\n"
     ]
    }
   ],
   "source": [
    "print(len(rating), len(review_summary), len(full_review))"
   ]
  },
  {
   "cell_type": "code",
   "execution_count": 192,
   "id": "third-studio",
   "metadata": {},
   "outputs": [],
   "source": [
    "url=\"https://www.flipkart.com/jabox-edge-tempered-glass-iphone-x-5d/p/itmfh49ynujawqsv?pid=ACCFH4FQKXSFSQ7A&lid=LSTACCFH4FQKXSFSQ7AODRWT4&marketplace=FLIPKART&q=iphone11&store=tyy&srno=s_6_201&otracker=search&otracker1=search&fm=organic&iid=51c860ac-aad6-477d-b9ff-2e0227a07f22.ACCFH4FQKXSFSQ7A.SEARCH&ppt=sp&ppn=sp&qH=d6db477051465f9a\""
   ]
  },
  {
   "cell_type": "code",
   "execution_count": 193,
   "id": "familiar-percentage",
   "metadata": {},
   "outputs": [],
   "source": [
    "#lets open the webpage through our webdriver\n",
    "browser.get(url)"
   ]
  },
  {
   "cell_type": "code",
   "execution_count": 194,
   "id": "distant-shanghai",
   "metadata": {},
   "outputs": [
    {
     "data": {
      "text/plain": [
       "[<selenium.webdriver.remote.webelement.WebElement (session=\"f69c0554cdc00036f8536f3fd883e0d8\", element=\"f44ca0a4-6ee9-4552-91c9-a0687b1bfd5d\")>]"
      ]
     },
     "execution_count": 194,
     "metadata": {},
     "output_type": "execute_result"
    }
   ],
   "source": [
    "review_tags = browser.find_elements_by_xpath (\"//p[@class='_2-N8zT']\")\n",
    "review_tags"
   ]
  },
  {
   "cell_type": "code",
   "execution_count": 195,
   "id": "federal-typing",
   "metadata": {},
   "outputs": [],
   "source": [
    "for i in review_tags:\n",
    "    review=i.text\n",
    "    review_summary.append(review)"
   ]
  },
  {
   "cell_type": "code",
   "execution_count": 196,
   "id": "artistic-toyota",
   "metadata": {},
   "outputs": [
    {
     "data": {
      "text/plain": [
       "['Brilliant',\n",
       " 'Perfect product!',\n",
       " 'Worth every penny',\n",
       " '',\n",
       " '',\n",
       " '',\n",
       " '',\n",
       " '',\n",
       " '',\n",
       " '',\n",
       " 'Brilliant',\n",
       " 'Perfect product!',\n",
       " 'Worth every penny',\n",
       " '',\n",
       " '',\n",
       " '',\n",
       " '',\n",
       " '',\n",
       " 'Brilliant',\n",
       " 'Brilliant',\n",
       " 'Mind-blowing purchase',\n",
       " '',\n",
       " '',\n",
       " '',\n",
       " '',\n",
       " '',\n",
       " 'Terrific',\n",
       " 'Super!',\n",
       " 'Pretty good',\n",
       " '',\n",
       " '',\n",
       " '',\n",
       " '',\n",
       " '',\n",
       " 'Decent product',\n",
       " 'Wonderful',\n",
       " 'Terrific purchase',\n",
       " '',\n",
       " '',\n",
       " '',\n",
       " '',\n",
       " '',\n",
       " 'Worthless',\n",
       " 'Highly recommended',\n",
       " 'Useless product',\n",
       " 'Good',\n",
       " 'Classy product',\n",
       " 'Not recommended at all',\n",
       " 'Classy product',\n",
       " 'Utterly Disappointed',\n",
       " '',\n",
       " '',\n",
       " 'Very poor',\n",
       " 'Best in the market!',\n",
       " 'Fabulous!',\n",
       " '',\n",
       " 'Must buy!',\n",
       " 'Terrific purchase',\n",
       " 'Terrific purchase',\n",
       " '',\n",
       " '',\n",
       " '',\n",
       " '',\n",
       " '',\n",
       " 'Useless product',\n",
       " 'Very poor',\n",
       " 'Very Good',\n",
       " 'Wonderful',\n",
       " 'Really Nice',\n",
       " '',\n",
       " '',\n",
       " '',\n",
       " '',\n",
       " '',\n",
       " 'Satisfied',\n",
       " 'Worthless',\n",
       " 'Very poor',\n",
       " 'Worth every penny',\n",
       " '',\n",
       " 'Horrible']"
      ]
     },
     "execution_count": 196,
     "metadata": {},
     "output_type": "execute_result"
    }
   ],
   "source": [
    " review_summary"
   ]
  },
  {
   "cell_type": "code",
   "execution_count": 197,
   "id": "driving-character",
   "metadata": {},
   "outputs": [
    {
     "name": "stdout",
     "output_type": "stream",
     "text": [
      "206 80 101\n"
     ]
    }
   ],
   "source": [
    "print(len(rating), len(review_summary), len(full_review))"
   ]
  },
  {
   "cell_type": "code",
   "execution_count": 198,
   "id": "available-somalia",
   "metadata": {},
   "outputs": [],
   "source": [
    "url=\"https://www.flipkart.com/apylook-iphone-12-pro-mobile-skin/p/itm766ff57e4f9d8?pid=MSKGYQGWA8BUFSGD&lid=LSTMSKGYQGWA8BUFSGDIXZKJQ&marketplace=FLIPKART&q=iphone11&store=tyy&srno=s_6_203&otracker=search&otracker1=search&fm=organic&iid=90cbf111-d5a6-43b1-8b05-ede61417cc01.MSKGYQGWA8BUFSGD.SEARCH&ppt=None&ppn=None&ssid=p70732yxnk0000001618040743760&qH=d6db477051465f9a\""
   ]
  },
  {
   "cell_type": "code",
   "execution_count": 199,
   "id": "willing-volunteer",
   "metadata": {},
   "outputs": [],
   "source": [
    "#lets open the webpage through our webdriver\n",
    "browser.get(url)"
   ]
  },
  {
   "cell_type": "code",
   "execution_count": 200,
   "id": "super-corpus",
   "metadata": {},
   "outputs": [
    {
     "data": {
      "text/plain": [
       "[<selenium.webdriver.remote.webelement.WebElement (session=\"f69c0554cdc00036f8536f3fd883e0d8\", element=\"0010e763-ff5d-4409-b4a1-469ba862ebbd\")>,\n",
       " <selenium.webdriver.remote.webelement.WebElement (session=\"f69c0554cdc00036f8536f3fd883e0d8\", element=\"eed759f9-f935-4476-8ef2-ed3e42f75c14\")>]"
      ]
     },
     "execution_count": 200,
     "metadata": {},
     "output_type": "execute_result"
    }
   ],
   "source": [
    "review_tags = browser.find_elements_by_xpath (\"//p[@class='_2-N8zT']\")\n",
    "review_tags"
   ]
  },
  {
   "cell_type": "code",
   "execution_count": 201,
   "id": "bigger-intake",
   "metadata": {},
   "outputs": [],
   "source": [
    "for i in review_tags:\n",
    "    review=i.text\n",
    "    review_summary.append(review)"
   ]
  },
  {
   "cell_type": "code",
   "execution_count": 202,
   "id": "lucky-chaos",
   "metadata": {},
   "outputs": [
    {
     "data": {
      "text/plain": [
       "['Brilliant',\n",
       " 'Perfect product!',\n",
       " 'Worth every penny',\n",
       " '',\n",
       " '',\n",
       " '',\n",
       " '',\n",
       " '',\n",
       " '',\n",
       " '',\n",
       " 'Brilliant',\n",
       " 'Perfect product!',\n",
       " 'Worth every penny',\n",
       " '',\n",
       " '',\n",
       " '',\n",
       " '',\n",
       " '',\n",
       " 'Brilliant',\n",
       " 'Brilliant',\n",
       " 'Mind-blowing purchase',\n",
       " '',\n",
       " '',\n",
       " '',\n",
       " '',\n",
       " '',\n",
       " 'Terrific',\n",
       " 'Super!',\n",
       " 'Pretty good',\n",
       " '',\n",
       " '',\n",
       " '',\n",
       " '',\n",
       " '',\n",
       " 'Decent product',\n",
       " 'Wonderful',\n",
       " 'Terrific purchase',\n",
       " '',\n",
       " '',\n",
       " '',\n",
       " '',\n",
       " '',\n",
       " 'Worthless',\n",
       " 'Highly recommended',\n",
       " 'Useless product',\n",
       " 'Good',\n",
       " 'Classy product',\n",
       " 'Not recommended at all',\n",
       " 'Classy product',\n",
       " 'Utterly Disappointed',\n",
       " '',\n",
       " '',\n",
       " 'Very poor',\n",
       " 'Best in the market!',\n",
       " 'Fabulous!',\n",
       " '',\n",
       " 'Must buy!',\n",
       " 'Terrific purchase',\n",
       " 'Terrific purchase',\n",
       " '',\n",
       " '',\n",
       " '',\n",
       " '',\n",
       " '',\n",
       " 'Useless product',\n",
       " 'Very poor',\n",
       " 'Very Good',\n",
       " 'Wonderful',\n",
       " 'Really Nice',\n",
       " '',\n",
       " '',\n",
       " '',\n",
       " '',\n",
       " '',\n",
       " 'Satisfied',\n",
       " 'Worthless',\n",
       " 'Very poor',\n",
       " 'Worth every penny',\n",
       " '',\n",
       " 'Horrible',\n",
       " 'Useless product',\n",
       " 'Good']"
      ]
     },
     "execution_count": 202,
     "metadata": {},
     "output_type": "execute_result"
    }
   ],
   "source": [
    "review_summary"
   ]
  },
  {
   "cell_type": "code",
   "execution_count": 203,
   "id": "comparable-remove",
   "metadata": {},
   "outputs": [
    {
     "name": "stdout",
     "output_type": "stream",
     "text": [
      "206 82 101\n"
     ]
    }
   ],
   "source": [
    "print(len(rating), len(review_summary), len(full_review))"
   ]
  },
  {
   "cell_type": "code",
   "execution_count": 205,
   "id": "distributed-sacramento",
   "metadata": {},
   "outputs": [],
   "source": [
    "url=\"https://www.flipkart.com/villa-screen-guard-iphone-5-apple-5s-se/p/itm93dd927c61983?pid=ACCFW2WCKPVNWF6Z&lid=LSTACCFW2WCKPVNWF6ZVVPCAH&marketplace=FLIPKART&q=iphone11&store=tyy&srno=s_6_204&otracker=search&otracker1=search&fm=organic&iid=en_2sVdVRh%2FWYuep%2FED602kewI9bJ3YKvoMwOOmTYsDrhVOMu9OwaAtQVeXwozJWLkNZAOuFDHmWU73EV0fUosjcg%3D%3D&ppt=sp&ppn=sp&ssid=c1jgabusps0000001618043163496&qH=d6db477051465f9a\""
   ]
  },
  {
   "cell_type": "code",
   "execution_count": 206,
   "id": "spanish-bahrain",
   "metadata": {},
   "outputs": [],
   "source": [
    "#lets open the webpage through our webdriver\n",
    "browser.get(url)"
   ]
  },
  {
   "cell_type": "code",
   "execution_count": 207,
   "id": "convertible-merit",
   "metadata": {},
   "outputs": [
    {
     "data": {
      "text/plain": [
       "[<selenium.webdriver.remote.webelement.WebElement (session=\"f69c0554cdc00036f8536f3fd883e0d8\", element=\"79f7b371-16c4-4b51-bcb5-f32657bb8bcf\")>]"
      ]
     },
     "execution_count": 207,
     "metadata": {},
     "output_type": "execute_result"
    }
   ],
   "source": [
    "review_tags = browser.find_elements_by_xpath (\"//p[@class='_2-N8zT']\")\n",
    "review_tags"
   ]
  },
  {
   "cell_type": "code",
   "execution_count": 208,
   "id": "prompt-hacker",
   "metadata": {},
   "outputs": [],
   "source": [
    "for i in review_tags:\n",
    "    review=i.text\n",
    "    review_summary.append(review)"
   ]
  },
  {
   "cell_type": "code",
   "execution_count": 209,
   "id": "virgin-convertible",
   "metadata": {},
   "outputs": [
    {
     "data": {
      "text/plain": [
       "['Brilliant',\n",
       " 'Perfect product!',\n",
       " 'Worth every penny',\n",
       " '',\n",
       " '',\n",
       " '',\n",
       " '',\n",
       " '',\n",
       " '',\n",
       " '',\n",
       " 'Brilliant',\n",
       " 'Perfect product!',\n",
       " 'Worth every penny',\n",
       " '',\n",
       " '',\n",
       " '',\n",
       " '',\n",
       " '',\n",
       " 'Brilliant',\n",
       " 'Brilliant',\n",
       " 'Mind-blowing purchase',\n",
       " '',\n",
       " '',\n",
       " '',\n",
       " '',\n",
       " '',\n",
       " 'Terrific',\n",
       " 'Super!',\n",
       " 'Pretty good',\n",
       " '',\n",
       " '',\n",
       " '',\n",
       " '',\n",
       " '',\n",
       " 'Decent product',\n",
       " 'Wonderful',\n",
       " 'Terrific purchase',\n",
       " '',\n",
       " '',\n",
       " '',\n",
       " '',\n",
       " '',\n",
       " 'Worthless',\n",
       " 'Highly recommended',\n",
       " 'Useless product',\n",
       " 'Good',\n",
       " 'Classy product',\n",
       " 'Not recommended at all',\n",
       " 'Classy product',\n",
       " 'Utterly Disappointed',\n",
       " '',\n",
       " '',\n",
       " 'Very poor',\n",
       " 'Best in the market!',\n",
       " 'Fabulous!',\n",
       " '',\n",
       " 'Must buy!',\n",
       " 'Terrific purchase',\n",
       " 'Terrific purchase',\n",
       " '',\n",
       " '',\n",
       " '',\n",
       " '',\n",
       " '',\n",
       " 'Useless product',\n",
       " 'Very poor',\n",
       " 'Very Good',\n",
       " 'Wonderful',\n",
       " 'Really Nice',\n",
       " '',\n",
       " '',\n",
       " '',\n",
       " '',\n",
       " '',\n",
       " 'Satisfied',\n",
       " 'Worthless',\n",
       " 'Very poor',\n",
       " 'Worth every penny',\n",
       " '',\n",
       " 'Horrible',\n",
       " 'Useless product',\n",
       " 'Good',\n",
       " 'Classy product']"
      ]
     },
     "execution_count": 209,
     "metadata": {},
     "output_type": "execute_result"
    }
   ],
   "source": [
    " review_summary"
   ]
  },
  {
   "cell_type": "code",
   "execution_count": 210,
   "id": "peaceful-summit",
   "metadata": {},
   "outputs": [
    {
     "name": "stdout",
     "output_type": "stream",
     "text": [
      "206 83 101\n"
     ]
    }
   ],
   "source": [
    "print(len(rating), len(review_summary), len(full_review))"
   ]
  },
  {
   "cell_type": "code",
   "execution_count": 211,
   "id": "satellite-insider",
   "metadata": {},
   "outputs": [],
   "source": [
    "url=\"https://www.flipkart.com/ubon-front-back-tempered-glass-apple-iphone-11/p/itmb13f45eb31d5f?pid=ACCFVVNHHGHSKHA8&lid=LSTACCFVVNHHGHSKHA8JD5TCE&marketplace=FLIPKART&q=iphone11&store=tyy&srno=s_6_208&otracker=search&otracker1=search&fm=organic&iid=90cbf111-d5a6-43b1-8b05-ede61417cc01.ACCFVVNHHGHSKHA8.SEARCH&ppt=sp&ppn=sp&ssid=9t2a1wp3740000001618043301762&qH=d6db477051465f9a\""
   ]
  },
  {
   "cell_type": "code",
   "execution_count": 212,
   "id": "saved-detective",
   "metadata": {},
   "outputs": [],
   "source": [
    "#lets open the webpage through our webdriver\n",
    "browser.get(url)"
   ]
  },
  {
   "cell_type": "code",
   "execution_count": 213,
   "id": "documentary-penalty",
   "metadata": {},
   "outputs": [
    {
     "data": {
      "text/plain": [
       "[<selenium.webdriver.remote.webelement.WebElement (session=\"f69c0554cdc00036f8536f3fd883e0d8\", element=\"67445ef1-03b6-4e0e-be36-c17be2ffed04\")>,\n",
       " <selenium.webdriver.remote.webelement.WebElement (session=\"f69c0554cdc00036f8536f3fd883e0d8\", element=\"a59a1dee-1719-476d-9de2-dc5f2d58ff67\")>,\n",
       " <selenium.webdriver.remote.webelement.WebElement (session=\"f69c0554cdc00036f8536f3fd883e0d8\", element=\"2dadd2ef-39b7-489a-a4ad-ec51a4e866db\")>,\n",
       " <selenium.webdriver.remote.webelement.WebElement (session=\"f69c0554cdc00036f8536f3fd883e0d8\", element=\"28cec56c-507f-444f-ac2f-7232bf26ee35\")>,\n",
       " <selenium.webdriver.remote.webelement.WebElement (session=\"f69c0554cdc00036f8536f3fd883e0d8\", element=\"7006d4e2-e309-4202-89cf-cc2a96f5ac0b\")>]"
      ]
     },
     "execution_count": 213,
     "metadata": {},
     "output_type": "execute_result"
    }
   ],
   "source": [
    "review_tags = browser.find_elements_by_xpath (\"//p[@class='_2-N8zT']\")\n",
    "review_tags"
   ]
  },
  {
   "cell_type": "code",
   "execution_count": 214,
   "id": "outside-postage",
   "metadata": {},
   "outputs": [],
   "source": [
    "for i in review_tags:\n",
    "    review=i.text\n",
    "    review_summary.append(review)"
   ]
  },
  {
   "cell_type": "code",
   "execution_count": 215,
   "id": "reliable-seminar",
   "metadata": {},
   "outputs": [
    {
     "data": {
      "text/plain": [
       "['Brilliant',\n",
       " 'Perfect product!',\n",
       " 'Worth every penny',\n",
       " '',\n",
       " '',\n",
       " '',\n",
       " '',\n",
       " '',\n",
       " '',\n",
       " '',\n",
       " 'Brilliant',\n",
       " 'Perfect product!',\n",
       " 'Worth every penny',\n",
       " '',\n",
       " '',\n",
       " '',\n",
       " '',\n",
       " '',\n",
       " 'Brilliant',\n",
       " 'Brilliant',\n",
       " 'Mind-blowing purchase',\n",
       " '',\n",
       " '',\n",
       " '',\n",
       " '',\n",
       " '',\n",
       " 'Terrific',\n",
       " 'Super!',\n",
       " 'Pretty good',\n",
       " '',\n",
       " '',\n",
       " '',\n",
       " '',\n",
       " '',\n",
       " 'Decent product',\n",
       " 'Wonderful',\n",
       " 'Terrific purchase',\n",
       " '',\n",
       " '',\n",
       " '',\n",
       " '',\n",
       " '',\n",
       " 'Worthless',\n",
       " 'Highly recommended',\n",
       " 'Useless product',\n",
       " 'Good',\n",
       " 'Classy product',\n",
       " 'Not recommended at all',\n",
       " 'Classy product',\n",
       " 'Utterly Disappointed',\n",
       " '',\n",
       " '',\n",
       " 'Very poor',\n",
       " 'Best in the market!',\n",
       " 'Fabulous!',\n",
       " '',\n",
       " 'Must buy!',\n",
       " 'Terrific purchase',\n",
       " 'Terrific purchase',\n",
       " '',\n",
       " '',\n",
       " '',\n",
       " '',\n",
       " '',\n",
       " 'Useless product',\n",
       " 'Very poor',\n",
       " 'Very Good',\n",
       " 'Wonderful',\n",
       " 'Really Nice',\n",
       " '',\n",
       " '',\n",
       " '',\n",
       " '',\n",
       " '',\n",
       " 'Satisfied',\n",
       " 'Worthless',\n",
       " 'Very poor',\n",
       " 'Worth every penny',\n",
       " '',\n",
       " 'Horrible',\n",
       " 'Useless product',\n",
       " 'Good',\n",
       " 'Classy product',\n",
       " 'Not recommended at all',\n",
       " 'Classy product',\n",
       " 'Utterly Disappointed',\n",
       " '',\n",
       " '']"
      ]
     },
     "execution_count": 215,
     "metadata": {},
     "output_type": "execute_result"
    }
   ],
   "source": [
    "review_summary"
   ]
  },
  {
   "cell_type": "code",
   "execution_count": 216,
   "id": "simplified-soviet",
   "metadata": {},
   "outputs": [
    {
     "name": "stdout",
     "output_type": "stream",
     "text": [
      "206 88 101\n"
     ]
    }
   ],
   "source": [
    "print(len(rating), len(review_summary), len(full_review))"
   ]
  },
  {
   "cell_type": "code",
   "execution_count": 217,
   "id": "dietary-baptist",
   "metadata": {},
   "outputs": [],
   "source": [
    "url=\"https://www.flipkart.com/house-hoa-accessories-edge-tempered-glass-apple-iphone-5-se-5s/p/itmf4c72unk4qgdv?pid=ACCF4CFJGHHZTYHH&lid=LSTACCF4CFJGHHZTYHHXMX0PF&marketplace=FLIPKART&q=iphone11&store=tyy&srno=s_6_209&otracker=search&otracker1=search&fm=organic&iid=90cbf111-d5a6-43b1-8b05-ede61417cc01.ACCF4CFJGHHZTYHH.SEARCH&ppt=sp&ppn=sp&ssid=53d8s84v9s0000001618043433508&qH=d6db477051465f9a\""
   ]
  },
  {
   "cell_type": "code",
   "execution_count": 218,
   "id": "collectible-collective",
   "metadata": {},
   "outputs": [],
   "source": [
    "#lets open the webpage through our webdriver\n",
    "browser.get(url)"
   ]
  },
  {
   "cell_type": "code",
   "execution_count": 219,
   "id": "automatic-tracy",
   "metadata": {},
   "outputs": [
    {
     "data": {
      "text/plain": [
       "[<selenium.webdriver.remote.webelement.WebElement (session=\"f69c0554cdc00036f8536f3fd883e0d8\", element=\"11079d91-5cd2-4e3e-a8f4-e052443b25c7\")>,\n",
       " <selenium.webdriver.remote.webelement.WebElement (session=\"f69c0554cdc00036f8536f3fd883e0d8\", element=\"4fb57a92-45a3-4cee-a3dd-7f3af37dc145\")>,\n",
       " <selenium.webdriver.remote.webelement.WebElement (session=\"f69c0554cdc00036f8536f3fd883e0d8\", element=\"7cc7944f-d751-4ea4-84ba-8bceffe829d2\")>,\n",
       " <selenium.webdriver.remote.webelement.WebElement (session=\"f69c0554cdc00036f8536f3fd883e0d8\", element=\"af0fb6e8-fc1c-4e29-9c11-a60d28e836e6\")>]"
      ]
     },
     "execution_count": 219,
     "metadata": {},
     "output_type": "execute_result"
    }
   ],
   "source": [
    "review_tags = browser.find_elements_by_xpath (\"//p[@class='_2-N8zT']\")\n",
    "review_tags"
   ]
  },
  {
   "cell_type": "code",
   "execution_count": 220,
   "id": "absent-captain",
   "metadata": {},
   "outputs": [],
   "source": [
    "for i in review_tags:\n",
    "    review=i.text\n",
    "    review_summary.append(review)"
   ]
  },
  {
   "cell_type": "code",
   "execution_count": 221,
   "id": "ordinary-territory",
   "metadata": {},
   "outputs": [
    {
     "data": {
      "text/plain": [
       "['Brilliant',\n",
       " 'Perfect product!',\n",
       " 'Worth every penny',\n",
       " '',\n",
       " '',\n",
       " '',\n",
       " '',\n",
       " '',\n",
       " '',\n",
       " '',\n",
       " 'Brilliant',\n",
       " 'Perfect product!',\n",
       " 'Worth every penny',\n",
       " '',\n",
       " '',\n",
       " '',\n",
       " '',\n",
       " '',\n",
       " 'Brilliant',\n",
       " 'Brilliant',\n",
       " 'Mind-blowing purchase',\n",
       " '',\n",
       " '',\n",
       " '',\n",
       " '',\n",
       " '',\n",
       " 'Terrific',\n",
       " 'Super!',\n",
       " 'Pretty good',\n",
       " '',\n",
       " '',\n",
       " '',\n",
       " '',\n",
       " '',\n",
       " 'Decent product',\n",
       " 'Wonderful',\n",
       " 'Terrific purchase',\n",
       " '',\n",
       " '',\n",
       " '',\n",
       " '',\n",
       " '',\n",
       " 'Worthless',\n",
       " 'Highly recommended',\n",
       " 'Useless product',\n",
       " 'Good',\n",
       " 'Classy product',\n",
       " 'Not recommended at all',\n",
       " 'Classy product',\n",
       " 'Utterly Disappointed',\n",
       " '',\n",
       " '',\n",
       " 'Very poor',\n",
       " 'Best in the market!',\n",
       " 'Fabulous!',\n",
       " '',\n",
       " 'Must buy!',\n",
       " 'Terrific purchase',\n",
       " 'Terrific purchase',\n",
       " '',\n",
       " '',\n",
       " '',\n",
       " '',\n",
       " '',\n",
       " 'Useless product',\n",
       " 'Very poor',\n",
       " 'Very Good',\n",
       " 'Wonderful',\n",
       " 'Really Nice',\n",
       " '',\n",
       " '',\n",
       " '',\n",
       " '',\n",
       " '',\n",
       " 'Satisfied',\n",
       " 'Worthless',\n",
       " 'Very poor',\n",
       " 'Worth every penny',\n",
       " '',\n",
       " 'Horrible',\n",
       " 'Useless product',\n",
       " 'Good',\n",
       " 'Classy product',\n",
       " 'Not recommended at all',\n",
       " 'Classy product',\n",
       " 'Utterly Disappointed',\n",
       " '',\n",
       " '',\n",
       " 'Very poor',\n",
       " 'Best in the market!',\n",
       " 'Fabulous!',\n",
       " '']"
      ]
     },
     "execution_count": 221,
     "metadata": {},
     "output_type": "execute_result"
    }
   ],
   "source": [
    " review_summary"
   ]
  },
  {
   "cell_type": "code",
   "execution_count": 222,
   "id": "alert-alert",
   "metadata": {},
   "outputs": [
    {
     "name": "stdout",
     "output_type": "stream",
     "text": [
      "206 92 101\n"
     ]
    }
   ],
   "source": [
    "print(len(rating), len(review_summary), len(full_review))"
   ]
  },
  {
   "cell_type": "code",
   "execution_count": 223,
   "id": "perfect-modification",
   "metadata": {},
   "outputs": [],
   "source": [
    "url=\"https://www.flipkart.com/czartech-tempered-glass-guard-iphone-12-12-pro/p/itm72beeb286ee6b?pid=ACCFX5XTJGMGBAMW&lid=LSTACCFX5XTJGMGBAMWAMSFP4&marketplace=FLIPKART&q=iphone11&store=tyy&srno=s_6_210&otracker=search&otracker1=search&fm=organic&iid=en_2sVdVRh%2FWYuep%2FED602kewI9bJ3YKvoMwOOmTYsDrhWTx8lLxSK6z3XPun%2FbVnhen4NJh3fdvKIX5K3t4Ia35A%3D%3D&ppt=sp&ppn=sp&ssid=piuxbwcaeo0000001618043539897&qH=d6db477051465f9a\""
   ]
  },
  {
   "cell_type": "code",
   "execution_count": 224,
   "id": "therapeutic-miller",
   "metadata": {},
   "outputs": [],
   "source": [
    "#lets open the webpage through our webdriver\n",
    "browser.get(url)"
   ]
  },
  {
   "cell_type": "code",
   "execution_count": 225,
   "id": "written-illustration",
   "metadata": {},
   "outputs": [
    {
     "data": {
      "text/plain": [
       "[<selenium.webdriver.remote.webelement.WebElement (session=\"f69c0554cdc00036f8536f3fd883e0d8\", element=\"26de770c-e4b1-49eb-ac29-0a287c425e10\")>,\n",
       " <selenium.webdriver.remote.webelement.WebElement (session=\"f69c0554cdc00036f8536f3fd883e0d8\", element=\"f85e2a41-feb5-4772-9ab6-62740ecbe483\")>,\n",
       " <selenium.webdriver.remote.webelement.WebElement (session=\"f69c0554cdc00036f8536f3fd883e0d8\", element=\"409c7be0-abe5-45c8-a97c-b59e055af22c\")>,\n",
       " <selenium.webdriver.remote.webelement.WebElement (session=\"f69c0554cdc00036f8536f3fd883e0d8\", element=\"8eebda95-a341-47be-a205-ab9cfc97144e\")>,\n",
       " <selenium.webdriver.remote.webelement.WebElement (session=\"f69c0554cdc00036f8536f3fd883e0d8\", element=\"8bc6e4f2-626c-45e3-86fd-7c3c440bb12d\")>,\n",
       " <selenium.webdriver.remote.webelement.WebElement (session=\"f69c0554cdc00036f8536f3fd883e0d8\", element=\"9e1d7f6f-cd3b-40c9-b223-9946eab27c9e\")>,\n",
       " <selenium.webdriver.remote.webelement.WebElement (session=\"f69c0554cdc00036f8536f3fd883e0d8\", element=\"57d5490a-1a77-4d27-9a85-d50902a08672\")>,\n",
       " <selenium.webdriver.remote.webelement.WebElement (session=\"f69c0554cdc00036f8536f3fd883e0d8\", element=\"612e82bb-2428-47ba-be2a-462cc161a387\")>]"
      ]
     },
     "execution_count": 225,
     "metadata": {},
     "output_type": "execute_result"
    }
   ],
   "source": [
    "review_tags = browser.find_elements_by_xpath (\"//p[@class='_2-N8zT']\")\n",
    "review_tags"
   ]
  },
  {
   "cell_type": "code",
   "execution_count": 226,
   "id": "golden-abraham",
   "metadata": {},
   "outputs": [],
   "source": [
    "for i in review_tags:\n",
    "    review=i.text\n",
    "    review_summary.append(review)"
   ]
  },
  {
   "cell_type": "code",
   "execution_count": 227,
   "id": "fixed-preserve",
   "metadata": {},
   "outputs": [
    {
     "data": {
      "text/plain": [
       "['Brilliant',\n",
       " 'Perfect product!',\n",
       " 'Worth every penny',\n",
       " '',\n",
       " '',\n",
       " '',\n",
       " '',\n",
       " '',\n",
       " '',\n",
       " '',\n",
       " 'Brilliant',\n",
       " 'Perfect product!',\n",
       " 'Worth every penny',\n",
       " '',\n",
       " '',\n",
       " '',\n",
       " '',\n",
       " '',\n",
       " 'Brilliant',\n",
       " 'Brilliant',\n",
       " 'Mind-blowing purchase',\n",
       " '',\n",
       " '',\n",
       " '',\n",
       " '',\n",
       " '',\n",
       " 'Terrific',\n",
       " 'Super!',\n",
       " 'Pretty good',\n",
       " '',\n",
       " '',\n",
       " '',\n",
       " '',\n",
       " '',\n",
       " 'Decent product',\n",
       " 'Wonderful',\n",
       " 'Terrific purchase',\n",
       " '',\n",
       " '',\n",
       " '',\n",
       " '',\n",
       " '',\n",
       " 'Worthless',\n",
       " 'Highly recommended',\n",
       " 'Useless product',\n",
       " 'Good',\n",
       " 'Classy product',\n",
       " 'Not recommended at all',\n",
       " 'Classy product',\n",
       " 'Utterly Disappointed',\n",
       " '',\n",
       " '',\n",
       " 'Very poor',\n",
       " 'Best in the market!',\n",
       " 'Fabulous!',\n",
       " '',\n",
       " 'Must buy!',\n",
       " 'Terrific purchase',\n",
       " 'Terrific purchase',\n",
       " '',\n",
       " '',\n",
       " '',\n",
       " '',\n",
       " '',\n",
       " 'Useless product',\n",
       " 'Very poor',\n",
       " 'Very Good',\n",
       " 'Wonderful',\n",
       " 'Really Nice',\n",
       " '',\n",
       " '',\n",
       " '',\n",
       " '',\n",
       " '',\n",
       " 'Satisfied',\n",
       " 'Worthless',\n",
       " 'Very poor',\n",
       " 'Worth every penny',\n",
       " '',\n",
       " 'Horrible',\n",
       " 'Useless product',\n",
       " 'Good',\n",
       " 'Classy product',\n",
       " 'Not recommended at all',\n",
       " 'Classy product',\n",
       " 'Utterly Disappointed',\n",
       " '',\n",
       " '',\n",
       " 'Very poor',\n",
       " 'Best in the market!',\n",
       " 'Fabulous!',\n",
       " '',\n",
       " 'Must buy!',\n",
       " 'Terrific purchase',\n",
       " 'Terrific purchase',\n",
       " '',\n",
       " '',\n",
       " '',\n",
       " '',\n",
       " '']"
      ]
     },
     "execution_count": 227,
     "metadata": {},
     "output_type": "execute_result"
    }
   ],
   "source": [
    " review_summary"
   ]
  },
  {
   "cell_type": "code",
   "execution_count": 228,
   "id": "smooth-chance",
   "metadata": {},
   "outputs": [
    {
     "name": "stdout",
     "output_type": "stream",
     "text": [
      "206 100 101\n"
     ]
    }
   ],
   "source": [
    "print(len(rating), len(review_summary), len(full_review))"
   ]
  },
  {
   "cell_type": "code",
   "execution_count": 229,
   "id": "breeding-commercial",
   "metadata": {},
   "outputs": [],
   "source": [
    "import pandas as pd\n",
    "flipkart=pd.DataFrame({})\n",
    "flipkart['rating']=rating[0:100]\n",
    "flipkart['review_summary']=review_summary[0:100]\n",
    "flipkart['full_review']=full_review[0:100]\n"
   ]
  },
  {
   "cell_type": "code",
   "execution_count": 230,
   "id": "restricted-november",
   "metadata": {},
   "outputs": [
    {
     "data": {
      "text/html": [
       "<div>\n",
       "<style scoped>\n",
       "    .dataframe tbody tr th:only-of-type {\n",
       "        vertical-align: middle;\n",
       "    }\n",
       "\n",
       "    .dataframe tbody tr th {\n",
       "        vertical-align: top;\n",
       "    }\n",
       "\n",
       "    .dataframe thead th {\n",
       "        text-align: right;\n",
       "    }\n",
       "</style>\n",
       "<table border=\"1\" class=\"dataframe\">\n",
       "  <thead>\n",
       "    <tr style=\"text-align: right;\">\n",
       "      <th></th>\n",
       "      <th>rating</th>\n",
       "      <th>review_summary</th>\n",
       "      <th>full_review</th>\n",
       "    </tr>\n",
       "  </thead>\n",
       "  <tbody>\n",
       "    <tr>\n",
       "      <th>0</th>\n",
       "      <td>5</td>\n",
       "      <td>Brilliant</td>\n",
       "      <td>4.644,833 Ratings &amp; 3,433 Reviews</td>\n",
       "    </tr>\n",
       "    <tr>\n",
       "      <th>1</th>\n",
       "      <td>5</td>\n",
       "      <td>Perfect product!</td>\n",
       "      <td>Description\\nNA\\nProduct Description\\nBeautifu...</td>\n",
       "    </tr>\n",
       "    <tr>\n",
       "      <th>2</th>\n",
       "      <td>5</td>\n",
       "      <td>Worth every penny</td>\n",
       "      <td>The Best Phone for the Money\\n\\nThe iPhone 11 ...</td>\n",
       "    </tr>\n",
       "    <tr>\n",
       "      <th>3</th>\n",
       "      <td></td>\n",
       "      <td></td>\n",
       "      <td>Amazing phone with great cameras and better ba...</td>\n",
       "    </tr>\n",
       "    <tr>\n",
       "      <th>4</th>\n",
       "      <td></td>\n",
       "      <td></td>\n",
       "      <td>Previously I was using one plus 3t it was a gr...</td>\n",
       "    </tr>\n",
       "    <tr>\n",
       "      <th>...</th>\n",
       "      <td>...</td>\n",
       "      <td>...</td>\n",
       "      <td>...</td>\n",
       "    </tr>\n",
       "    <tr>\n",
       "      <th>95</th>\n",
       "      <td>4.6</td>\n",
       "      <td></td>\n",
       "      <td>Good product.. good service</td>\n",
       "    </tr>\n",
       "    <tr>\n",
       "      <th>96</th>\n",
       "      <td>4.6</td>\n",
       "      <td></td>\n",
       "      <td>3.913 Ratings &amp; 4 Reviews</td>\n",
       "    </tr>\n",
       "    <tr>\n",
       "      <th>97</th>\n",
       "      <td>3.8</td>\n",
       "      <td></td>\n",
       "      <td>Better to for a higher price one. This is chea...</td>\n",
       "    </tr>\n",
       "    <tr>\n",
       "      <th>98</th>\n",
       "      <td>3.9</td>\n",
       "      <td></td>\n",
       "      <td>Wrost product</td>\n",
       "    </tr>\n",
       "    <tr>\n",
       "      <th>99</th>\n",
       "      <td>4.6</td>\n",
       "      <td></td>\n",
       "      <td>Super</td>\n",
       "    </tr>\n",
       "  </tbody>\n",
       "</table>\n",
       "<p>100 rows × 3 columns</p>\n",
       "</div>"
      ],
      "text/plain": [
       "   rating     review_summary  \\\n",
       "0       5          Brilliant   \n",
       "1       5   Perfect product!   \n",
       "2       5  Worth every penny   \n",
       "3                              \n",
       "4                              \n",
       "..    ...                ...   \n",
       "95    4.6                      \n",
       "96    4.6                      \n",
       "97    3.8                      \n",
       "98    3.9                      \n",
       "99    4.6                      \n",
       "\n",
       "                                          full_review  \n",
       "0                   4.644,833 Ratings & 3,433 Reviews  \n",
       "1   Description\\nNA\\nProduct Description\\nBeautifu...  \n",
       "2   The Best Phone for the Money\\n\\nThe iPhone 11 ...  \n",
       "3   Amazing phone with great cameras and better ba...  \n",
       "4   Previously I was using one plus 3t it was a gr...  \n",
       "..                                                ...  \n",
       "95                        Good product.. good service  \n",
       "96                          3.913 Ratings & 4 Reviews  \n",
       "97  Better to for a higher price one. This is chea...  \n",
       "98                                      Wrost product  \n",
       "99                                              Super  \n",
       "\n",
       "[100 rows x 3 columns]"
      ]
     },
     "execution_count": 230,
     "metadata": {},
     "output_type": "execute_result"
    }
   ],
   "source": [
    "flipkart"
   ]
  },
  {
   "cell_type": "code",
   "execution_count": null,
   "id": "sunset-slope",
   "metadata": {},
   "outputs": [],
   "source": []
  }
 ],
 "metadata": {
  "kernelspec": {
   "display_name": "Python 3",
   "language": "python",
   "name": "python3"
  },
  "language_info": {
   "codemirror_mode": {
    "name": "ipython",
    "version": 3
   },
   "file_extension": ".py",
   "mimetype": "text/x-python",
   "name": "python",
   "nbconvert_exporter": "python",
   "pygments_lexer": "ipython3",
   "version": "3.9.2"
  }
 },
 "nbformat": 4,
 "nbformat_minor": 5
}
