{
 "cells": [
  {
   "cell_type": "markdown",
   "id": "sustained-harmony",
   "metadata": {},
   "source": [
    "### 4.write a python program to scrape data for first 10 job results for Data Scientist Designation in Noida Location. you have to scrape the company_name,No. of days ago when job was posted, Rating of the company\n",
    "###### this task will be done in the following steps:\n",
    "    1.first get the web page https://www.glassdoor.co.in/index.htm\n",
    "    2.Enter \"Data Scientist\" in \"Job title, Keyword, company\" field and enter \"Noida\" in the \"location field\"\n",
    "    3. then click the search button. you will landup in the below page\n",
    "    4.then scrape the data for the first 10 jobs result you get in the above shown page.\n",
    "    5. Finally create a data frame of the scraped data\n",
    "    note:- all of the above steps have to be done in the code. no steps is done manually"
   ]
  },
  {
   "cell_type": "code",
   "execution_count": 4,
   "id": "comprehensive-andrews",
   "metadata": {},
   "outputs": [],
   "source": [
    "#lets now import all the required libraries\n",
    "import requests\n",
    "from selenium import webdriver\n",
    "\n",
    "browser = webdriver.Chrome()\n",
    "\n",
    "browser.get(\"https://www.glassdoor.co.in/Job/india-jobs-SRCH_IL.0,5_IN115.htm\")\n",
    "from bs4 import BeautifulSoup\n"
   ]
  },
  {
   "cell_type": "code",
   "execution_count": 5,
   "id": "arbitrary-medicaid",
   "metadata": {},
   "outputs": [],
   "source": [
    "search_job = browser.find_element_by_id(\"sc.keyword\")\n",
    "search_job.send_keys(\"Data Scientist\")"
   ]
  },
  {
   "cell_type": "code",
   "execution_count": 6,
   "id": "numerical-compromise",
   "metadata": {},
   "outputs": [],
   "source": [
    "search_loc = browser.find_element_by_id (\"sc.location\")\n",
    "search_loc.send_keys(\",Noida\")"
   ]
  },
  {
   "cell_type": "code",
   "execution_count": 7,
   "id": "clean-lithuania",
   "metadata": {},
   "outputs": [],
   "source": [
    "search_btn = browser.find_element_by_class_name (\"gd-btn-mkt\")\n",
    "search_btn.click()"
   ]
  },
  {
   "cell_type": "code",
   "execution_count": 8,
   "id": "communist-permit",
   "metadata": {},
   "outputs": [],
   "source": [
    "#specifying the URL of webpage to be scraped\n",
    "url=\"https://www.glassdoor.co.in/Job/data-scientist-jobs-SRCH_KO0,14.htm\""
   ]
  },
  {
   "cell_type": "code",
   "execution_count": 9,
   "id": "cultural-anniversary",
   "metadata": {},
   "outputs": [],
   "source": [
    "#lets open the webpage through our webdriver\n",
    "browser.get(url)"
   ]
  },
  {
   "cell_type": "code",
   "execution_count": 10,
   "id": "impressed-template",
   "metadata": {},
   "outputs": [],
   "source": [
    "job_titles=[]\n",
    "company_names=[]\n",
    "location_list=[]"
   ]
  },
  {
   "cell_type": "code",
   "execution_count": 11,
   "id": "cutting-colleague",
   "metadata": {},
   "outputs": [
    {
     "data": {
      "text/plain": [
       "[<selenium.webdriver.remote.webelement.WebElement (session=\"d834690c10cbab9947eb628d4ed0b25a\", element=\"e88ec396-0626-43b5-a3d8-1dfad37064ab\")>,\n",
       " <selenium.webdriver.remote.webelement.WebElement (session=\"d834690c10cbab9947eb628d4ed0b25a\", element=\"58795606-a815-46e1-9438-6d60c8e451ef\")>,\n",
       " <selenium.webdriver.remote.webelement.WebElement (session=\"d834690c10cbab9947eb628d4ed0b25a\", element=\"87748cbd-4efe-4def-bfe9-c8d23cb5b820\")>,\n",
       " <selenium.webdriver.remote.webelement.WebElement (session=\"d834690c10cbab9947eb628d4ed0b25a\", element=\"1df017df-6efa-4926-b382-cbbdd79b78a2\")>]"
      ]
     },
     "execution_count": 11,
     "metadata": {},
     "output_type": "execute_result"
    }
   ],
   "source": [
    "title_tags = browser.find_elements_by_xpath (\"//a[@class='jobLink css-1rd3saf eigr9kq2']\")\n",
    "title_tags[0:4]"
   ]
  },
  {
   "cell_type": "code",
   "execution_count": 12,
   "id": "scientific-advertising",
   "metadata": {},
   "outputs": [],
   "source": [
    "for i in title_tags:\n",
    "    title=i.text\n",
    "    job_titles.append(title)\n",
    "    "
   ]
  },
  {
   "cell_type": "code",
   "execution_count": 13,
   "id": "synthetic-brain",
   "metadata": {},
   "outputs": [
    {
     "data": {
      "text/plain": [
       "['Associate / Vice President - Data Engineer | Gurgaon',\n",
       " 'Data Analyst',\n",
       " 'Data Scientist',\n",
       " 'Data Scientist']"
      ]
     },
     "execution_count": 13,
     "metadata": {},
     "output_type": "execute_result"
    }
   ],
   "source": [
    "job_titles[0:4]"
   ]
  },
  {
   "cell_type": "code",
   "execution_count": 14,
   "id": "unlikely-macintosh",
   "metadata": {},
   "outputs": [
    {
     "data": {
      "text/plain": [
       "[<selenium.webdriver.remote.webelement.WebElement (session=\"d834690c10cbab9947eb628d4ed0b25a\", element=\"11b26958-3593-4b22-82d3-930848703575\")>,\n",
       " <selenium.webdriver.remote.webelement.WebElement (session=\"d834690c10cbab9947eb628d4ed0b25a\", element=\"30de72fb-2cfd-4134-ad05-381ad49abcc8\")>,\n",
       " <selenium.webdriver.remote.webelement.WebElement (session=\"d834690c10cbab9947eb628d4ed0b25a\", element=\"a5018aea-7c82-4314-8e11-6edb2ca1eccf\")>,\n",
       " <selenium.webdriver.remote.webelement.WebElement (session=\"d834690c10cbab9947eb628d4ed0b25a\", element=\"04be53fc-aae7-41b7-a84c-4b13a1f06ee1\")>]"
      ]
     },
     "execution_count": 14,
     "metadata": {},
     "output_type": "execute_result"
    }
   ],
   "source": [
    "location_tags = browser.find_elements_by_xpath(\"//div[@class='d-flex flex-wrap css-11d3uq0 e1rrn5ka2']\")\n",
    "location_tags[0:4]"
   ]
  },
  {
   "cell_type": "code",
   "execution_count": 15,
   "id": "frozen-coupon",
   "metadata": {},
   "outputs": [],
   "source": [
    "location_name=[]\n",
    "for i in location_tags:\n",
    "    location=i.text\n",
    "    location_name.append(location)"
   ]
  },
  {
   "cell_type": "code",
   "execution_count": 16,
   "id": "victorian-liver",
   "metadata": {},
   "outputs": [
    {
     "data": {
      "text/plain": [
       "['Gurgaon', 'New Delhi', 'Noida', 'Noida']"
      ]
     },
     "execution_count": 16,
     "metadata": {},
     "output_type": "execute_result"
    }
   ],
   "source": [
    "location_name[0:4]"
   ]
  },
  {
   "cell_type": "code",
   "execution_count": 17,
   "id": "interesting-feeling",
   "metadata": {},
   "outputs": [
    {
     "data": {
      "text/plain": [
       "[<selenium.webdriver.remote.webelement.WebElement (session=\"d834690c10cbab9947eb628d4ed0b25a\", element=\"661417d7-e8a3-4d36-99da-e63339d1836e\")>,\n",
       " <selenium.webdriver.remote.webelement.WebElement (session=\"d834690c10cbab9947eb628d4ed0b25a\", element=\"9b9d9a50-4ddb-43d9-84ec-7f7c9e519c3b\")>,\n",
       " <selenium.webdriver.remote.webelement.WebElement (session=\"d834690c10cbab9947eb628d4ed0b25a\", element=\"b9bcf659-776c-4d69-bcc1-a3c5877b5273\")>,\n",
       " <selenium.webdriver.remote.webelement.WebElement (session=\"d834690c10cbab9947eb628d4ed0b25a\", element=\"2cc8b240-bcc9-434f-96d8-05e3ea501591\")>]"
      ]
     },
     "execution_count": 17,
     "metadata": {},
     "output_type": "execute_result"
    }
   ],
   "source": [
    "company_tags = browser.find_elements_by_xpath(\"//div[@class='d-flex justify-content-between align-items-start']\")\n",
    "company_tags[0:4]"
   ]
  },
  {
   "cell_type": "code",
   "execution_count": 18,
   "id": "particular-mistake",
   "metadata": {},
   "outputs": [],
   "source": [
    "company_name=[]\n",
    "for i in company_tags:\n",
    "    company=i.text\n",
    "    company_name.append(company)"
   ]
  },
  {
   "cell_type": "code",
   "execution_count": 19,
   "id": "addressed-slovakia",
   "metadata": {},
   "outputs": [
    {
     "data": {
      "text/plain": [
       "['BlackRock', 'Elsevier', 'Adobe', 'Techlive']"
      ]
     },
     "execution_count": 19,
     "metadata": {},
     "output_type": "execute_result"
    }
   ],
   "source": [
    "company_name[0:4]"
   ]
  },
  {
   "cell_type": "code",
   "execution_count": 20,
   "id": "fancy-stuff",
   "metadata": {},
   "outputs": [],
   "source": [
    "#importing pandas data frame\n",
    "import pandas as pd\n",
    "jobs=pd.DataFrame({})\n",
    "jobs['title']=job_titles\n",
    "jobs['company']=company_name\n",
    "jobs['location']=location_name\n"
   ]
  },
  {
   "cell_type": "code",
   "execution_count": 21,
   "id": "chronic-istanbul",
   "metadata": {},
   "outputs": [
    {
     "data": {
      "text/html": [
       "<div>\n",
       "<style scoped>\n",
       "    .dataframe tbody tr th:only-of-type {\n",
       "        vertical-align: middle;\n",
       "    }\n",
       "\n",
       "    .dataframe tbody tr th {\n",
       "        vertical-align: top;\n",
       "    }\n",
       "\n",
       "    .dataframe thead th {\n",
       "        text-align: right;\n",
       "    }\n",
       "</style>\n",
       "<table border=\"1\" class=\"dataframe\">\n",
       "  <thead>\n",
       "    <tr style=\"text-align: right;\">\n",
       "      <th></th>\n",
       "      <th>title</th>\n",
       "      <th>company</th>\n",
       "      <th>location</th>\n",
       "    </tr>\n",
       "  </thead>\n",
       "  <tbody>\n",
       "    <tr>\n",
       "      <th>0</th>\n",
       "      <td>Associate / Vice President - Data Engineer | G...</td>\n",
       "      <td>BlackRock</td>\n",
       "      <td>Gurgaon</td>\n",
       "    </tr>\n",
       "    <tr>\n",
       "      <th>1</th>\n",
       "      <td>Data Analyst</td>\n",
       "      <td>Elsevier</td>\n",
       "      <td>New Delhi</td>\n",
       "    </tr>\n",
       "    <tr>\n",
       "      <th>2</th>\n",
       "      <td>Data Scientist</td>\n",
       "      <td>Adobe</td>\n",
       "      <td>Noida</td>\n",
       "    </tr>\n",
       "    <tr>\n",
       "      <th>3</th>\n",
       "      <td>Data Scientist</td>\n",
       "      <td>Techlive</td>\n",
       "      <td>Noida</td>\n",
       "    </tr>\n",
       "    <tr>\n",
       "      <th>4</th>\n",
       "      <td>Data Scientist</td>\n",
       "      <td>Gauge Data Solutions</td>\n",
       "      <td>Noida</td>\n",
       "    </tr>\n",
       "    <tr>\n",
       "      <th>5</th>\n",
       "      <td>Data Scientist</td>\n",
       "      <td>Biz2Credit Inc</td>\n",
       "      <td>Noida</td>\n",
       "    </tr>\n",
       "    <tr>\n",
       "      <th>6</th>\n",
       "      <td>Data Scientist</td>\n",
       "      <td>WishFin</td>\n",
       "      <td>Noida</td>\n",
       "    </tr>\n",
       "    <tr>\n",
       "      <th>7</th>\n",
       "      <td>Data Scientist</td>\n",
       "      <td>abc consultants</td>\n",
       "      <td>Noida</td>\n",
       "    </tr>\n",
       "    <tr>\n",
       "      <th>8</th>\n",
       "      <td>Data Scientist</td>\n",
       "      <td>Salasar New Age Technologies</td>\n",
       "      <td>Noida\\n11d</td>\n",
       "    </tr>\n",
       "    <tr>\n",
       "      <th>9</th>\n",
       "      <td>Data Scientist</td>\n",
       "      <td>Priority Vendor</td>\n",
       "      <td>Noida</td>\n",
       "    </tr>\n",
       "    <tr>\n",
       "      <th>10</th>\n",
       "      <td>Data Scientist</td>\n",
       "      <td>SearchUrCollege</td>\n",
       "      <td>Noida</td>\n",
       "    </tr>\n",
       "    <tr>\n",
       "      <th>11</th>\n",
       "      <td>Data Scientist</td>\n",
       "      <td>Srijan Technologies Pvt Ltd</td>\n",
       "      <td>Gurgaon</td>\n",
       "    </tr>\n",
       "    <tr>\n",
       "      <th>12</th>\n",
       "      <td>Data Scientist</td>\n",
       "      <td>Healtheoz India</td>\n",
       "      <td>Noida\\n26d</td>\n",
       "    </tr>\n",
       "    <tr>\n",
       "      <th>13</th>\n",
       "      <td>Data Scientist 2</td>\n",
       "      <td>Microsoft</td>\n",
       "      <td>Noida</td>\n",
       "    </tr>\n",
       "    <tr>\n",
       "      <th>14</th>\n",
       "      <td>Data Scientist</td>\n",
       "      <td>xtLytics</td>\n",
       "      <td>Noida</td>\n",
       "    </tr>\n",
       "    <tr>\n",
       "      <th>15</th>\n",
       "      <td>Data Scientist</td>\n",
       "      <td>American Express Global Business Travel</td>\n",
       "      <td>Gurgaon</td>\n",
       "    </tr>\n",
       "    <tr>\n",
       "      <th>16</th>\n",
       "      <td>Data Scientist</td>\n",
       "      <td>Ciena</td>\n",
       "      <td>Gurgaon</td>\n",
       "    </tr>\n",
       "    <tr>\n",
       "      <th>17</th>\n",
       "      <td>Data Scientist</td>\n",
       "      <td>JLL</td>\n",
       "      <td>Gurgaon\\nNew\\n24h</td>\n",
       "    </tr>\n",
       "    <tr>\n",
       "      <th>18</th>\n",
       "      <td>Data Scientist</td>\n",
       "      <td>Ank Aha</td>\n",
       "      <td>New Delhi</td>\n",
       "    </tr>\n",
       "    <tr>\n",
       "      <th>19</th>\n",
       "      <td>Data Scientist</td>\n",
       "      <td>Boston Consulting Group</td>\n",
       "      <td>New Delhi</td>\n",
       "    </tr>\n",
       "    <tr>\n",
       "      <th>20</th>\n",
       "      <td>Data Scientist</td>\n",
       "      <td>MasterCard</td>\n",
       "      <td>Gurgaon</td>\n",
       "    </tr>\n",
       "    <tr>\n",
       "      <th>21</th>\n",
       "      <td>Data Scientist</td>\n",
       "      <td>Analytics Vidhya</td>\n",
       "      <td>Gurgaon\\n26d</td>\n",
       "    </tr>\n",
       "    <tr>\n",
       "      <th>22</th>\n",
       "      <td>Data Scientist</td>\n",
       "      <td>Fitfyles</td>\n",
       "      <td>New Delhi\\nHOT\\nEasy Apply\\n26d</td>\n",
       "    </tr>\n",
       "    <tr>\n",
       "      <th>23</th>\n",
       "      <td>Data Scientist</td>\n",
       "      <td>Mahajan Imaging</td>\n",
       "      <td>New Delhi</td>\n",
       "    </tr>\n",
       "    <tr>\n",
       "      <th>24</th>\n",
       "      <td>Data Scientist</td>\n",
       "      <td>NatWest Group</td>\n",
       "      <td>New Delhi</td>\n",
       "    </tr>\n",
       "    <tr>\n",
       "      <th>25</th>\n",
       "      <td>Data Scientist</td>\n",
       "      <td>Great Learning</td>\n",
       "      <td>Gurgaon</td>\n",
       "    </tr>\n",
       "    <tr>\n",
       "      <th>26</th>\n",
       "      <td>Data Scientist</td>\n",
       "      <td>Profisor Services</td>\n",
       "      <td>Gurgaon\\n26d</td>\n",
       "    </tr>\n",
       "    <tr>\n",
       "      <th>27</th>\n",
       "      <td>Data Scientist</td>\n",
       "      <td>IMMO</td>\n",
       "      <td>New Delhi</td>\n",
       "    </tr>\n",
       "    <tr>\n",
       "      <th>28</th>\n",
       "      <td>Data Scientist</td>\n",
       "      <td>ESRI, Inc.</td>\n",
       "      <td>New Delhi</td>\n",
       "    </tr>\n",
       "    <tr>\n",
       "      <th>29</th>\n",
       "      <td>Data Scientist</td>\n",
       "      <td>Diverse Lynx India</td>\n",
       "      <td>Gurgaon</td>\n",
       "    </tr>\n",
       "    <tr>\n",
       "      <th>30</th>\n",
       "      <td>Data Scientist</td>\n",
       "      <td>Axslogic</td>\n",
       "      <td>Gurgaon</td>\n",
       "    </tr>\n",
       "    <tr>\n",
       "      <th>31</th>\n",
       "      <td>Data Scientist</td>\n",
       "      <td>Team Computers</td>\n",
       "      <td>New Delhi\\n15d</td>\n",
       "    </tr>\n",
       "  </tbody>\n",
       "</table>\n",
       "</div>"
      ],
      "text/plain": [
       "                                                title  \\\n",
       "0   Associate / Vice President - Data Engineer | G...   \n",
       "1                                        Data Analyst   \n",
       "2                                      Data Scientist   \n",
       "3                                      Data Scientist   \n",
       "4                                      Data Scientist   \n",
       "5                                      Data Scientist   \n",
       "6                                      Data Scientist   \n",
       "7                                      Data Scientist   \n",
       "8                                      Data Scientist   \n",
       "9                                      Data Scientist   \n",
       "10                                     Data Scientist   \n",
       "11                                     Data Scientist   \n",
       "12                                     Data Scientist   \n",
       "13                                   Data Scientist 2   \n",
       "14                                     Data Scientist   \n",
       "15                                     Data Scientist   \n",
       "16                                     Data Scientist   \n",
       "17                                     Data Scientist   \n",
       "18                                     Data Scientist   \n",
       "19                                     Data Scientist   \n",
       "20                                     Data Scientist   \n",
       "21                                     Data Scientist   \n",
       "22                                     Data Scientist   \n",
       "23                                     Data Scientist   \n",
       "24                                     Data Scientist   \n",
       "25                                     Data Scientist   \n",
       "26                                     Data Scientist   \n",
       "27                                     Data Scientist   \n",
       "28                                     Data Scientist   \n",
       "29                                     Data Scientist   \n",
       "30                                     Data Scientist   \n",
       "31                                     Data Scientist   \n",
       "\n",
       "                                    company                         location  \n",
       "0                                 BlackRock                          Gurgaon  \n",
       "1                                  Elsevier                        New Delhi  \n",
       "2                                     Adobe                            Noida  \n",
       "3                                  Techlive                            Noida  \n",
       "4                      Gauge Data Solutions                            Noida  \n",
       "5                            Biz2Credit Inc                            Noida  \n",
       "6                                   WishFin                            Noida  \n",
       "7                           abc consultants                            Noida  \n",
       "8              Salasar New Age Technologies                       Noida\\n11d  \n",
       "9                           Priority Vendor                            Noida  \n",
       "10                          SearchUrCollege                            Noida  \n",
       "11              Srijan Technologies Pvt Ltd                          Gurgaon  \n",
       "12                          Healtheoz India                       Noida\\n26d  \n",
       "13                                Microsoft                            Noida  \n",
       "14                                 xtLytics                            Noida  \n",
       "15  American Express Global Business Travel                          Gurgaon  \n",
       "16                                    Ciena                          Gurgaon  \n",
       "17                                      JLL                Gurgaon\\nNew\\n24h  \n",
       "18                                  Ank Aha                        New Delhi  \n",
       "19                  Boston Consulting Group                        New Delhi  \n",
       "20                               MasterCard                          Gurgaon  \n",
       "21                         Analytics Vidhya                     Gurgaon\\n26d  \n",
       "22                                 Fitfyles  New Delhi\\nHOT\\nEasy Apply\\n26d  \n",
       "23                          Mahajan Imaging                        New Delhi  \n",
       "24                            NatWest Group                        New Delhi  \n",
       "25                           Great Learning                          Gurgaon  \n",
       "26                        Profisor Services                     Gurgaon\\n26d  \n",
       "27                                     IMMO                        New Delhi  \n",
       "28                               ESRI, Inc.                        New Delhi  \n",
       "29                       Diverse Lynx India                          Gurgaon  \n",
       "30                                 Axslogic                          Gurgaon  \n",
       "31                           Team Computers                   New Delhi\\n15d  "
      ]
     },
     "execution_count": 21,
     "metadata": {},
     "output_type": "execute_result"
    }
   ],
   "source": [
    "jobs"
   ]
  },
  {
   "cell_type": "code",
   "execution_count": null,
   "id": "unsigned-captain",
   "metadata": {},
   "outputs": [],
   "source": []
  }
 ],
 "metadata": {
  "kernelspec": {
   "display_name": "Python 3",
   "language": "python",
   "name": "python3"
  },
  "language_info": {
   "codemirror_mode": {
    "name": "ipython",
    "version": 3
   },
   "file_extension": ".py",
   "mimetype": "text/x-python",
   "name": "python",
   "nbconvert_exporter": "python",
   "pygments_lexer": "ipython3",
   "version": "3.9.2"
  }
 },
 "nbformat": 4,
 "nbformat_minor": 5
}
